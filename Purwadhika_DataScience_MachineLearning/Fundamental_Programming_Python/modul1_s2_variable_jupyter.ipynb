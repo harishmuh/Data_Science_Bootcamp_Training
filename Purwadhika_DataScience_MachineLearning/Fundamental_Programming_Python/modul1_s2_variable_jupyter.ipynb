{
 "cells": [
  {
   "cell_type": "markdown",
   "metadata": {},
   "source": [
    "# **Introduction to Python Basics**"
   ]
  },
  {
   "cell_type": "markdown",
   "metadata": {},
   "source": [
    "Bahasa pemrogaman Python memiliki berbagai macam konstruksi sintaksis, fungsi pustaka standar, dan fitur lingkungan pengembangan interaktif. Untungnya, Anda dapat mengabaikan sebagian besar dari itu, Anda hanya perlu belajar banyak untuk menulis beberapa progtram kecil yang berguna. Diskusi ini mendorong Anda untuk melakukan REPL (Read-Evaluate-Print-Loop), yang memungkinkan Anda menjalankan instruksi Python satu per satu dan secara instan menunjukkan hasilnya. Anda akan mengingat hal-hal yang Anda lakukan jauh lebih baik daripada dengan hanya Anda membaca."
   ]
  },
  {
   "cell_type": "markdown",
   "metadata": {},
   "source": [
    "___"
   ]
  },
  {
   "cell_type": "markdown",
   "metadata": {},
   "source": [
    "## **1. Variables**\n",
    "\n",
    "**Variable dianalogikan sebagai sebuah blok di dalam memori komputer (RAM) dimana Anda dapat menyimpan hanya satu nilai, dan melabelinya dengan nama tertentu.** Variabel menyimpan data yang dilakukan selama program dieksekusi, yang nantinya isi dari variabel tersebut dapat diubah oleh operasi-operasi tertentu pada program yang menggunakan variabel.\n",
    "\n",
    "Variabel dapar menyimpan berbagai macam tipe data. Di dalam pemrogaman Python, variabel mempunyai sifat yang dinamis, artinya variabel Python tidak perlu dideklarasikan tipe data tertentu dan variabel Python dapat diubah saat program dijalankan."
   ]
  },
  {
   "cell_type": "markdown",
   "metadata": {},
   "source": [
    "### **1.1 Storing Values in Variables**\n",
    "\n",
    "Jika Anda ingin menggunakan hasil dari ekspresi yang dievaluasi di kemudian hari dalam program Anda, Anda dapat menyimpannya di dalam variabel. Cara menyimpan nilai dalam variabel adalah dengan pernyataan penugasan. **Pernyataan penugasan terdiri dari nama variabel, tanda sama dengan (disebut operator penugasan), dan nilai yang akan disimpan.** Misalnya jika Anda memasukkan pernyataan penugasan `egg = 80`, maka variabel bernama `egg` akan menyimpan nilai integer `80` didalamnya."
   ]
  },
  {
   "cell_type": "code",
   "execution_count": 1,
   "metadata": {},
   "outputs": [
    {
     "name": "stdout",
     "output_type": "stream",
     "text": [
      "Jumlah telur: 80\n"
     ]
    }
   ],
   "source": [
    "# Penugasan pertama\n",
    "egg = 80\n",
    "color = 'blue'\n",
    "print('Jumlah telur:', egg)"
   ]
  },
  {
   "cell_type": "markdown",
   "metadata": {},
   "source": [
    "Ketika sebuah variabel yang sama diberi nilai baru, nilai lama akan dihapus, dan itulah sebabnya mengapa saat `egg` dievaluasi menjadi `42`, bukan `80`, ini lah yang disebut sebagai menimpa variabel. Adapun variabel `color` tetap bernilai `blue`"
   ]
  },
  {
   "cell_type": "code",
   "execution_count": 2,
   "metadata": {},
   "outputs": [
    {
     "name": "stdout",
     "output_type": "stream",
     "text": [
      "Jumlah telur: 42\n"
     ]
    }
   ],
   "source": [
    "# Penugasan kedua\n",
    "egg = 42\n",
    "color = 'blue'\n",
    "print('Jumlah telur:', egg)"
   ]
  },
  {
   "cell_type": "markdown",
   "metadata": {},
   "source": [
    "Fungsi `print()` bertujuan untuk menampilkan nilai di dalam tanda kurung pada layar. Baris `print('Jumlah telur:', egg)` berarti **cetak teks *Jumlah telur* dan nilai dalam variabel egg.** Ketika Python mengeksekusi baris ini, Python memanggil fungsi `print()` lalu nilai di dalam tanda kurung (disebut argumen) dioper ke fungsi tersebut. Perhatikan bahwa tanda kutip tidak dicetak ke layar. Tanda kutip hanya menandai dimana teks dimulai dan diakhiri, tanda kutip bukan bagian dari nilai teks."
   ]
  },
  {
   "cell_type": "markdown",
   "metadata": {},
   "source": [
    "### **1.2 Variable Names**\n",
    "\n",
    "**Nama variabel yang baik menggambarkan data yang dikandungnya. Nama yang deksriptif akan membantu kode Anda lebih mudah dibaca.** Meskipun Anda dapat menamai variabel Anda dengan apa saja, Python memiliki beberapa batasan penamaan. Anda dapat menamai variabel dengan nama apa saja selama variabel tersebut mematuhi tiga aturan berikut:\n",
    "\n",
    "1. Hanya boleh satu kata tanpa spasi.\n",
    "2. Hanya boleh menggunakan huruf, angka, dan karakter garis bawah (_).\n",
    "3. Tidak boleh dimulai dengan angka."
   ]
  },
  {
   "cell_type": "code",
   "execution_count": 3,
   "metadata": {},
   "outputs": [],
   "source": [
    "# Aturan pertama\n",
    "currentBalance = 80\n",
    "currentbalance = 80\n",
    "\n",
    "# Aturan kedua\n",
    "account4 = 80\n",
    "account_4 = 80\n",
    "\n",
    "# Aturan ketiga\n",
    "_42 = 80"
   ]
  },
  {
   "cell_type": "markdown",
   "metadata": {},
   "source": [
    "**Nama variabel peka terhadap hurup besar-kecil, yang berarti bahwa** `spam, SPAM, Spam, dan sPaM` **adalah empat varibel yang berbeda.** Meskipun `Spam` adalah variabel yang valid yang dapat Anda gunakan dalam program, tapi merupakan konvensi Python untuk memulai variabel Anda dengan huruf kecil."
   ]
  },
  {
   "cell_type": "markdown",
   "metadata": {},
   "source": [
    "### **1.3 Comments**\n",
    "\n",
    "**Setiap teks setelah tanda pagar (#) adalah bagian dari komentar.** Python mengabaikan komentar, dan Anda dapat menggunakannya untuk menulis catatan atau mengingatkan diri Anda sendiri tentang apa yang sedang dilakukan oleh kode. Terkadang, programmer juga menaruh tanda # di depan baris kode untuk menghapusnya sementara saat menguji program, dan ini dapat berguna ketika mencoba mencari tahun mengapa suatu program tidak bekerja."
   ]
  },
  {
   "cell_type": "code",
   "execution_count": 4,
   "metadata": {},
   "outputs": [],
   "source": [
    "# Ini adalah tutorial membuat variabel spam\n",
    "firstSpam = '120'\n",
    "secondSpam = 120\n",
    "thirdSpam = 120.1"
   ]
  },
  {
   "cell_type": "markdown",
   "metadata": {},
   "source": [
    "Meskipun karakter hash (#) menandai awal komentar pada satu baris, **karakter triple-quoted (\"\"\") juga sering kali digunakan untuk komentar** yang mencakup beberapa baris. Ini lah yang disebut sebagai docstring."
   ]
  },
  {
   "cell_type": "code",
   "execution_count": 5,
   "metadata": {},
   "outputs": [
    {
     "name": "stdout",
     "output_type": "stream",
     "text": [
      "Hello World\n"
     ]
    }
   ],
   "source": [
    "\"\"\"Pengenalan Dasar Pemrogaman Python.\n",
    "\n",
    "Menggunakan versi Python 3, bukan Python 2\n",
    "\"\"\"\n",
    "\n",
    "print('Hello World')"
   ]
  },
  {
   "cell_type": "markdown",
   "metadata": {},
   "source": [
    "## **2. Data Types**\n",
    "\n",
    "Bagian berikut ini menjelaskan tipe-tipe standar yang dibangun ke dalam interpreter. Tipe-tipe data bawaan (built-in data type) yang utama adalah `numerics` (integer, Float), `sequences` (List, Tuple, Range, String), `mappings` (Dictionary), and `set` (Set and Frozenset).\n",
    "\n",
    "**Semua yang termasuk collection/container type (Dictionary, List, Set) kecuali Tuple bersifat mutable. Metode-metode umum seperti menambah, mengurangi, atau mengatur ulang anggota-anggotanya dapat dilakukan. Mereka tidak mengembalikan item tertentu, dan tidak pernah mengembalikan instance koleksi itu sendiri, kecuali None."
   ]
  },
  {
   "cell_type": "code",
   "execution_count": 6,
   "metadata": {},
   "outputs": [],
   "source": [
    "# Mutabel Data Type\n",
    "spamList = [1, 3.54, 'Hermione', True]                   # Sequence type - List\n",
    "spamRange = range(1, 10)                            # Sequence type - Range\n",
    "spamDict = {'name': 'Hermione', 'age': 32, 'male':True}  # Mapping type - Dictionary\n",
    "spamSet = {'car', 12, True}                         # Set type - Set"
   ]
  },
  {
   "cell_type": "markdown",
   "metadata": {},
   "source": [
    "**Adapun selain itu (Numbers, Tuple, String) bersifat immutable.** Mereka tidak dapat diubah setelah dibuat atau tidak mempunyai metode metode umum seperti mutable."
   ]
  },
  {
   "cell_type": "code",
   "execution_count": 7,
   "metadata": {},
   "outputs": [],
   "source": [
    "# Immutable Data Type\n",
    "spamInt = 12                            # Numeric type - Integer\n",
    "spamFloat = 10.56                       # Numeric type - Float\n",
    "spamStr = 'Hermione'                         # Sequence type - String\n",
    "spamTuple = {'car', 12, 15.3, True}     # Sequence type - Tuple"
   ]
  },
  {
   "cell_type": "markdown",
   "metadata": {},
   "source": [
    "Python menyediakan built-in function yaitu `type()` untuk memberikan informasi kepada user **tentang tipe data dari suatu objek**"
   ]
  },
  {
   "cell_type": "code",
   "execution_count": 8,
   "metadata": {},
   "outputs": [
    {
     "data": {
      "text/plain": [
       "dict"
      ]
     },
     "execution_count": 8,
     "metadata": {},
     "output_type": "execute_result"
    }
   ],
   "source": [
    "# Contoh penerapan fungsi type()\n",
    "type(spamList)          # List\n",
    "type(spamRange)         # Range\n",
    "type(spamStr)           # String\n",
    "type(spamDict)          # Dictionary"
   ]
  },
  {
   "cell_type": "markdown",
   "metadata": {},
   "source": [
    "Selain itu, Python juga menyediakan built-in function `len()` untuk **menghitung panjang dari suatu object**, bisa berupa `sequence` atau `collection`."
   ]
  },
  {
   "cell_type": "code",
   "execution_count": 9,
   "metadata": {},
   "outputs": [
    {
     "data": {
      "text/plain": [
       "4"
      ]
     },
     "execution_count": 9,
     "metadata": {},
     "output_type": "execute_result"
    }
   ],
   "source": [
    "# Contoh penerapan fungsi len()\n",
    "len('Hermione')                      # 3\n",
    "len([1, 3.54, 'Hermione', True])     # 4\n",
    "len(range(1, 10))               # 9\n",
    "len(('car', 12, 15.3, True))    # 4"
   ]
  },
  {
   "cell_type": "markdown",
   "metadata": {},
   "source": [
    "## **3. Numeric Data Type**\n",
    "\n",
    "**Tipe data numerik mencakup bilangan bulat (integer), bilangan pecahan (Float), dan bilangan kompleks.** Selain itu, Boolean adalah subtipe dari bilangan bulat. Bilangan bulat memiliki ketepatan yang tidak terbatas, berbeda dengan bilangan pecahan. Informasi mengenasi presisi dan representasi internal dari keduanya tersedia di sys.float_info atau sys.int_info."
   ]
  },
  {
   "cell_type": "code",
   "execution_count": 10,
   "metadata": {},
   "outputs": [],
   "source": [
    "# Cara penulisan integer\n",
    "spamInt = 123\n",
    "spamInt = 100_000_000_000\n",
    "\n",
    "# Cara penulisan floating point\n",
    "spamFloat = 123.45\n",
    "spamFloat = 10.\n",
    "spamFloat = .001\n",
    "spamFloat = 3.14e-10\n",
    "spamFloat = 3.14_15_93"
   ]
  },
  {
   "cell_type": "markdown",
   "metadata": {},
   "source": [
    "Selain itu, bilangan bulat dan pecahan bisa dibangun dari objek nomor atau teks dengan menggunakan fungsi built-in `int()` dan `float().` Jika tidak tersedia objek, maka Python akan mengembalikan nilai 0 atau 0.0"
   ]
  },
  {
   "cell_type": "code",
   "execution_count": 11,
   "metadata": {},
   "outputs": [],
   "source": [
    "# Fungsi int()\n",
    "spamInt = int('123')\n",
    "spamInt = int(123.45)\n",
    "\n",
    "# Fungsi float()\n",
    "spamFloat = float('123')\n",
    "spamFloat = float(123)"
   ]
  },
  {
   "cell_type": "markdown",
   "metadata": {},
   "source": [
    "### **3.1 Arithmethic Operators**\n",
    "\n",
    "**Semua tipe numerik mendukung operasi-operasi aritmatika,** misalnya addition, substraction, multiplication, division, dan lainnya."
   ]
  },
  {
   "cell_type": "code",
   "execution_count": 12,
   "metadata": {},
   "outputs": [
    {
     "data": {
      "text/plain": [
       "1"
      ]
     },
     "execution_count": 12,
     "metadata": {},
     "output_type": "execute_result"
    }
   ],
   "source": [
    "x, y = 5, 2\n",
    "\n",
    "# Operasi aritmatika\n",
    "x + y   # Addition\n",
    "x - y   # Substraction\n",
    "x * y   # Multiplication\n",
    "x / y   # Division\n",
    "x // y  # Integer division\n",
    "x ** y  # Exponent\n",
    "x % y   # Modulus"
   ]
  },
  {
   "cell_type": "markdown",
   "metadata": {},
   "source": [
    "**Urutan menggabungkan operator dan nilai atau disebut precedence juga berlaku di dalam Python,** misalnya operator ** dievaluasi pertama kali, selanjutnya operator *, /, // dan %, lalu terakhir operator + dan -."
   ]
  },
  {
   "cell_type": "code",
   "execution_count": 13,
   "metadata": {},
   "outputs": [
    {
     "data": {
      "text/plain": [
       "16.0"
      ]
     },
     "execution_count": 13,
     "metadata": {},
     "output_type": "execute_result"
    }
   ],
   "source": [
    "# Contoh aturan dalam ekspresi\n",
    "(5 - 1) * ((7 + 1) / (3 - 1))"
   ]
  },
  {
   "cell_type": "markdown",
   "metadata": {},
   "source": [
    "### **3.2 Assignment Operators**\n",
    "\n",
    "**Anda bisa menggabungkan operator aritmatika dengan penugasan,** ini memungkinkan menyimpan hasil kalkulasi dalam variabel."
   ]
  },
  {
   "cell_type": "code",
   "execution_count": 14,
   "metadata": {},
   "outputs": [],
   "source": [
    "x, y = 5, 2\n",
    "\n",
    "# Operasi penugasan\n",
    "x += 3      # sama seperti x = x + 3\n",
    "x -= 3      # sama seperti x = x - 3\n",
    "x *= 3      # sama seperti x = x * 3\n",
    "x /= 3      # sama seperti x = x / 3"
   ]
  },
  {
   "cell_type": "markdown",
   "metadata": {},
   "source": [
    "### **3.3 Math Module**\n",
    "\n",
    "**Python menyediakan beberapa modul bawaan untuk numerik & mathematical, salah satunya modul `math`**. Modul ini menyediakan akses ke fungsi-fungsi matematika yang didefinisikan oleh standar C, seperti logarithmic, hyperbolic, dan lainnya. Fungsi-fungsi ini tidak dapat digunakan dengan bilangan kompleks, dan **secara default semua nilai yang dikembalikan adalah bilangan pecahan float**. Ketika akan menggunakannya, anda harus melakukan `import math` terlebih dahulu."
   ]
  },
  {
   "cell_type": "code",
   "execution_count": 15,
   "metadata": {},
   "outputs": [
    {
     "data": {
      "text/plain": [
       "2.23606797749979"
      ]
     },
     "execution_count": 15,
     "metadata": {},
     "output_type": "execute_result"
    }
   ],
   "source": [
    "# Contoh penggunaan modul math\n",
    "import math\n",
    "\n",
    "x, y = 5, 2\n",
    "math.ceil(x)        # Return the smallest integer greater than or equal to x\n",
    "math.fabs(x)        # Return the absolute value of x\n",
    "math.floor(x)       # Return the largest integer less than or equal to x\n",
    "math.pow(x, y)      # Return x raised to the power y\n",
    "math.sqrt(x)        # Return the square root of x"
   ]
  },
  {
   "cell_type": "markdown",
   "metadata": {},
   "source": [
    "## **4. String Data Type**\n",
    "\n",
    "**String atau teks adalah salah satu bentuk data yang paling sering diolah, dan merupakan kumpulan dari karakter, huruf, dan angka.** String tidak hanya dapat digabungkan dengan operator +, tetapi bisa dimanipulasi lebih dari itu. Misalnya, ekstraksi string secara parsial dari nilai string, menambah atau mengurangi spasi, mengubah huruf menjadi huruf kecil atau huruf besar, dan memeriksa apakah string diformat dengan benar."
   ]
  },
  {
   "cell_type": "markdown",
   "metadata": {},
   "source": [
    "### **4.1 String Literal**\n",
    "\n",
    "**Mengetik nilai string dalam Python cukup mudah, dimulai dan diakhiri dengan satu kutipan**. Tapi bagaimana jika Anda ingin menggunakan kutipan di dalam string? Beruntungnya Python telah menyediakan banyak cara untuk mengetik string, di antaranya dengan kutipan ganda dna kutipan tiga."
   ]
  },
  {
   "cell_type": "code",
   "execution_count": 16,
   "metadata": {},
   "outputs": [
    {
     "name": "stdout",
     "output_type": "stream",
     "text": [
      "Hello world!\n",
      "I'm Batman\n"
     ]
    }
   ],
   "source": [
    "# String dengan kutip satu\n",
    "print('Hello world!')\n",
    "\n",
    "# String dengan kutip ganda\n",
    "print(\"I'm Batman\")"
   ]
  },
  {
   "cell_type": "markdown",
   "metadata": {},
   "source": [
    "Berbeda dari string dengan kutipan tunggal atau ganda, karakter **kutipan, tab, baris baru, atau apa pun di antara kutipan tiga dianggap sebagai bagian dari string, dan aturan indentasi tidak berlaku untuk baris di dalamnya.** Hal ini akan memudahkan untuk independen dari aturan karakter escape."
   ]
  },
  {
   "cell_type": "code",
   "execution_count": 17,
   "metadata": {},
   "outputs": [
    {
     "name": "stdout",
     "output_type": "stream",
     "text": [
      "\n",
      "Dear Alice,\n",
      "        Eve's cat has been arrested for catnapping and cat burglary.  \n",
      "Sincerely,\n",
      "Bob\n"
     ]
    }
   ],
   "source": [
    "# String dengan kutip tiga\n",
    "print('''\n",
    "Dear Alice,\n",
    "        Eve's cat has been arrested for catnapping and cat burglary.  \n",
    "Sincerely,\n",
    "Bob''')"
   ]
  },
  {
   "cell_type": "markdown",
   "metadata": {},
   "source": [
    "Selain itu, Anda bisa membuat string dari suatu objek dengan menggunakan fungsi built-in `str`. Jika objek tidak tersedia, Python akan mengembalikan string kosong."
   ]
  },
  {
   "cell_type": "code",
   "execution_count": 18,
   "metadata": {},
   "outputs": [
    {
     "name": "stdout",
     "output_type": "stream",
     "text": [
      "25\n"
     ]
    }
   ],
   "source": [
    "# Contoh fungsi str()\n",
    "age = 25\n",
    "print(str(age))"
   ]
  },
  {
   "cell_type": "markdown",
   "metadata": {},
   "source": [
    "### **4.2 Escape Character**\n",
    "\n",
    "**Karakter backslash (\\) diikuti dengan karakter tertentu disebut escape character**. Karakter ini memungkinkan untuk menggunakan karakter yang tidak mungkin dimasukkan ke dalam string. Misalnya, karakter escapa untuk kutipan tunggal adalah `\\'`, karakter`\\n` untuk newline, `\\t` untuk tab, `\\b` untuk backspace, dan lainnya."
   ]
  },
  {
   "cell_type": "code",
   "execution_count": 19,
   "metadata": {},
   "outputs": [
    {
     "name": "stdout",
     "output_type": "stream",
     "text": [
      "Dear Alice,\n",
      "\tEve's cat has been arrested for catnapping and cat burglary.\n",
      "Sincerely,\n",
      "Bob\n"
     ]
    }
   ],
   "source": [
    "# Contoh escape character\n",
    "print('Dear Alice,\\n\\tEve\\'s cat has been arrested for catnapping and cat burglary.\\nSincerely,\\nBob')"
   ]
  },
  {
   "cell_type": "markdown",
   "metadata": {},
   "source": [
    "### **4.3 Putting String Inside Other String**\n",
    "\n",
    "Meletakkan string di dalam string lain bisa dilakukan dengan 4 cara umum yaitu:\n",
    "\n",
    "1. String concatenation\n",
    "2. String interpolation\n",
    "3. format() method\n",
    "4. f-string"
   ]
  },
  {
   "cell_type": "code",
   "execution_count": 20,
   "metadata": {},
   "outputs": [
    {
     "name": "stdout",
     "output_type": "stream",
     "text": [
      "Halo, saya Hermione, berumur 25 tahun\n"
     ]
    }
   ],
   "source": [
    "# Contoh string concatenation\n",
    "name = 'Hermione'\n",
    "age = 25\n",
    "\n",
    "print('Halo, saya ' + name + ', berumur ' + str(age) + ' tahun')"
   ]
  },
  {
   "cell_type": "markdown",
   "metadata": {},
   "source": [
    "Namun, cara pertama membutuhkan banyak pengetikan. **Pendekatan yang lebih sederhana adalah dengan menggunakan interpolasi string**, dimana operator %s di dalam string bertindak sebagai penanda yang akan digantikan oleh nilai yang mengikuti string tersebut. Salah satu keuntungan dari interpolasi string adalah `str()` tidak perlu dipanggil untuk mengubah nilai menjadi string."
   ]
  },
  {
   "cell_type": "code",
   "execution_count": 21,
   "metadata": {},
   "outputs": [
    {
     "name": "stdout",
     "output_type": "stream",
     "text": [
      "Halo, saya Hermione, berumur 25 tahun\n"
     ]
    }
   ],
   "source": [
    "# Contoh string interpolation\n",
    "name = 'Hermione'\n",
    "age = 25\n",
    "\n",
    "print('Halo, saya %s, berumur %s tahun' % (name, age))"
   ]
  },
  {
   "cell_type": "markdown",
   "metadata": {},
   "source": [
    "**Python 3.6 memperkenalkan f-string, yang mirip dengan interpolasi string kecuali bahwa tanda kurung digunakan sebagai pengganti `%s`**, dengan objek ditempatkan langsung di dalam tanda kurung. f-string memiliki awalan f sebelum tanda petik."
   ]
  },
  {
   "cell_type": "code",
   "execution_count": 22,
   "metadata": {},
   "outputs": [
    {
     "name": "stdout",
     "output_type": "stream",
     "text": [
      "Halo, saya Hermione, berumur 25 tahun\n"
     ]
    }
   ],
   "source": [
    "# Contoh f-string\n",
    "name = 'Hermione'\n",
    "age = 25\n",
    "\n",
    "print(f'Halo, saya {name}, berumur {age} tahun')"
   ]
  },
  {
   "cell_type": "markdown",
   "metadata": {},
   "source": [
    "Mirip dengan dua teknik sebelumnya, cara kerja metode `format()` yaitu dengan **mengambil argumen yang diteruskan, menformatnya, dan menempatkannya di dalam string sesuai letak** placeholder `{}`."
   ]
  },
  {
   "cell_type": "code",
   "execution_count": 23,
   "metadata": {},
   "outputs": [
    {
     "name": "stdout",
     "output_type": "stream",
     "text": [
      "Halo, saya Hermione, berumur 25 tahun\n",
      "Halo, saya Hermione, berumur 25 tahun\n"
     ]
    }
   ],
   "source": [
    "# Contoh f-string\n",
    "name = 'Hermione'\n",
    "age = 25\n",
    "\n",
    "print('Halo, saya {}, berumur {} tahun'.format(name, age))\n",
    "print('Halo, saya {nama}, berumur {umur} tahun'.format(nama=name, umur=age))"
   ]
  },
  {
   "cell_type": "markdown",
   "metadata": {},
   "source": [
    "### **4.4 Indexing and Slicing**\n",
    "\n",
    "**String termasuk sequence, maka indeks dan irisan berlaku untuknya**. Jika Anda menentukan indeks, Anda akan mendapatkan karakter pada posisi tersebut dalam string. Misalnya string `'Hello, world!'`, setiap karakter dalam string adalah item dengan indeks yang sesuai. Spasi dan tanda seru termasuk dalam hitungan karakter, sehingga `'Hello, world!'` memiliki panjang 13 karakter, diawali dari **H** pada indeks ke-0 hingga ! pada indeks ke-12."
   ]
  },
  {
   "cell_type": "code",
   "execution_count": 24,
   "metadata": {},
   "outputs": [
    {
     "data": {
      "text/plain": [
       "'o'"
      ]
     },
     "execution_count": 24,
     "metadata": {},
     "output_type": "execute_result"
    }
   ],
   "source": [
    "# Contoh indexing pada string\n",
    "spam = 'Hello, world!'\n",
    "\n",
    "spam[0]     # indeks 0: H\n",
    "spam[1]     # indeks 1: e\n",
    "spam[5]     # indeks 5: ,\n",
    "spam[-1]     # indeks -1: !\n",
    "spam[-5]     # indeks -5: o"
   ]
  },
  {
   "cell_type": "markdown",
   "metadata": {},
   "source": [
    "**Jika Anda menentukan rentang dari satu indeks ke indeks lainnya, indeks awal disertakan dan indeks akhir tidak**. Itu sebabnya, jika variabel spam adalah `'Hello, world!'`, maka `spam[0:5]` adalah `'Halo'`. Substring yang Anda dapatkan dari `spam[0:5]` akan menyertakan semua yang ada di `spam[0]` hingga `spam[4]`, dengan mengabaikan koma di indeks 5 dan spasi di indeks 6. Perhatikan bahwa memotong sebuah string tidak mengubah string aslinya, dan Anda dapat menangkap potongan dari satu variabel dalam variabel terpisah."
   ]
  },
  {
   "cell_type": "code",
   "execution_count": 25,
   "metadata": {},
   "outputs": [
    {
     "data": {
      "text/plain": [
       "'!dlrow '"
      ]
     },
     "execution_count": 25,
     "metadata": {},
     "output_type": "execute_result"
    }
   ],
   "source": [
    "# Contoh slicing pada string\n",
    "spam = 'Hello, world!'\n",
    "\n",
    "spam[0:5]       # 'Hello'\n",
    "spam[:5]        # 'Hello'\n",
    "spam[7:]        # 'world!'\n",
    "spam[:-1]       # 'Hello, world'\n",
    "spam[:]         # 'Hello, world!'\n",
    "spam[0:5:2]     # 'Hlo'\n",
    "spam[1::-1]     # 'eH'\n",
    "spam[:5:-1]     # '!dlrow '"
   ]
  },
  {
   "cell_type": "markdown",
   "metadata": {},
   "source": [
    "### **4.5 Membership Operators**\n",
    "\n",
    "Operator `in` dan `not in` tergabung dalam membership operators, keduanya digunakan untuk menguji apakah suatu niali atau variabel ditemukan di dalam tipe data sequence, mapping, atau set. Misalnya, string `'Hello'` diuji apakah muncul di dalam `'Hello, world!'`. **Output dari operator ini berupa nilai Boolean True atau False.**"
   ]
  },
  {
   "cell_type": "code",
   "execution_count": 26,
   "metadata": {},
   "outputs": [
    {
     "data": {
      "text/plain": [
       "False"
      ]
     },
     "execution_count": 26,
     "metadata": {},
     "output_type": "execute_result"
    }
   ],
   "source": [
    "# Contoh membership operators\n",
    "spam = 'Hello, world!'\n",
    "\n",
    "'Hello' in spam         # True\n",
    "'hello' in spam         # False\n",
    "'World' not in spam     # True\n",
    "'world!' not in spam    # False"
   ]
  },
  {
   "cell_type": "markdown",
   "metadata": {},
   "source": [
    "### **4.6 The capitalize(), upper(), and lower() Methods**\n",
    "\n",
    "Metode `capitalize()` **mengembalikan string baru dimana huruf awal dalam string asli telah dikonversi menjadi huruf besar.**\n",
    "\n",
    "Metode `upper()` dan `lower()` **mengembalikan string baru dimana semua huruf dalam string asli telah dikonversi menjadi huruf besar atau huruf kecil.**\n",
    "\n",
    "Karakter bukan huruf dalam string tetap tidak berubah."
   ]
  },
  {
   "cell_type": "code",
   "execution_count": 27,
   "metadata": {},
   "outputs": [],
   "source": [
    "# Contoh penerapan methods\n",
    "spam = 'hello, World!'\n",
    "\n",
    "spam = spam.capitalize()    # 'Hello, world!'    \n",
    "spam = spam.upper()         # 'HELLO, WORLD!'  \n",
    "spam = spam.lower()         # 'hello, world!' "
   ]
  },
  {
   "cell_type": "markdown",
   "metadata": {},
   "source": [
    "**Perhatikan bahwa dua metode ini tidak mengubah string asli itu sendiri, tetapi mengembalikan nilai string baru**. Jika ingin mengubah string asli, Anda harus memanggil `capitalize(), upper()`, atau `lower()` pada string tersebut dan kemudian menetapkan string baru ke variabel tempat string asli disimpan. Inilah sebabnya mengapa Anda harus menggunakan `spam = spam.upper()` untuk mengubah string dalam spam, bukan hanya `spam.upper().`\n",
    "\n",
    "Ketiga metode di atas sangat membantu jika Anda membutuhkan untuk membuat perbandingan yang case-insensitive."
   ]
  },
  {
   "cell_type": "code",
   "execution_count": 28,
   "metadata": {},
   "outputs": [
    {
     "data": {
      "text/plain": [
       "True"
      ]
     },
     "execution_count": 28,
     "metadata": {},
     "output_type": "execute_result"
    }
   ],
   "source": [
    "# Contoh perbandingan case-insensitive\n",
    "spam = 'heLlO'\n",
    "\n",
    "spam.upper() == 'HELLO'         # True\n",
    "spam.lower() == 'hello'         # True\n",
    "spam.capitalize() == 'Hello'    # True"
   ]
  },
  {
   "cell_type": "markdown",
   "metadata": {},
   "source": [
    "### **4.7 The join() and split() Methods**\n",
    "\n",
    "Metode `join()` **berguna ketika Anda memiliki list berisi string yang perlu digabungkan menjadi satu nilai string.** Metode `join()` dipanggil pada sebuah string, melewatkan daftar string, dan mengembalikan sebuah string. String yang dikembalikan adalah gabungan dari setiap string dalam list yang\n"
   ]
  },
  {
   "cell_type": "code",
   "execution_count": 29,
   "metadata": {},
   "outputs": [],
   "source": [
    "# Contoh join() method\n",
    "spam = ' '.join(['Nama', 'saya', 'adalah', 'Hermione'])      # 'Nama saya adalah Hermione'\n",
    "spam = '-'.join(['Nama', 'saya', 'adalah', 'Hermione'])      # 'Nama-saya-adalah-Hermione'\n",
    "spam = 'ABC'.join(['Nama', 'saya', 'adalah', 'Hermione'])    # 'NamaABCsayaABCadalahABCHermione'"
   ]
  },
  {
   "cell_type": "markdown",
   "metadata": {},
   "source": [
    "Metode `split()` **melakukan hal yang sebaliknya,** metode ini dipanggil pada nilai string dan mengembalikan sebuah list berisi string. Secara default, metode ini akan memisahkan berdasarkan karakter whitespace."
   ]
  },
  {
   "cell_type": "code",
   "execution_count": 31,
   "metadata": {},
   "outputs": [],
   "source": [
    "# Contoh split() method\n",
    "spam = 'Hello, world!'\n",
    "\n",
    "# spam = spam.split()         # ['Hello,', 'world!']\n",
    "# spam = spam.split('o')      # ['Hell', ', w', 'rld!']\n",
    "spam = spam.split('-')      # ['Hello, world!']"
   ]
  },
  {
   "cell_type": "markdown",
   "metadata": {},
   "source": [
    "## **5. User Input**\n",
    "\n",
    "**Anda bisa memasukkan teks melalui prompt ke dalam kode program dengan fungsi** `input()`. Fungsi menunggu pengguna untuk mengetikkan teks pada keyboard dan menekan ENTER. Panggilan fungsi ini mengevaluasi string yang sama dengan teks pengguna, dan baris kode menetapkan variabel `name` ke nilai string ini. Anda dapat menganggap pemanggilan fungsi input() sebagai ekspresi yang dievaluasi ke string apa pun yang diketikkan pemngguna. Jika pengguna memasukkan 'Hermione', maka ekspresi tersebut akan dievaluasi menjadi `name = 'Hermione'`"
   ]
  },
  {
   "cell_type": "code",
   "execution_count": 33,
   "metadata": {},
   "outputs": [
    {
     "name": "stdout",
     "output_type": "stream",
     "text": [
      "Halo Hermione\n"
     ]
    }
   ],
   "source": [
    "name = input(\"Silakan masukkan nama Anda: \")\n",
    "print(f'Halo {name}')"
   ]
  }
 ],
 "metadata": {
  "kernelspec": {
   "display_name": "Python 3",
   "language": "python",
   "name": "python3"
  },
  "language_info": {
   "codemirror_mode": {
    "name": "ipython",
    "version": 3
   },
   "file_extension": ".py",
   "mimetype": "text/x-python",
   "name": "python",
   "nbconvert_exporter": "python",
   "pygments_lexer": "ipython3",
   "version": "3.10.5"
  },
  "orig_nbformat": 4
 },
 "nbformat": 4,
 "nbformat_minor": 2
}

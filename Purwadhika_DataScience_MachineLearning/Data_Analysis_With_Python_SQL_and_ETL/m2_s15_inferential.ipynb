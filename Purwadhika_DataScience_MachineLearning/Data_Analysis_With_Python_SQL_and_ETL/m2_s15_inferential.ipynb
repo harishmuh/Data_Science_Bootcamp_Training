{
 "cells": [
  {
   "cell_type": "markdown",
   "metadata": {},
   "source": [
    "# **Introduction to Statistics IV**\n",
    "\n",
    "Sebelumnya, kita telah mengetahui bahwa statistika adalah studi terkait pengumpulan, analisis dan\n",
    "interpretasi data. Saat ini, manusia menghasilkan dan mengumpulkan lebih banyak data daripada sebelumnya. Setiap kali kita mengirim pesan teks, melakukan pembelian online, atau memposting foto di media sosial, kita menghasilkan data baru. Seiring bertambahnya jumlah data, kebutuhan akan menganalisis dan menafsirkan hal tersebut pun semakin meningkat. Ini adalah alasan utama mengapa statistika dan pekerjaan berbasis data sangatlah penting. Dengan demikian bidang analisis data berkembang hampir sama cepatnya seperti data itu sendiri. \n",
    "\n",
    "Profesional di bidang data menggunakan statistika untuk menganalisis data dalam bisnis, kedokteran, sains, teknik, pemerintah, dan banyak lagi. Profesional di bidang data menggunakan kekuatan metode statistika untuk mengidentifikasi pola yang bermakna dan mencari hubungan dalam data, menganalisis dan mengukur ketidakpastian, menghasilkan wawasan dari data, membuat prediksi yang tepat tentang masa depan, dan menyelesaikan masalah yang kompleks. \n",
    "\n",
    "Meskipun kita belum pernah mempelajari statistika, kita mungkin menggunakan statistika setiap hari. Misalnya, kita memulai hari dengan memeriksa cuaca secara online, di mana kita mempelajari bahwa\n",
    "terdapat perkiraan kemungkinan hujan sebesar 70 persen atau kemungkinan salju sebesar 50 persen. Mungkin kita berkunjung ke situs web olahraga untuk mempelajari rata-rata pukulan pemain baseball atau rata-rata skor pemain basket favorit kita. Di aplikasi berita, kita mungkin menemukan jajak pendapat pemilu yang melaporkan angka margin of error sebesar tiga persen  dan mencatat bahwa survei online digunakan untuk mengumpulkan data. Atau mungkin kita adalah orang tua, dan saat kita membawa anak kita pada pemeriksaan rutin, kita mengetahui bahwa tinggi dan berat badan anak kita berada dalam persentil tertentu. Ketika kita meminta informasi lebih lanjut, dokter menunjukkan kepada kita\n",
    "median tinggi dan berat badan untuk semua anak yang seumuran. Skenario ini mencakup konsep statistik yang akan kita pelajari lebih lanjut.\n",
    "\n",
    "___"
   ]
  },
  {
   "cell_type": "code",
   "execution_count": 1,
   "metadata": {},
   "outputs": [],
   "source": [
    "# data manipulation\n",
    "import numpy as np\n",
    "import pandas as pd\n",
    "\n",
    "# visualization\n",
    "import matplotlib.pyplot as plt\n",
    "import seaborn as sns\n",
    "\n",
    "# statistics\n",
    "import statsmodels.api as sm\n",
    "import scipy.stats as stats"
   ]
  },
  {
   "cell_type": "markdown",
   "metadata": {},
   "source": [
    "## **1. Hypothesis Testing for Proportion**\n",
    "\n",
    "Di materi sebelumnya telah kita pelajari uji hipotesis pada data numerik. Lalu pertanyaan selanjutnya bagaimana kita menguji hipotesis pada data kategorikal?\n",
    "\n",
    "Uji hipotesis untuk proporsi ini digunakan untuk menguji hipotesis data kategorikal seperti voting ‘Ya’ atau ‘Tidak’, keputusan ‘Beli’ atau ‘Tidak Beli’, ‘Berlangganan’ atau ‘Tidak berlangganan’, dan contoh lainnya.\n",
    "\n",
    "Berikut ini jenis uji hipotesis untuk proporsi.\n",
    "- Pertama, Z-test untuk proporsi populasi tunggal.\n",
    "- Kedua, Z-test untuk proporsi dua populasi. \n",
    "- Terakhir, Chi-Squared Test untuk proporsi pada dua variabel kategorikal independen."
   ]
  },
  {
   "cell_type": "code",
   "execution_count": 3,
   "metadata": {},
   "outputs": [
    {
     "data": {
      "text/html": [
       "<div>\n",
       "<style scoped>\n",
       "    .dataframe tbody tr th:only-of-type {\n",
       "        vertical-align: middle;\n",
       "    }\n",
       "\n",
       "    .dataframe tbody tr th {\n",
       "        vertical-align: top;\n",
       "    }\n",
       "\n",
       "    .dataframe thead th {\n",
       "        text-align: right;\n",
       "    }\n",
       "</style>\n",
       "<table border=\"1\" class=\"dataframe\">\n",
       "  <thead>\n",
       "    <tr style=\"text-align: right;\">\n",
       "      <th></th>\n",
       "      <th>Name</th>\n",
       "      <th>Author</th>\n",
       "      <th>User Rating</th>\n",
       "      <th>Reviews</th>\n",
       "      <th>Price</th>\n",
       "      <th>Year</th>\n",
       "      <th>Genre</th>\n",
       "    </tr>\n",
       "  </thead>\n",
       "  <tbody>\n",
       "    <tr>\n",
       "      <th>0</th>\n",
       "      <td>10-Day Green Smoothie Cleanse</td>\n",
       "      <td>JJ Smith</td>\n",
       "      <td>4.7</td>\n",
       "      <td>17350</td>\n",
       "      <td>8</td>\n",
       "      <td>2016</td>\n",
       "      <td>Non Fiction</td>\n",
       "    </tr>\n",
       "    <tr>\n",
       "      <th>1</th>\n",
       "      <td>11/22/63: A Novel</td>\n",
       "      <td>Stephen King</td>\n",
       "      <td>4.6</td>\n",
       "      <td>2052</td>\n",
       "      <td>22</td>\n",
       "      <td>2011</td>\n",
       "      <td>Fiction</td>\n",
       "    </tr>\n",
       "    <tr>\n",
       "      <th>2</th>\n",
       "      <td>12 Rules for Life: An Antidote to Chaos</td>\n",
       "      <td>Jordan B. Peterson</td>\n",
       "      <td>4.7</td>\n",
       "      <td>18979</td>\n",
       "      <td>15</td>\n",
       "      <td>2018</td>\n",
       "      <td>Non Fiction</td>\n",
       "    </tr>\n",
       "    <tr>\n",
       "      <th>3</th>\n",
       "      <td>1984 (Signet Classics)</td>\n",
       "      <td>George Orwell</td>\n",
       "      <td>4.7</td>\n",
       "      <td>21424</td>\n",
       "      <td>6</td>\n",
       "      <td>2017</td>\n",
       "      <td>Fiction</td>\n",
       "    </tr>\n",
       "    <tr>\n",
       "      <th>4</th>\n",
       "      <td>5,000 Awesome Facts (About Everything!) (Natio...</td>\n",
       "      <td>National Geographic Kids</td>\n",
       "      <td>4.8</td>\n",
       "      <td>7665</td>\n",
       "      <td>12</td>\n",
       "      <td>2019</td>\n",
       "      <td>Non Fiction</td>\n",
       "    </tr>\n",
       "  </tbody>\n",
       "</table>\n",
       "</div>"
      ],
      "text/plain": [
       "                                                Name  \\\n",
       "0                      10-Day Green Smoothie Cleanse   \n",
       "1                                  11/22/63: A Novel   \n",
       "2            12 Rules for Life: An Antidote to Chaos   \n",
       "3                             1984 (Signet Classics)   \n",
       "4  5,000 Awesome Facts (About Everything!) (Natio...   \n",
       "\n",
       "                     Author  User Rating  Reviews  Price  Year        Genre  \n",
       "0                  JJ Smith          4.7    17350      8  2016  Non Fiction  \n",
       "1              Stephen King          4.6     2052     22  2011      Fiction  \n",
       "2        Jordan B. Peterson          4.7    18979     15  2018  Non Fiction  \n",
       "3             George Orwell          4.7    21424      6  2017      Fiction  \n",
       "4  National Geographic Kids          4.8     7665     12  2019  Non Fiction  "
      ]
     },
     "execution_count": 3,
     "metadata": {},
     "output_type": "execute_result"
    }
   ],
   "source": [
    "df = pd.read_csv('bestsellers with categories.csv')\n",
    "df.head()"
   ]
  },
  {
   "cell_type": "markdown",
   "metadata": {},
   "source": [
    "### `a. One Sample Z-test`\n",
    "\n",
    "Z-Test jenis ini digunakan untuk menguji dugaan atau hipotesis apakah proporsi dari suatu kelompok A sama dengan asumsi proporsi teoritis yang diinginkan.\n",
    "\n",
    "Dalam kasus ini kita hendak menguji apakah proporsi buku fiksi adalah 50%. \n",
    "\n",
    "Kita nyatakan terlebih dahulu null hypothesis dan alternative hypothesis.\n",
    "\n",
    "- `H0`: $\\text{Proporsi}_\\text{Buku Fiction}$ = 0.5\n",
    "- `H1`: $\\text{Proporsi}_\\text{Buku Fiction}$ != 0.5\n",
    "\n",
    "Kemudian kita pilih significance level.\n",
    "- Significance level ($\\alpha$) = 0.05\n",
    "\n",
    "Selanjutnya kita hitung p-value."
   ]
  },
  {
   "cell_type": "code",
   "execution_count": 14,
   "metadata": {},
   "outputs": [
    {
     "data": {
      "text/plain": [
       "550"
      ]
     },
     "execution_count": 14,
     "metadata": {},
     "output_type": "execute_result"
    }
   ],
   "source": [
    "# banyaknya buku fiksi\n",
    "n_fiction = len(df[df['Genre']=='Fiction'])\n",
    "n_fiction\n",
    "\n",
    "# banyaknya buku\n",
    "n_all = len(df)\n",
    "n_all"
   ]
  },
  {
   "cell_type": "code",
   "execution_count": 17,
   "metadata": {},
   "outputs": [
    {
     "data": {
      "text/plain": [
       "0.0026186572865008824"
      ]
     },
     "execution_count": 17,
     "metadata": {},
     "output_type": "execute_result"
    }
   ],
   "source": [
    "from statsmodels.stats.proportion import proportions_ztest\n",
    "\n",
    "stat, pvalue = proportions_ztest(\n",
    "    count = n_fiction,          # jumlah buku bergenre fiksi\n",
    "    nobs = n_all,               # jumlah seluruh buku\n",
    "    value = 0.5                 # proporsi dari populasi / proporsi teoritis yang ingin diuji\n",
    ")\n",
    "\n",
    "pvalue"
   ]
  },
  {
   "cell_type": "markdown",
   "metadata": {},
   "source": [
    "Terakhir kita tarik kesimpulan yaitu:"
   ]
  },
  {
   "cell_type": "code",
   "execution_count": 18,
   "metadata": {},
   "outputs": [
    {
     "name": "stdout",
     "output_type": "stream",
     "text": [
      "\n",
      "    pvalue = 0.00262. pvalue <= 0.05. Menolak Ho (Reject Ho).\n",
      "    Kita punya cukup bukti untuk mengatakan bahwa proporsi buku bergenre fiksi TIDAK SAMA dengan 0.5.\n",
      "    \n"
     ]
    }
   ],
   "source": [
    "alpha = 0.05\n",
    "\n",
    "if pvalue > alpha:\n",
    "    print(f'''\n",
    "    pvalue = {pvalue:.5f}. pvalue > {alpha}. Gagal menolak Ho (Fail To Reject Ho).\n",
    "    Kita TIDAK punya cukup bukti untuk mengatakan bahwa proporsi buku bergenre fiksi TIDAK SAMA dengan 0.5.\n",
    "    ''')\n",
    "else:\n",
    "    print(f'''\n",
    "    pvalue = {pvalue:.5f}. pvalue <= {alpha}. Menolak Ho (Reject Ho).\n",
    "    Kita punya cukup bukti untuk mengatakan bahwa proporsi buku bergenre fiksi TIDAK SAMA dengan 0.5.\n",
    "    ''')"
   ]
  },
  {
   "cell_type": "markdown",
   "metadata": {},
   "source": [
    "### `b. Two Sample Z-test`\n",
    "\n",
    "Uji hipotesis ini digunakan untuk membandingkan proporsi dari 2 kelompok yang berbeda.\n",
    "\n",
    "Dalam hal ini kita hendak mencontohkan pada kasus A/B testing.\n",
    "\n",
    "Sebuah e-commerce membuat design UI baru. Kemudian dilakukan pengujian dengan 1000 user diberi design lama (control group) dan 1000 user diberi design baru (treatment group). Adapun hasil pengujiannya adalah sebagai berikut:"
   ]
  },
  {
   "cell_type": "code",
   "execution_count": 19,
   "metadata": {},
   "outputs": [
    {
     "data": {
      "text/html": [
       "<div>\n",
       "<style scoped>\n",
       "    .dataframe tbody tr th:only-of-type {\n",
       "        vertical-align: middle;\n",
       "    }\n",
       "\n",
       "    .dataframe tbody tr th {\n",
       "        vertical-align: top;\n",
       "    }\n",
       "\n",
       "    .dataframe thead th {\n",
       "        text-align: right;\n",
       "    }\n",
       "</style>\n",
       "<table border=\"1\" class=\"dataframe\">\n",
       "  <thead>\n",
       "    <tr style=\"text-align: right;\">\n",
       "      <th></th>\n",
       "      <th>layout</th>\n",
       "      <th>conversion</th>\n",
       "    </tr>\n",
       "  </thead>\n",
       "  <tbody>\n",
       "    <tr>\n",
       "      <th>1267</th>\n",
       "      <td>new layout</td>\n",
       "      <td>buying</td>\n",
       "    </tr>\n",
       "    <tr>\n",
       "      <th>237</th>\n",
       "      <td>old layout</td>\n",
       "      <td>no buying</td>\n",
       "    </tr>\n",
       "    <tr>\n",
       "      <th>1601</th>\n",
       "      <td>new layout</td>\n",
       "      <td>buying</td>\n",
       "    </tr>\n",
       "    <tr>\n",
       "      <th>640</th>\n",
       "      <td>old layout</td>\n",
       "      <td>buying</td>\n",
       "    </tr>\n",
       "    <tr>\n",
       "      <th>577</th>\n",
       "      <td>old layout</td>\n",
       "      <td>buying</td>\n",
       "    </tr>\n",
       "  </tbody>\n",
       "</table>\n",
       "</div>"
      ],
      "text/plain": [
       "          layout conversion\n",
       "1267  new layout     buying\n",
       "237   old layout  no buying\n",
       "1601  new layout     buying\n",
       "640   old layout     buying\n",
       "577   old layout     buying"
      ]
     },
     "execution_count": 19,
     "metadata": {},
     "output_type": "execute_result"
    }
   ],
   "source": [
    "# buat data dummy\n",
    "np.random.seed(0)\n",
    "\n",
    "visitor_data_before = np.random.binomial(1, 0.5, 1000)\n",
    "visitor_data_after = np.random.binomial(1, 0.7, 1000)\n",
    "\n",
    "visitor_data_before = np.where(visitor_data_before ==1, 'buying', 'no buying')\n",
    "visitor_data_after = np.where(visitor_data_after ==1, 'buying', 'no buying')\n",
    "\n",
    "df_old = pd.DataFrame({'layout':'old layout', 'conversion': visitor_data_before})\n",
    "df_new = pd.DataFrame({'layout':'new layout', 'conversion': visitor_data_after})\n",
    "df_all = pd.concat([df_old, df_new], axis=0, ignore_index=True)\n",
    "df_all.sample(5)"
   ]
  },
  {
   "cell_type": "markdown",
   "metadata": {},
   "source": [
    "Kita dapat membuat ringkasan tabel menggunakan `pivot_table` untuk melihat total conversion pada masing-masing layout."
   ]
  },
  {
   "cell_type": "code",
   "execution_count": 28,
   "metadata": {},
   "outputs": [
    {
     "data": {
      "text/html": [
       "<div>\n",
       "<style scoped>\n",
       "    .dataframe tbody tr th:only-of-type {\n",
       "        vertical-align: middle;\n",
       "    }\n",
       "\n",
       "    .dataframe tbody tr th {\n",
       "        vertical-align: top;\n",
       "    }\n",
       "\n",
       "    .dataframe thead th {\n",
       "        text-align: right;\n",
       "    }\n",
       "</style>\n",
       "<table border=\"1\" class=\"dataframe\">\n",
       "  <thead>\n",
       "    <tr style=\"text-align: right;\">\n",
       "      <th>conversion</th>\n",
       "      <th>buying</th>\n",
       "      <th>no buying</th>\n",
       "      <th>total</th>\n",
       "    </tr>\n",
       "    <tr>\n",
       "      <th>layout</th>\n",
       "      <th></th>\n",
       "      <th></th>\n",
       "      <th></th>\n",
       "    </tr>\n",
       "  </thead>\n",
       "  <tbody>\n",
       "    <tr>\n",
       "      <th>new layout</th>\n",
       "      <td>664</td>\n",
       "      <td>336</td>\n",
       "      <td>1000</td>\n",
       "    </tr>\n",
       "    <tr>\n",
       "      <th>old layout</th>\n",
       "      <td>483</td>\n",
       "      <td>517</td>\n",
       "      <td>1000</td>\n",
       "    </tr>\n",
       "    <tr>\n",
       "      <th>total</th>\n",
       "      <td>1147</td>\n",
       "      <td>853</td>\n",
       "      <td>2000</td>\n",
       "    </tr>\n",
       "  </tbody>\n",
       "</table>\n",
       "</div>"
      ],
      "text/plain": [
       "conversion  buying  no buying  total\n",
       "layout                              \n",
       "new layout     664        336   1000\n",
       "old layout     483        517   1000\n",
       "total         1147        853   2000"
      ]
     },
     "execution_count": 28,
     "metadata": {},
     "output_type": "execute_result"
    }
   ],
   "source": [
    "df_pivot  = df_all.pivot_table(\n",
    "    index = 'layout',\n",
    "    columns = 'conversion',\n",
    "    values = 'conversion',\n",
    "    aggfunc = len\n",
    ")\n",
    "\n",
    "df_pivot['total'] = df_pivot.sum(axis=1)\n",
    "df_pivot.loc['total'] = df_pivot.sum(axis=0)\n",
    "df_pivot"
   ]
  },
  {
   "cell_type": "markdown",
   "metadata": {},
   "source": [
    "Kita nyatakan terlebih dahulu null hypothesis dan alternative hypothesis.\n",
    "\n",
    "- `H0`: $\\text{transaksi kelompok design layout baru sama dengan kelompok layout lama}$\n",
    "- `H1`: $\\text{transaksi kelompok design layout baru lebih besar dari kelompok layout lama}$\n",
    "\n",
    "Kemudian kita pilih significance level.\n",
    "- Significance level ($\\alpha$) = 0.05\n",
    "\n",
    "Selanjutnya kita hitung p-value."
   ]
  },
  {
   "cell_type": "code",
   "execution_count": 33,
   "metadata": {},
   "outputs": [
    {
     "data": {
      "text/plain": [
       "664"
      ]
     },
     "execution_count": 33,
     "metadata": {},
     "output_type": "execute_result"
    }
   ],
   "source": [
    "n_buying_new = df_pivot.loc['new layout', 'buying']\n",
    "n_buying_new"
   ]
  },
  {
   "cell_type": "code",
   "execution_count": 34,
   "metadata": {},
   "outputs": [
    {
     "data": {
      "text/plain": [
       "483"
      ]
     },
     "execution_count": 34,
     "metadata": {},
     "output_type": "execute_result"
    }
   ],
   "source": [
    "n_buying_old = df_pivot.loc['old layout', 'buying']\n",
    "n_buying_old"
   ]
  },
  {
   "cell_type": "code",
   "execution_count": 37,
   "metadata": {},
   "outputs": [
    {
     "data": {
      "text/plain": [
       "1000"
      ]
     },
     "execution_count": 37,
     "metadata": {},
     "output_type": "execute_result"
    }
   ],
   "source": [
    "n_all_new = df_pivot.loc['new layout', 'total']\n",
    "n_all_new"
   ]
  },
  {
   "cell_type": "code",
   "execution_count": 38,
   "metadata": {},
   "outputs": [
    {
     "data": {
      "text/plain": [
       "1000"
      ]
     },
     "execution_count": 38,
     "metadata": {},
     "output_type": "execute_result"
    }
   ],
   "source": [
    "n_all_old = df_pivot.loc['old layout', 'total']\n",
    "n_all_old"
   ]
  },
  {
   "cell_type": "code",
   "execution_count": 41,
   "metadata": {},
   "outputs": [
    {
     "data": {
      "text/plain": [
       "1.3789563948761732e-16"
      ]
     },
     "execution_count": 41,
     "metadata": {},
     "output_type": "execute_result"
    }
   ],
   "source": [
    "stat, pvalue = proportions_ztest(\n",
    "    count = [n_buying_new, n_buying_old],           # banyaknya kejadian sukses/buying pada masing-masing layout\n",
    "    nobs = [n_all_new, n_all_old],                  # banyaknya data pada masing-masing layout\n",
    "    alternative = 'larger'                          # one tail lebih besar\n",
    ")\n",
    "\n",
    "pvalue"
   ]
  },
  {
   "cell_type": "markdown",
   "metadata": {},
   "source": [
    "Sehingga kesimpulannya"
   ]
  },
  {
   "cell_type": "code",
   "execution_count": 42,
   "metadata": {},
   "outputs": [
    {
     "name": "stdout",
     "output_type": "stream",
     "text": [
      "\n",
      "    pvalue = 0.00000. pvalue <= 0.05. Menolak Ho (Reject Ho).\n",
      "    Kita punya cukup bukti untuk mengatakan bahwa proporsi yang membeli pada kelompok design layout yang baru\n",
      "    LEBIH BESAR dari proporsi yang membeli pada kelompok design layout yang lama\n",
      "    \n"
     ]
    }
   ],
   "source": [
    "alpha = 0.05\n",
    "\n",
    "if pvalue > alpha:\n",
    "    print(f'''\n",
    "    pvalue = {pvalue:.5f}. pvalue > {alpha}. Gagal menolak Ho (Fail To Reject Ho).\n",
    "    Kita TIDAK punya cukup bukti untuk mengatakan bahwa proporsi yang membeli pada kelompok design layout yang baru\n",
    "    LEBIH BESAR dari proporsi yang membeli pada kelompok design layout yang lama\n",
    "    ''')\n",
    "else:\n",
    "    print(f'''\n",
    "    pvalue = {pvalue:.5f}. pvalue <= {alpha}. Menolak Ho (Reject Ho).\n",
    "    Kita punya cukup bukti untuk mengatakan bahwa proporsi yang membeli pada kelompok design layout yang baru\n",
    "    LEBIH BESAR dari proporsi yang membeli pada kelompok design layout yang lama\n",
    "    ''')"
   ]
  },
  {
   "cell_type": "markdown",
   "metadata": {},
   "source": [
    "### `c. Chi-Square Test`\n",
    "\n",
    "Uji hipotesis ini digunakan untuk enmguji independency/keterkaitan antara 2 categorical variable.\n",
    "\n",
    "Di bawah ini adalah crosstab dari 2 kolom Gender dan Fruit. "
   ]
  },
  {
   "cell_type": "code",
   "execution_count": 43,
   "metadata": {},
   "outputs": [
    {
     "data": {
      "text/html": [
       "<div>\n",
       "<style scoped>\n",
       "    .dataframe tbody tr th:only-of-type {\n",
       "        vertical-align: middle;\n",
       "    }\n",
       "\n",
       "    .dataframe tbody tr th {\n",
       "        vertical-align: top;\n",
       "    }\n",
       "\n",
       "    .dataframe thead th {\n",
       "        text-align: right;\n",
       "    }\n",
       "</style>\n",
       "<table border=\"1\" class=\"dataframe\">\n",
       "  <thead>\n",
       "    <tr style=\"text-align: right;\">\n",
       "      <th></th>\n",
       "      <th>Banana</th>\n",
       "      <th>Mango</th>\n",
       "      <th>Pinaple</th>\n",
       "    </tr>\n",
       "  </thead>\n",
       "  <tbody>\n",
       "    <tr>\n",
       "      <th>Male</th>\n",
       "      <td>207</td>\n",
       "      <td>282</td>\n",
       "      <td>241</td>\n",
       "    </tr>\n",
       "    <tr>\n",
       "      <th>Female</th>\n",
       "      <td>234</td>\n",
       "      <td>242</td>\n",
       "      <td>232</td>\n",
       "    </tr>\n",
       "  </tbody>\n",
       "</table>\n",
       "</div>"
      ],
      "text/plain": [
       "        Banana  Mango  Pinaple\n",
       "Male       207    282      241\n",
       "Female     234    242      232"
      ]
     },
     "execution_count": 43,
     "metadata": {},
     "output_type": "execute_result"
    }
   ],
   "source": [
    "# membuat dataframe baru\n",
    "df_fruit = pd.DataFrame(\n",
    "    data= [[207,282,241], [234,242,232]],\n",
    "    columns= ['Banana', 'Mango', 'Pinaple'],\n",
    "    index = ['Male', 'Female']\n",
    ")\n",
    "\n",
    "df_fruit"
   ]
  },
  {
   "cell_type": "markdown",
   "metadata": {},
   "source": [
    "Kita akan menguji apakah Gender terkait dengan pilihan buah yang akan dibeli.\n",
    "\n",
    "Kita nyatakan terlebih dahulu null hypothesis dan alternative hypothesis.\n",
    "\n",
    "- `H0`: $\\text{Gender dan Fruit tidak terkait/independent (proporsinya sama)}$\n",
    "- `H1`: $\\text{Gender dan Fruit terkait/dependent (proporsinya berbeda signifikan)}$"
   ]
  },
  {
   "cell_type": "markdown",
   "metadata": {},
   "source": [
    "Untuk mendapatkan nilai pvalue, kita harus mendapatkan terlebih dahulu nilai **dof, exprected_freq,** dan **chi_square**\n",
    "\n",
    "**Dof** atau **degree of freedom** didapat menggunakan rumus\n",
    "\n",
    "$$dof = \\text{(jumlah baris-1)}\\text{ x }\\text{(jumlah kolom-1)}$$ "
   ]
  },
  {
   "cell_type": "code",
   "execution_count": 50,
   "metadata": {},
   "outputs": [
    {
     "data": {
      "text/plain": [
       "2"
      ]
     },
     "execution_count": 50,
     "metadata": {},
     "output_type": "execute_result"
    }
   ],
   "source": [
    "n_baris = len(df_fruit)\n",
    "n_kolom = len(df_fruit.columns)\n",
    "\n",
    "# menghitung degree of freedom\n",
    "dof = (n_baris-1) * (n_kolom-1)\n",
    "dof"
   ]
  },
  {
   "cell_type": "markdown",
   "metadata": {},
   "source": [
    "Adapun **expected_freq** dihitung dengan cara mengalikan total pada tiap baris dengan total pada tiap kolom dan membaginya dengan total keseluruhan.\n",
    "\n"
   ]
  },
  {
   "cell_type": "code",
   "execution_count": 55,
   "metadata": {},
   "outputs": [
    {
     "data": {
      "text/html": [
       "<div>\n",
       "<style scoped>\n",
       "    .dataframe tbody tr th:only-of-type {\n",
       "        vertical-align: middle;\n",
       "    }\n",
       "\n",
       "    .dataframe tbody tr th {\n",
       "        vertical-align: top;\n",
       "    }\n",
       "\n",
       "    .dataframe thead th {\n",
       "        text-align: right;\n",
       "    }\n",
       "</style>\n",
       "<table border=\"1\" class=\"dataframe\">\n",
       "  <thead>\n",
       "    <tr style=\"text-align: right;\">\n",
       "      <th></th>\n",
       "      <th>Banana</th>\n",
       "      <th>Mango</th>\n",
       "      <th>Pinaple</th>\n",
       "      <th>Total</th>\n",
       "    </tr>\n",
       "  </thead>\n",
       "  <tbody>\n",
       "    <tr>\n",
       "      <th>Male</th>\n",
       "      <td>207</td>\n",
       "      <td>282</td>\n",
       "      <td>241</td>\n",
       "      <td>730</td>\n",
       "    </tr>\n",
       "    <tr>\n",
       "      <th>Female</th>\n",
       "      <td>234</td>\n",
       "      <td>242</td>\n",
       "      <td>232</td>\n",
       "      <td>708</td>\n",
       "    </tr>\n",
       "    <tr>\n",
       "      <th>Total</th>\n",
       "      <td>441</td>\n",
       "      <td>524</td>\n",
       "      <td>473</td>\n",
       "      <td>1438</td>\n",
       "    </tr>\n",
       "  </tbody>\n",
       "</table>\n",
       "</div>"
      ],
      "text/plain": [
       "        Banana  Mango  Pinaple  Total\n",
       "Male       207    282      241    730\n",
       "Female     234    242      232    708\n",
       "Total      441    524      473   1438"
      ]
     },
     "execution_count": 55,
     "metadata": {},
     "output_type": "execute_result"
    }
   ],
   "source": [
    "df_fruit_total = df_fruit.copy()\n",
    "df_fruit_total['Total'] = df_fruit_total.sum(axis=1)\n",
    "df_fruit_total.loc['Total'] = df_fruit_total.sum(axis=0)\n",
    "df_fruit_total"
   ]
  },
  {
   "cell_type": "code",
   "execution_count": 61,
   "metadata": {},
   "outputs": [
    {
     "data": {
      "text/html": [
       "<div>\n",
       "<style scoped>\n",
       "    .dataframe tbody tr th:only-of-type {\n",
       "        vertical-align: middle;\n",
       "    }\n",
       "\n",
       "    .dataframe tbody tr th {\n",
       "        vertical-align: top;\n",
       "    }\n",
       "\n",
       "    .dataframe thead th {\n",
       "        text-align: right;\n",
       "    }\n",
       "</style>\n",
       "<table border=\"1\" class=\"dataframe\">\n",
       "  <thead>\n",
       "    <tr style=\"text-align: right;\">\n",
       "      <th></th>\n",
       "      <th>Banana</th>\n",
       "      <th>Mango</th>\n",
       "      <th>Pinaple</th>\n",
       "      <th>Total</th>\n",
       "    </tr>\n",
       "  </thead>\n",
       "  <tbody>\n",
       "    <tr>\n",
       "      <th>Male</th>\n",
       "      <td>223.873435</td>\n",
       "      <td>266.008345</td>\n",
       "      <td>240.11822</td>\n",
       "      <td>730</td>\n",
       "    </tr>\n",
       "    <tr>\n",
       "      <th>Female</th>\n",
       "      <td>217.126565</td>\n",
       "      <td>257.991655</td>\n",
       "      <td>232.88178</td>\n",
       "      <td>708</td>\n",
       "    </tr>\n",
       "    <tr>\n",
       "      <th>Total</th>\n",
       "      <td>441.000000</td>\n",
       "      <td>524.000000</td>\n",
       "      <td>473.00000</td>\n",
       "      <td>1438</td>\n",
       "    </tr>\n",
       "  </tbody>\n",
       "</table>\n",
       "</div>"
      ],
      "text/plain": [
       "            Banana       Mango    Pinaple  Total\n",
       "Male    223.873435  266.008345  240.11822    730\n",
       "Female  217.126565  257.991655  232.88178    708\n",
       "Total   441.000000  524.000000  473.00000   1438"
      ]
     },
     "execution_count": 61,
     "metadata": {},
     "output_type": "execute_result"
    }
   ],
   "source": [
    "# Cara 1:\n",
    "df_expected_freq = df_fruit_total.copy()\n",
    "\n",
    "df_expected_freq.loc['Male', 'Banana'] = df_fruit_total.loc['Male', 'Total'] * df_fruit_total.loc['Total', 'Banana'] / df_fruit_total.loc['Total', 'Total']\n",
    "df_expected_freq.loc['Male', 'Mango'] = df_fruit_total.loc['Male', 'Total'] * df_fruit_total.loc['Total', 'Mango'] / df_fruit_total.loc['Total', 'Total']\n",
    "df_expected_freq.loc['Male', 'Pinaple'] = df_fruit_total.loc['Male', 'Total'] * df_fruit_total.loc['Total', 'Pinaple'] / df_fruit_total.loc['Total', 'Total']\n",
    "\n",
    "df_expected_freq.loc['Female', 'Banana'] = df_fruit_total.loc['Female', 'Total'] * df_fruit_total.loc['Total', 'Banana'] / df_fruit_total.loc['Total', 'Total']\n",
    "df_expected_freq.loc['Female', 'Mango'] = df_fruit_total.loc['Female', 'Total'] * df_fruit_total.loc['Total', 'Mango'] / df_fruit_total.loc['Total', 'Total']\n",
    "df_expected_freq.loc['Female', 'Pinaple'] = df_fruit_total.loc['Female', 'Total'] * df_fruit_total.loc['Total', 'Pinaple'] / df_fruit_total.loc['Total', 'Total']\n",
    "\n",
    "df_expected_freq"
   ]
  },
  {
   "cell_type": "code",
   "execution_count": 67,
   "metadata": {},
   "outputs": [
    {
     "data": {
      "text/html": [
       "<div>\n",
       "<style scoped>\n",
       "    .dataframe tbody tr th:only-of-type {\n",
       "        vertical-align: middle;\n",
       "    }\n",
       "\n",
       "    .dataframe tbody tr th {\n",
       "        vertical-align: top;\n",
       "    }\n",
       "\n",
       "    .dataframe thead th {\n",
       "        text-align: right;\n",
       "    }\n",
       "</style>\n",
       "<table border=\"1\" class=\"dataframe\">\n",
       "  <thead>\n",
       "    <tr style=\"text-align: right;\">\n",
       "      <th></th>\n",
       "      <th>Banana</th>\n",
       "      <th>Mango</th>\n",
       "      <th>Pinaple</th>\n",
       "      <th>Total</th>\n",
       "    </tr>\n",
       "  </thead>\n",
       "  <tbody>\n",
       "    <tr>\n",
       "      <th>Male</th>\n",
       "      <td>223.873435</td>\n",
       "      <td>266.008345</td>\n",
       "      <td>240.11822</td>\n",
       "      <td>730</td>\n",
       "    </tr>\n",
       "    <tr>\n",
       "      <th>Female</th>\n",
       "      <td>217.126565</td>\n",
       "      <td>257.991655</td>\n",
       "      <td>232.88178</td>\n",
       "      <td>708</td>\n",
       "    </tr>\n",
       "    <tr>\n",
       "      <th>Total</th>\n",
       "      <td>441.000000</td>\n",
       "      <td>524.000000</td>\n",
       "      <td>473.00000</td>\n",
       "      <td>1438</td>\n",
       "    </tr>\n",
       "  </tbody>\n",
       "</table>\n",
       "</div>"
      ],
      "text/plain": [
       "            Banana       Mango    Pinaple  Total\n",
       "Male    223.873435  266.008345  240.11822    730\n",
       "Female  217.126565  257.991655  232.88178    708\n",
       "Total   441.000000  524.000000  473.00000   1438"
      ]
     },
     "execution_count": 67,
     "metadata": {},
     "output_type": "execute_result"
    }
   ],
   "source": [
    "# Cara 2\n",
    "\n",
    "df_expected_freq = df_fruit_total.copy()\n",
    "\n",
    "for indeks in df_fruit_total.index[:-1]:\n",
    "    for kolom in df_fruit_total.columns[:-1]:\n",
    "        df_expected_freq.loc[indeks, kolom] = df_fruit_total.loc[indeks, 'Total'] * df_fruit_total.loc['Total', kolom] / df_fruit_total.loc['Total', 'Total']\n",
    "\n",
    "df_expected_freq"
   ]
  },
  {
   "cell_type": "markdown",
   "metadata": {},
   "source": [
    "Selanjutnya kita dapat menghitung nilai **chi_square** dengan menggunakan formula:\n",
    "\n",
    "$$ \\chi^2 = \\frac{\\sum_{i=1}^n (O_i - E_i)^2}{E_i} $$\n",
    "\n",
    "dimana :\n",
    "- O = nilai pengamatan\n",
    "- E = nilai ekspektasi"
   ]
  },
  {
   "cell_type": "code",
   "execution_count": 71,
   "metadata": {},
   "outputs": [
    {
     "data": {
      "text/plain": [
       "4.542228269825232"
      ]
     },
     "execution_count": 71,
     "metadata": {},
     "output_type": "execute_result"
    }
   ],
   "source": [
    "chi_square = 0\n",
    "\n",
    "for indeks in df_fruit_total.index[:-1]:\n",
    "    for kolom in df_fruit_total.columns[:-1]:\n",
    "        chi_square += (df_fruit_total.loc[indeks, kolom] - df_expected_freq.loc[indeks, kolom])**2 / df_expected_freq.loc[indeks, kolom]\n",
    "\n",
    "chi_square"
   ]
  },
  {
   "cell_type": "markdown",
   "metadata": {},
   "source": [
    "Untuk menghitung **pvalue**, kita bisa menggunakan tabel atau rumus yang disediakan python."
   ]
  },
  {
   "cell_type": "code",
   "execution_count": 72,
   "metadata": {},
   "outputs": [
    {
     "data": {
      "text/plain": [
       "0.10319714047309392"
      ]
     },
     "execution_count": 72,
     "metadata": {},
     "output_type": "execute_result"
    }
   ],
   "source": [
    "pvalue = 1 - stats.chi2.cdf(chi_square, dof)\n",
    "pvalue"
   ]
  },
  {
   "cell_type": "markdown",
   "metadata": {},
   "source": [
    "Jika digambarkan dalam grafik maka hasilnya sebagai berikut:"
   ]
  },
  {
   "cell_type": "code",
   "execution_count": 73,
   "metadata": {},
   "outputs": [
    {
     "data": {
      "image/png": "[encoded data removed]",
      "text/plain": [
       "<Figure size 576x360 with 1 Axes>"
      ]
     },
     "metadata": {
      "needs_background": "light"
     },
     "output_type": "display_data"
    }
   ],
   "source": [
    "#x-axis ranges from 0 to 20 with .001 steps\n",
    "x = np.arange(0, 20, 0.001)\n",
    "\n",
    "#plot Chi-square distribution with 2 degrees of freedom\n",
    "fig, ax = plt.subplots(figsize=(8,5))\n",
    "\n",
    "plt.plot(x, stats.chi2.pdf(x, df=dof))\n",
    "\n",
    "line_x, line_y = ax.lines[0].get_data()\n",
    "\n",
    "# calculate chi square for alpha 0.05 and degree of freedom 2\n",
    "rejection = stats.chi2.ppf(1 - alpha, dof)\n",
    "\n",
    "ax.axvline(\n",
    "    x=rejection,\n",
    "    color=\"red\",\n",
    "    linestyle='--',\n",
    "    label='Chi square for alpha=0.05 and df=2'\n",
    ")\n",
    "\n",
    "ax.fill_between(\n",
    "    line_x,\n",
    "    line_y,\n",
    "    where=(line_x >rejection),\n",
    "    color='red',\n",
    "    alpha=0.3\n",
    ")\n",
    "\n",
    "# plot chi square from calculation\n",
    "ax.axvline(\n",
    "    x=chi_square,\n",
    "    color=\"green\",\n",
    "    linestyle='--',\n",
    "    label='Chi square from calculation'\n",
    ")\n",
    "\n",
    "plt.legend()\n",
    "plt.show()"
   ]
  },
  {
   "cell_type": "markdown",
   "metadata": {},
   "source": [
    "Dari grafik tersebut kita bisa melihat bahwa untuk significance level di angka 0.05 dan degree of freedom sebesar 2, nilai $\\chi^2$-nya adalah sebesar 5.991. Kita akan menolak `H0` apabila nilai $\\chi^2$ dari perhitungan di atas 5.991. Namun kita dapat melihat bahwa nilai $\\chi^2$ dari perhitungan yaitu 4.54 berada di sebelah kiri dari area penolakan. Maka kita gagal menolak `H0`."
   ]
  },
  {
   "cell_type": "markdown",
   "metadata": {},
   "source": [
    "Keseluruhan perhitungan dan interpretasi di atas bisa dilakukan secara cepat dengan cara berikut:"
   ]
  },
  {
   "cell_type": "code",
   "execution_count": 74,
   "metadata": {},
   "outputs": [
    {
     "data": {
      "text/html": [
       "<div>\n",
       "<style scoped>\n",
       "    .dataframe tbody tr th:only-of-type {\n",
       "        vertical-align: middle;\n",
       "    }\n",
       "\n",
       "    .dataframe tbody tr th {\n",
       "        vertical-align: top;\n",
       "    }\n",
       "\n",
       "    .dataframe thead th {\n",
       "        text-align: right;\n",
       "    }\n",
       "</style>\n",
       "<table border=\"1\" class=\"dataframe\">\n",
       "  <thead>\n",
       "    <tr style=\"text-align: right;\">\n",
       "      <th></th>\n",
       "      <th>Banana</th>\n",
       "      <th>Mango</th>\n",
       "      <th>Pinaple</th>\n",
       "    </tr>\n",
       "  </thead>\n",
       "  <tbody>\n",
       "    <tr>\n",
       "      <th>Male</th>\n",
       "      <td>207</td>\n",
       "      <td>282</td>\n",
       "      <td>241</td>\n",
       "    </tr>\n",
       "    <tr>\n",
       "      <th>Female</th>\n",
       "      <td>234</td>\n",
       "      <td>242</td>\n",
       "      <td>232</td>\n",
       "    </tr>\n",
       "  </tbody>\n",
       "</table>\n",
       "</div>"
      ],
      "text/plain": [
       "        Banana  Mango  Pinaple\n",
       "Male       207    282      241\n",
       "Female     234    242      232"
      ]
     },
     "execution_count": 74,
     "metadata": {},
     "output_type": "execute_result"
    }
   ],
   "source": [
    "df_fruit"
   ]
  },
  {
   "cell_type": "code",
   "execution_count": 76,
   "metadata": {},
   "outputs": [
    {
     "data": {
      "text/plain": [
       "0.1031971404730939"
      ]
     },
     "execution_count": 76,
     "metadata": {},
     "output_type": "execute_result"
    }
   ],
   "source": [
    "from scipy.stats import chi2_contingency\n",
    "\n",
    "stat, pvalue, dof, expected_freq = chi2_contingency(df_fruit)\n",
    "pvalue"
   ]
  },
  {
   "cell_type": "code",
   "execution_count": 77,
   "metadata": {},
   "outputs": [
    {
     "name": "stdout",
     "output_type": "stream",
     "text": [
      "\n",
      "    pvalue = 0.10320. pvalue > 0.05. Gagal menolak Ho (Fail To Reject Ho).\n",
      "    Kita TIDAK punya cukup bukti untuk mengatakan bahwa antara Gender dan Fruit ada keterkaitan (dependent)\n",
      "    \n"
     ]
    }
   ],
   "source": [
    "alpha = 0.05\n",
    "\n",
    "if pvalue > alpha:\n",
    "    print(f'''\n",
    "    pvalue = {pvalue:.5f}. pvalue > {alpha}. Gagal menolak Ho (Fail To Reject Ho).\n",
    "    Kita TIDAK punya cukup bukti untuk mengatakan bahwa antara Gender dan Fruit ada keterkaitan (dependent)\n",
    "    ''')\n",
    "else:\n",
    "    print(f'''\n",
    "    pvalue = {pvalue:.5f}. pvalue <= {alpha}. Menolak Ho (Reject Ho).\n",
    "    Kita punya cukup bukti untuk mengatakan bahwa antara Gender dan Fruit ada keterkaitan (dependent)\n",
    "    ''')"
   ]
  },
  {
   "cell_type": "markdown",
   "metadata": {},
   "source": [
    "## **2. Correlation**\n",
    "\n",
    "Korelasi adalah salah satu jenis hubungan yang tidak berimplikasi pada sebab akibat. Korelasi tidak membedakan antara variabel respons dan variabel eksplanatori. Misalnya, sebuah studi telah membuktikan intensitas berlibur berkorelasi dengan pendapatan seseorang. Tidak bisa diartikan semakin sering berlibur akan semakin meningkatkan pendapatan seseorang.\n",
    "\n",
    "Korelasi hanya mengukur seberapa `kuat` suatu hubungan dan `arah` dari hubungan tersebut. \n",
    "\n",
    "Korelasi memiliki arah:\n",
    "- Korelasi **positif** berarti arah hubungannya linear, seperti hubungan luas area persawahan dengan total produksi padi.\n",
    "- Korelasi **negatif** berarti arah hubungannya terbalik, seperti hubungan total populasi tikus di sawah dengan total produksi padi.\n",
    "\n",
    "Nilai korelasi berkisar antara -1 dan 1. Berikut ini acuan untuk menilai hasil uji korelasi:\n",
    "\n",
    "| Value of Correlation Coeffficient | Relationship Interpretation |\n",
    "| --- | --- |\n",
    "| 0.000 - 0.199 | Very Weak |\n",
    "| 0.200 - 0.399 | Weak |\n",
    "| 0.400 - 0.599 | Moderate |\n",
    "| 0.600 - 0.799 | Strong |\n",
    "| 0.800 - 1.000 | Very Strong |\n",
    "\n",
    "Secara umum arah dan kekuatan dari suatu hubungan dapat divisualisasikan sebagai berikut:\n",
    "\n",
    "![](https://cdn1.byjus.com/wp-content/uploads/2021/03/Correlation.png)\n"
   ]
  },
  {
   "cell_type": "markdown",
   "metadata": {},
   "source": [
    "Terdapat 2 macam korelasi yang akan kita pelajari yaitu:\n",
    "- Pearson\n",
    "- Spearman"
   ]
  },
  {
   "cell_type": "markdown",
   "metadata": {},
   "source": [
    "### `a. Pearson`\n",
    "\n",
    "\n",
    "Jika kita memiliki dua vektor dengan panjang yang sama, $x$ dan $y$, di mana setiap elemen dari $x$ dipasangkan dengan elemen yang sesuai dari $y$, kovariansi memberikan ukuran seberapa terkaitnya variabel satu dengan yang lain:\n",
    "\n",
    "​$$ \\text{cov}(x, y) = \\frac{\\sum_{i=1}^n (x_i - \\bar{x})(y_i - \\bar{y}) }{n} $$\n",
    " \n",
    "Di mana:\n",
    "\n",
    "- $\\text{cov}(x, y)$ adalah kovariansi antara vektor $x$ dan $y$.\n",
    "- $n$ adalah jumlah elemen dalam vektor.\n",
    "- $x_i$ dan $y_i$ adalah elemen ke-$i$ dari vektor $x$ dan $y$ masing-masing.\n",
    "- $\\bar{x}$ dan $\\bar{y}$ adalah rata-rata dari vektor $x$ dan $y$, secara berturut-turut.\n",
    "\n",
    "Salah satu kelemahan kovariansi adalah bahwa kovariansi menyamarkan skala relatif dua variabel dengan ukuran keterkaitan variabel tersebut. Korelasi dibangun dari kovariansi dan mengatasi kelemahan ini melalui penskalaan ulang, sehingga mengukur keterkaitan (linear) secara eksklusif. Korelasi jauh lebih umum karena perbedaan ini.\n",
    "\n",
    "Koefisien korelasi (dikembangkan oleh Karl Pearson pada abad ke-20 meskipun sudah dikenal pada abad ke-19) sering kali dilambangkan dengan $r$ atau $\\rho$ dan didefinisikan oleh:\n",
    "\n",
    "​$$ \\rho_{x,y} = \\frac{\\text{cov}(x,y)}{\\sigma_x \\sigma_y} $$\n",
    " \n",
    "Di mana:\n",
    "\n",
    "- $\\rho_{x,y}$ adalah koefisien korelasi antara variabel $x$ dan $y$.\n",
    "- $\\text{cov}(x,y)$ adalah kovariansi antara variabel $x$ dan $y$.\n",
    "- $\\sigma_x$ dan $\\sigma_y$ adalah simpangan baku dari variabel $x$ dan $y$, masing-masing.\n",
    "\n",
    "Korelasi Pearson merupakan salah satu ukuran korelasi yang digunakan untuk mengukur kekuatan dan arah hubungan linear dari 2 variabel. Korelasi pearson biasa diterapkan pada data yang diasumsikan **terdistribusi normal** serta **hubungannya linear** (garis lurus).\n",
    "\n",
    "Kita akan coba hitung korelasi Pearson dari panjang daun kelopak (`sepal_length`) dan panjang mahkota bunga (`petal_length`) pada dataset iris di seaborn."
   ]
  },
  {
   "cell_type": "code",
   "execution_count": 80,
   "metadata": {},
   "outputs": [
    {
     "data": {
      "text/html": [
       "<div>\n",
       "<style scoped>\n",
       "    .dataframe tbody tr th:only-of-type {\n",
       "        vertical-align: middle;\n",
       "    }\n",
       "\n",
       "    .dataframe tbody tr th {\n",
       "        vertical-align: top;\n",
       "    }\n",
       "\n",
       "    .dataframe thead th {\n",
       "        text-align: right;\n",
       "    }\n",
       "</style>\n",
       "<table border=\"1\" class=\"dataframe\">\n",
       "  <thead>\n",
       "    <tr style=\"text-align: right;\">\n",
       "      <th></th>\n",
       "      <th>sepal_length</th>\n",
       "      <th>sepal_width</th>\n",
       "      <th>petal_length</th>\n",
       "      <th>petal_width</th>\n",
       "      <th>species</th>\n",
       "    </tr>\n",
       "  </thead>\n",
       "  <tbody>\n",
       "    <tr>\n",
       "      <th>0</th>\n",
       "      <td>5.1</td>\n",
       "      <td>3.5</td>\n",
       "      <td>1.4</td>\n",
       "      <td>0.2</td>\n",
       "      <td>setosa</td>\n",
       "    </tr>\n",
       "    <tr>\n",
       "      <th>1</th>\n",
       "      <td>4.9</td>\n",
       "      <td>3.0</td>\n",
       "      <td>1.4</td>\n",
       "      <td>0.2</td>\n",
       "      <td>setosa</td>\n",
       "    </tr>\n",
       "    <tr>\n",
       "      <th>2</th>\n",
       "      <td>4.7</td>\n",
       "      <td>3.2</td>\n",
       "      <td>1.3</td>\n",
       "      <td>0.2</td>\n",
       "      <td>setosa</td>\n",
       "    </tr>\n",
       "    <tr>\n",
       "      <th>3</th>\n",
       "      <td>4.6</td>\n",
       "      <td>3.1</td>\n",
       "      <td>1.5</td>\n",
       "      <td>0.2</td>\n",
       "      <td>setosa</td>\n",
       "    </tr>\n",
       "    <tr>\n",
       "      <th>4</th>\n",
       "      <td>5.0</td>\n",
       "      <td>3.6</td>\n",
       "      <td>1.4</td>\n",
       "      <td>0.2</td>\n",
       "      <td>setosa</td>\n",
       "    </tr>\n",
       "  </tbody>\n",
       "</table>\n",
       "</div>"
      ],
      "text/plain": [
       "   sepal_length  sepal_width  petal_length  petal_width species\n",
       "0           5.1          3.5           1.4          0.2  setosa\n",
       "1           4.9          3.0           1.4          0.2  setosa\n",
       "2           4.7          3.2           1.3          0.2  setosa\n",
       "3           4.6          3.1           1.5          0.2  setosa\n",
       "4           5.0          3.6           1.4          0.2  setosa"
      ]
     },
     "execution_count": 80,
     "metadata": {},
     "output_type": "execute_result"
    }
   ],
   "source": [
    "iris = sns.load_dataset('iris')\n",
    "iris.head()"
   ]
  },
  {
   "cell_type": "markdown",
   "metadata": {},
   "source": [
    "Pertama-tama, kita coba tampilkan terlebih dahulu scatterplot dari `sepal_length` dan `petal_length` untuk melihat gambaran terkait hubungan antara keduanya."
   ]
  },
  {
   "cell_type": "code",
   "execution_count": 83,
   "metadata": {},
   "outputs": [
    {
     "data": {
      "image/png": "[encoded data removed]",
      "text/plain": [
       "<Figure size 432x288 with 1 Axes>"
      ]
     },
     "metadata": {
      "needs_background": "light"
     },
     "output_type": "display_data"
    }
   ],
   "source": [
    "x = iris['sepal_length']\n",
    "y = iris['petal_length']\n",
    "\n",
    "sns.scatterplot(data=iris, x = x, y = y)\n",
    "plt.show()"
   ]
  },
  {
   "cell_type": "markdown",
   "metadata": {},
   "source": [
    "Selanjutnya kita akan menghitung terlebih dahulu covariance antara `sepal_length` dan `petal_length`"
   ]
  },
  {
   "cell_type": "code",
   "execution_count": 95,
   "metadata": {},
   "outputs": [
    {
     "data": {
      "text/plain": [
       "1.26582"
      ]
     },
     "execution_count": 95,
     "metadata": {},
     "output_type": "execute_result"
    }
   ],
   "source": [
    "# menghitung rata-rata\n",
    "xbar = x.mean()\n",
    "ybar = y.mean()\n",
    "\n",
    "# banyaknya data\n",
    "n = len(iris)\n",
    "n\n",
    "\n",
    "# menghitung hasil kali\n",
    "products = []\n",
    "\n",
    "for i in range(n):\n",
    "    products.append((x[i] - xbar)*(y[i] - ybar))\n",
    "\n",
    "covariance = np.sum(products) / n\n",
    "covariance"
   ]
  },
  {
   "cell_type": "markdown",
   "metadata": {},
   "source": [
    "Selanjutnya kita hitung $\\rho$ dengan rumus Pearson di atas:"
   ]
  },
  {
   "cell_type": "code",
   "execution_count": 98,
   "metadata": {},
   "outputs": [
    {
     "data": {
      "text/plain": [
       "0.8717537758865831"
      ]
     },
     "execution_count": 98,
     "metadata": {},
     "output_type": "execute_result"
    }
   ],
   "source": [
    "r = covariance / (np.std(x) * np.std(y))\n",
    "r"
   ]
  },
  {
   "cell_type": "markdown",
   "metadata": {},
   "source": [
    "Kita telah mencapai titik ini dalam Probabilitas. Sekarang, mengenai bagaimana menentukan p-value, kita pertama-tama menghitung t-statistik.\n",
    "\n",
    "$$ t = r \\sqrt{\\frac{n-2}{1-r^2}} $$"
   ]
  },
  {
   "cell_type": "code",
   "execution_count": 99,
   "metadata": {},
   "outputs": [
    {
     "data": {
      "text/plain": [
       "21.646019345759765"
      ]
     },
     "execution_count": 99,
     "metadata": {},
     "output_type": "execute_result"
    }
   ],
   "source": [
    "t = r * np.sqrt((n-2)/(1-r**2))\n",
    "t"
   ]
  },
  {
   "cell_type": "markdown",
   "metadata": {},
   "source": [
    "Selanjutnya kita bisa menghitung pvalue"
   ]
  },
  {
   "cell_type": "code",
   "execution_count": 100,
   "metadata": {},
   "outputs": [
    {
     "data": {
      "text/plain": [
       "1.0386674194498124e-47"
      ]
     },
     "execution_count": 100,
     "metadata": {},
     "output_type": "execute_result"
    }
   ],
   "source": [
    "pvalue = 2 * stats.t.cdf(-abs(t), n-2)\n",
    "pvalue"
   ]
  },
  {
   "cell_type": "markdown",
   "metadata": {},
   "source": [
    "Semua langkah di atas dapat dihitung dengan 1 baris kode menggunakan metode `pearsonr()`: "
   ]
  },
  {
   "cell_type": "code",
   "execution_count": 102,
   "metadata": {},
   "outputs": [
    {
     "data": {
      "text/plain": [
       "1.0386674194497525e-47"
      ]
     },
     "execution_count": 102,
     "metadata": {},
     "output_type": "execute_result"
    }
   ],
   "source": [
    "from scipy.stats import pearsonr\n",
    "\n",
    "stat, pvalue = pearsonr(x, y)\n",
    "pvalue"
   ]
  },
  {
   "cell_type": "markdown",
   "metadata": {},
   "source": [
    "Interpretasi dari korelasi tersebut (r=0.872)\n",
    "\n",
    "- (+) Hubungannya positif, semakin tinggi `sepal_length`, maka semakin tinggi `petal_length`\n",
    "- Nilainya 0.871, hubungannya sangat kuat."
   ]
  },
  {
   "cell_type": "markdown",
   "metadata": {},
   "source": [
    "Kita juga bisa menghitung sekaligus korelasi dari setiap kolom numerikal pada dataset iris dengan cara berikut"
   ]
  },
  {
   "cell_type": "code",
   "execution_count": 106,
   "metadata": {},
   "outputs": [
    {
     "data": {
      "text/html": [
       "<div>\n",
       "<style scoped>\n",
       "    .dataframe tbody tr th:only-of-type {\n",
       "        vertical-align: middle;\n",
       "    }\n",
       "\n",
       "    .dataframe tbody tr th {\n",
       "        vertical-align: top;\n",
       "    }\n",
       "\n",
       "    .dataframe thead th {\n",
       "        text-align: right;\n",
       "    }\n",
       "</style>\n",
       "<table border=\"1\" class=\"dataframe\">\n",
       "  <thead>\n",
       "    <tr style=\"text-align: right;\">\n",
       "      <th></th>\n",
       "      <th>sepal_length</th>\n",
       "      <th>sepal_width</th>\n",
       "      <th>petal_length</th>\n",
       "      <th>petal_width</th>\n",
       "    </tr>\n",
       "  </thead>\n",
       "  <tbody>\n",
       "    <tr>\n",
       "      <th>sepal_length</th>\n",
       "      <td>1.000000</td>\n",
       "      <td>-0.117570</td>\n",
       "      <td>0.871754</td>\n",
       "      <td>0.817941</td>\n",
       "    </tr>\n",
       "    <tr>\n",
       "      <th>sepal_width</th>\n",
       "      <td>-0.117570</td>\n",
       "      <td>1.000000</td>\n",
       "      <td>-0.428440</td>\n",
       "      <td>-0.366126</td>\n",
       "    </tr>\n",
       "    <tr>\n",
       "      <th>petal_length</th>\n",
       "      <td>0.871754</td>\n",
       "      <td>-0.428440</td>\n",
       "      <td>1.000000</td>\n",
       "      <td>0.962865</td>\n",
       "    </tr>\n",
       "    <tr>\n",
       "      <th>petal_width</th>\n",
       "      <td>0.817941</td>\n",
       "      <td>-0.366126</td>\n",
       "      <td>0.962865</td>\n",
       "      <td>1.000000</td>\n",
       "    </tr>\n",
       "  </tbody>\n",
       "</table>\n",
       "</div>"
      ],
      "text/plain": [
       "              sepal_length  sepal_width  petal_length  petal_width\n",
       "sepal_length      1.000000    -0.117570      0.871754     0.817941\n",
       "sepal_width      -0.117570     1.000000     -0.428440    -0.366126\n",
       "petal_length      0.871754    -0.428440      1.000000     0.962865\n",
       "petal_width       0.817941    -0.366126      0.962865     1.000000"
      ]
     },
     "execution_count": 106,
     "metadata": {},
     "output_type": "execute_result"
    }
   ],
   "source": [
    "iris.corr(method='pearson')"
   ]
  },
  {
   "cell_type": "markdown",
   "metadata": {},
   "source": [
    "### `b. Spearman`\n",
    "\n",
    "Korelasi spearman merupakan salah satu ukuran korelasi yang digunakan untuk mengukur kekuatan dan arah hubungan non-linear dari 2 variabel.\n",
    "\n",
    "Korelasi spearman dapat digunakan untuk mengukur korelasi dari data:\n",
    "\n",
    "- **Non-Parametric** : tidak ada asumsi distribusi datanya\n",
    "- Hubungannya non-linear (tidak membentuk garis lurus) dan **monotonic**\n",
    "- Dapat digunakan untuk kolom kategorikal ordinal\n",
    "\n",
    "Kita akan coba hitung juga korelasi Spearman dari panjang daun kelopak (`sepal_length`) dan panjang mahkota bunga (`petal_length`) menggunakan metode `spearmanr()`."
   ]
  },
  {
   "cell_type": "code",
   "execution_count": 108,
   "metadata": {},
   "outputs": [
    {
     "data": {
      "text/plain": [
       "0.881898126434986"
      ]
     },
     "execution_count": 108,
     "metadata": {},
     "output_type": "execute_result"
    }
   ],
   "source": [
    "from scipy.stats import spearmanr\n",
    "\n",
    "r, pvalue = spearmanr(x, y)\n",
    "r"
   ]
  },
  {
   "cell_type": "markdown",
   "metadata": {},
   "source": [
    "Atau kita juga bisa menggunakan `.corr(method='spearman')`"
   ]
  },
  {
   "cell_type": "code",
   "execution_count": 109,
   "metadata": {},
   "outputs": [
    {
     "data": {
      "text/html": [
       "<div>\n",
       "<style scoped>\n",
       "    .dataframe tbody tr th:only-of-type {\n",
       "        vertical-align: middle;\n",
       "    }\n",
       "\n",
       "    .dataframe tbody tr th {\n",
       "        vertical-align: top;\n",
       "    }\n",
       "\n",
       "    .dataframe thead th {\n",
       "        text-align: right;\n",
       "    }\n",
       "</style>\n",
       "<table border=\"1\" class=\"dataframe\">\n",
       "  <thead>\n",
       "    <tr style=\"text-align: right;\">\n",
       "      <th></th>\n",
       "      <th>sepal_length</th>\n",
       "      <th>sepal_width</th>\n",
       "      <th>petal_length</th>\n",
       "      <th>petal_width</th>\n",
       "    </tr>\n",
       "  </thead>\n",
       "  <tbody>\n",
       "    <tr>\n",
       "      <th>sepal_length</th>\n",
       "      <td>1.000000</td>\n",
       "      <td>-0.166778</td>\n",
       "      <td>0.881898</td>\n",
       "      <td>0.834289</td>\n",
       "    </tr>\n",
       "    <tr>\n",
       "      <th>sepal_width</th>\n",
       "      <td>-0.166778</td>\n",
       "      <td>1.000000</td>\n",
       "      <td>-0.309635</td>\n",
       "      <td>-0.289032</td>\n",
       "    </tr>\n",
       "    <tr>\n",
       "      <th>petal_length</th>\n",
       "      <td>0.881898</td>\n",
       "      <td>-0.309635</td>\n",
       "      <td>1.000000</td>\n",
       "      <td>0.937667</td>\n",
       "    </tr>\n",
       "    <tr>\n",
       "      <th>petal_width</th>\n",
       "      <td>0.834289</td>\n",
       "      <td>-0.289032</td>\n",
       "      <td>0.937667</td>\n",
       "      <td>1.000000</td>\n",
       "    </tr>\n",
       "  </tbody>\n",
       "</table>\n",
       "</div>"
      ],
      "text/plain": [
       "              sepal_length  sepal_width  petal_length  petal_width\n",
       "sepal_length      1.000000    -0.166778      0.881898     0.834289\n",
       "sepal_width      -0.166778     1.000000     -0.309635    -0.289032\n",
       "petal_length      0.881898    -0.309635      1.000000     0.937667\n",
       "petal_width       0.834289    -0.289032      0.937667     1.000000"
      ]
     },
     "execution_count": 109,
     "metadata": {},
     "output_type": "execute_result"
    }
   ],
   "source": [
    "iris.corr(method='spearman')"
   ]
  },
  {
   "cell_type": "markdown",
   "metadata": {},
   "source": [
    "Atau kita bisa juga hitung manual dengan menggunakan rumus berikut:\n",
    "\n",
    "​$$ \\rho = 1 - \\frac{6\\sum_{i=1}^n \\text{diff}^2}{n(n^2-1)} $$"
   ]
  },
  {
   "cell_type": "code",
   "execution_count": 119,
   "metadata": {},
   "outputs": [
    {
     "data": {
      "text/html": [
       "<div>\n",
       "<style scoped>\n",
       "    .dataframe tbody tr th:only-of-type {\n",
       "        vertical-align: middle;\n",
       "    }\n",
       "\n",
       "    .dataframe tbody tr th {\n",
       "        vertical-align: top;\n",
       "    }\n",
       "\n",
       "    .dataframe thead th {\n",
       "        text-align: right;\n",
       "    }\n",
       "</style>\n",
       "<table border=\"1\" class=\"dataframe\">\n",
       "  <thead>\n",
       "    <tr style=\"text-align: right;\">\n",
       "      <th></th>\n",
       "      <th>sepal_length</th>\n",
       "      <th>petal_length</th>\n",
       "      <th>sepal_length_rank</th>\n",
       "      <th>petal_length_rank</th>\n",
       "      <th>diff</th>\n",
       "      <th>diff^2</th>\n",
       "    </tr>\n",
       "  </thead>\n",
       "  <tbody>\n",
       "    <tr>\n",
       "      <th>0</th>\n",
       "      <td>5.1</td>\n",
       "      <td>1.4</td>\n",
       "      <td>37.0</td>\n",
       "      <td>18.0</td>\n",
       "      <td>19.0</td>\n",
       "      <td>361.00</td>\n",
       "    </tr>\n",
       "    <tr>\n",
       "      <th>1</th>\n",
       "      <td>4.9</td>\n",
       "      <td>1.4</td>\n",
       "      <td>19.5</td>\n",
       "      <td>18.0</td>\n",
       "      <td>1.5</td>\n",
       "      <td>2.25</td>\n",
       "    </tr>\n",
       "    <tr>\n",
       "      <th>2</th>\n",
       "      <td>4.7</td>\n",
       "      <td>1.3</td>\n",
       "      <td>10.5</td>\n",
       "      <td>8.0</td>\n",
       "      <td>2.5</td>\n",
       "      <td>6.25</td>\n",
       "    </tr>\n",
       "    <tr>\n",
       "      <th>3</th>\n",
       "      <td>4.6</td>\n",
       "      <td>1.5</td>\n",
       "      <td>7.5</td>\n",
       "      <td>31.0</td>\n",
       "      <td>-23.5</td>\n",
       "      <td>552.25</td>\n",
       "    </tr>\n",
       "    <tr>\n",
       "      <th>4</th>\n",
       "      <td>5.0</td>\n",
       "      <td>1.4</td>\n",
       "      <td>27.5</td>\n",
       "      <td>18.0</td>\n",
       "      <td>9.5</td>\n",
       "      <td>90.25</td>\n",
       "    </tr>\n",
       "    <tr>\n",
       "      <th>...</th>\n",
       "      <td>...</td>\n",
       "      <td>...</td>\n",
       "      <td>...</td>\n",
       "      <td>...</td>\n",
       "      <td>...</td>\n",
       "      <td>...</td>\n",
       "    </tr>\n",
       "    <tr>\n",
       "      <th>145</th>\n",
       "      <td>6.7</td>\n",
       "      <td>5.2</td>\n",
       "      <td>126.5</td>\n",
       "      <td>117.5</td>\n",
       "      <td>9.0</td>\n",
       "      <td>81.00</td>\n",
       "    </tr>\n",
       "    <tr>\n",
       "      <th>146</th>\n",
       "      <td>6.3</td>\n",
       "      <td>5.0</td>\n",
       "      <td>104.0</td>\n",
       "      <td>106.5</td>\n",
       "      <td>-2.5</td>\n",
       "      <td>6.25</td>\n",
       "    </tr>\n",
       "    <tr>\n",
       "      <th>147</th>\n",
       "      <td>6.5</td>\n",
       "      <td>5.2</td>\n",
       "      <td>118.0</td>\n",
       "      <td>117.5</td>\n",
       "      <td>0.5</td>\n",
       "      <td>0.25</td>\n",
       "    </tr>\n",
       "    <tr>\n",
       "      <th>148</th>\n",
       "      <td>6.2</td>\n",
       "      <td>5.4</td>\n",
       "      <td>97.5</td>\n",
       "      <td>121.5</td>\n",
       "      <td>-24.0</td>\n",
       "      <td>576.00</td>\n",
       "    </tr>\n",
       "    <tr>\n",
       "      <th>149</th>\n",
       "      <td>5.9</td>\n",
       "      <td>5.1</td>\n",
       "      <td>82.0</td>\n",
       "      <td>112.5</td>\n",
       "      <td>-30.5</td>\n",
       "      <td>930.25</td>\n",
       "    </tr>\n",
       "  </tbody>\n",
       "</table>\n",
       "<p>150 rows × 6 columns</p>\n",
       "</div>"
      ],
      "text/plain": [
       "     sepal_length  petal_length  sepal_length_rank  petal_length_rank  diff  \\\n",
       "0             5.1           1.4               37.0               18.0  19.0   \n",
       "1             4.9           1.4               19.5               18.0   1.5   \n",
       "2             4.7           1.3               10.5                8.0   2.5   \n",
       "3             4.6           1.5                7.5               31.0 -23.5   \n",
       "4             5.0           1.4               27.5               18.0   9.5   \n",
       "..            ...           ...                ...                ...   ...   \n",
       "145           6.7           5.2              126.5              117.5   9.0   \n",
       "146           6.3           5.0              104.0              106.5  -2.5   \n",
       "147           6.5           5.2              118.0              117.5   0.5   \n",
       "148           6.2           5.4               97.5              121.5 -24.0   \n",
       "149           5.9           5.1               82.0              112.5 -30.5   \n",
       "\n",
       "     diff^2  \n",
       "0    361.00  \n",
       "1      2.25  \n",
       "2      6.25  \n",
       "3    552.25  \n",
       "4     90.25  \n",
       "..      ...  \n",
       "145   81.00  \n",
       "146    6.25  \n",
       "147    0.25  \n",
       "148  576.00  \n",
       "149  930.25  \n",
       "\n",
       "[150 rows x 6 columns]"
      ]
     },
     "execution_count": 119,
     "metadata": {},
     "output_type": "execute_result"
    }
   ],
   "source": [
    "spearman_table = iris[['sepal_length', 'petal_length']].copy()\n",
    "spearman_table['sepal_length_rank'] = spearman_table['sepal_length'].rank()\n",
    "spearman_table['petal_length_rank'] = spearman_table['petal_length'].rank()\n",
    "spearman_table['diff'] = spearman_table['sepal_length_rank'] - spearman_table['petal_length_rank']\n",
    "spearman_table['diff^2'] = spearman_table['diff'] ** 2\n",
    "spearman_table"
   ]
  },
  {
   "cell_type": "code",
   "execution_count": 122,
   "metadata": {},
   "outputs": [
    {
     "data": {
      "text/plain": [
       "397791.0"
      ]
     },
     "execution_count": 122,
     "metadata": {},
     "output_type": "execute_result"
    }
   ],
   "source": [
    "ruas_atas = 6 * spearman_table['diff^2'].sum()\n",
    "ruas_atas"
   ]
  },
  {
   "cell_type": "code",
   "execution_count": 123,
   "metadata": {},
   "outputs": [
    {
     "data": {
      "text/plain": [
       "3374850"
      ]
     },
     "execution_count": 123,
     "metadata": {},
     "output_type": "execute_result"
    }
   ],
   "source": [
    "ruas_bawah = n * (n**2 - 1)\n",
    "ruas_bawah"
   ]
  },
  {
   "cell_type": "code",
   "execution_count": 124,
   "metadata": {},
   "outputs": [
    {
     "data": {
      "text/plain": [
       "0.8821307613671718"
      ]
     },
     "execution_count": 124,
     "metadata": {},
     "output_type": "execute_result"
    }
   ],
   "source": [
    "r_spearman = 1 - (ruas_atas/ruas_bawah)\n",
    "r_spearman"
   ]
  },
  {
   "cell_type": "markdown",
   "metadata": {},
   "source": [
    "### `Simpson Paradox`\n",
    "\n",
    "Merupakan sebuah fenomena dalam statistika, dimana tren dari beberapa kelompok data terbalik dari tren gabungan  kelompok data keseluruhan.\n",
    "\n",
    "Misalnya, ada sebuah studi yang mengkaji hubungan Tingkat Pendidikan dan Kejahatan. Perhatikan tabel berikut ini."
   ]
  },
  {
   "cell_type": "code",
   "execution_count": 125,
   "metadata": {},
   "outputs": [
    {
     "data": {
      "text/html": [
       "<div>\n",
       "<style scoped>\n",
       "    .dataframe tbody tr th:only-of-type {\n",
       "        vertical-align: middle;\n",
       "    }\n",
       "\n",
       "    .dataframe tbody tr th {\n",
       "        vertical-align: top;\n",
       "    }\n",
       "\n",
       "    .dataframe thead th {\n",
       "        text-align: right;\n",
       "    }\n",
       "</style>\n",
       "<table border=\"1\" class=\"dataframe\">\n",
       "  <thead>\n",
       "    <tr style=\"text-align: right;\">\n",
       "      <th></th>\n",
       "      <th>education</th>\n",
       "      <th>crime</th>\n",
       "      <th>location</th>\n",
       "    </tr>\n",
       "  </thead>\n",
       "  <tbody>\n",
       "    <tr>\n",
       "      <th>0</th>\n",
       "      <td>70</td>\n",
       "      <td>140</td>\n",
       "      <td>urban</td>\n",
       "    </tr>\n",
       "    <tr>\n",
       "      <th>1</th>\n",
       "      <td>75</td>\n",
       "      <td>120</td>\n",
       "      <td>urban</td>\n",
       "    </tr>\n",
       "    <tr>\n",
       "      <th>2</th>\n",
       "      <td>80</td>\n",
       "      <td>110</td>\n",
       "      <td>urban</td>\n",
       "    </tr>\n",
       "    <tr>\n",
       "      <th>3</th>\n",
       "      <td>85</td>\n",
       "      <td>105</td>\n",
       "      <td>urban</td>\n",
       "    </tr>\n",
       "    <tr>\n",
       "      <th>4</th>\n",
       "      <td>55</td>\n",
       "      <td>50</td>\n",
       "      <td>rural</td>\n",
       "    </tr>\n",
       "    <tr>\n",
       "      <th>5</th>\n",
       "      <td>58</td>\n",
       "      <td>40</td>\n",
       "      <td>rural</td>\n",
       "    </tr>\n",
       "    <tr>\n",
       "      <th>6</th>\n",
       "      <td>60</td>\n",
       "      <td>30</td>\n",
       "      <td>rural</td>\n",
       "    </tr>\n",
       "    <tr>\n",
       "      <th>7</th>\n",
       "      <td>65</td>\n",
       "      <td>25</td>\n",
       "      <td>rural</td>\n",
       "    </tr>\n",
       "  </tbody>\n",
       "</table>\n",
       "</div>"
      ],
      "text/plain": [
       "   education  crime location\n",
       "0         70    140    urban\n",
       "1         75    120    urban\n",
       "2         80    110    urban\n",
       "3         85    105    urban\n",
       "4         55     50    rural\n",
       "5         58     40    rural\n",
       "6         60     30    rural\n",
       "7         65     25    rural"
      ]
     },
     "execution_count": 125,
     "metadata": {},
     "output_type": "execute_result"
    }
   ],
   "source": [
    "df_crime  = pd.DataFrame({\n",
    "    'education' : [70, 75, 80, 85, 55, 58, 60, 65],\n",
    "    'crime' : [140, 120, 110, 105, 50, 40, 30, 25],\n",
    "    'location' : ['urban', 'urban', 'urban', 'urban', 'rural', 'rural', 'rural', 'rural']\n",
    "})\n",
    "\n",
    "df_crime"
   ]
  },
  {
   "cell_type": "markdown",
   "metadata": {},
   "source": [
    "Jika hanya menganalisis tingkat pendidikan dan tingkat kriminal saja, kita bisa salah asumsi dimana semakin tinggi tingkat pendidikan, semakin banyak juga jumlah kejahatan."
   ]
  },
  {
   "cell_type": "code",
   "execution_count": 127,
   "metadata": {},
   "outputs": [
    {
     "data": {
      "image/png": "[encoded data removed]",
      "text/plain": [
       "<Figure size 432x288 with 1 Axes>"
      ]
     },
     "metadata": {
      "needs_background": "light"
     },
     "output_type": "display_data"
    }
   ],
   "source": [
    "sns.regplot(data=df_crime, x='education', y='crime')\n",
    "plt.show()"
   ]
  },
  {
   "cell_type": "markdown",
   "metadata": {},
   "source": [
    "Bandingkan dengan analisis yang memisahkan yang tinggal desa dan kota. Hasilnya akan berbeda."
   ]
  },
  {
   "cell_type": "code",
   "execution_count": 131,
   "metadata": {},
   "outputs": [
    {
     "data": {
      "text/html": [
       "<div>\n",
       "<style scoped>\n",
       "    .dataframe tbody tr th:only-of-type {\n",
       "        vertical-align: middle;\n",
       "    }\n",
       "\n",
       "    .dataframe tbody tr th {\n",
       "        vertical-align: top;\n",
       "    }\n",
       "\n",
       "    .dataframe thead th {\n",
       "        text-align: right;\n",
       "    }\n",
       "</style>\n",
       "<table border=\"1\" class=\"dataframe\">\n",
       "  <thead>\n",
       "    <tr style=\"text-align: right;\">\n",
       "      <th></th>\n",
       "      <th>education</th>\n",
       "      <th>crime</th>\n",
       "      <th>location</th>\n",
       "    </tr>\n",
       "  </thead>\n",
       "  <tbody>\n",
       "    <tr>\n",
       "      <th>0</th>\n",
       "      <td>70</td>\n",
       "      <td>140</td>\n",
       "      <td>urban</td>\n",
       "    </tr>\n",
       "    <tr>\n",
       "      <th>1</th>\n",
       "      <td>75</td>\n",
       "      <td>120</td>\n",
       "      <td>urban</td>\n",
       "    </tr>\n",
       "    <tr>\n",
       "      <th>2</th>\n",
       "      <td>80</td>\n",
       "      <td>110</td>\n",
       "      <td>urban</td>\n",
       "    </tr>\n",
       "    <tr>\n",
       "      <th>3</th>\n",
       "      <td>85</td>\n",
       "      <td>105</td>\n",
       "      <td>urban</td>\n",
       "    </tr>\n",
       "  </tbody>\n",
       "</table>\n",
       "</div>"
      ],
      "text/plain": [
       "   education  crime location\n",
       "0         70    140    urban\n",
       "1         75    120    urban\n",
       "2         80    110    urban\n",
       "3         85    105    urban"
      ]
     },
     "execution_count": 131,
     "metadata": {},
     "output_type": "execute_result"
    }
   ],
   "source": [
    "df_crime[df_crime['location']=='urban']"
   ]
  },
  {
   "cell_type": "code",
   "execution_count": 134,
   "metadata": {},
   "outputs": [
    {
     "data": {
      "image/png": "[encoded data removed]",
      "text/plain": [
       "<Figure size 432x288 with 1 Axes>"
      ]
     },
     "metadata": {
      "needs_background": "light"
     },
     "output_type": "display_data"
    }
   ],
   "source": [
    "sns.regplot(data=df_crime[df_crime['location']=='urban'], x='education', y='crime', label='urban')\n",
    "sns.regplot(data=df_crime[df_crime['location']=='rural'], x='education', y='crime', label='rural')\n",
    "plt.legend()\n",
    "plt.show()"
   ]
  },
  {
   "cell_type": "markdown",
   "metadata": {},
   "source": [
    "Jika dipisahkan seperti grafik di atas, baik di kota maupun desa, semakin tinggi tingkat pendidikannya, tingkat kejahatannya juga semakin turun."
   ]
  },
  {
   "cell_type": "markdown",
   "metadata": {},
   "source": [
    "### `Correlation vs Causation`\n",
    "\n",
    "Korelasi tidak menyiratkan kausalitas secara sendiri. Misalnya, panjang sepal dan panjang petal berkorelasi sangat tinggi, tetapi ini tidak berarti bahwa panjang sepal menyebabkan panjang petal atau sebaliknya.\n",
    "\n",
    "Ada banyak hal tentang kausalitas dan saya merekomendasikan buku Judea Pearl's [*Causality*](http://bayes.cs.ucla.edu/BOOK-2K/), teks teknis klasik tentang topik ini, jika Anda ingin menjelajahinya secara mendalam. [*The Book of Why*](http://bayes.cs.ucla.edu/WHY/) adalah alternatif yang luar biasa bagi pembaca umum dari penulis yang sama.\n",
    "\n",
    "Secara singkat, ada tiga kriteria yang diperlukan untuk menyimpulkan hubungan kausal:\n",
    "\n",
    "1. **Covariation**: Dua variabel bervariasi bersama (kriteria ini dipenuhi oleh panjang sepal dan petal)\n",
    "2. **Temporal precedence**: Variabel yang terpengaruh harus bervariasi setelah variabel penyebabnya bervariasi.\n",
    "3. **Elimination of extraneous variables**: Kita harus yakin tidak ada variabel ketiga yang menyebabkan variasi. Ini bisa sulit untuk data yang kita peroleh hanya melalui observasi, tetapi lebih mudah ketika kita dapat mengendalikan variabel penyebab, misalnya, dengan uji coba kontrol teracak (idealnya double-blind)."
   ]
  },
  {
   "attachments": {
    "hipotesis.png": {
     "image/png": "[encoded data removed]"
    }
   },
   "cell_type": "markdown",
   "metadata": {},
   "source": [
    "## **3. Summary**\n",
    "\n",
    "Secara umum, keseluruhan uji yang kita lakukan dapat diringkas pada tabel berikut:\n",
    "\n",
    "| | Parametric | Non-parametric |\n",
    "| --- | --- | --- |\n",
    "| Assumed distribution | Normal | Any |\n",
    "| Assumed variance | Homogeneous | Any |\n",
    "| Data set relationships | Independent | Any |\n",
    "| Usual central measure | Mean | Median |\n",
    "| Benefits | can draw more conclusions | Simplicity; Less affected by outliers |\n",
    "| Tests | | |\n",
    "| Correlation test | Pearson | Spearman |\n",
    "| Independent measures, 2 groups | Independent-measures t-test | Mann-Whitney test |\n",
    "| Independent measures, >2 groups | One-way, independent-measures ANOVA | Kruskall-Wallis test |\n",
    "| Repeated measures, 2 conditions | Matched-pair t-test | Wilcoxon test |\n",
    "| Repeated measures, >2 conditions | One-way, repeated-measures ANOVA | Friedman's test |\n",
    "\n",
    "Adapun secara visualisasi dapat dilihat sebagai berikut:\n",
    "\n",
    "![hipotesis.png](attachment:hipotesis.png)\n",
    "\n",
    "\n",
    "\n"
   ]
  }
 ],
 "metadata": {
  "kernelspec": {
   "display_name": "Python 3",
   "language": "python",
   "name": "python3"
  },
  "language_info": {
   "codemirror_mode": {
    "name": "ipython",
    "version": 3
   },
   "file_extension": ".py",
   "mimetype": "text/x-python",
   "name": "python",
   "nbconvert_exporter": "python",
   "pygments_lexer": "ipython3",
   "version": "3.10.5"
  }
 },
 "nbformat": 4,
 "nbformat_minor": 2
}

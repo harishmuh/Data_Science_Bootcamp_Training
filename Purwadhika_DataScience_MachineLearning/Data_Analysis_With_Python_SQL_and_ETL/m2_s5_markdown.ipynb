{
 "cells": [
  {
   "cell_type": "markdown",
   "metadata": {},
   "source": [
    "# **Introduction to Markdown**\n",
    "\n",
    "Jupyter Notebook terdiri dari sel kode dan markdown. Sel markdown digunakan untuk menyajikan teks, gambar, dan lainnya yang berguna untuk mendokumentasikan dan menjelaskan isi dari notebook Anda. Pada tutorial ini, Anda akan terbiasa dengan penulisan markdown.\n",
    "___"
   ]
  },
  {
   "cell_type": "markdown",
   "metadata": {},
   "source": [
    "## **1. Kernel pada Jupyter Notebook**\n",
    "\n",
    "Kernel pada notebook adalah mesin komputasi yang digunakan untuk mengeksekusi kode dalam file Notebook. Saat notebook dijalankan, kernel melakukan komputasi dan menghasilkan hasilnya. Di pojok kanan atas Anda dapat melihat nama kernel. Anda juga dapat menjalankan kernel lain dengan mengklik menu drop down kanan atas untuk mengalihkan kernel ke kernel pilihan dari menu.\n",
    "\n",
    "Saat kernel sedang dieksekusi, status kernel diubah dari status **Idle** menjadi **Running**."
   ]
  },
  {
   "cell_type": "markdown",
   "metadata": {},
   "source": [
    "## **2. Membuat Heading dan Menambahkan Teks Tebal dan Miring di Markdown**\n",
    "\n",
    "### `Header`\n",
    "\n",
    "* Anda dapat membuat heading dengan menambahkan tanda <code>#</code> sebelum sebuah **kata** atau sebuah **frase**.\n",
    "\n",
    "   * Terdapat 6 tingkatan dari headings.\n",
    "   * Jumlah tanda <code>#</code> menunjukkan level dari heading sebagai contoh **# Hello** berhubungan dengan **level 1**, tingkatan tertinggi dari heading.\n",
    "   * Tampilkan teks berikut menggunakan 6 heading level yang berbeda.\n",
    "      * H1: This is a level 1 Heading\n",
    "      * H2: This is a level 2 Heading\n",
    "      * H3: This is a level 3 Heading\n",
    "      * H4: This is a level 4 Heading\n",
    "      * H5: This is a level 5 Heading\n",
    "      * H6: This is a level 6 Heading"
   ]
  },
  {
   "cell_type": "markdown",
   "metadata": {},
   "source": [
    "# H1: This is a level 1 Heading\n",
    "## H2: This is a level 2 Heading\n",
    "### H3: This is a level 3 Heading\n",
    "#### H4: This is a level 4 Heading\n",
    "##### H5: This is a level 5 Heading\n",
    "###### H6: This is a level 6 Heading"
   ]
  },
  {
   "cell_type": "markdown",
   "metadata": {},
   "source": [
    "### `Bold Text`\n",
    "\n",
    "Anda dapat menebalkan suatu teks dengan menambahkan dua asterisks atau underscores sebelum dan sesudah kata, frase, atau kalimat."
   ]
  },
  {
   "cell_type": "markdown",
   "metadata": {},
   "source": [
    "**Ini adalah tulisan tebal**\n",
    "\n",
    "__Ini adalah tulisan tebal__"
   ]
  },
  {
   "cell_type": "markdown",
   "metadata": {},
   "source": [
    "### `Italic Text`\n",
    "\n",
    "Anda dapat memiringkan suatu teks dengan menambahkan satu asterisks atau underscores sebelum dan sesudah kata, frase, atau kalimat."
   ]
  },
  {
   "cell_type": "markdown",
   "metadata": {},
   "source": [
    "*Ini adalah tulisan miring*\n",
    "\n",
    "_Ini adalah tulisan miring_"
   ]
  },
  {
   "cell_type": "markdown",
   "metadata": {},
   "source": [
    "### `Bold & Italic Text`\n",
    "\n",
    "Anda dapat menampilkan suatu teks dengan tulisan tebal dan miring sekaligus dengan menambahkan tiga asterisks atau underscores sebelun dan sesudah kata, frase, atau kalimat."
   ]
  },
  {
   "cell_type": "markdown",
   "metadata": {},
   "source": [
    "***Ini adalah tulisan tebal dan miring***\n",
    "\n",
    "___Ini adalah tulisan tebal dan miring___"
   ]
  },
  {
   "cell_type": "markdown",
   "metadata": {},
   "source": [
    "## **3. Menyelipkan Link dan Gambar pada Markdown**\n",
    "\n",
    "### `Hyperlinks`\n",
    "Anda dapat membuat sebuah **hyperlink** dengan format berikut.\n",
    "\n",
    "<img src=\"https://raw.githubusercontent.com/Lakshmiholla-2808/first/main/hyper1.png\">\n",
    "\n",
    "* **Name of the link** adalah teks tautan yang dapat diklik\n",
    "* **Link url** adalah alamat web url yang akan diarahkan pada saat mengklik link tersebut.\n",
    "* Untuk menampilkan tautan yang dapat diklik tanpa nama, sertakan tautan menggunakan angle brackets (<>)."
   ]
  },
  {
   "cell_type": "markdown",
   "metadata": {},
   "source": [
    "[Wikipedia](https://www.wikipedia.org/)\n",
    "\n",
    "<https://www.wikipedia.org/>"
   ]
  },
  {
   "cell_type": "markdown",
   "metadata": {},
   "source": [
    "### `Images`\n",
    "\n",
    "Gambar dapat dirender dalam format berikut.\n",
    "\n",
    "<img src=\"https://cf-courses-data.s3.us.cloud-object-storage.appdomain.cloud/IBMDeveloperSkillsNetwork-DS0105EN-SkillsNetwork/labs/Labs_V4/images/image.png\">\n",
    "\n",
    "* **alt_text** adalah alternatif teks yang bisa ditambahkan untuk memberikan deskripsi dari gambar\n",
    "* **PATH** adalah alamat dan nama file dari gambar yang ingin ditampilkan baik dari web atau dari komputer."
   ]
  },
  {
   "cell_type": "markdown",
   "metadata": {},
   "source": [
    "![Ini adalah gambar kucing](https://d1bpj0tv6vfxyp.cloudfront.net/articles/538508_2-3-2021_10-55-48.webp)"
   ]
  },
  {
   "cell_type": "markdown",
   "metadata": {},
   "source": [
    "## **4. Membuat Tabel dan List pada Markdown**\n",
    "\n",
    "### `Tables`\n",
    "Untuk membuat tabel, gunakan: \n",
    "* **hyphens** <code>(----)</code> sebagai header kolom \n",
    "* **pipes** <code>|</code> untuk memisahkan tiap kolom\n",
    "* **Text on a new line** untuk memisahkan tiap baris\n",
    "\n",
    "<img src=\"https://cf-courses-data.s3.us.cloud-object-storage.appdomain.cloud/IBMDeveloperSkillsNetwork-DS0105EN-SkillsNetwork/labs/Labs_V4/images/tabledisp.png\">"
   ]
  },
  {
   "cell_type": "markdown",
   "metadata": {},
   "source": [
    "| Country Name | Capital |\n",
    "| --- | --- |\n",
    "| Unites States | Washington DC |\n",
    "| Australia | Canberra |\n",
    "| India | New Delhi |"
   ]
  },
  {
   "cell_type": "markdown",
   "metadata": {},
   "source": [
    "Sebuah tabel dibuat dengan <code>1</code> baris heading, <code>3</code> baris tubuh, dan <code>2</code> kolom.\n"
   ]
  },
  {
   "cell_type": "markdown",
   "metadata": {},
   "source": [
    "### `Unordered List`\n",
    "Daftar tidak berurutan juga disebut sebagai **bulleted list**.\n",
    "\n",
    "Anda dapat membuat daftar tidak berurutan dengan menambahkan **tanda hubung (-), tanda bintang (*), atau tanda tambah (+)** di depan item baris."
   ]
  },
  {
   "cell_type": "markdown",
   "metadata": {},
   "source": [
    "- Ini item 1\n",
    "- Ini item 2\n",
    "- Ini item 3\n",
    "\n",
    "+ Ini item 1\n",
    "+ Ini item 2\n",
    "+ Ini item 3\n",
    "\n",
    "* Ini item 1\n",
    "* Ini item 2\n",
    "* Ini item 3\n",
    "    - Ini subitem 1\n",
    "    - Ini subitem 2\n",
    "    - Ini subitem 3"
   ]
  },
  {
   "cell_type": "markdown",
   "metadata": {},
   "source": [
    "### `Ordered List`\n",
    "\n",
    "Kita dapat membuat daftar terurut dengan menambahkan item baris dengan **angka** diikuti dengan **titik**."
   ]
  },
  {
   "cell_type": "markdown",
   "metadata": {},
   "source": [
    "1. Ini item pertama\n",
    "1. Ini item kedua\n",
    "1. Ini item ketiga\n",
    "1. Ini item keempat"
   ]
  }
 ],
 "metadata": {
  "kernelspec": {
   "display_name": "Python 3",
   "language": "python",
   "name": "python3"
  },
  "language_info": {
   "codemirror_mode": {
    "name": "ipython",
    "version": 3
   },
   "file_extension": ".py",
   "mimetype": "text/x-python",
   "name": "python",
   "nbconvert_exporter": "python",
   "pygments_lexer": "ipython3",
   "version": "3.10.5"
  }
 },
 "nbformat": 4,
 "nbformat_minor": 2
}

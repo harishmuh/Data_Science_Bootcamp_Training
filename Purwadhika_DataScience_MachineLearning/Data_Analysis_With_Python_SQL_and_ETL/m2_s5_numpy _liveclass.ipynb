{
  "cells": [
    {
      "cell_type": "markdown",
      "id": "bf02826b-e527-43b4-a42d-1577c070e3ba",
      "metadata": {
        "id": "bf02826b-e527-43b4-a42d-1577c070e3ba"
      },
      "source": [
        "# **Introduction to Numpy**\n",
        "\n",
        "Numpy adalah perpustakaan inti untuk komputasi ilmiah dengan Python. Ini menyediakan objek array multidimensi berkinerja tinggi, dan alat untuk bekerja dengan array ini.\n",
        "\n",
        "Untuk menggunakan Numpy, pertama-tama kita perlu mengimpor package `numpy`. Sesuai konvensi, kita mengimpornya menggunakan alias `np`. Kemudian, ketika kita ingin menggunakan modul atau fungsi di perpustakaan ini, kita mengawalinya dengan `np.`\n",
        "\n",
        "___"
      ]
    },
    {
      "cell_type": "code",
      "execution_count": null,
      "id": "af79eee2",
      "metadata": {},
      "outputs": [],
      "source": [
        "#pip install numpy"
      ]
    },
    {
      "cell_type": "code",
      "execution_count": 1,
      "id": "c30ae53a",
      "metadata": {},
      "outputs": [],
      "source": [
        "# pip install numpy\n",
        "import numpy as np"
      ]
    },
    {
      "cell_type": "markdown",
      "id": "190fe0ab-4ee6-459d-8492-c816258b0286",
      "metadata": {
        "id": "190fe0ab-4ee6-459d-8492-c816258b0286"
      },
      "source": [
        "## **1. Arrays and array construction**"
      ]
    },
    {
      "cell_type": "markdown",
      "id": "b86ed7e5-47cf-4dbc-a950-8d6b3ad52f57",
      "metadata": {
        "id": "b86ed7e5-47cf-4dbc-a950-8d6b3ad52f57"
      },
      "source": [
        "Array numpy adalah kisi-kisi nilai, semuanya bertipe sama, dan diindeks oleh serangkaian bilangan bulat non-negatif. Jumlah dimensi adalah rank dari array; bentuk array adalah tupel bilangan bulat yang memberikan ukuran array pada setiap dimensi.\n",
        "\n",
        "Kita dapat membuat array `numpy` dengan meneruskan list Python ke `np.array()`.\n",
        "\n",
        "Untuk mengetahui dimensi dan bentuk dari suatu array kita dapat memanggil atribut `ndim` dan `shape` dari suatu array."
      ]
    },
    {
      "cell_type": "code",
      "execution_count": null,
      "id": "8e173212-5a79-437b-a7b6-5346e439de82",
      "metadata": {
        "id": "8e173212-5a79-437b-a7b6-5346e439de82"
      },
      "outputs": [
        {
          "name": "stdout",
          "output_type": "stream",
          "text": [
            "Array a [1 2 3]\n",
            "tipe data a: <class 'numpy.ndarray'>\n",
            "Nilai pada array bertipe: int32\n",
            "Jumlah dimensi 1\n",
            "Bentuk array: (3,)\n"
          ]
        }
      ],
      "source": [
        "arr_a = np.array([1, 2, 3])\n",
        "\n",
        "print('Array a:', arr_a)\n",
        "print('tipe data a:', type(arr_a))\n",
        "print('Nilai pada array bertipe:', arr_a.dtype)\n",
        "print('Jumlah dimensi', arr_a.ndim)\n",
        "print('Bentuk array:', arr_a.shape)\n",
        "\n"
      ]
    },
    {
      "cell_type": "code",
      "execution_count": 3,
      "id": "5f903ec0",
      "metadata": {},
      "outputs": [
        {
          "name": "stdout",
          "output_type": "stream",
          "text": [
            "Array a: ['1' '2' '3' 'Hello' 'True']\n",
            "tipe data a: <class 'numpy.ndarray'>\n",
            "Nilai pada array bertipe: <U11\n",
            "Jumlah dimensi 1\n",
            "Bentuk array: (5,)\n"
          ]
        }
      ],
      "source": [
        "arr_b = np.array([1, 2, 3, 'Hello', True])\n",
        "print('Array a:', arr_b)\n",
        "print('tipe data a:', type(arr_b))\n",
        "print('Nilai pada array bertipe:', arr_b.dtype)\n",
        "print('Jumlah dimensi', arr_b.ndim)\n",
        "print('Bentuk array:', arr_b.shape)"
      ]
    },
    {
      "cell_type": "markdown",
      "id": "eb5aac84-6891-446a-9a67-d5f4309f2ba6",
      "metadata": {
        "id": "eb5aac84-6891-446a-9a67-d5f4309f2ba6"
      },
      "source": [
        "Ini menciptakan array yang bisa kita lihat di sini:\n",
        "\n",
        "![](http://jalammar.github.io/images/numpy/create-numpy-array-1.png)"
      ]
    },
    {
      "cell_type": "markdown",
      "id": "234030fa-8140-4f6e-8b8e-2a94ad931778",
      "metadata": {
        "id": "234030fa-8140-4f6e-8b8e-2a94ad931778"
      },
      "source": [
        "Untuk membuat array `numpy` dengan dimensi lebih banyak, kita dapat menggunakan `nested list`, seperti ini::\n",
        "\n",
        "![](http://jalammar.github.io/images/numpy/numpy-array-create-2d.png)\n",
        "\n",
        "![](http://jalammar.github.io/images/numpy/numpy-3d-array.png)"
      ]
    },
    {
      "cell_type": "code",
      "execution_count": 6,
      "id": "3ff3db12-c0d1-4895-8ba7-200bbdf41d0f",
      "metadata": {
        "id": "3ff3db12-c0d1-4895-8ba7-200bbdf41d0f"
      },
      "outputs": [
        {
          "name": "stdout",
          "output_type": "stream",
          "text": [
            "Array c: [[1 2 3]\n",
            " [4 5 6]]\n",
            "tipe data c: <class 'numpy.ndarray'>\n",
            "Nilai pada array bertipe: int32\n",
            "Jumlah dimensi 2\n",
            "Bentuk array: (2, 3)\n"
          ]
        }
      ],
      "source": [
        "nested_list = [[1, 2, 3], [4, 5, 6]]\n",
        "\n",
        "arr_c = np.array(nested_list)\n",
        "\n",
        "print('Array c:', arr_c)\n",
        "print('tipe data c:', type(arr_c))\n",
        "print('Nilai pada array bertipe:', arr_c.dtype)\n",
        "print('Jumlah dimensi', arr_c.ndim)\n",
        "print('Bentuk array:', arr_c.shape)\n",
        "\n"
      ]
    },
    {
      "cell_type": "code",
      "execution_count": 7,
      "id": "5ffa42e1",
      "metadata": {},
      "outputs": [
        {
          "name": "stdout",
          "output_type": "stream",
          "text": [
            "Array d: [[[1 2 3]\n",
            "  [3 4 5]\n",
            "  [1 2 3]\n",
            "  [3 4 5]]\n",
            "\n",
            " [[5 6 7]\n",
            "  [7 8 9]\n",
            "  [1 2 3]\n",
            "  [3 4 5]]]\n",
            "tipe data d: <class 'numpy.ndarray'>\n",
            "Nilai pada array bertipe: int32\n",
            "Jumlah dimensi 3\n",
            "Bentuk array: (2, 4, 3)\n"
          ]
        }
      ],
      "source": [
        "nested_list = [\n",
        "    [[1, 2, 3], [3, 4, 5], [1, 2, 3], [3, 4, 5]],\n",
        "    [[5, 6, 7], [7, 8, 9], [1, 2, 3], [3, 4, 5]]\n",
        "]\n",
        "\n",
        "arr_d = np.array(nested_list)\n",
        "\n",
        "print('Array d:', arr_d)\n",
        "print('tipe data d:', type(arr_d))\n",
        "print('Nilai pada array bertipe:', arr_d.dtype)\n",
        "print('Jumlah dimensi', arr_d.ndim)\n",
        "print('Bentuk array:', arr_d.shape)\n"
      ]
    },
    {
      "cell_type": "markdown",
      "id": "59994140-982d-44d4-b735-c368cf11ab8c",
      "metadata": {
        "id": "59994140-982d-44d4-b735-c368cf11ab8c"
      },
      "source": [
        "Sering kali kita ingin numpy menginisialisasi nilai array untuk kita. numpy menyediakan metode seperti `ones()`, `zeros()`, dan `random.random()` untuk kasus ini. Kita hanya memberikan jumlah elemen yang ingin dihasilkan:\n",
        "\n",
        "![](http://jalammar.github.io/images/numpy/create-numpy-array-ones-zeros-random.png)"
      ]
    },
    {
      "cell_type": "markdown",
      "id": "f5cd30f4-91ac-421a-b25a-8cfbddb518c7",
      "metadata": {
        "id": "f5cd30f4-91ac-421a-b25a-8cfbddb518c7"
      },
      "source": [
        "Kita juga dapat menggunakan metode ini untuk menghasilkan array multidimensi, selama kita memasukkan argumen berupa tupel yang menjelaskan dimensi matriks yang ingin kita buat:\n",
        "\n",
        "![](http://jalammar.github.io/images/numpy/numpy-matrix-ones-zeros-random.png)\n",
        "\n",
        "![](http://jalammar.github.io/images/numpy/numpy-3d-array-creation.png)"
      ]
    },
    {
      "cell_type": "markdown",
      "id": "735fccf7-462b-4091-9c87-d1ea8add559c",
      "metadata": {
        "id": "735fccf7-462b-4091-9c87-d1ea8add559c"
      },
      "source": [
        "Berikut ini beberapa metode yang umum digunakan:\n",
        "\n",
        "| Methode | Returns |\n",
        "| --- | --- |\n",
        "| `np.zeros()` | Membuat array berisi angka 0 |\n",
        "| `np.ones()` | Membuat array berisi angka 1 |\n",
        "| `np.full()` | Membuat array berisi konstanta |\n",
        "| `np.eye()` | Membuat matriks identitas |\n",
        "| `np.random.random()` | Membuat array berisi angka random |"
      ]
    },
    {
      "cell_type": "code",
      "execution_count": 8,
      "id": "61dddfaf-a5eb-4d3d-a59d-85ea7e18d71a",
      "metadata": {
        "id": "61dddfaf-a5eb-4d3d-a59d-85ea7e18d71a"
      },
      "outputs": [
        {
          "name": "stdout",
          "output_type": "stream",
          "text": [
            "[0. 0. 0. 0. 0.]\n",
            "Bentuk array: (5,)\n"
          ]
        }
      ],
      "source": [
        "arr_a = np.zeros(5)\n",
        "print(arr_a)\n",
        "print('Bentuk array:', arr_a.shape)\n"
      ]
    },
    {
      "cell_type": "code",
      "execution_count": 10,
      "id": "5f594197",
      "metadata": {},
      "outputs": [
        {
          "name": "stdout",
          "output_type": "stream",
          "text": [
            "[[0. 0.]\n",
            " [0. 0.]\n",
            " [0. 0.]]\n",
            "Bentuk array: (3, 2)\n",
            "dimensi 2\n"
          ]
        }
      ],
      "source": [
        "arr_b = np.zeros((3,2))\n",
        "print(arr_b)\n",
        "print('Bentuk array:', arr_b.shape)\n",
        "print('dimensi', arr_b.ndim)\n"
      ]
    },
    {
      "cell_type": "code",
      "execution_count": 11,
      "id": "89d3d1cd",
      "metadata": {},
      "outputs": [
        {
          "name": "stdout",
          "output_type": "stream",
          "text": [
            "[1. 1. 1. 1. 1. 1. 1. 1.]\n",
            "Bentuk array: (8,)\n"
          ]
        }
      ],
      "source": [
        "\n",
        "arr_c = np.ones(8)\n",
        "print(arr_c)\n",
        "print('Bentuk array:', arr_c.shape)"
      ]
    },
    {
      "cell_type": "code",
      "execution_count": 13,
      "id": "deb72f65",
      "metadata": {},
      "outputs": [
        {
          "name": "stdout",
          "output_type": "stream",
          "text": [
            "[[[1. 1.]\n",
            "  [1. 1.]\n",
            "  [1. 1.]]\n",
            "\n",
            " [[1. 1.]\n",
            "  [1. 1.]\n",
            "  [1. 1.]]\n",
            "\n",
            " [[1. 1.]\n",
            "  [1. 1.]\n",
            "  [1. 1.]]\n",
            "\n",
            " [[1. 1.]\n",
            "  [1. 1.]\n",
            "  [1. 1.]]]\n",
            "Bentuk array: (4, 3, 2)\n",
            "Dimensi 3\n"
          ]
        }
      ],
      "source": [
        "arr_d = np.ones((4,3,2))\n",
        "\n",
        "print(arr_d)\n",
        "print('Bentuk array:', arr_d.shape)\n",
        "print('Dimensi', arr_d.ndim)\n"
      ]
    },
    {
      "cell_type": "code",
      "execution_count": 14,
      "id": "e92c5892",
      "metadata": {},
      "outputs": [
        {
          "name": "stdout",
          "output_type": "stream",
          "text": [
            "[[7 7]\n",
            " [7 7]\n",
            " [7 7]]\n",
            "Bentuk array: (3, 2)\n",
            "Dimensi 2\n"
          ]
        }
      ],
      "source": [
        "arr_e = np.full((3,2), 7) # np.full(shape, konstanta)\n",
        "\n",
        "print(arr_e)\n",
        "print('Bentuk array:', arr_e.shape)\n",
        "print('Dimensi', arr_e.ndim)"
      ]
    },
    {
      "cell_type": "code",
      "execution_count": 17,
      "id": "62cf1cb0",
      "metadata": {},
      "outputs": [
        {
          "name": "stdout",
          "output_type": "stream",
          "text": [
            "[[1. 0. 0. 0.]\n",
            " [0. 1. 0. 0.]\n",
            " [0. 0. 1. 0.]\n",
            " [0. 0. 0. 1.]]\n",
            "Bentuk array: (4, 4)\n",
            "Dimensi 2\n"
          ]
        }
      ],
      "source": [
        "arr_f = np.eye(4,4) #np.eye(baris, kolom)\n",
        "print(arr_f)\n",
        "print('Bentuk array:', arr_f.shape)\n",
        "print('Dimensi', arr_f.ndim)\n",
        "\n",
        "#?np.eye"
      ]
    },
    {
      "cell_type": "code",
      "execution_count": null,
      "id": "eae81969",
      "metadata": {},
      "outputs": [
        {
          "name": "stdout",
          "output_type": "stream",
          "text": [
            "[0.65319256 0.98122632 0.42066633 0.84864221 0.36384734 0.97554983\n",
            " 0.66399414 0.28699614 0.76439218 0.12577234]\n"
          ]
        }
      ],
      "source": [
        "arr_g = np.random.random(10) # Membuat array berisi angka acak\n",
        "print(arr_g) \n"
      ]
    },
    {
      "cell_type": "markdown",
      "id": "64c38479-b55e-4dfc-8474-90d4782c0722",
      "metadata": {
        "id": "64c38479-b55e-4dfc-8474-90d4782c0722"
      },
      "source": [
        "Numpy juga memiliki dua fungsi yang berguna untuk membuat rangkaian angka: `arange` dan `linspace`.\n",
        "\n",
        "Fungsi `arange` menerima tiga argumen, yang menentukan nilai awal, nilai akhir (eksklusif), dan ukuran langkah. (Ukuran langkah default, jika tidak ditentukan secara eksplisit, adalah 1; nilai awal default, jika tidak ditentukan secara eksplisit, adalah 0.)\n",
        "\n",
        "Fungsi `linspace` serupa, namun kita dapat menentukan banyaknya nilai, bukan ukuran langkah, dan ini akan membuat urutan nilai dengan jarak/interval yang sama."
      ]
    },
    {
      "cell_type": "code",
      "execution_count": null,
      "id": "6976f6b8",
      "metadata": {},
      "outputs": [
        {
          "name": "stdout",
          "output_type": "stream",
          "text": [
            "[0 1 2 3 4]\n",
            "<class 'numpy.ndarray'>\n"
          ]
        }
      ],
      "source": [
        "arr_a = np.arange(5) # Start=0, stop=5 (ekslusif), step=1\n",
        "print(arr_a)\n",
        "print(type(arr_a))"
      ]
    },
    {
      "cell_type": "code",
      "execution_count": 20,
      "id": "a363713c",
      "metadata": {},
      "outputs": [
        {
          "name": "stdout",
          "output_type": "stream",
          "text": [
            "[2 3 4 5 6 7]\n",
            "<class 'numpy.ndarray'>\n"
          ]
        }
      ],
      "source": [
        "arr_b = np.arange(2,8)    # Start=2, stop=8 (ekslusif), step=1\n",
        "print(arr_b)\n",
        "print(type(arr_b))"
      ]
    },
    {
      "cell_type": "code",
      "execution_count": null,
      "id": "0a17b619",
      "metadata": {},
      "outputs": [
        {
          "name": "stdout",
          "output_type": "stream",
          "text": [
            "[10 20 30 40 50 60 70 80 90]\n",
            "<class 'numpy.ndarray'>\n"
          ]
        }
      ],
      "source": [
        "arr_c = np.arange(10,100,10)   # Start=10, stop=100 (ekslusif), step=10\n",
        "print(arr_c)\n",
        "print(type(arr_c))"
      ]
    },
    {
      "cell_type": "code",
      "execution_count": null,
      "id": "6ac9873d",
      "metadata": {},
      "outputs": [
        {
          "name": "stdout",
          "output_type": "stream",
          "text": [
            "[ 5. 10. 15. 20. 25. 30. 35. 40. 45. 50.]\n"
          ]
        }
      ],
      "source": [
        "arr_d = np.linspace(5,50,10) # Start=5, stop=50 (inklusif), Banyaknya_angka = 10\n",
        "print(arr_d)"
      ]
    },
    {
      "cell_type": "code",
      "execution_count": null,
      "id": "75202ac8",
      "metadata": {},
      "outputs": [
        {
          "name": "stdout",
          "output_type": "stream",
          "text": [
            "[ 5.   9.5 14.  18.5 23.  27.5 32.  36.5 41.  45.5]\n"
          ]
        }
      ],
      "source": [
        "arr_e = np.linspace(5,50,10,endpoint=False) # Endpoint=False, maka angka stopnya dalam hal ini 50, maka tidak dimasukkan\n",
        "print(arr_e)"
      ]
    },
    {
      "cell_type": "markdown",
      "id": "4697ca84",
      "metadata": {},
      "source": [
        "Selain `random.random()`, numpy juga memiliki metode lain untuk membuat array secara acak diantaranya:\n",
        "\n",
        "| Methode | Returns |\n",
        "| --- | --- |\n",
        "| `np.random.rand()` | Membuat array berisi angka random antara 0-1 |\n",
        "| `np.random.randn()` | Membuat array berisi angka random yang terdistribusi normal dengan mean=0 dan std=1 |\n",
        "| `np.random.randint()` | Membuat array berisi angka random integer |"
      ]
    },
    {
      "cell_type": "code",
      "execution_count": 26,
      "id": "627f0807",
      "metadata": {},
      "outputs": [
        {
          "name": "stdout",
          "output_type": "stream",
          "text": [
            "[0.37454012 0.95071431 0.73199394 0.59865848 0.15601864 0.15599452\n",
            " 0.05808361 0.86617615 0.60111501 0.70807258]\n"
          ]
        }
      ],
      "source": [
        "np.random.seed(42)              # memastikan nilai random yang digenerate bisa di reproduksi kembali\n",
        "arr_a = np.random.rand(10)      # sama kaya random state 42 di pandas\n",
        "print(arr_a)"
      ]
    },
    {
      "cell_type": "code",
      "execution_count": 27,
      "id": "f2d6d0c0",
      "metadata": {},
      "outputs": [
        {
          "name": "stdout",
          "output_type": "stream",
          "text": [
            "[[0.37454012 0.95071431]\n",
            " [0.73199394 0.59865848]\n",
            " [0.15601864 0.15599452]]\n"
          ]
        }
      ],
      "source": [
        "np.random.seed(42)\n",
        "arr_b = np.random.rand(3,2)\n",
        "print(arr_b)              \n"
      ]
    },
    {
      "cell_type": "code",
      "execution_count": null,
      "id": "34c1a0af",
      "metadata": {},
      "outputs": [
        {
          "name": "stdout",
          "output_type": "stream",
          "text": [
            "rata-rata 0.0450841465357407\n",
            "standar deviasi 0.9882185106289078\n"
          ]
        }
      ],
      "source": [
        "np.random.seed(42)\n",
        "arr_c = np.random.randn(2000)  \n",
        "\n",
        "print('rata-rata', np.mean(arr_c))      # Menghitung rata-rata\n",
        "print('standar deviasi', np.std(arr_c)) # Menghitung standar deviasi\n"
      ]
    },
    {
      "cell_type": "code",
      "execution_count": null,
      "id": "587d63e1",
      "metadata": {},
      "outputs": [],
      "source": [
        "# pip install seaborn\n",
        "# !pip install seaborn"
      ]
    },
    {
      "cell_type": "code",
      "execution_count": 29,
      "id": "f02e7a7b",
      "metadata": {},
      "outputs": [
        {
          "data": {
            "image/png": "[encoded data removed]",
            "text/plain": [
              "<Figure size 640x480 with 1 Axes>"
            ]
          },
          "metadata": {},
          "output_type": "display_data"
        }
      ],
      "source": [
        "import seaborn as sns\n",
        "import matplotlib.pyplot as plt\n",
        "\n",
        "sns.histplot(arr_c)\n",
        "plt.show()"
      ]
    },
    {
      "cell_type": "code",
      "execution_count": null,
      "id": "2a78f7ae",
      "metadata": {},
      "outputs": [
        {
          "name": "stdout",
          "output_type": "stream",
          "text": [
            "[7 8 7 6 7 5 7 1 1 9 5 5 3 5 3 9 9 6 1 7]\n"
          ]
        }
      ],
      "source": [
        "arr_d = np.random.randint(1, 10, size=20)  # menghasilkan integer antara 1 sampai 10 (ekslusif) sebanyak 20 data\n",
        "print(arr_d)"
      ]
    },
    {
      "cell_type": "code",
      "execution_count": 32,
      "id": "a6846281",
      "metadata": {},
      "outputs": [
        {
          "name": "stdout",
          "output_type": "stream",
          "text": [
            "[[27 14 14]\n",
            " [ 8 12 26]\n",
            " [24 24 22]\n",
            " [18 22 18]\n",
            " [24 25 28]]\n"
          ]
        }
      ],
      "source": [
        "arr_e = np.random.randint(5,30, size=(5,3)) # menghasilkan integer antara 5 sampai 30 (ekslusif) sebanyak 5 baris, 3 kolom\n",
        "print(arr_e)"
      ]
    },
    {
      "cell_type": "markdown",
      "id": "4a46dbd6-7be1-4cff-99b0-0fa9727e638f",
      "metadata": {
        "id": "4a46dbd6-7be1-4cff-99b0-0fa9727e638f"
      },
      "source": [
        "Terkadang, kita mungkin ingin membuat array dari array yang sudah ada dengan “menumpuk” array yang sudah ada, baik secara vertikal maupun horizontal. Kita dapat menggunakan `vstack()` (atau `row_stack`) dan `hstack()` (atau `column_stack`), secara berurutan."
      ]
    },
    {
      "cell_type": "code",
      "execution_count": 97,
      "id": "1b2c6801-7af0-4b5d-a6cc-8e95997c50b4",
      "metadata": {
        "id": "1b2c6801-7af0-4b5d-a6cc-8e95997c50b4"
      },
      "outputs": [
        {
          "name": "stdout",
          "output_type": "stream",
          "text": [
            "[[1 2 3]\n",
            " [4 5 6]]\n"
          ]
        }
      ],
      "source": [
        "arr_a = np.array([1, 2, 3])\n",
        "arr_b = np.array([4, 5, 6])\n",
        "print(np.vstack((arr_a, arr_b)))"
      ]
    },
    {
      "cell_type": "code",
      "execution_count": 100,
      "id": "57f56062",
      "metadata": {},
      "outputs": [
        {
          "name": "stdout",
          "output_type": "stream",
          "text": [
            "[[1 4]\n",
            " [2 5]\n",
            " [3 6]]\n"
          ]
        }
      ],
      "source": [
        "arr_c = np.array([[1], [2], [3]])\n",
        "arr_d = np.vstack((4, 5, 6))\n",
        "print(np.hstack((arr_c, arr_d)))"
      ]
    },
    {
      "cell_type": "markdown",
      "id": "d97862c2",
      "metadata": {},
      "source": [
        "## **2. Datatypes**"
      ]
    },
    {
      "cell_type": "markdown",
      "id": "0133b809",
      "metadata": {},
      "source": [
        "Setiap array numpy adalah kisi-kisi elemen dengan tipe yang sama. Numpy menyediakan sekumpulan besar tipe data numerik yang dapat Anda gunakan untuk membuat array. Numpy mencoba menebak tipe data saat Anda membuat array, tetapi fungsi yang membuat array biasanya juga menyertakan argumen opsional untuk menentukan tipe data secara eksplisit. Berikut ini contohnya:"
      ]
    },
    {
      "cell_type": "code",
      "execution_count": 104,
      "id": "d2c16e88",
      "metadata": {},
      "outputs": [
        {
          "name": "stdout",
          "output_type": "stream",
          "text": [
            "int32 float64 <U1 int64\n"
          ]
        }
      ],
      "source": [
        "arr_x = np.array([1, 2])                            # numpy yang memilih tipe data\n",
        "arr_y = np.array([1.0, 2.0])                        # numpy yang memilih tipe data\n",
        "arr_z = np.array(['1', '2'])                        # numpy yang memilih tipe data\n",
        "arr_a = np.array([1, 2], dtype=np.int64)            # memasukkan tipe data tertentu secara eksplisit\n",
        "print(arr_x.dtype, arr_y.dtype, arr_z.dtype, arr_a.dtype)"
      ]
    },
    {
      "cell_type": "markdown",
      "id": "844ad255",
      "metadata": {},
      "source": [
        "\n",
        "Anda dapat membaca semua tentang tipe data numpy di [documentation](http://docs.scipy.org/doc/numpy/reference/arrays.dtypes.html)."
      ]
    },
    {
      "cell_type": "markdown",
      "id": "e5fcad1c-e41e-49cf-b525-d1346167594a",
      "metadata": {
        "id": "e5fcad1c-e41e-49cf-b525-d1346167594a"
      },
      "source": [
        "## **3. Array indexing**"
      ]
    },
    {
      "cell_type": "markdown",
      "id": "054e77f3-7369-426c-99ee-79ef4ad3252a",
      "metadata": {
        "id": "054e77f3-7369-426c-99ee-79ef4ad3252a"
      },
      "source": [
        "Numpy menawarkan beberapa cara untuk mengindeks ke dalam array. Kita dapat mengindeks dan mengiris array numpy dengan cara yang sama seperti kita dapat mengiris daftar Python:\n",
        "\n",
        "![](http://jalammar.github.io/images/numpy/numpy-array-slice.png)\n",
        "\n",
        "Dan Anda dapat mengindeks dan mengiris array numpy dalam berbagai dimensi. Jika mengiris array dengan lebih dari satu dimensi, Anda harus menentukan irisan untuk setiap dimensi:\n",
        "\n",
        "![](http://jalammar.github.io/images/numpy/numpy-matrix-indexing.png)"
      ]
    },
    {
      "cell_type": "code",
      "execution_count": 33,
      "id": "d94de2b0-983c-45ca-b36c-524a2db3a32c",
      "metadata": {
        "id": "d94de2b0-983c-45ca-b36c-524a2db3a32c"
      },
      "outputs": [
        {
          "name": "stdout",
          "output_type": "stream",
          "text": [
            "[[ 1  2  3  4]\n",
            " [ 5  6  7  8]\n",
            " [ 9 10 11 12]]\n"
          ]
        }
      ],
      "source": [
        "arr_a = np.array([[1, 2, 3, 4], [5, 6, 7, 8], [9, 10, 11, 12]])\n",
        "print(arr_a)"
      ]
    },
    {
      "cell_type": "code",
      "execution_count": 34,
      "id": "989f6ffa",
      "metadata": {},
      "outputs": [
        {
          "name": "stdout",
          "output_type": "stream",
          "text": [
            "[1 2 3 4]\n"
          ]
        }
      ],
      "source": [
        "print(arr_a[0])        # mengambil baris index ke-0"
      ]
    },
    {
      "cell_type": "code",
      "execution_count": 35,
      "id": "e810d3b9",
      "metadata": {},
      "outputs": [
        {
          "name": "stdout",
          "output_type": "stream",
          "text": [
            "[5 6 7 8]\n"
          ]
        }
      ],
      "source": [
        "print(arr_a[1])         # mengambil baris index ke-1"
      ]
    },
    {
      "cell_type": "code",
      "execution_count": 36,
      "id": "2de5080d",
      "metadata": {},
      "outputs": [
        {
          "name": "stdout",
          "output_type": "stream",
          "text": [
            "7\n"
          ]
        }
      ],
      "source": [
        "print(arr_a[1,2])    # mengambil baris index ke-1 dan kolom indeks ke-2"
      ]
    },
    {
      "cell_type": "code",
      "execution_count": 37,
      "id": "e60a297d",
      "metadata": {},
      "outputs": [
        {
          "data": {
            "text/plain": [
              "array([[ 1,  2,  3,  4],\n",
              "       [ 5,  6,  7,  8],\n",
              "       [ 9, 10, 11, 12]])"
            ]
          },
          "execution_count": 37,
          "metadata": {},
          "output_type": "execute_result"
        }
      ],
      "source": [
        "arr_a"
      ]
    },
    {
      "cell_type": "code",
      "execution_count": 38,
      "id": "eeb676f4",
      "metadata": {},
      "outputs": [
        {
          "name": "stdout",
          "output_type": "stream",
          "text": [
            "[ 3  7 11]\n"
          ]
        }
      ],
      "source": [
        "print(arr_a[:,2])     # mengambil seluruh baris dan kolom indeks ke-2 (arr_a[baris, kolom])"
      ]
    },
    {
      "cell_type": "code",
      "execution_count": 39,
      "id": "85cb69ac",
      "metadata": {},
      "outputs": [
        {
          "name": "stdout",
          "output_type": "stream",
          "text": [
            "[[ 7  8]\n",
            " [11 12]]\n"
          ]
        }
      ],
      "source": [
        "print(arr_a[1:,2:])    # mengambil baris index ke-1 hingga akhir dan kolom index ke-2 hingga akhir"
      ]
    },
    {
      "cell_type": "code",
      "execution_count": 40,
      "id": "714a85a5",
      "metadata": {},
      "outputs": [
        {
          "name": "stdout",
          "output_type": "stream",
          "text": [
            "[[ 6  7]\n",
            " [10 11]]\n"
          ]
        }
      ],
      "source": [
        "print(arr_a[1:, 1:3])   # mengambil baris index ke-1 hingga akhir dan kolom index ke-1 dan ke-2"
      ]
    },
    {
      "cell_type": "code",
      "execution_count": 41,
      "id": "c10a7a0b",
      "metadata": {},
      "outputs": [
        {
          "data": {
            "text/plain": [
              "array([[ 1,  2,  3,  4],\n",
              "       [ 5,  6,  7,  8],\n",
              "       [ 9, 10, 11, 12]])"
            ]
          },
          "execution_count": 41,
          "metadata": {},
          "output_type": "execute_result"
        }
      ],
      "source": [
        "arr_a"
      ]
    },
    {
      "cell_type": "code",
      "execution_count": 43,
      "id": "7eb8c60c",
      "metadata": {},
      "outputs": [
        {
          "name": "stdout",
          "output_type": "stream",
          "text": [
            "[[ 2  4]\n",
            " [10 12]]\n"
          ]
        }
      ],
      "source": [
        "arr_b = arr_a[0:3:2, 1:4:2]     # mengambil baris index ke-0 dan ke-2 serta kolom index ke-1 dan ke-3\n",
        "print(arr_b)"
      ]
    },
    {
      "cell_type": "markdown",
      "id": "fadca993-9d2e-4dde-9388-6415fadeef98",
      "metadata": {
        "id": "fadca993-9d2e-4dde-9388-6415fadeef98"
      },
      "source": [
        "Irisan dari suatu array adalah tampilan dari data yang sama, jadi memodifikasinya akan mengubah array yang asli."
      ]
    },
    {
      "cell_type": "code",
      "execution_count": 44,
      "id": "8b75ce18",
      "metadata": {},
      "outputs": [
        {
          "name": "stdout",
          "output_type": "stream",
          "text": [
            "[1, 2, 3, 4, 5, 6, 7]\n"
          ]
        }
      ],
      "source": [
        "arr_a = [1, 2, 3, 4, 5, 6, 7]\n",
        "arr_b = arr_a\n",
        "print(arr_a)"
      ]
    },
    {
      "cell_type": "code",
      "execution_count": 45,
      "id": "1041b4a5-4e49-4119-917e-615561fcf570",
      "metadata": {
        "id": "1041b4a5-4e49-4119-917e-615561fcf570"
      },
      "outputs": [
        {
          "name": "stdout",
          "output_type": "stream",
          "text": [
            "[1, 2, 3, 4, 100, 100, 100]\n"
          ]
        }
      ],
      "source": [
        "arr_b[4:]=[100, 100, 100]\n",
        "print(arr_a)                    # nilai a ikut berubah. gunakan .copy() saat mengkopi array untuk menghindari berubahnya data"
      ]
    },
    {
      "cell_type": "markdown",
      "id": "a7835461-34e9-4437-8f9b-ad6b909de079",
      "metadata": {
        "id": "a7835461-34e9-4437-8f9b-ad6b909de079"
      },
      "source": [
        "### `Integer array indexing (Fancy Indexing)`\n",
        "\n",
        "Saat Anda mengindeks ke dalam array numpy menggunakan slicing, tampilan array yang dihasilkan akan selalu menjadi subarray dari array asli. Sebaliknya, integer array indexing memungkinkan Anda membuat array arbitrer menggunakan data dari array lain. Berikut ini contohnya:"
      ]
    },
    {
      "cell_type": "code",
      "execution_count": 46,
      "id": "07ae8f7b-ea13-4cfe-b26a-3fb6cdda4bdd",
      "metadata": {
        "id": "07ae8f7b-ea13-4cfe-b26a-3fb6cdda4bdd"
      },
      "outputs": [
        {
          "name": "stdout",
          "output_type": "stream",
          "text": [
            "[[ 1  2  3  4]\n",
            " [ 5  6  7  8]\n",
            " [ 9 10 11 12]]\n"
          ]
        }
      ],
      "source": [
        "arr_a = np.array([[1, 2, 3, 4], [5, 6, 7, 8], [9, 10, 11, 12]])\n",
        "print(arr_a)"
      ]
    },
    {
      "cell_type": "code",
      "execution_count": 47,
      "id": "665de4a6",
      "metadata": {},
      "outputs": [
        {
          "name": "stdout",
          "output_type": "stream",
          "text": [
            "[[ 2  4]\n",
            " [ 6  8]\n",
            " [10 12]]\n"
          ]
        }
      ],
      "source": [
        "# mengambil keseluruhan baris serta kolom index ke-1 dan ke-3\n",
        "# cara slicing\n",
        "print(arr_a[:, 1::2])"
      ]
    },
    {
      "cell_type": "code",
      "execution_count": 48,
      "id": "7c511fb8",
      "metadata": {},
      "outputs": [
        {
          "name": "stdout",
          "output_type": "stream",
          "text": [
            "[[ 2  4]\n",
            " [ 6  8]\n",
            " [10 12]]\n"
          ]
        }
      ],
      "source": [
        "# mengambil keseluruhan baris serta kolom index ke-1 dan ke-3\n",
        "# cara fancy indexing\n",
        "print(arr_a[:, [1,3]])"
      ]
    },
    {
      "cell_type": "code",
      "execution_count": 49,
      "id": "9efda6f9",
      "metadata": {},
      "outputs": [
        {
          "name": "stdout",
          "output_type": "stream",
          "text": [
            "[[6 7 8]\n",
            " [2 3 4]]\n"
          ]
        }
      ],
      "source": [
        "# mengambil baris ke-1 dan ke-0 serta kolom index ke-1 hingga terakhir\n",
        " # cara slicing\n",
        "print(arr_a[-2::-1,1:])"
      ]
    },
    {
      "cell_type": "code",
      "execution_count": 50,
      "id": "feb1382e",
      "metadata": {},
      "outputs": [
        {
          "name": "stdout",
          "output_type": "stream",
          "text": [
            "[[6 7 8]\n",
            " [2 3 4]]\n"
          ]
        }
      ],
      "source": [
        "# mengambil baris ke-1 dan ke-0 serta kolom index ke-1 hingga terakhir\n",
        " # cara fancy indexing\n",
        "print(arr_a[[1,0], 1:])"
      ]
    },
    {
      "cell_type": "markdown",
      "id": "24ebdd61-2313-4aec-a02a-e4b898906ec5",
      "metadata": {
        "id": "24ebdd61-2313-4aec-a02a-e4b898906ec5"
      },
      "source": [
        "Salah satu trik yang berguna dalam integer array indexing adalah memilih atau mengubah satu elemen dari setiap baris matriks:"
      ]
    },
    {
      "cell_type": "code",
      "execution_count": 51,
      "id": "ae548793",
      "metadata": {},
      "outputs": [
        {
          "data": {
            "text/plain": [
              "array([[ 1,  2,  3,  4],\n",
              "       [ 5,  6,  7,  8],\n",
              "       [ 9, 10, 11, 12]])"
            ]
          },
          "execution_count": 51,
          "metadata": {},
          "output_type": "execute_result"
        }
      ],
      "source": [
        "arr_a"
      ]
    },
    {
      "cell_type": "code",
      "execution_count": 52,
      "id": "e7bab559",
      "metadata": {},
      "outputs": [
        {
          "name": "stdout",
          "output_type": "stream",
          "text": [
            "[[ 2  4  3  1]\n",
            " [ 6  8  7  5]\n",
            " [10 12 11  9]]\n"
          ]
        }
      ],
      "source": [
        "# mengubah urutan kolom dengan fancy indexing\n",
        "print(arr_a[:, [1, 3, 2, 0]])"
      ]
    },
    {
      "cell_type": "code",
      "execution_count": 151,
      "id": "54dade53",
      "metadata": {},
      "outputs": [
        {
          "name": "stdout",
          "output_type": "stream",
          "text": [
            "arr_a[[0, 2], [1, 3]: [ 2 12]\n",
            "arr_a[0, 1]: 2\n",
            "arr_a[2, 3]: 12\n"
          ]
        }
      ],
      "source": [
        "# hati-hati, ketika melakukan indexing sekaligus pada baris dan kolom\n",
        "# ini artinya kita mengambil index baris ke-0 dan kolom ke-1\n",
        "# serta baris ke-2 dan kolom ke-3\n",
        "print('arr_a[[0, 2], [1, 3]:', arr_a[[0, 2], [1, 3]])\n",
        "print('arr_a[0, 1]:', arr_a[0,1])\n",
        "print('arr_a[2, 3]:', arr_a[2,3])"
      ]
    },
    {
      "cell_type": "markdown",
      "id": "e61369aa-296b-428c-84df-54a0e3a69e31",
      "metadata": {
        "id": "e61369aa-296b-428c-84df-54a0e3a69e31"
      },
      "source": [
        "### `Boolean array indexing (Conditional Indexing)` \n",
        "\n",
        "Boolean array indexing memungkinkan Anda memilih elemen array yang berubah-ubah. Seringkali jenis pengindeksan ini digunakan untuk memilih elemen array yang memenuhi beberapa kondisi. Berikut ini contohnya:"
      ]
    },
    {
      "cell_type": "code",
      "execution_count": 152,
      "id": "52f31c05-406f-4c5d-ad25-212194c69cd0",
      "metadata": {
        "id": "52f31c05-406f-4c5d-ad25-212194c69cd0"
      },
      "outputs": [
        {
          "name": "stdout",
          "output_type": "stream",
          "text": [
            "[1 2 3 4 5 6 7 8 9]\n"
          ]
        }
      ],
      "source": [
        "arr_a = np.arange(1,10)\n",
        "print(arr_a)"
      ]
    },
    {
      "cell_type": "code",
      "execution_count": 155,
      "id": "efaed5c7",
      "metadata": {},
      "outputs": [
        {
          "name": "stdout",
          "output_type": "stream",
          "text": [
            "[ True  True  True  True  True False False False False]\n"
          ]
        }
      ],
      "source": [
        "bool_a = arr_a <= 5      # menghasilkan array berupa boolean\n",
        "print(bool_a)"
      ]
    },
    {
      "cell_type": "code",
      "execution_count": 159,
      "id": "f667d242",
      "metadata": {},
      "outputs": [
        {
          "name": "stdout",
          "output_type": "stream",
          "text": [
            "[1 2 3 4 5]\n",
            "[1 2 3 4 5]\n"
          ]
        }
      ],
      "source": [
        "print(arr_a[bool_a])    # mencetak array yang nilainya memenuhi kondisi <= 5\n",
        "\n",
        "print(arr_a[arr_a<=5])  # array[kondisi] --> akan memfilter hanya array yang bernilai True"
      ]
    },
    {
      "cell_type": "code",
      "execution_count": 164,
      "id": "e25b59d5",
      "metadata": {},
      "outputs": [
        {
          "name": "stdout",
          "output_type": "stream",
          "text": [
            "[1 3 5 7 9]\n"
          ]
        }
      ],
      "source": [
        "# kondisi\n",
        "arr_a % 2 != 0\n",
        "\n",
        "# conditional indexing\n",
        "print(arr_a[arr_a % 2 != 0])"
      ]
    },
    {
      "cell_type": "code",
      "execution_count": null,
      "id": "aa3ef663",
      "metadata": {},
      "outputs": [
        {
          "name": "stdout",
          "output_type": "stream",
          "text": [
            "[False  True False  True False  True False  True False]\n",
            "[False False  True False False  True False False  True]\n",
            "[2 3 4 6 8 9]\n",
            "[6]\n"
          ]
        }
      ],
      "source": [
        "# kondisi 1\n",
        "print(arr_a % 2 == 0)\n",
        "\n",
        "# kondisi 2\n",
        "print(arr_a % 3 == 0)\n",
        "\n",
        "# cara penulisan\n",
        "# array[(kondisi_1) operator (kondisi_2)]\n",
        "# AND: gunakan &\n",
        "# OR: gunakan |\n"
      ]
    },
    {
      "cell_type": "markdown",
      "id": "ebb38476-c368-49d4-87cf-ac5c57c7eca8",
      "metadata": {
        "id": "ebb38476-c368-49d4-87cf-ac5c57c7eca8"
      },
      "source": [
        "Saat bekerja dengan array numpy, mendapatkan *indeks* (bukan hanya nilai) elemen array yang memenuhi kondisi tertentu sering kali akan membantu. Ada beberapa fungsi numpy yang pasti ingin Anda ingat:\n",
        "\n",
        "- [`argmax`](https://numpy.org/doc/stable/reference/generated/numpy.argmax.html) (mendapatkan indeks elemen maksimum dalam array)\n",
        "- [`argmin`](https://numpy.org/doc/stable/reference/generated/numpy.argmin.html) (mendapatkan indeks elemen minimum dalam array)\n",
        "- [`argsort`](https://numpy.org/doc/stable/reference/generated/numpy.argsort.html) (mengurutkan daftar indeks, berdasarkan nilai elemen, dalam urutan menaik)\n",
        "- [`where`](https://numpy.org/doc/stable/reference/generated/numpy.where.html) (mendapatkan indeks elemen yang memenuhi kondisi tertentu)"
      ]
    },
    {
      "cell_type": "code",
      "execution_count": 53,
      "id": "c26e1c0c-8c12-4df9-99cd-9614e36b64ae",
      "metadata": {
        "id": "c26e1c0c-8c12-4df9-99cd-9614e36b64ae"
      },
      "outputs": [
        {
          "name": "stdout",
          "output_type": "stream",
          "text": [
            "[ 1  8  9 -3  2  4  7 11]\n",
            "nilai max 11\n",
            "nilai index max 7\n",
            "nilai min -3\n",
            "nilai index min 3\n"
          ]
        }
      ],
      "source": [
        "arr_a = np.array([1, 8, 9, -3, 2, 4, 7, 11])\n",
        "print(arr_a)\n",
        "\n",
        "# mencari nilai maksimum\n",
        "print('nilai max', np.max(arr_a))\n",
        "\n",
        "# mencari index dari nilai maksimum\n",
        "print('nilai index max', np.argmax(arr_a))\n",
        "\n",
        "# mencari nilai minimum\n",
        "print('nilai min', np.min(arr_a))\n",
        "\n",
        "# mencari index dari nilai minimum\n",
        "print('nilai index min', np.argmin(arr_a))"
      ]
    },
    {
      "cell_type": "code",
      "execution_count": 54,
      "id": "946f57c3",
      "metadata": {},
      "outputs": [
        {
          "name": "stdout",
          "output_type": "stream",
          "text": [
            "[ 1  8  9 -3  2  4  7 11]\n",
            "[-3  1  2  4  7  8  9 11]\n",
            "[3 0 4 5 6 1 2 7]\n"
          ]
        }
      ],
      "source": [
        "arr_a = np.array([1, 8, 9, -3, 2, 4, 7, 11])\n",
        "print(arr_a)\n",
        "\n",
        "# mengurutkan nilai dari terkecil ke terbesar\n",
        "print(np.sort(arr_a))\n",
        "\n",
        "# mengurutkan index berdasarkan nilainya dari terkecil ke terbesar\n",
        "print(np.argsort(arr_a))"
      ]
    },
    {
      "cell_type": "code",
      "execution_count": 55,
      "id": "6451c6bf",
      "metadata": {},
      "outputs": [
        {
          "name": "stdout",
          "output_type": "stream",
          "text": [
            "[ 1  8  9 -3  2  4  7 11]\n",
            "Index dari array yang nilainya <5 (array([0, 3, 4, 5], dtype=int64),)\n",
            "['Kecil' 'Besar' 'Besar' 'Kecil' 'Kecil' 'Kecil' 'Besar' 'Besar']\n"
          ]
        }
      ],
      "source": [
        "arr_a = np.array([1, 8, 9, -3, 2, 4, 7, 11])\n",
        "print(arr_a)\n",
        "\n",
        "# np.where(kondisi) - menampilkan index yang memenuhi kondisi\n",
        "print('Index dari array yang nilainya <5', np.where(arr_a<5))\n",
        "\n",
        "# np.where(kondisi, result ketika True, result ketika False)\n",
        "print(np.where(arr_a<5, 'Kecil', 'Besar'))"
      ]
    },
    {
      "cell_type": "markdown",
      "id": "83e9e67d-6b7c-4b76-897a-ed48c3d578f9",
      "metadata": {
        "id": "83e9e67d-6b7c-4b76-897a-ed48c3d578f9"
      },
      "source": [
        "Untuk singkatnya, kita mengabaikan banyak detail tentang pengindeksan array numpy; jika Anda ingin tahu lebih banyak Anda harus membaca dokumentasinya."
      ]
    },
    {
      "cell_type": "markdown",
      "id": "cb3c901b-b344-400d-9e0f-b2fa70e28e4d",
      "metadata": {
        "id": "cb3c901b-b344-400d-9e0f-b2fa70e28e4d"
      },
      "source": [
        "## **4. Array math**"
      ]
    },
    {
      "cell_type": "markdown",
      "id": "2fea02dd-c4f7-4bd4-8006-9a2cb0c7cef2",
      "metadata": {
        "id": "2fea02dd-c4f7-4bd4-8006-9a2cb0c7cef2"
      },
      "source": [
        "Apa yang membuat bekerja dengan `numpy` begitu kuat dan nyaman adalah karena ia hadir dengan banyak fungsi matematika *yang divektorkan* untuk komputasi elemen array. Fungsi-fungsi ini sangat optimal dan *sangat* cepat - jauh lebih cepat dibandingkan menggunakan loop `for` yang eksplisit.\n",
        "\n",
        "Misalnya, mari kita buat sejumlah besar nilai acak lalu jumlahkan keduanya. Kita akan menggunakan `%%time` *cell magic* untuk mengatur waktunya."
      ]
    },
    {
      "cell_type": "code",
      "execution_count": 56,
      "id": "b758d2d6",
      "metadata": {},
      "outputs": [
        {
          "name": "stdout",
          "output_type": "stream",
          "text": [
            "CPU times: total: 2.58 s\n",
            "Wall time: 9.69 s\n"
          ]
        }
      ],
      "source": [
        "%%time\n",
        "list_angka = range(10000000)\n",
        "list_akhir = [i*5 for i in list_angka]"
      ]
    },
    {
      "cell_type": "code",
      "execution_count": 57,
      "id": "08f24b86",
      "metadata": {},
      "outputs": [
        {
          "name": "stdout",
          "output_type": "stream",
          "text": [
            "CPU times: total: 62.5 ms\n",
            "Wall time: 338 ms\n"
          ]
        }
      ],
      "source": [
        "%%time\n",
        "arr_a = np.arange(10000000)\n",
        "arr_b = arr_a * 5"
      ]
    },
    {
      "cell_type": "markdown",
      "id": "c75990d9-6999-40a2-a0e3-e8207110676a",
      "metadata": {
        "id": "c75990d9-6999-40a2-a0e3-e8207110676a"
      },
      "source": [
        "Lihatlah “Wall Time” di output - perhatikan seberapa cepat versi operasi yang divektorkan! Jenis komputasi cepat ini merupakan pendorong utama machine learning, yang memerlukan *banyak* komputasi.\n",
        "\n",
        "Jika memungkinkan, kami akan mencoba menggunakan operasi vektorisasi ini."
      ]
    },
    {
      "cell_type": "markdown",
      "id": "604243cf-4411-44a3-9b25-789631caf959",
      "metadata": {
        "id": "604243cf-4411-44a3-9b25-789631caf959"
      },
      "source": [
        "Beberapa fungsi matematika tersedia sebagai kelebihan operator dan sebagai fungsi dalam modul numpy.\n",
        "\n",
        "Misalnya, Anda dapat melakukan penjumlahan berdasarkan elemen pada dua array menggunakan operator + atau fungsi `add()`.\n",
        "\n",
        "![](http://jalammar.github.io/images/numpy/numpy-arrays-adding-1.png)\n",
        "\n",
        "![](http://jalammar.github.io/images/numpy/numpy-matrix-arithmetic.png)"
      ]
    },
    {
      "cell_type": "code",
      "execution_count": 58,
      "id": "e6d49bb6-ebfe-4416-8a7f-c1f5b77e5e8a",
      "metadata": {
        "id": "e6d49bb6-ebfe-4416-8a7f-c1f5b77e5e8a"
      },
      "outputs": [
        {
          "name": "stdout",
          "output_type": "stream",
          "text": [
            "[[ 6  8]\n",
            " [10 12]]\n",
            "[[ 6  8]\n",
            " [10 12]]\n"
          ]
        }
      ],
      "source": [
        "# penjumlahan (element wise)\n",
        "x = np.array([[1, 2], [3, 4]])\n",
        "y = np.array([[5, 6], [7, 8]])\n",
        "print(x+y)\n",
        "print(np.add(x,y))\n"
      ]
    },
    {
      "cell_type": "markdown",
      "id": "66adf079-d0e8-4ceb-ae88-4e78447bb6d5",
      "metadata": {
        "id": "66adf079-d0e8-4ceb-ae88-4e78447bb6d5"
      },
      "source": [
        "Dan ini juga berfungsi untuk operasi lain, tidak hanya penambahan:\n",
        "\n",
        "![](http://jalammar.github.io/images/numpy/numpy-array-subtract-multiply-divide.png)"
      ]
    },
    {
      "cell_type": "code",
      "execution_count": 59,
      "id": "226ebb2f-a24c-4f22-ae1c-d4c5302882a8",
      "metadata": {
        "id": "226ebb2f-a24c-4f22-ae1c-d4c5302882a8"
      },
      "outputs": [
        {
          "name": "stdout",
          "output_type": "stream",
          "text": [
            "[[-4 -4]\n",
            " [-4 -4]]\n",
            "[[-4 -4]\n",
            " [-4 -4]]\n"
          ]
        }
      ],
      "source": [
        "# pengurangan (element wise)\n",
        "x = np.array([[1, 2], [3, 4]])\n",
        "y = np.array([[5, 6], [7, 8]])\n",
        "print(x-y)\n",
        "print(np.subtract(x,y))"
      ]
    },
    {
      "cell_type": "code",
      "execution_count": 60,
      "id": "85eebca1",
      "metadata": {},
      "outputs": [
        {
          "name": "stdout",
          "output_type": "stream",
          "text": [
            "[[0.2        0.33333333]\n",
            " [0.42857143 0.5       ]]\n",
            "[[0.2        0.33333333]\n",
            " [0.42857143 0.5       ]]\n"
          ]
        }
      ],
      "source": [
        "# pembagian (element wise)\n",
        "x = np.array([[1, 2], [3, 4]])\n",
        "y = np.array([[5, 6], [7, 8]])\n",
        "print(x/y)\n",
        "print(np.divide(x,y))"
      ]
    },
    {
      "cell_type": "code",
      "execution_count": 61,
      "id": "44c7587d",
      "metadata": {},
      "outputs": [
        {
          "name": "stdout",
          "output_type": "stream",
          "text": [
            "[[ 5 12]\n",
            " [21 32]]\n",
            "[[ 5 12]\n",
            " [21 32]]\n"
          ]
        }
      ],
      "source": [
        "# perkalian (element wise)\n",
        "x = np.array([[1, 2], [3, 4]])\n",
        "y = np.array([[5, 6], [7, 8]])\n",
        "print(x*y)\n",
        "print(np.multiply(x,y))"
      ]
    },
    {
      "cell_type": "markdown",
      "id": "d2125bff-5063-482e-97ac-f997665fe8a9",
      "metadata": {
        "id": "d2125bff-5063-482e-97ac-f997665fe8a9"
      },
      "source": [
        "Perhatikan bahwa tidak seperti MATLAB, `*` adalah perkalian elemen, bukan perkalian matriks. Sebagai gantinya, kita menggunakan fungsi `dot()` untuk menghitung hasil kali dalam vektor, mengalikan vektor dengan matriks, dan mengalikan matriks. `dot()` tersedia sebagai fungsi dalam modul numpy dan sebagai metode instance objek array:\n",
        "\n",
        "![](http://jalammar.github.io/images/numpy/numpy-matrix-dot-product-1.png)"
      ]
    },
    {
      "cell_type": "code",
      "execution_count": 213,
      "id": "6e8eaf91-4f6a-4c82-b2a9-b4ab9c840554",
      "metadata": {
        "id": "6e8eaf91-4f6a-4c82-b2a9-b4ab9c840554"
      },
      "outputs": [
        {
          "name": "stdout",
          "output_type": "stream",
          "text": [
            "[ 30201 302010]\n"
          ]
        }
      ],
      "source": [
        "arr_a = np.array([1,2,3])\n",
        "arr_b = np.array([[1, 10], [100,1000], [10000, 100000]])\n",
        "print(np.dot(arr_a, arr_b))"
      ]
    },
    {
      "cell_type": "markdown",
      "id": "15dfbf0b-74c0-4684-81a9-851d4ebabe6a",
      "metadata": {
        "id": "15dfbf0b-74c0-4684-81a9-851d4ebabe6a"
      },
      "source": [
        "Anda juga dapat menggunakan operator `@` yang setara dengan operator `dot` numpy."
      ]
    },
    {
      "cell_type": "code",
      "execution_count": 214,
      "id": "e42300f0-be37-4c96-9d21-7c67cf06d370",
      "metadata": {
        "id": "e42300f0-be37-4c96-9d21-7c67cf06d370"
      },
      "outputs": [
        {
          "name": "stdout",
          "output_type": "stream",
          "text": [
            "[ 30201 302010]\n"
          ]
        }
      ],
      "source": [
        "print(arr_a @ arr_b)"
      ]
    },
    {
      "cell_type": "markdown",
      "id": "df7ccfe0-587f-46e6-83c4-6a6cc38ff1ea",
      "metadata": {
        "id": "df7ccfe0-587f-46e6-83c4-6a6cc38ff1ea"
      },
      "source": [
        "Selain fungsi operator, Numpy juga menyediakan banyak fungsi berguna untuk melakukan komputasi pada array, seperti `min()`, `max()`, `sum()`, dan lain-lain:\n",
        "\n",
        "![](http://jalammar.github.io/images/numpy/numpy-matrix-aggregation-1.png)"
      ]
    },
    {
      "cell_type": "code",
      "execution_count": 62,
      "id": "66adf5e5-773e-48fd-aff1-b42cec7a0491",
      "metadata": {
        "id": "66adf5e5-773e-48fd-aff1-b42cec7a0491"
      },
      "outputs": [
        {
          "name": "stdout",
          "output_type": "stream",
          "text": [
            "[[1 2]\n",
            " [3 4]\n",
            " [5 6]]\n",
            "Nilai maksimum: 6\n",
            "Nilai minimum: 1\n",
            "Jumlah: 21\n",
            "Rata-rata: 3.5\n"
          ]
        }
      ],
      "source": [
        "arr_a = np.array([[1,2], [3,4], [5,6]])\n",
        "print(arr_a)\n",
        "\n",
        "print('Nilai maksimum:', np.max(arr_a))\n",
        "print('Nilai minimum:', np.min(arr_a))\n",
        "print('Jumlah:', np.sum(arr_a))\n",
        "print('Rata-rata:', np.mean(arr_a))"
      ]
    },
    {
      "cell_type": "markdown",
      "id": "96121e02-4803-40ec-a8be-5c054519754d",
      "metadata": {
        "id": "96121e02-4803-40ec-a8be-5c054519754d"
      },
      "source": [
        "Kita tidak hanya dapat mengagregasi semua nilai dalam matriks menggunakan fungsi tersebut, namun kita juga dapat mengagregasi seluruh baris atau kolom dengan menggunakan parameter `axis`:\n",
        "\n",
        "![](http://jalammar.github.io/images/numpy/numpy-matrix-aggregation-4.png)"
      ]
    },
    {
      "cell_type": "code",
      "execution_count": 221,
      "id": "c5b0a1f4-4a9e-4d6f-aec0-21473253cda3",
      "metadata": {
        "id": "c5b0a1f4-4a9e-4d6f-aec0-21473253cda3"
      },
      "outputs": [
        {
          "name": "stdout",
          "output_type": "stream",
          "text": [
            "[[1 2]\n",
            " [5 3]\n",
            " [4 6]]\n",
            "Nilai maksimum pada tiap kolom: [5 6]\n",
            "Nilai maksimum pada tiap baris: [2 5 6]\n",
            "Jumlah pada tiap kolom: [10 11]\n",
            "Jumlah pada tiap baris: [ 3  8 10]\n"
          ]
        }
      ],
      "source": [
        "arr_a = np.array([[1,2], [5,3], [4,6]])\n",
        "print(arr_a)\n",
        "\n",
        "print('Nilai maksimum pada tiap kolom:', np.max(arr_a, axis=0))\n",
        "print('Nilai maksimum pada tiap baris:', np.max(arr_a, axis=1))\n",
        "\n",
        "print('Jumlah pada tiap kolom:', np.sum(arr_a, axis=0))\n",
        "print('Jumlah pada tiap baris:', np.sum(arr_a, axis=1))"
      ]
    },
    {
      "cell_type": "markdown",
      "id": "e9b3473b-9d78-49b4-b405-9dcf386b93e0",
      "metadata": {
        "id": "e9b3473b-9d78-49b4-b405-9dcf386b93e0"
      },
      "source": [
        "Anda dapat menemukan daftar lengkap fungsi matematika yang disediakan oleh numpy di [dokumentasi](http://docs.scipy.org/doc/numpy/reference/routines.math.html)."
      ]
    },
    {
      "cell_type": "markdown",
      "id": "d39ad048-edd3-4c0c-9620-13a8ba6cbf01",
      "metadata": {
        "id": "d39ad048-edd3-4c0c-9620-13a8ba6cbf01"
      },
      "source": [
        "## **5. Reshaping**\n",
        "\n",
        "Selain menghitung fungsi matematika menggunakan array, kita sering kali perlu membentuk ulang atau memanipulasi data dalam array. Contoh paling sederhana dari jenis operasi ini adalah mentransposisi matriks; untuk mengubah urutan matriks, cukup gunakan atribut T dari objek array.\n",
        "\n",
        "![](http://jalammar.github.io/images/numpy/numpy-transpose.png)"
      ]
    },
    {
      "cell_type": "code",
      "execution_count": 63,
      "id": "ddb52688-8f4d-4eb4-8249-c63a56b639a2",
      "metadata": {
        "id": "ddb52688-8f4d-4eb4-8249-c63a56b639a2"
      },
      "outputs": [
        {
          "name": "stdout",
          "output_type": "stream",
          "text": [
            "[[1 2]\n",
            " [3 4]\n",
            " [5 6]]\n",
            "[[1 3 5]\n",
            " [2 4 6]]\n",
            "[[1 3 5]\n",
            " [2 4 6]]\n"
          ]
        }
      ],
      "source": [
        "# melakukan transpose\n",
        "\n",
        "arr_a = np.array([[1,2], [3,4], [5,6]])\n",
        "print(arr_a)\n",
        "print(arr_a.T)\n",
        "print(np.transpose(arr_a))\n"
      ]
    },
    {
      "cell_type": "markdown",
      "id": "aed0f9ad-f114-42a5-aae1-09672bdffc97",
      "metadata": {
        "id": "aed0f9ad-f114-42a5-aae1-09672bdffc97"
      },
      "source": [
        "Dalam kasus penggunaan lebih lanjut, Anda mungkin perlu mengubah dimensi matriks tertentu. Hal ini sering terjadi dalam aplikasi machine learning di mana model tertentu mengharapkan bentuk tertentu untuk masukan yang berbeda dari kumpulan data Anda. Metode `reshape()` numpy berguna dalam kasus ini.\n",
        "\n",
        "![](http://jalammar.github.io/images/numpy/numpy-reshape.png)"
      ]
    },
    {
      "cell_type": "markdown",
      "id": "3ecf3a91-68c3-4186-a7ec-583d08e685db",
      "metadata": {
        "id": "3ecf3a91-68c3-4186-a7ec-583d08e685db"
      },
      "source": [
        "Tugas umum di kelas ini adalah mengubah array 1D menjadi array 2D, dan sebaliknya. Kita dapat menggunakan `reshape()` untuk ini.\n",
        "Misalnya, kita mempunyai array 2D ini, namun kita perlu memasukkannya ke fungsi yang mengharapkan array 1D."
      ]
    },
    {
      "cell_type": "code",
      "execution_count": 64,
      "id": "3257a6c6",
      "metadata": {},
      "outputs": [
        {
          "name": "stdout",
          "output_type": "stream",
          "text": [
            "[100. 200. 300. 400. 500. 600.]\n",
            "(6,)\n"
          ]
        }
      ],
      "source": [
        "arr_a = np.linspace(100,600,6)\n",
        "print(arr_a)\n",
        "print(arr_a.shape)\n"
      ]
    },
    {
      "cell_type": "code",
      "execution_count": 65,
      "id": "b1884a4d-c183-4c1a-b4aa-0e9e9925f284",
      "metadata": {
        "id": "b1884a4d-c183-4c1a-b4aa-0e9e9925f284"
      },
      "outputs": [
        {
          "name": "stdout",
          "output_type": "stream",
          "text": [
            "[[100. 200.]\n",
            " [300. 400.]\n",
            " [500. 600.]]\n",
            "(3, 2)\n"
          ]
        }
      ],
      "source": [
        "arr_b = arr_a.reshape(3,2)\n",
        "print(arr_b)\n",
        "print(arr_b.shape)\n"
      ]
    },
    {
      "cell_type": "code",
      "execution_count": 66,
      "id": "f50b0e30",
      "metadata": {},
      "outputs": [
        {
          "name": "stdout",
          "output_type": "stream",
          "text": [
            "[[100. 200. 300.]\n",
            " [400. 500. 600.]]\n",
            "(2, 3)\n"
          ]
        }
      ],
      "source": [
        "arr_c = arr_b.reshape(2,3)\n",
        "print(arr_c)\n",
        "print(arr_c.shape)"
      ]
    },
    {
      "cell_type": "code",
      "execution_count": null,
      "id": "b3724411",
      "metadata": {},
      "outputs": [
        {
          "name": "stdout",
          "output_type": "stream",
          "text": [
            "[[100.]\n",
            " [200.]\n",
            " [300.]\n",
            " [400.]\n",
            " [500.]\n",
            " [600.]]\n",
            "(6, 1)\n",
            "2\n"
          ]
        }
      ],
      "source": [
        "arr_d "
      ]
    },
    {
      "cell_type": "code",
      "execution_count": null,
      "id": "efb49546",
      "metadata": {},
      "outputs": [
        {
          "name": "stdout",
          "output_type": "stream",
          "text": [
            "[[100. 200. 300. 400. 500. 600.]]\n",
            "(1, 6)\n",
            "2\n"
          ]
        }
      ],
      "source": [
        "arr_d "
      ]
    },
    {
      "cell_type": "code",
      "execution_count": null,
      "id": "10ab5f3f",
      "metadata": {},
      "outputs": [
        {
          "name": "stdout",
          "output_type": "stream",
          "text": [
            "[100. 200. 300. 400. 500. 600.]\n",
            "(6,)\n",
            "1\n"
          ]
        }
      ],
      "source": [
        "arr_d "
      ]
    },
    {
      "cell_type": "markdown",
      "id": "7bd067b9-1f56-4714-8baa-75f81a8b4d2c",
      "metadata": {
        "id": "7bd067b9-1f56-4714-8baa-75f81a8b4d2c"
      },
      "source": [
        "Kita dapat menghilangkan dimensi ekstra yang “tidak perlu” dengan"
      ]
    },
    {
      "cell_type": "markdown",
      "id": "3224804b-5a14-4607-a536-4b3d584ee815",
      "metadata": {
        "id": "3224804b-5a14-4607-a536-4b3d584ee815"
      },
      "source": [
        "Perhatikan bahwa kita dapat meneruskan -1 sebagai satu dimensi dan numpy akan menyimpulkan ukuran yang benar berdasarkan ukuran matriks kita!\n",
        "\n",
        "Ada juga fungsi `squeeze()` yang menghapus *semua* dimensi “yang tidak perlu” (dimensi yang memiliki ukuran 1) dari array:"
      ]
    },
    {
      "cell_type": "code",
      "execution_count": 242,
      "id": "9c4a3539-3c94-4ac1-bae5-ccf4837dcccb",
      "metadata": {
        "id": "9c4a3539-3c94-4ac1-bae5-ccf4837dcccb"
      },
      "outputs": [
        {
          "name": "stdout",
          "output_type": "stream",
          "text": [
            "[[1]\n",
            " [2]\n",
            " [3]]\n",
            "[1 2 3]\n",
            "(3,)\n",
            "1\n"
          ]
        }
      ],
      "source": [
        "arr_a = np.array([[1], [2], [3]])\n",
        "print(arr_a)\n",
        "\n",
        "arr_b = np.squeeze(arr_a)\n",
        "print(arr_b)\n",
        "print(arr_b.shape)\n",
        "print(arr_b.ndim)"
      ]
    },
    {
      "cell_type": "markdown",
      "id": "38a91793-4a23-44c9-babf-2a304434fefb",
      "metadata": {
        "id": "38a91793-4a23-44c9-babf-2a304434fefb"
      },
      "source": [
        "Untuk beralih dari array 1D ke 2D, kita cukup menambahkan dimensi lain berukuran 1:"
      ]
    },
    {
      "cell_type": "code",
      "execution_count": null,
      "id": "616aac7c-8dda-4239-bef8-95d6992ec41f",
      "metadata": {
        "id": "616aac7c-8dda-4239-bef8-95d6992ec41f"
      },
      "outputs": [
        {
          "name": "stdout",
          "output_type": "stream",
          "text": [
            "[[1 2]\n",
            " [3 4]\n",
            " [5 6]]\n",
            "[[1]\n",
            " [2]\n",
            " [3]\n",
            " [4]\n",
            " [5]\n",
            " [6]]\n",
            "(6, 1)\n",
            "2\n"
          ]
        }
      ],
      "source": [
        "arr_a = np.array([[1, 2], [3, 4], [5, 6]])\n",
        "print(arr_a)\n",
        "\n",
        "arr_b = "
      ]
    },
    {
      "cell_type": "markdown",
      "id": "2f732295-05f9-4b61-9f24-8efd6b41de8d",
      "metadata": {
        "id": "2f732295-05f9-4b61-9f24-8efd6b41de8d"
      },
      "source": [
        "## **6. Broadcasting**"
      ]
    },
    {
      "cell_type": "markdown",
      "id": "7c21ce51-aeab-4da1-8d7f-60507ae6c22d",
      "metadata": {
        "id": "7c21ce51-aeab-4da1-8d7f-60507ae6c22d"
      },
      "source": [
        "Broadcasting adalah mekanisme kuat yang memungkinkan numpy bekerja dengan array dengan bentuk berbeda saat melakukan operasi aritmatika.\n",
        "\n",
        "Misalnya: aljabar linier dasar, kita hanya dapat menjumlahkan (dan melakukan operasi elemen serupa) dua matriks yang memiliki dimensi *sama*. Dalam numpy, jika kita ingin menjumlahkan dua matriks yang memiliki dimensi berbeda, numpy secara implisit akan “memperluas” dimensi salah satu matriks agar sesuai dengan matriks lainnya sehingga kita dapat melakukan operasinya.\n",
        "\n",
        "Jadi operasi ini akan berhasil, alih-alih mengembalikan error:\n",
        "\n",
        "![](https://sebastianraschka.com/images/blog/2020/numpy-intro/broadcasting-1.png)\n",
        "\n",
        "![](https://sebastianraschka.com/images/blog/2020/numpy-intro/broadcasting-2.png)"
      ]
    },
    {
      "cell_type": "markdown",
      "id": "aa6e5252-c604-45b4-870a-4e7c6020ae99",
      "metadata": {
        "id": "aa6e5252-c604-45b4-870a-4e7c6020ae99"
      },
      "source": [
        "Broadcasting dua array secara bersamaan mengikuti aturan berikut:\n",
        "\n",
        "**Aturan 1**: Jika dua array berbeda jumlah dimensinya, bentuk array dengan dimensi lebih sedikit akan diisi dengan array di sisi depannya (kiri).\n",
        "\n",
        "Misalnya, di sel berikut, `a` secara implisit akan diperluas ke bentuk (1,3):"
      ]
    },
    {
      "cell_type": "code",
      "execution_count": null,
      "id": "3e32bef1-4753-4893-89ca-4edc7288c766",
      "metadata": {
        "id": "3e32bef1-4753-4893-89ca-4edc7288c766"
      },
      "outputs": [
        {
          "name": "stdout",
          "output_type": "stream",
          "text": [
            "[[5 6 7]\n",
            " [6 7 8]\n",
            " [7 8 9]]\n"
          ]
        }
      ],
      "source": [
        "arr_a = [1, 2, 3]                   # Bentuk 1 dimensi --> di broadcast (1,3)\n",
        "arr_b = [[4], [5], [6]]             # Bentuk 2 dimensi (3,1)\n",
        "print(np.add(arr_a, arr_b))         # Bentuk 2 dimensi (3,3)"
      ]
    },
    {
      "cell_type": "markdown",
      "id": "d148066a-992b-4b46-9944-0cce3ac61189",
      "metadata": {
        "id": "d148066a-992b-4b46-9944-0cce3ac61189"
      },
      "source": [
        "**Aturan 2**: Jika bentuk kedua array tidak cocok di dimensi mana pun, array dengan bentuk sama dengan 1 di dimensi tersebut akan diregangkan agar sesuai dengan bentuk lainnya.\n",
        "\n",
        "Misalnya, di sel berikut `a` akan diperluas secara implisit ke bentuk (3,2):"
      ]
    },
    {
      "cell_type": "code",
      "execution_count": null,
      "id": "3ce72464-c36b-45e5-8de5-f24eb11c63fb",
      "metadata": {
        "id": "3ce72464-c36b-45e5-8de5-f24eb11c63fb"
      },
      "outputs": [
        {
          "name": "stdout",
          "output_type": "stream",
          "text": [
            "[[ 5  6]\n",
            " [ 8  9]\n",
            " [11 12]]\n"
          ]
        }
      ],
      "source": [
        "arr_a = np.array([[1], [2], [3]])               # bentuk 2 dimensi (3,1) \n",
        "arr_b = np.array([[4,5], [6,7], [8,9]])         # bentuk 2 dimensi (3,2) \n",
        "print(np.add(arr_a, arr_b))                     # Bentuk 2 dimensi (3,2)"
      ]
    },
    {
      "cell_type": "markdown",
      "id": "3cc70138-0b7f-4a3c-a561-416491b24704",
      "metadata": {
        "id": "3cc70138-0b7f-4a3c-a561-416491b24704"
      },
      "source": [
        "**Aturan 3**: Jika dalam dimensi apa pun ukurannya tidak sama dan tidak ada yang sama dengan 1, error akan muncul:"
      ]
    },
    {
      "cell_type": "code",
      "execution_count": 258,
      "id": "c73f809a-5255-4958-b8af-f5c078838df5",
      "metadata": {
        "id": "c73f809a-5255-4958-b8af-f5c078838df5"
      },
      "outputs": [
        {
          "ename": "ValueError",
          "evalue": "operands could not be broadcast together with shapes (2,2) (3,3) ",
          "output_type": "error",
          "traceback": [
            "\u001b[1;31m---------------------------------------------------------------------------\u001b[0m",
            "\u001b[1;31mValueError\u001b[0m                                Traceback (most recent call last)",
            "Input \u001b[1;32mIn [258]\u001b[0m, in \u001b[0;36m<cell line: 3>\u001b[1;34m()\u001b[0m\n\u001b[0;32m      1\u001b[0m arr_a \u001b[38;5;241m=\u001b[39m np\u001b[38;5;241m.\u001b[39marray([[\u001b[38;5;241m1\u001b[39m, \u001b[38;5;241m2\u001b[39m], [\u001b[38;5;241m3\u001b[39m, \u001b[38;5;241m4\u001b[39m]])                              \u001b[38;5;66;03m# bentuk: 2 dimensi (2,2)\u001b[39;00m\n\u001b[0;32m      2\u001b[0m arr_b \u001b[38;5;241m=\u001b[39m np\u001b[38;5;241m.\u001b[39marray([[\u001b[38;5;241m10\u001b[39m, \u001b[38;5;241m20\u001b[39m, \u001b[38;5;241m30\u001b[39m], [\u001b[38;5;241m40\u001b[39m, \u001b[38;5;241m50\u001b[39m, \u001b[38;5;241m60\u001b[39m], [\u001b[38;5;241m70\u001b[39m, \u001b[38;5;241m80\u001b[39m, \u001b[38;5;241m90\u001b[39m]])    \u001b[38;5;66;03m# bentuk: 2 dimensi (3,3)\u001b[39;00m\n\u001b[1;32m----> 3\u001b[0m \u001b[38;5;28mprint\u001b[39m(\u001b[43mnp\u001b[49m\u001b[38;5;241;43m.\u001b[39;49m\u001b[43madd\u001b[49m\u001b[43m(\u001b[49m\u001b[43marr_a\u001b[49m\u001b[43m,\u001b[49m\u001b[43m \u001b[49m\u001b[43marr_b\u001b[49m\u001b[43m)\u001b[49m)\n",
            "\u001b[1;31mValueError\u001b[0m: operands could not be broadcast together with shapes (2,2) (3,3) "
          ]
        }
      ],
      "source": [
        "arr_a = np.array([[1, 2], [3, 4]])                              # bentuk: 2 dimensi (2,2)\n",
        "arr_b = np.array([[10, 20, 30], [40, 50, 60], [70, 80, 90]])    # bentuk: 2 dimensi (3,3)\n",
        "print(np.add(arr_a, arr_b))   "
      ]
    },
    {
      "cell_type": "markdown",
      "id": "9fcb707a-3ec0-4d0c-a1d3-7410a58262e2",
      "metadata": {
        "id": "9fcb707a-3ec0-4d0c-a1d3-7410a58262e2"
      },
      "source": [
        "Untuk lebih jelasnya, Anda dapat membaca penjelasan dari [dokumentasi](http://docs.scipy.org/doc/numpy/user/basics.broadcasting.html).\n",
        "\n",
        "Fungsi yang mendukung broadcasting dikenal sebagai fungsi universal. Anda dapat menemukan daftar semua fungsi universal di [dokumentasi](http://docs.scipy.org/doc/numpy/reference/ufuncs.html#available-ufuncs).\n",
        "\n",
        "Berikut adalah beberapa contoh visual yang melibatkan broadcasting.\n",
        "\n",
        "![](http://jalammar.github.io/images/numpy/numpy-array-broadcast.png)\n",
        "\n",
        "Perhatikan bahwa array ini kompatibel di setiap dimensi jika mereka memiliki ukuran yang sama dalam dimensi tersebut, atau jika satu array memiliki ukuran 1 dalam dimensi tersebut.\n",
        "\n",
        "![](http://jalammar.github.io/images/numpy/numpy-matrix-broadcast.png)"
      ]
    },
    {
      "cell_type": "markdown",
      "id": "cbc5165b-fc47-4e14-8b58-3012adbad24e",
      "metadata": {
        "id": "cbc5165b-fc47-4e14-8b58-3012adbad24e"
      },
      "source": [
        "Dan berikut beberapa penerapan yang lebih praktis:"
      ]
    },
    {
      "cell_type": "code",
      "execution_count": null,
      "id": "2d4ac7f1-4aa5-445a-8cad-3cafc8946055",
      "metadata": {
        "id": "2d4ac7f1-4aa5-445a-8cad-3cafc8946055"
      },
      "outputs": [
        {
          "ename": "ValueError",
          "evalue": "operands could not be broadcast together with shapes (2,2) (4,4) ",
          "output_type": "error",
          "traceback": [
            "\u001b[1;31m---------------------------------------------------------------------------\u001b[0m",
            "\u001b[1;31mValueError\u001b[0m                                Traceback (most recent call last)",
            "Input \u001b[1;32mIn [259]\u001b[0m, in \u001b[0;36m<cell line: 3>\u001b[1;34m()\u001b[0m\n\u001b[0;32m      1\u001b[0m arr_a \u001b[38;5;241m=\u001b[39m np\u001b[38;5;241m.\u001b[39marray([[\u001b[38;5;241m1\u001b[39m, \u001b[38;5;241m2\u001b[39m], [\u001b[38;5;241m3\u001b[39m, \u001b[38;5;241m4\u001b[39m]])                                                                      \u001b[38;5;66;03m# bentuk: 2 dimensi (2,2)\u001b[39;00m\n\u001b[0;32m      2\u001b[0m arr_b \u001b[38;5;241m=\u001b[39m np\u001b[38;5;241m.\u001b[39marray([[\u001b[38;5;241m10\u001b[39m, \u001b[38;5;241m20\u001b[39m, \u001b[38;5;241m30\u001b[39m, \u001b[38;5;241m40\u001b[39m], [\u001b[38;5;241m50\u001b[39m, \u001b[38;5;241m60\u001b[39m, \u001b[38;5;241m70\u001b[39m, \u001b[38;5;241m80\u001b[39m], [\u001b[38;5;241m90\u001b[39m, \u001b[38;5;241m100\u001b[39m, \u001b[38;5;241m110\u001b[39m, \u001b[38;5;241m120\u001b[39m], [\u001b[38;5;241m130\u001b[39m, \u001b[38;5;241m140\u001b[39m, \u001b[38;5;241m150\u001b[39m, \u001b[38;5;241m160\u001b[39m]])       \u001b[38;5;66;03m# bentuk: 2 dimensi (4,4)\u001b[39;00m\n\u001b[1;32m----> 3\u001b[0m \u001b[38;5;28mprint\u001b[39m(\u001b[43mnp\u001b[49m\u001b[38;5;241;43m.\u001b[39;49m\u001b[43madd\u001b[49m\u001b[43m(\u001b[49m\u001b[43marr_a\u001b[49m\u001b[43m,\u001b[49m\u001b[43m \u001b[49m\u001b[43marr_b\u001b[49m\u001b[43m)\u001b[49m)\n",
            "\u001b[1;31mValueError\u001b[0m: operands could not be broadcast together with shapes (2,2) (4,4) "
          ]
        }
      ],
      "source": [
        "# akan error\n",
        "arr_a = np.array([[1, 2], [3, 4]])                                                                      \n",
        "arr_b = np.array([[10, 20, 30, 40], [50, 60, 70, 80], [90, 100, 110, 120], [130, 140, 150, 160]])       \n",
        " "
      ]
    },
    {
      "cell_type": "code",
      "execution_count": null,
      "id": "f694275c",
      "metadata": {},
      "outputs": [
        {
          "name": "stdout",
          "output_type": "stream",
          "text": [
            "[[ 10  40  90 160]\n",
            " [ 50 120 210 320]]\n"
          ]
        }
      ],
      "source": [
        "arr_a = np.array([[1, 2, 3, 4]])                                   \n",
        "arr_b = np.array([[10, 20, 30, 40], [50, 60, 70, 80]])              \n"
      ]
    },
    {
      "cell_type": "markdown",
      "id": "a2b8e88d-856f-4bd2-b266-cc579edc202f",
      "metadata": {
        "id": "a2b8e88d-856f-4bd2-b266-cc579edc202f"
      },
      "source": [
        "Broadcasting biasanya membuat kode Anda lebih ringkas dan cepat, jadi Anda harus berusaha menggunakannya jika memungkinkan"
      ]
    },
    {
      "cell_type": "markdown",
      "id": "ea213900-99db-4c10-9047-17abbb7b8772",
      "metadata": {
        "id": "ea213900-99db-4c10-9047-17abbb7b8772"
      },
      "source": [
        "Ikhtisar singkat ini telah menyentuh banyak hal penting yang perlu Anda ketahui tentang numpy, namun masih jauh dari lengkap. Lihat [referensi numpy](http://docs.scipy.org/doc/numpy/reference/) untuk mengetahui lebih banyak tentang numpy."
      ]
    }
  ],
  "metadata": {
    "colab": {
      "provenance": []
    },
    "kernelspec": {
      "display_name": "Python 3",
      "language": "python",
      "name": "python3"
    },
    "language_info": {
      "codemirror_mode": {
        "name": "ipython",
        "version": 3
      },
      "file_extension": ".py",
      "mimetype": "text/x-python",
      "name": "python",
      "nbconvert_exporter": "python",
      "pygments_lexer": "ipython3",
      "version": "3.11.5"
    }
  },
  "nbformat": 4,
  "nbformat_minor": 5
}

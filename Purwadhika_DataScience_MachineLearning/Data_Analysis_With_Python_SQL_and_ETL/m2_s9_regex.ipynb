{
 "cells": [
  {
   "cell_type": "markdown",
   "metadata": {},
   "source": [
    "# **Introduction to Regex**\n",
    "\n",
    "Regular Expression (dipendekkan menjadi regex atau regexp) adalah serangkaian karakter yang mendefinisikan sebuah pola pencarian. Pola tersebut biasanya digunakan oleh algoritme pencarian string untuk melakukan operasi \"cari\" atau \"cari dan ganti\" pada string, atau untuk memeriksa string input. Regular Expression merupakan teknik yang dikembangakan dalam bidang ilmu komputer teori dan teori bahasa formal.\n",
    "\n",
    "Konsep ini muncul pada 1950-an ketika matematikawan Amerika Stephen Cole Kleene memformalkan deskripsi sebuah bahasa reguler. Regular Expression digunakan untuk mencocokan atau mencari pola dari dalam text seperti di mesin pencari, dialog cari dan ganti dalam pengolah kata dan penyunting teks, dalam utilitas pengolahan teks dan dalam analisis leksikal. Kebanyakan bahasa pemrograman menyediakan pengolah Regular Expression baik secara bawaan atau melalui pustaka.\n",
    "\n",
    "___"
   ]
  },
  {
   "cell_type": "code",
   "execution_count": 1,
   "metadata": {},
   "outputs": [],
   "source": [
    "# pip install regex"
   ]
  },
  {
   "cell_type": "code",
   "execution_count": 1,
   "metadata": {},
   "outputs": [],
   "source": [
    "import re"
   ]
  },
  {
   "cell_type": "markdown",
   "metadata": {},
   "source": [
    "## **1. Searching for Patterns in Text**\n",
    "\n",
    "Salah satu kegunaan paling umum dari modul re adalah untuk menemukan pola dalam teks. Mari kita lakukan contoh singkat penggunaan metode pencarian di modul re untuk menemukan beberapa teks:"
   ]
  },
  {
   "cell_type": "code",
   "execution_count": 3,
   "metadata": {},
   "outputs": [
    {
     "name": "stdout",
     "output_type": "stream",
     "text": [
      "Mencari pola \"kucing\" pada: \n",
      "\"Ini adalah string dengan kata kucing, tetapi tidak ada kata lainnya\"\n",
      "Match was found. \n",
      "\n",
      "Mencari pola \"anjing\" pada: \n",
      "\"Ini adalah string dengan kata kucing, tetapi tidak ada kata lainnya\"\n",
      "No Match was found.\n",
      "\n"
     ]
    }
   ],
   "source": [
    "# List of patterns to search for\n",
    "patterns = [ 'kucing', 'anjing' ]\n",
    "\n",
    "# Text to parse\n",
    "text = 'Ini adalah string dengan kata kucing, tetapi tidak ada kata lainnya'\n",
    "\n",
    "for pattern in patterns:\n",
    "    print(f'Mencari pola \"{pattern}\" pada: \\n\"{text}\"')\n",
    "    \n",
    "    # Check for match\n",
    "    if re.search(pattern,  text):\n",
    "        print('Match was found. \\n')\n",
    "    else:\n",
    "        print('No Match was found.\\n')"
   ]
  },
  {
   "cell_type": "markdown",
   "metadata": {},
   "source": [
    "Sekarang kita telah melihat bahwa `re.search()` akan mengambil polanya, memindai teksnya, dan kemudian mengembalikan objek **Match**. Jika tidak ada pola yang ditemukan, **None** yang dikembalikan. Untuk memberikan gambaran yang lebih jelas tentang objek pencocokan ini, lihat sel di bawah ini:"
   ]
  },
  {
   "cell_type": "code",
   "execution_count": 4,
   "metadata": {},
   "outputs": [
    {
     "data": {
      "text/plain": [
       "re.Match"
      ]
     },
     "execution_count": 4,
     "metadata": {},
     "output_type": "execute_result"
    }
   ],
   "source": [
    "# List of patterns to search for\n",
    "pattern = 'kucing'\n",
    "\n",
    "# Text to parse\n",
    "text = 'Ini adalah string dengan kata kucing, tetapi tidak ada kata lainnya'\n",
    "\n",
    "match = re.search(pattern,  text)\n",
    "\n",
    "type(match)"
   ]
  },
  {
   "cell_type": "markdown",
   "metadata": {},
   "source": [
    "Objek **Match** yang dikembalikan oleh metode `search()` lebih dari sekedar **Boolean** atau **None**, objek ini berisi informasi tentang kecocokan, termasuk string input yang asli, regex yang digunakan, dan lokasi kecocokan. Mari kita lihat metode yang bisa kita gunakan pada objek match:"
   ]
  },
  {
   "cell_type": "code",
   "execution_count": 5,
   "metadata": {},
   "outputs": [
    {
     "data": {
      "text/plain": [
       "30"
      ]
     },
     "execution_count": 5,
     "metadata": {},
     "output_type": "execute_result"
    }
   ],
   "source": [
    "# Show start of match\n",
    "match.start()"
   ]
  },
  {
   "cell_type": "code",
   "execution_count": 6,
   "metadata": {},
   "outputs": [
    {
     "data": {
      "text/plain": [
       "36"
      ]
     },
     "execution_count": 6,
     "metadata": {},
     "output_type": "execute_result"
    }
   ],
   "source": [
    "# Show start of match\n",
    "match.end()"
   ]
  },
  {
   "cell_type": "markdown",
   "metadata": {},
   "source": [
    "## **2. Split with reguler expressions**\n",
    "\n",
    "Mari kita lihat bagaimana kita dapat memisahkan dengan sintaks re. Ini akan terlihat serupa dengan cara Anda menggunakan metode `split()` pada string."
   ]
  },
  {
   "cell_type": "code",
   "execution_count": 7,
   "metadata": {},
   "outputs": [
    {
     "data": {
      "text/plain": [
       "['Apa nama domain dari seseorang yang menggunakan email: hello', 'gmail.com']"
      ]
     },
     "execution_count": 7,
     "metadata": {},
     "output_type": "execute_result"
    }
   ],
   "source": [
    "# Term to split on\n",
    "split_term = '@'\n",
    "\n",
    "phrase = 'Apa nama domain dari seseorang yang menggunakan email: hello@gmail.com'\n",
    "\n",
    "# Split the phrase\n",
    "re.split(split_term,phrase)"
   ]
  },
  {
   "cell_type": "markdown",
   "metadata": {},
   "source": [
    "Perhatikan bagaimana `re.split()` mengembalikan list dalam versi string yang dipisah."
   ]
  },
  {
   "cell_type": "markdown",
   "metadata": {},
   "source": [
    "## **3. Substitutes with reguler expressions**\n",
    "\n",
    "Fungsi regex lain yang sangat berguna adalah `re.sub()`, yang menggantikan satu bit teks dengan teks lainnya jika menemukan kecocokan. Berikut ini contohnya:\n"
   ]
  },
  {
   "cell_type": "code",
   "execution_count": 2,
   "metadata": {},
   "outputs": [
    {
     "name": "stdout",
     "output_type": "stream",
     "text": [
      "The analytics firm uses a range of business intelligence tools to  visualize data. Their internal data science team suggests\n",
      "business intelligence tools may be their most valuable resource.\n"
     ]
    }
   ],
   "source": [
    "sentence = '''The analytics firm uses a range of BI tools to  visualize data. Their internal data science team suggests\n",
    "bi tools may be their most valuable resource.'''\n",
    "\n",
    "match = re.sub(r'bi','business intelligence', sentence, flags=re.IGNORECASE)\n",
    "# The IGNORECASE flag allows for matches regardless of the case\n",
    "\n",
    "print(match)"
   ]
  },
  {
   "cell_type": "markdown",
   "metadata": {},
   "source": [
    "## **4. Finding all instances of a pattern**"
   ]
  },
  {
   "cell_type": "markdown",
   "metadata": {},
   "source": [
    "Kita dapat menggunakan `re.findall()` untuk menemukan semua contoh pola dalam sebuah string. Misalnya:"
   ]
  },
  {
   "cell_type": "code",
   "execution_count": 8,
   "metadata": {},
   "outputs": [
    {
     "data": {
      "text/plain": [
       "['kucing', 'kucing', 'kucing', 'kucing']"
      ]
     },
     "execution_count": 8,
     "metadata": {},
     "output_type": "execute_result"
    }
   ],
   "source": [
    "# Returns a list of all matches\n",
    "# syntax : re.findall(pattern, string)\n",
    "\n",
    "re.findall('kucing','Disini ada kucing, disana ada kucing, dimana-mana ada kucing. Bahkan emailku pun kucing123@gmail.com')"
   ]
  },
  {
   "cell_type": "markdown",
   "metadata": {},
   "source": [
    "## **5. Character Set**\n",
    "\n",
    "Character set digunakan ketika Anda ingin mencocokkan salah satu dari sekelompok karakter pada suatu titik di input. Tanda kurung digunakan untuk membuat input character set. Misalnya: masukan [ab] mencari kemunculan a atau b. Secara umum aturan dari character set adalah sebagai berikut:\n",
    "\n",
    "- menggunakan kurung siku []\n",
    "- [] mengindikasikan karakter yang diinginkan\n",
    "- [] mewakili slot untuk satu karakter\n",
    "\n",
    "Mari kita lihat beberapa contoh:"
   ]
  },
  {
   "cell_type": "markdown",
   "metadata": {},
   "source": [
    "- mencari/menemukan kata `batuk`"
   ]
  },
  {
   "cell_type": "code",
   "execution_count": 9,
   "metadata": {},
   "outputs": [
    {
     "data": {
      "text/plain": [
       "['batuk', 'batuk']"
      ]
     },
     "execution_count": 9,
     "metadata": {},
     "output_type": "execute_result"
    }
   ],
   "source": [
    "words = 'Orang Batak botak kepala batok pakai batik batuk-batuk.'\n",
    "pattern = 'batuk'\n",
    "\n",
    "re.findall(pattern = pattern, string = words)\n",
    "# output berupa ['batuk', 'batuk']\n",
    "# 'batuk' dari 'batuk'\n",
    "# 'batuk' dari 'batuk'"
   ]
  },
  {
   "cell_type": "markdown",
   "metadata": {},
   "source": [
    "- mencari/menemukan kata `batik` dan `batuk`"
   ]
  },
  {
   "cell_type": "code",
   "execution_count": 10,
   "metadata": {},
   "outputs": [
    {
     "data": {
      "text/plain": [
       "['batik', 'batuk', 'batuk']"
      ]
     },
     "execution_count": 10,
     "metadata": {},
     "output_type": "execute_result"
    }
   ],
   "source": [
    "words = 'Orang Batak botak kepala batok pakai batik batuk-batuk.'\n",
    "pattern = 'bat[iu]k'\n",
    "\n",
    "re.findall(pattern = pattern, string = words)\n",
    "# hanya match dengan kata yang index ke-3-nya huruf 'i' atau 'u'"
   ]
  },
  {
   "cell_type": "markdown",
   "metadata": {},
   "source": [
    "- mencari/menemukan kata `Batak, batok, batik` dan `batuk`"
   ]
  },
  {
   "cell_type": "code",
   "execution_count": 11,
   "metadata": {},
   "outputs": [
    {
     "data": {
      "text/plain": [
       "['Batak', 'batok', 'batik', 'batuk', 'batuk']"
      ]
     },
     "execution_count": 11,
     "metadata": {},
     "output_type": "execute_result"
    }
   ],
   "source": [
    "words = 'Orang Batak botak kepala batok pakai batik batuk-batuk.'\n",
    "pattern = '[Bb]at[aiuo]k'\n",
    "\n",
    "re.findall(pattern = pattern, string = words)\n",
    "# hanya match dengan kata yang index ke-3-nya huruf 'a', 'i', 'u' atau 'o'"
   ]
  },
  {
   "cell_type": "markdown",
   "metadata": {},
   "source": [
    "## **6. Character Range**\n",
    "\n",
    "Ketika character set bertambah besar, mengetik setiap karakter yang seharusnya (atau tidak seharusnya) cocok bisa menjadi sangat membosankan. Format yang lebih ringkas menggunakan character range memungkinkan Anda menentukan character set untuk menyertakan semua karakter yang berdekatan antara titik awal dan titik akhir. Format yang digunakan adalah `[awal-akhir]`.\n",
    "\n",
    "Kasus penggunaan umum adalah untuk mencari rentang huruf tertentu dalam alfabet, seperti `[a-f]` akan menghasilkan kecocokan dengan huruf apa pun antara a dan f.\n",
    "\n",
    "Mari kita lihat beberapa contoh:"
   ]
  },
  {
   "cell_type": "markdown",
   "metadata": {},
   "source": [
    "- mencari kata dengan 5 huruf, diawali 'de', kemudian diikuti 3 huruf kecil apapun."
   ]
  },
  {
   "cell_type": "code",
   "execution_count": 32,
   "metadata": {},
   "outputs": [
    {
     "data": {
      "text/plain": [
       "['debam', 'dengu', 'denti', 'derin', 'desin']"
      ]
     },
     "execution_count": 32,
     "metadata": {},
     "output_type": "execute_result"
    }
   ],
   "source": [
    "words = 'debam, de.um, deCAK, dengung, denTum, denting, der1k, derIt, dering, des4H, desing, des!r, deSI5, det@k'\n",
    "\n",
    "pattern = 'de[abcdefghijklmnopqrstuvwxyz][abcdefghijklmnopqrstuvwxyz][abcdefghijklmnopqrstuvwxyz]'  # character set : menyebutkan satu per satu huruf mulai dari a sampai z\n",
    "\n",
    "re.findall(pattern = pattern, string = words)"
   ]
  },
  {
   "cell_type": "code",
   "execution_count": 33,
   "metadata": {},
   "outputs": [
    {
     "data": {
      "text/plain": [
       "['debam', 'dengu', 'denti', 'derin', 'desin']"
      ]
     },
     "execution_count": 33,
     "metadata": {},
     "output_type": "execute_result"
    }
   ],
   "source": [
    "words = 'debam, de.um, deCAK, dengung, denTum, denting, der1k, derIt, dering, des4H, desing, des!r, deSI5, det@k'\n",
    "pattern = 'de[a-z][a-z][a-z]'  # character range : menyebutkan range huruf\n",
    "\n",
    "re.findall(pattern = pattern, string = words)"
   ]
  },
  {
   "cell_type": "markdown",
   "metadata": {},
   "source": [
    "- mencari kata dengan 5 huruf, diawali 'de', kemudian diikuti 3 huruf kecil atau huruf besar apapun."
   ]
  },
  {
   "cell_type": "code",
   "execution_count": 34,
   "metadata": {},
   "outputs": [
    {
     "data": {
      "text/plain": [
       "['debam', 'deCAK', 'dengu', 'denTu', 'denti', 'derIt', 'derin', 'desin']"
      ]
     },
     "execution_count": 34,
     "metadata": {},
     "output_type": "execute_result"
    }
   ],
   "source": [
    "words = 'debam, de.um, deCAK, dengung, denTum, denting, der1k, derIt, dering, des4H, desing, des!r, deSI5, det@k'\n",
    "pattern = 'de[a-zA-Z][a-zA-Z][a-zA-Z]'                    \n",
    "\n",
    "re.findall(pattern = pattern, string = words)"
   ]
  },
  {
   "cell_type": "markdown",
   "metadata": {},
   "source": [
    "- mencari kata dengan 5 huruf, diawali 'de', kemudian diikuti 3 huruf kecil, huruf besar, atau angka apapun."
   ]
  },
  {
   "cell_type": "code",
   "execution_count": 35,
   "metadata": {},
   "outputs": [
    {
     "data": {
      "text/plain": [
       "['debam',\n",
       " 'deCAK',\n",
       " 'dengu',\n",
       " 'denTu',\n",
       " 'denti',\n",
       " 'der1k',\n",
       " 'derIt',\n",
       " 'derin',\n",
       " 'des4H',\n",
       " 'desin',\n",
       " 'deSI5']"
      ]
     },
     "execution_count": 35,
     "metadata": {},
     "output_type": "execute_result"
    }
   ],
   "source": [
    "words = 'debam, de.um, deCAK, dengung, denTum, denting, der1k, derIt, dering, des4H, desing, des!r, deSI5, det@k'\n",
    "pattern = 'de[a-zA-Z0-9][a-zA-Z0-9][a-zA-Z0-9]'                    \n",
    "\n",
    "re.findall(pattern = pattern, string = words)"
   ]
  },
  {
   "cell_type": "markdown",
   "metadata": {},
   "source": [
    "- mencari kata dengan 5 huruf, diawali 'de', kemudian diikuti 3 karakter apapun."
   ]
  },
  {
   "cell_type": "code",
   "execution_count": 38,
   "metadata": {},
   "outputs": [
    {
     "data": {
      "text/plain": [
       "['debam',\n",
       " 'de.um',\n",
       " 'deCAK',\n",
       " 'dengu',\n",
       " 'denTu',\n",
       " 'denti',\n",
       " 'der1k',\n",
       " 'derIt',\n",
       " 'derin',\n",
       " 'des4H',\n",
       " 'desin',\n",
       " 'des!r',\n",
       " 'deSI5',\n",
       " 'det@k']"
      ]
     },
     "execution_count": 38,
     "metadata": {},
     "output_type": "execute_result"
    }
   ],
   "source": [
    "words = 'debam, de.um, deCAK, dengung, denTum, denting, der1k, derIt, dering, des4H, desing, des!r, deSI5, det@k'\n",
    "pattern = 'de[a-zA-Z0-9!-_][a-zA-Z0-9!-_][a-zA-Z0-9!-_]'                    \n",
    "\n",
    "re.findall(pattern = pattern, string = words)"
   ]
  },
  {
   "cell_type": "code",
   "execution_count": 39,
   "metadata": {},
   "outputs": [
    {
     "data": {
      "text/plain": [
       "['debam',\n",
       " 'de.um',\n",
       " 'deCAK',\n",
       " 'dengu',\n",
       " 'denTu',\n",
       " 'denti',\n",
       " 'der1k',\n",
       " 'derIt',\n",
       " 'derin',\n",
       " 'des4H',\n",
       " 'desin',\n",
       " 'des!r',\n",
       " 'deSI5',\n",
       " 'det@k']"
      ]
     },
     "execution_count": 39,
     "metadata": {},
     "output_type": "execute_result"
    }
   ],
   "source": [
    "words = 'debam, de.um, deCAK, dengung, denTum, denting, der1k, derIt, dering, des4H, desing, des!r, deSI5, det@k'\n",
    "pattern = 'de...'                    # . adalah wildcard berupa karakter apapun\n",
    "\n",
    "re.findall(pattern = pattern, string = words)"
   ]
  },
  {
   "cell_type": "markdown",
   "metadata": {},
   "source": [
    "- mencari kata dengan `de.um`."
   ]
  },
  {
   "cell_type": "code",
   "execution_count": 40,
   "metadata": {},
   "outputs": [
    {
     "data": {
      "text/plain": [
       "['de.um']"
      ]
     },
     "execution_count": 40,
     "metadata": {},
     "output_type": "execute_result"
    }
   ],
   "source": [
    "words = 'debam, de.um, deCAK, dengung, denTum, denting, der1k, derIt, dering, des4H, desing, des!r, deSI5, det@k'\n",
    "pattern = 'de[.]um'                   \n",
    "\n",
    "re.findall(pattern = pattern, string = words)"
   ]
  },
  {
   "cell_type": "code",
   "execution_count": 41,
   "metadata": {},
   "outputs": [
    {
     "data": {
      "text/plain": [
       "['de.um']"
      ]
     },
     "execution_count": 41,
     "metadata": {},
     "output_type": "execute_result"
    }
   ],
   "source": [
    "words = 'debam, de.um, deCAK, dengung, denTum, denting, der1k, derIt, dering, des4H, desing, des!r, deSI5, det@k'\n",
    "pattern = 'de\\.um'         # backslash berperan sebagai escape character sehingga titik terbaca sebagai titik\n",
    "\n",
    "re.findall(pattern = pattern, string = words)"
   ]
  },
  {
   "cell_type": "markdown",
   "metadata": {},
   "source": [
    "- buat pattern yang match dengan `XRA 000`, `1AA 2CD`, dan `XYZ 481`"
   ]
  },
  {
   "cell_type": "code",
   "execution_count": 66,
   "metadata": {},
   "outputs": [
    {
     "data": {
      "text/plain": [
       "['XRA 000', '1AA 2CD', 'XYZ 481']"
      ]
     },
     "execution_count": 66,
     "metadata": {},
     "output_type": "execute_result"
    }
   ],
   "source": [
    "words = 'XRA 000, 1AA 2CD, xyz 4810, XYZ 4810, XR1 000, ABC 77, COD 1, XY@ 123'\n",
    "pattern = '[A-Z0-9][A-Z][A-Z] [0-9][A-Z0-9][A-Z0-9]'\n",
    "\n",
    "re.findall(pattern = pattern, string = words)\n",
    "# xyz 481 --> tidak match karena 'xyz' huruf kecil\n",
    "# XYZ 481 --> match, karena sesuai pattern untuk 7 karakter yang pertama"
   ]
  },
  {
   "cell_type": "markdown",
   "metadata": {},
   "source": [
    "## **7. Quantified Repetition**\n",
    "\n",
    "Adakalanya kita ingin menentukan jumlah pengulangan yang kita inginkan tanpa perlu menulis ulang karakter yang dinginkan berkali-kali. Kita bisa menggunakan syntaks `{minimum_karakter, maksimum_karakter}` dimana `minimum_karakter` wajib kita isi. Syntaks tersebut akan melekat pada karakter sebelum tanda `{}`."
   ]
  },
  {
   "cell_type": "markdown",
   "metadata": {},
   "source": [
    "- buat pattern yang match dengan `XRA 000, 1AA 2CD`, dan `XYZ 481`"
   ]
  },
  {
   "cell_type": "code",
   "execution_count": 67,
   "metadata": {},
   "outputs": [
    {
     "data": {
      "text/plain": [
       "['XRA 000', '1AA 2CD', 'XYZ 481']"
      ]
     },
     "execution_count": 67,
     "metadata": {},
     "output_type": "execute_result"
    }
   ],
   "source": [
    "words = 'XRA 000, 1AA 2CD, xyz 4810, XYZ 4810, XR1 000, ABC 77, COD 1, XY@ 123'\n",
    "pattern = '[A-Z0-9][A-Z]{2} [0-9][A-Z0-9]{2}'\n",
    "\n",
    "re.findall(pattern = pattern, string = words)\n",
    "\n",
    "# pola '[A-Z0-9][A-Z]{2} [0-9][A-Z0-9]{2}' setara dengan\n",
    "# pola '[A-Z0-9][A-Z][A-Z] [0-9][A-Z0-9][A-Z0-9]'"
   ]
  },
  {
   "cell_type": "markdown",
   "metadata": {},
   "source": [
    "- buat pattern yang match dengan `XYZ 4810`"
   ]
  },
  {
   "cell_type": "code",
   "execution_count": 68,
   "metadata": {},
   "outputs": [
    {
     "data": {
      "text/plain": [
       "['XYZ 4810']"
      ]
     },
     "execution_count": 68,
     "metadata": {},
     "output_type": "execute_result"
    }
   ],
   "source": [
    "words = 'XRA 000, 1AA 2CD, xyz 4810, XYZ 4810, XR1 000, ABC 77, COD 1, XY@ 123'\n",
    "pattern = '[A-Z0-9][A-Z]{2} [0-9][A-Z0-9]{3}'\n",
    "\n",
    "re.findall(pattern = pattern, string = words)"
   ]
  },
  {
   "cell_type": "markdown",
   "metadata": {},
   "source": [
    "- buat pattern yang match dengan `XRA 000, 1AA 2CD` dan `XYZ 4810`"
   ]
  },
  {
   "cell_type": "code",
   "execution_count": 69,
   "metadata": {},
   "outputs": [
    {
     "data": {
      "text/plain": [
       "['XRA 000', '1AA 2CD', 'XYZ 4810']"
      ]
     },
     "execution_count": 69,
     "metadata": {},
     "output_type": "execute_result"
    }
   ],
   "source": [
    "words = 'XRA 000, 1AA 2CD, xyz 4810, XYZ 4810, XR1 000, ABC 77, COD 1, XY@ 123'\n",
    "pattern = '[A-Z0-9][A-Z]{2} [0-9][A-Z0-9]{2,3}'\n",
    "\n",
    "re.findall(pattern = pattern, string = words)\n",
    "# pengulangan hanya berlaku pada karakter yang menempel dengan tanda kurung kurawal\n",
    "# [A-Z]{2} --> artinya huruf kapital berulang 2 kali\n",
    "# [A-Z0-9]{2,3} --> artinya huruf kapital atau angka berulang minimal 2 kali dan maksimal 3 kali\n"
   ]
  },
  {
   "cell_type": "markdown",
   "metadata": {},
   "source": [
    "- buat pattern yang match dengan `XRA 000, 1AA 2CD, XYZ 4810`, dan `ABC 77`"
   ]
  },
  {
   "cell_type": "code",
   "execution_count": 70,
   "metadata": {},
   "outputs": [
    {
     "data": {
      "text/plain": [
       "['XRA 000', '1AA 2CD', 'XYZ 4810', 'ABC 77']"
      ]
     },
     "execution_count": 70,
     "metadata": {},
     "output_type": "execute_result"
    }
   ],
   "source": [
    "words = 'XRA 000, 1AA 2CD, xyz 4810, XYZ 4810, XR1 000, ABC 77, COD 1, XY@ 123'\n",
    "pattern = '[A-Z0-9][A-Z]{2} [0-9][A-Z0-9]{1,3}'\n",
    "\n",
    "re.findall(pattern = pattern, string = words)\n",
    "\n",
    "# pattern '[A-Z0-9][A-Z]{2} [0-9][A-Z0-9]{1,3}' setara dengan:\n",
    "# '[A-Z0-9][A-Z][A-Z] [0-9][A-Z0-9]'\n",
    "# '[A-Z0-9][A-Z][A-Z] [0-9][A-Z0-9][A-Z0-9]'\n",
    "# '[A-Z0-9][A-Z][A-Z] [0-9][A-Z0-9][A-Z0-9][A-Z0-9]'"
   ]
  },
  {
   "cell_type": "markdown",
   "metadata": {},
   "source": [
    "## **8. Metacharacters**\n",
    "\n",
    "Kita dapat menggunakan kode escape khusus untuk menemukan tipe pola tertentu dalam data Anda, seperti digit, non-digit, spasi, dan lainnya. Misalnya:\n",
    "\n",
    "Code |\tMeaning\n",
    "--- | ---\n",
    "\\d |\ta digit [0-9]\n",
    "\\D |\ta non-digit\n",
    "\\w |\talphanumeric [a-zA-Z0-9_]\n",
    "\\W |\tnon-alphanumeric\n",
    "\\s |\twhitespace (tab, space, newline, etc.)\n",
    "\\S |\tnon-whitespace"
   ]
  },
  {
   "cell_type": "markdown",
   "metadata": {},
   "source": [
    "- buat pattern yang match dengan `XRA 000, 1AA 2CD, XYZ 4810`, dan `ABC 77`"
   ]
  },
  {
   "cell_type": "code",
   "execution_count": 71,
   "metadata": {},
   "outputs": [
    {
     "data": {
      "text/plain": [
       "['XRA 000', '1AA 2CD', 'XYZ 4810', 'ABC 77']"
      ]
     },
     "execution_count": 71,
     "metadata": {},
     "output_type": "execute_result"
    }
   ],
   "source": [
    "words = 'XRA 000, 1AA 2CD, xyz 4810, XYZ 4810, XR1 000, ABC 77, COD 1, XY@ 123'\n",
    "pattern = '[A-Z0-9][A-Z]{2} [0-9][A-Z0-9]{1,3}'\n",
    "\n",
    "re.findall(pattern = pattern, string = words)"
   ]
  },
  {
   "cell_type": "code",
   "execution_count": 72,
   "metadata": {},
   "outputs": [
    {
     "data": {
      "text/plain": [
       "['XRA 000', '1AA 2CD', 'XYZ 4810', 'ABC 77']"
      ]
     },
     "execution_count": 72,
     "metadata": {},
     "output_type": "execute_result"
    }
   ],
   "source": [
    "words = 'XRA 000, 1AA 2CD, xyz 4810, XYZ 4810, XR1 000, ABC 77, COD 1, XY@ 123'\n",
    "pattern = '\\w[A-Z]{2}\\s\\d\\w{1,3}'\n",
    "\n",
    "re.findall(pattern = pattern, string = words)"
   ]
  },
  {
   "cell_type": "markdown",
   "metadata": {},
   "source": [
    "- buat pattern yang match dengan `XRA 000, 1AA 2CD, xyz 4810, XYZ 4810, XR1 000`, dan `ABC 77`"
   ]
  },
  {
   "cell_type": "code",
   "execution_count": 73,
   "metadata": {},
   "outputs": [
    {
     "data": {
      "text/plain": [
       "['XRA 000', '1AA 2CD', 'xyz 4810', 'XYZ 4810', 'XR1 000', 'ABC 77']"
      ]
     },
     "execution_count": 73,
     "metadata": {},
     "output_type": "execute_result"
    }
   ],
   "source": [
    "words = 'XRA 000, 1AA 2CD, xyz 4810, XYZ 4810, XR1 000, ABC 77, COD 1, XY@ 123'\n",
    "pattern = '\\w{3}\\s\\d\\w{1,3}'\n",
    "\n",
    "re.findall(pattern = pattern, string = words)\n",
    "\n",
    "# xyz 4810 --> ikut match, karena \\w ini mewakili alphanumeri (huruf besar, huruf kecil, angka, dan juga underscore)"
   ]
  },
  {
   "cell_type": "markdown",
   "metadata": {},
   "source": [
    "## **9. Exclusion**\n",
    "\n",
    "Kita dapat menggunakan ^ untuk mengecualikan istilah dengan memasukkannya ke dalam notasi sintaksis braket. Misalnya: `[^...]` akan cocok dengan karakter apa pun yang tidak ada dalam tanda kurung. Mari kita lihat contoh:"
   ]
  },
  {
   "cell_type": "markdown",
   "metadata": {},
   "source": [
    "- buat pattern yang match dengan `XRA 000, 1AA 2CD, xyz 4810, XYZ 4810, ABC 77`, dan `XY@ 123`"
   ]
  },
  {
   "cell_type": "code",
   "execution_count": 74,
   "metadata": {},
   "outputs": [
    {
     "data": {
      "text/plain": [
       "['XRA 000', '1AA 2CD', 'xyz 4810', 'XYZ 4810', 'ABC 77', 'XY@ 123']"
      ]
     },
     "execution_count": 74,
     "metadata": {},
     "output_type": "execute_result"
    }
   ],
   "source": [
    "words = 'XRA 000, 1AA 2CD, xyz 4810, XYZ 4810, XR1 000, ABC 77, COD 1, XY@ 123'\n",
    "pattern = '\\w{2}[^\\d]\\s\\d\\w{1,3}'\n",
    "\n",
    "re.findall(pattern = pattern, string = words)"
   ]
  },
  {
   "cell_type": "markdown",
   "metadata": {},
   "source": [
    "## **10. Repetition Metacharacters**\n",
    "\n",
    "Selain metacharacter yang telah  disebutkan di atas, terdapat repetition metacharacters yang meminta lebih dari satu kemunculan karakter. Tabel berikutnya menunjukkan semua repetition metacharacters.\n",
    "\n",
    "| Quantifier  | Role                               |\n",
    "| ---         | ---                                |\n",
    "| \\*          | 0 or more. Same as { , }             |\n",
    "| \\+          | 1 or more. Same as {1, }            | \n",
    "| \\?          | Optional, so 0 or 1. Same as { ,1}. |\n"
   ]
  },
  {
   "cell_type": "markdown",
   "metadata": {},
   "source": [
    "- `\\*` mencocokkan 0 kali atau lebih pengulangan"
   ]
  },
  {
   "cell_type": "code",
   "execution_count": 77,
   "metadata": {},
   "outputs": [
    {
     "data": {
      "text/plain": [
       "['XRA 000',\n",
       " ' 1',\n",
       " 'AA 2',\n",
       " ' ',\n",
       " 'xyz 4810',\n",
       " ' ',\n",
       " 'XYZ 4810',\n",
       " ' ',\n",
       " 'XR1 000',\n",
       " ' ',\n",
       " 'ABC 77',\n",
       " ' ',\n",
       " 'COD 1',\n",
       " ' ',\n",
       " ' 123']"
      ]
     },
     "execution_count": 77,
     "metadata": {},
     "output_type": "execute_result"
    }
   ],
   "source": [
    "words = 'XRA 000, 1AA 2CD, xyz 4810, XYZ 4810, XR1 000, ABC 77, COD 1, XY@ 123'\n",
    "pattern = '\\w*\\s\\d*'\n",
    "\n",
    "re.findall(pattern = pattern, string = words)\n",
    "\n",
    "# \\w* --> huruf kecil atau huruf besar atau angka atau underscore berulang sebanyak 0 kali atau lebih\n",
    "# \\s --> spasi\n",
    "# \\d* --> angka berulang sebanyak 0 kali atau lebih "
   ]
  },
  {
   "cell_type": "markdown",
   "metadata": {},
   "source": [
    "- `\\+` mencocokkan 1 kali atau lebih pengulangan"
   ]
  },
  {
   "cell_type": "code",
   "execution_count": 79,
   "metadata": {},
   "outputs": [
    {
     "data": {
      "text/plain": [
       "['XRA 000', '1AA 2', 'xyz 4810', 'XYZ 4810', 'XR1 000', 'ABC 77', 'COD 1']"
      ]
     },
     "execution_count": 79,
     "metadata": {},
     "output_type": "execute_result"
    }
   ],
   "source": [
    "words = 'XRA 000, 1AA 2CD, xyz 4810, XYZ 4810, XR1 000, ABC 77, COD 1, XY@ 123'\n",
    "pattern = '\\w+\\s\\d+'\n",
    "\n",
    "re.findall(pattern = pattern, string = words)\n",
    "\n",
    "# \\w+ --> huruf kecil atau huruf besar atau angka atau underscore berulang sebanyak 1 kali atau lebih\n",
    "# \\s --> spasi\n",
    "# \\d+ --> angka berulang sebanyak 1 kali atau lebih \n",
    "\n",
    "# artinya ada spasi yang dikirinya berupa huruf atau angka atau underscore adalah angka minimal 1 kali\n",
    "# dan dikanannya adalah angka minimal 1 kali atau lebih"
   ]
  },
  {
   "cell_type": "markdown",
   "metadata": {},
   "source": [
    "- `\\?` mencocokkan 0 atau 1 kali pengulangan"
   ]
  },
  {
   "cell_type": "code",
   "execution_count": 80,
   "metadata": {},
   "outputs": [
    {
     "data": {
      "text/plain": [
       "['A 0',\n",
       " ' 1',\n",
       " 'A 2',\n",
       " ' ',\n",
       " 'z 4',\n",
       " ' ',\n",
       " 'Z 4',\n",
       " ' ',\n",
       " '1 0',\n",
       " ' ',\n",
       " 'C 7',\n",
       " ' ',\n",
       " 'D 1',\n",
       " ' ',\n",
       " ' 1']"
      ]
     },
     "execution_count": 80,
     "metadata": {},
     "output_type": "execute_result"
    }
   ],
   "source": [
    "words = 'XRA 000, 1AA 2CD, xyz 4810, XYZ 4810, XR1 000, ABC 77, COD 1, XY@ 123'\n",
    "pattern = '\\w?\\s\\d?'\n",
    "\n",
    "re.findall(pattern = pattern, string = words)"
   ]
  },
  {
   "cell_type": "markdown",
   "metadata": {},
   "source": [
    "- menampilkan huruf dari setiap akun"
   ]
  },
  {
   "cell_type": "code",
   "execution_count": 81,
   "metadata": {},
   "outputs": [
    {
     "data": {
      "text/plain": [
       "['rihanna',\n",
       " 'ChampionsLeague',\n",
       " 'BTS',\n",
       " 'twt',\n",
       " 'taylorswift',\n",
       " 'NICKIMINAJ',\n",
       " 'KevinHart',\n",
       " 'real',\n",
       " 'Ronaldinho']"
      ]
     },
     "execution_count": 81,
     "metadata": {},
     "output_type": "execute_result"
    }
   ],
   "source": [
    "words = 'rihanna, ChampionsLeague, BTS_twt, taylorswift13, NICKIMINAJ, KevinHart4real, 10Ronaldinho'\n",
    "pattern = '[A-Za-z]+'\n",
    "\n",
    "re.findall(pattern = pattern, string = words)"
   ]
  },
  {
   "cell_type": "markdown",
   "metadata": {},
   "source": [
    "- menampilkan angka dari setiap akun"
   ]
  },
  {
   "cell_type": "code",
   "execution_count": 82,
   "metadata": {},
   "outputs": [
    {
     "data": {
      "text/plain": [
       "['13', '4', '10']"
      ]
     },
     "execution_count": 82,
     "metadata": {},
     "output_type": "execute_result"
    }
   ],
   "source": [
    "words = 'rihanna, ChampionsLeague, BTS_twt, taylorswift13, NICKIMINAJ, KevinHart4real, 10Ronaldinho'\n",
    "pattern = '\\d+'\n",
    "\n",
    "re.findall(pattern = pattern, string = words)"
   ]
  },
  {
   "cell_type": "markdown",
   "metadata": {},
   "source": [
    "- menampilkan setiap akun"
   ]
  },
  {
   "cell_type": "code",
   "execution_count": 83,
   "metadata": {},
   "outputs": [
    {
     "data": {
      "text/plain": [
       "['rihanna',\n",
       " 'ChampionsLeague',\n",
       " 'BTS_twt',\n",
       " 'taylorswift13',\n",
       " 'NICKIMINAJ',\n",
       " 'KevinHart4real',\n",
       " '10Ronaldinho']"
      ]
     },
     "execution_count": 83,
     "metadata": {},
     "output_type": "execute_result"
    }
   ],
   "source": [
    "words = 'rihanna, ChampionsLeague, BTS_twt, taylorswift13, NICKIMINAJ, KevinHart4real, 10Ronaldinho'\n",
    "pattern = '\\w+'\n",
    "\n",
    "re.findall(pattern = pattern, string = words)"
   ]
  },
  {
   "cell_type": "markdown",
   "metadata": {},
   "source": [
    "- menampilkan akun yang mengandung angka"
   ]
  },
  {
   "cell_type": "code",
   "execution_count": 89,
   "metadata": {},
   "outputs": [
    {
     "data": {
      "text/plain": [
       "['taylorswift13', 'KevinHart4real', '10Ronaldinho']"
      ]
     },
     "execution_count": 89,
     "metadata": {},
     "output_type": "execute_result"
    }
   ],
   "source": [
    "words = 'rihanna, ChampionsLeague, BTS_twt, taylorswift13, NICKIMINAJ, KevinHart4real, 10Ronaldinho'\n",
    "pattern = '\\w*\\d+\\w*'\n",
    "\n",
    "re.findall(pattern = pattern, string = words)\n",
    "\n",
    "# '[^\\s,]+' --> karakter selain spasi dan koma berulang minimal 1 kali atau lebih"
   ]
  },
  {
   "cell_type": "markdown",
   "metadata": {},
   "source": [
    "## **11. Grouping**\n",
    "\n",
    "Kita dapat menggunakan grouping untuk mencari karakter yang sama persis dengan regex yang ada di dalam kurung `()`. Manfaat dari grouping diantaranya kita dapat menerapkan perulangan ke dalam kelompok dan membuat regex menjadi lebih mudah dibaca"
   ]
  },
  {
   "cell_type": "code",
   "execution_count": 90,
   "metadata": {},
   "outputs": [
    {
     "data": {
      "text/plain": [
       "['abc', 'abcc', 'abcccc', 'abc', 'abc', 'abc', 'abc', 'abc']"
      ]
     },
     "execution_count": 90,
     "metadata": {},
     "output_type": "execute_result"
    }
   ],
   "source": [
    "words = 'ab, abc, abcc, abcccc, abcabc, abcabcabc'\n",
    "pattern = 'abc+'\n",
    "\n",
    "re.findall(pattern = pattern, string = words)\n"
   ]
  },
  {
   "cell_type": "markdown",
   "metadata": {},
   "source": [
    "Pada contoh di atas repetition metacharacter '+' melekat pada karakter `c`, sehingga `c`-nya yang minimal 1 kali atau lebih."
   ]
  },
  {
   "cell_type": "code",
   "execution_count": 92,
   "metadata": {},
   "outputs": [
    {
     "data": {
      "text/plain": [
       "['abc', 'abc', 'abc', 'abc', 'abc']"
      ]
     },
     "execution_count": 92,
     "metadata": {},
     "output_type": "execute_result"
    }
   ],
   "source": [
    "words = 'ab, abc, abcc, abcccc, abcabc, abcabcabc'\n",
    "pattern = '(abc)+'\n",
    "\n",
    "re.findall(pattern = pattern, string = words)"
   ]
  },
  {
   "cell_type": "markdown",
   "metadata": {},
   "source": [
    "Pada contoh di atas repetition metacharacter '+' melekat pada karakter `abc`, sehingga `abc`-nya yang minimal 1 kali atau lebih.\n",
    "Subtring yang ditampilkan adalah pola di dalam tanda kurung."
   ]
  },
  {
   "cell_type": "code",
   "execution_count": 94,
   "metadata": {},
   "outputs": [
    {
     "data": {
      "text/plain": [
       "['abc', 'abc', 'abc', 'abcabc', 'abcabcabc']"
      ]
     },
     "execution_count": 94,
     "metadata": {},
     "output_type": "execute_result"
    }
   ],
   "source": [
    "words = 'ab, abc, abcc, abcccc, abcabc, abcabcabc'\n",
    "pattern = '(?:abc)+'\n",
    "\n",
    "re.findall(pattern = pattern, string = words)"
   ]
  },
  {
   "cell_type": "markdown",
   "metadata": {},
   "source": [
    "Dengan menggunakan tanda `?:` di dalam grouping, maka yang ditampilkan adalah semua substring yang memuat `abc` 1 kali atau lebih : `abc`, `abcabc`, dst."
   ]
  },
  {
   "cell_type": "markdown",
   "metadata": {},
   "source": [
    "## **12. Alternative**\n",
    "\n",
    "Kita dapat mengunakan tanda `|` sebagai alternatif. Fungsinya mirip dengan OR pada python."
   ]
  },
  {
   "cell_type": "markdown",
   "metadata": {},
   "source": [
    "- buat pola yang menampilkan `pineapple juice` dan `watermelon juice` tanpa grouping."
   ]
  },
  {
   "cell_type": "code",
   "execution_count": null,
   "metadata": {},
   "outputs": [
    {
     "data": {
      "text/plain": [
       "['watermelon juice', 'pineapple juice']"
      ]
     },
     "metadata": {},
     "output_type": "display_data"
    }
   ],
   "source": [
    "words = 'apple juice, melon juice, watermelon juice, apple pie, pineapple juice'\n",
    "pattern = 'pineapple juice|watermelon juice'\n",
    "\n",
    "re.findall(pattern = pattern, string = words)"
   ]
  },
  {
   "cell_type": "markdown",
   "metadata": {},
   "source": [
    "- buat pola yang menampilkan `pineapple juice` dan `watermelon juice` dengan grouping."
   ]
  },
  {
   "cell_type": "code",
   "execution_count": null,
   "metadata": {},
   "outputs": [
    {
     "data": {
      "text/plain": [
       "['watermelon', 'pineapple']"
      ]
     },
     "metadata": {},
     "output_type": "display_data"
    }
   ],
   "source": [
    "words = 'apple juice, melon juice, watermelon juice, apple pie, pineapple juice'\n",
    "pattern = '(pineapple|watermelon) juice'\n",
    "\n",
    "re.findall(pattern = pattern, string = words)\n",
    "# disini match dengan pineapple juice dan watermelon juice\n",
    "# tetapi yang ditampilkan hanya yang didalam kurung ('pineapple' dan 'watermelon'-nya saja)"
   ]
  },
  {
   "cell_type": "code",
   "execution_count": null,
   "metadata": {},
   "outputs": [
    {
     "data": {
      "text/plain": [
       "['watermelon juice', 'pineapple juice']"
      ]
     },
     "metadata": {},
     "output_type": "display_data"
    }
   ],
   "source": [
    "words = 'apple juice, melon juice, watermelon juice, apple pie, pineapple juice'\n",
    "pattern = '(?:pineapple|watermelon) juice'\n",
    "\n",
    "re.findall(pattern = pattern, string = words)\n",
    "# disini match dengan pineapple juice dan watermelon juice\n",
    "# dan yang ditampilkan sesuai dengan pineapple juice dan watermelon juice"
   ]
  },
  {
   "cell_type": "markdown",
   "metadata": {},
   "source": [
    "## **13. Word Boundaries**\n",
    "\n",
    "Dengan menggunakan `\\b` di awal dan akhir pola, kita memastikan pencocokan dimulai dan diakhiri sebagai kata utuh, bukan bagian dari kata lain."
   ]
  },
  {
   "cell_type": "markdown",
   "metadata": {},
   "source": [
    "- buat pola untuk menampilkan `red` dari kata **red, hundred, dan reddit**"
   ]
  },
  {
   "cell_type": "code",
   "execution_count": 95,
   "metadata": {},
   "outputs": [
    {
     "data": {
      "text/plain": [
       "['red', 'red', 'red']"
      ]
     },
     "execution_count": 95,
     "metadata": {},
     "output_type": "execute_result"
    }
   ],
   "source": [
    "words = 'red, hundred, reddit'\n",
    "pattern = 'red'\n",
    "\n",
    "re.findall(pattern = pattern, string = words)"
   ]
  },
  {
   "cell_type": "markdown",
   "metadata": {},
   "source": [
    "- buat pola untuk menampilkan `red` dari kata **red dan reddit**"
   ]
  },
  {
   "cell_type": "code",
   "execution_count": null,
   "metadata": {},
   "outputs": [
    {
     "data": {
      "text/plain": [
       "['red', 'red']"
      ]
     },
     "metadata": {},
     "output_type": "display_data"
    }
   ],
   "source": [
    "# menampilkan 'red' dari 'red' dan 'reddit'\n",
    "words = 'red, hundred, reddit'\n",
    "pattern = '\\\\bred'\n",
    "\n",
    "re.findall(pattern = pattern, string = words)\n",
    "\n",
    "# output : ['red', 'red'] --> red pertama dari red dan red kedua dari reddit\n",
    "# red pada hundred tidak termasuk, karena sebelum red ada karakter"
   ]
  },
  {
   "cell_type": "markdown",
   "metadata": {},
   "source": [
    "Notes: kita harus menggunakan tambahan escape character '\\' agar python tidak mengira `\\b` sebagai backspace"
   ]
  },
  {
   "cell_type": "markdown",
   "metadata": {},
   "source": [
    "- buat pola untuk menampilkan `red` dari kata **red dan hundred**"
   ]
  },
  {
   "cell_type": "code",
   "execution_count": null,
   "metadata": {},
   "outputs": [
    {
     "data": {
      "text/plain": [
       "['red', 'red']"
      ]
     },
     "metadata": {},
     "output_type": "display_data"
    }
   ],
   "source": [
    "words = 'red, hundred, reddit'\n",
    "pattern = 'red\\\\b'\n",
    "\n",
    "re.findall(pattern = pattern, string = words)\n",
    "\n",
    "# output : ['red', 'red'] --> red pertama dari red dan red kedua dari hundred\n",
    "# red pada reddit tidak termasuk, karena setelah red ada karakter"
   ]
  },
  {
   "cell_type": "markdown",
   "metadata": {},
   "source": [
    "- buat pola untuk menampilkan `red` dari kata **red**"
   ]
  },
  {
   "cell_type": "code",
   "execution_count": null,
   "metadata": {},
   "outputs": [
    {
     "data": {
      "text/plain": [
       "['red']"
      ]
     },
     "metadata": {},
     "output_type": "display_data"
    }
   ],
   "source": [
    "words = 'red, hundred, reddit'\n",
    "pattern = '\\\\bred\\\\b'\n",
    "\n",
    "re.findall(pattern = pattern, string = words)\n",
    "\n",
    "# output : ['red'] --> red dari red\n",
    "# red pada hundred tidak termasuk, karena sebelum red ada karakter\n",
    "# red pada reddit tidak termasuk, karena setelah red ada karakter"
   ]
  },
  {
   "cell_type": "markdown",
   "metadata": {},
   "source": [
    "- buat pola yang menampilkan kata yang hanya terdiiri dari 5 karakter."
   ]
  },
  {
   "cell_type": "code",
   "execution_count": 98,
   "metadata": {},
   "outputs": [
    {
     "data": {
      "text/plain": [
       "['debam',\n",
       " 'debum',\n",
       " 'decak',\n",
       " 'derik',\n",
       " 'derit',\n",
       " 'desah',\n",
       " 'desir',\n",
       " 'desis',\n",
       " 'detak']"
      ]
     },
     "execution_count": 98,
     "metadata": {},
     "output_type": "execute_result"
    }
   ],
   "source": [
    "words = 'debam, debum, decak, dengung, dentum, denting, derik, derit, dering, desah, desing, desir, desis, detak'\n",
    "pattern = '\\\\b\\w{5}\\\\b'\n",
    "\n",
    "re.findall(pattern = pattern, string = words)"
   ]
  },
  {
   "cell_type": "markdown",
   "metadata": {},
   "source": [
    "- buat pola yang menampilkan `apple juice` dan `melon juice`"
   ]
  },
  {
   "cell_type": "code",
   "execution_count": 99,
   "metadata": {},
   "outputs": [
    {
     "data": {
      "text/plain": [
       "['apple juice', 'melon juice']"
      ]
     },
     "execution_count": 99,
     "metadata": {},
     "output_type": "execute_result"
    }
   ],
   "source": [
    "words = 'apple juice, melon juice, watermelon juice, apple pie, pineapple juice'\n",
    "pattern = '(?:\\\\bapple|\\\\bmelon) juice'\n",
    "\n",
    "re.findall(pattern = pattern, string = words)"
   ]
  },
  {
   "cell_type": "markdown",
   "metadata": {},
   "source": [
    "- buat pola yang menampilkan `ooops` dan `oooooops`"
   ]
  },
  {
   "cell_type": "code",
   "execution_count": 100,
   "metadata": {},
   "outputs": [
    {
     "data": {
      "text/plain": [
       "['ooops', 'oooooops']"
      ]
     },
     "execution_count": 100,
     "metadata": {},
     "output_type": "execute_result"
    }
   ],
   "source": [
    "words = 'ops oops ooops oooops ooooops oooooops ooooooops'\n",
    "pattern = '\\\\b(?:ooo)+ps'\n",
    "\n",
    "re.findall(pattern = pattern, string = words)"
   ]
  },
  {
   "cell_type": "markdown",
   "metadata": {},
   "source": [
    "## **14. Raw Strings**\n",
    "\n",
    "Kita dapat menggunakan `r` sebelum tanda petik agar seluruh karakter di dalam string terbaca sebagai text."
   ]
  },
  {
   "cell_type": "code",
   "execution_count": 101,
   "metadata": {},
   "outputs": [
    {
     "name": "stdout",
     "output_type": "stream",
     "text": [
      "Ini adalah hello world\n"
     ]
    }
   ],
   "source": [
    "print('Ini adalah hello world')"
   ]
  },
  {
   "cell_type": "code",
   "execution_count": null,
   "metadata": {},
   "outputs": [
    {
     "name": "stdout",
     "output_type": "stream",
     "text": [
      "Ini adalah hell world\n"
     ]
    }
   ],
   "source": [
    "print('Ini adalah hello\\b world')"
   ]
  },
  {
   "cell_type": "markdown",
   "metadata": {},
   "source": [
    "Pada python `\\b` berarti backspace atau hapus 1 karakter. Sekarang kita akan coba tambahkan raw string."
   ]
  },
  {
   "cell_type": "code",
   "execution_count": null,
   "metadata": {},
   "outputs": [
    {
     "name": "stdout",
     "output_type": "stream",
     "text": [
      "Ini adalah hello\\b world\n"
     ]
    }
   ],
   "source": [
    "print(r'Ini adalah hello\\b world')"
   ]
  },
  {
   "cell_type": "markdown",
   "metadata": {},
   "source": [
    "Setelah ditambahkan raw string maka `\\b` menjadi `\\b` itu sendiri"
   ]
  },
  {
   "cell_type": "markdown",
   "metadata": {},
   "source": [
    "- buat pola yang menampilkan `ooops` dan `oooooops`"
   ]
  },
  {
   "cell_type": "code",
   "execution_count": 102,
   "metadata": {},
   "outputs": [
    {
     "data": {
      "text/plain": [
       "[]"
      ]
     },
     "execution_count": 102,
     "metadata": {},
     "output_type": "execute_result"
    }
   ],
   "source": [
    "# buat pola yang menampilkan ooops dan oooooops\n",
    "words = 'ops oops ooops oooops ooooops oooooops ooooooops'\n",
    "pattern = '\\b(?:ooo)+ps'\n",
    "\n",
    "re.findall(pattern = pattern, string = words)\n",
    "# tidak ada yang match karena \\b terbaca sebagai backspace"
   ]
  },
  {
   "cell_type": "code",
   "execution_count": 104,
   "metadata": {},
   "outputs": [
    {
     "data": {
      "text/plain": [
       "['ooops', 'oooooops']"
      ]
     },
     "execution_count": 104,
     "metadata": {},
     "output_type": "execute_result"
    }
   ],
   "source": [
    "# buat pola yang menampilkan ooops dan oooooops\n",
    "words = 'ops oops ooops oooops ooooops oooooops ooooooops'\n",
    "pattern = r'\\b(?:ooo)+ps'\n",
    "\n",
    "re.findall(pattern = pattern, string = words)\n",
    "# setelah ditambahkan rawstring, \\b terbaca menjadi word boundary pada regex"
   ]
  }
 ],
 "metadata": {
  "kernelspec": {
   "display_name": "Python 3",
   "language": "python",
   "name": "python3"
  },
  "language_info": {
   "codemirror_mode": {
    "name": "ipython",
    "version": 3
   },
   "file_extension": ".py",
   "mimetype": "text/x-python",
   "name": "python",
   "nbconvert_exporter": "python",
   "pygments_lexer": "ipython3",
   "version": "3.10.5"
  }
 },
 "nbformat": 4,
 "nbformat_minor": 2
}

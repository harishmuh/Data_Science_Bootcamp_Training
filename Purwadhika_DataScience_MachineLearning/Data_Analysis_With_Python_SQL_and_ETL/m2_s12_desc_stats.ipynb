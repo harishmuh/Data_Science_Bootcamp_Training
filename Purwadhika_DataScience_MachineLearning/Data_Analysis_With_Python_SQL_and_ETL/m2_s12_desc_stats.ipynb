{
 "cells": [
  {
   "cell_type": "markdown",
   "metadata": {},
   "source": [
    "# **Introduction to Statistics**\n",
    "\n",
    "Sebelumnya, kita telah mengetahui bahwa statistika adalah studi terkait pengumpulan, analisis dan\n",
    "interpretasi data. Saat ini, manusia menghasilkan dan mengumpulkan lebih banyak data daripada sebelumnya. Setiap kali kita mengirim pesan teks, melakukan pembelian online, atau memposting foto di media sosial, kita menghasilkan data baru. Seiring bertambahnya jumlah data, kebutuhan akan menganalisis dan menafsirkan hal tersebut pun semakin meningkat. Ini adalah alasan utama mengapa statistika dan pekerjaan berbasis data sangatlah penting. Dengan demikian bidang analisis data berkembang hampir sama cepatnya seperti data itu sendiri. \n",
    "\n",
    "Profesional di bidang data menggunakan statistika untuk menganalisis data dalam bisnis, kedokteran, sains, teknik, pemerintah, dan banyak lagi. Profesional di bidang data menggunakan kekuatan metode statistika untuk mengidentifikasi pola yang bermakna dan mencari hubungan dalam data, menganalisis dan mengukur ketidakpastian, menghasilkan wawasan dari data, membuat prediksi yang tepat tentang masa depan, dan menyelesaikan masalah yang kompleks. \n",
    "\n",
    "Meskipun kita belum pernah mempelajari statistika, kita mungkin menggunakan statistika setiap hari. Misalnya, kita memulai hari dengan memeriksa cuaca secara online, di mana kita mempelajari bahwa\n",
    "terdapat perkiraan kemungkinan hujan sebesar 70 persen atau kemungkinan salju sebesar 50 persen. Mungkin kita berkunjung ke situs web olahraga untuk mempelajari rata-rata pukulan pemain baseball atau rata-rata skor pemain basket favorit kita. Di aplikasi berita, kita mungkin menemukan jajak pendapat pemilu yang melaporkan angka margin of error sebesar tiga persen  dan mencatat bahwa survei online digunakan untuk mengumpulkan data. Atau mungkin kita adalah orang tua, dan saat kita membawa anak kita pada pemeriksaan rutin, kita mengetahui bahwa tinggi dan berat badan anak kita berada dalam persentil tertentu. Ketika kita meminta informasi lebih lanjut, dokter menunjukkan kepada kita\n",
    "median tinggi dan berat badan untuk semua anak yang seumuran. Skenario ini mencakup konsep statistik yang akan kita pelajari lebih lanjut.\n",
    "\n",
    "___"
   ]
  },
  {
   "cell_type": "code",
   "execution_count": 1,
   "metadata": {},
   "outputs": [],
   "source": [
    "# data manipulation\n",
    "import numpy as np\n",
    "import pandas as pd\n",
    "\n",
    "# visualization\n",
    "import matplotlib.pyplot as plt\n",
    "import seaborn as sns\n",
    "\n",
    "# statistics\n",
    "import statsmodels.api as sm"
   ]
  },
  {
   "cell_type": "markdown",
   "metadata": {},
   "source": [
    "## **1. Descriptive Statistics**\n",
    "\n",
    "Statistik deskriptif menggambarkan atau merangkum fitur utama dari suatu kumpulan data. Statistik deskriptif sangat berguna karena memungkinkan kita untuk dengan cepat memahami sejumlah besar data. Sebagai contoh, katakanlah kita memiliki data tentang tinggi badan 10 juta orang. kita mungkin tidak ingin memindai 10 juta baris data untuk menganalisanya sebagai laporan kita. Bahkan jika kita melakukannya, akan sulit untuk menginterpretasikan data tersebut. Namun, jika kita merangkum data tersebut, kita dapat segera membuatnya bermakna. Menemukan rata-rata tinggi badan memberikan kita pengetahuan yang berguna tentang data tersebut plus membaca ringkasan jauh lebih baik daripada menatap jutaan baris data.\n",
    "\n",
    "Secara umum, statistik deskriptif mencakup analisis data melalui grafik dan tabel serta penghitungan berbagai ukuran deskriptif seperti rata-rata, variasi, persentil, dan lainnya melalui ringkasan numerik. "
   ]
  },
  {
   "cell_type": "markdown",
   "metadata": {},
   "source": [
    "### **a. Numerical Summary**\n",
    "\n",
    "Ada dua jenis utama ringkasan numerik, yaitu: \n",
    "- **Ukuran Pusat Data** (***Measures of Central Tendency***) \n",
    "- **Ukuran Penyebaran Data** (***Measures of Spread***)."
   ]
  },
  {
   "cell_type": "code",
   "execution_count": 2,
   "metadata": {},
   "outputs": [
    {
     "data": {
      "text/html": [
       "<div>\n",
       "<style scoped>\n",
       "    .dataframe tbody tr th:only-of-type {\n",
       "        vertical-align: middle;\n",
       "    }\n",
       "\n",
       "    .dataframe tbody tr th {\n",
       "        vertical-align: top;\n",
       "    }\n",
       "\n",
       "    .dataframe thead th {\n",
       "        text-align: right;\n",
       "    }\n",
       "</style>\n",
       "<table border=\"1\" class=\"dataframe\">\n",
       "  <thead>\n",
       "    <tr style=\"text-align: right;\">\n",
       "      <th></th>\n",
       "      <th>Name</th>\n",
       "      <th>Author</th>\n",
       "      <th>User Rating</th>\n",
       "      <th>Reviews</th>\n",
       "      <th>Price</th>\n",
       "      <th>Year</th>\n",
       "      <th>Genre</th>\n",
       "    </tr>\n",
       "  </thead>\n",
       "  <tbody>\n",
       "    <tr>\n",
       "      <th>0</th>\n",
       "      <td>10-Day Green Smoothie Cleanse</td>\n",
       "      <td>JJ Smith</td>\n",
       "      <td>4.7</td>\n",
       "      <td>17350</td>\n",
       "      <td>8</td>\n",
       "      <td>2016</td>\n",
       "      <td>Non Fiction</td>\n",
       "    </tr>\n",
       "    <tr>\n",
       "      <th>1</th>\n",
       "      <td>11/22/63: A Novel</td>\n",
       "      <td>Stephen King</td>\n",
       "      <td>4.6</td>\n",
       "      <td>2052</td>\n",
       "      <td>22</td>\n",
       "      <td>2011</td>\n",
       "      <td>Fiction</td>\n",
       "    </tr>\n",
       "    <tr>\n",
       "      <th>2</th>\n",
       "      <td>12 Rules for Life: An Antidote to Chaos</td>\n",
       "      <td>Jordan B. Peterson</td>\n",
       "      <td>4.7</td>\n",
       "      <td>18979</td>\n",
       "      <td>15</td>\n",
       "      <td>2018</td>\n",
       "      <td>Non Fiction</td>\n",
       "    </tr>\n",
       "    <tr>\n",
       "      <th>3</th>\n",
       "      <td>1984 (Signet Classics)</td>\n",
       "      <td>George Orwell</td>\n",
       "      <td>4.7</td>\n",
       "      <td>21424</td>\n",
       "      <td>6</td>\n",
       "      <td>2017</td>\n",
       "      <td>Fiction</td>\n",
       "    </tr>\n",
       "    <tr>\n",
       "      <th>4</th>\n",
       "      <td>5,000 Awesome Facts (About Everything!) (Natio...</td>\n",
       "      <td>National Geographic Kids</td>\n",
       "      <td>4.8</td>\n",
       "      <td>7665</td>\n",
       "      <td>12</td>\n",
       "      <td>2019</td>\n",
       "      <td>Non Fiction</td>\n",
       "    </tr>\n",
       "    <tr>\n",
       "      <th>...</th>\n",
       "      <td>...</td>\n",
       "      <td>...</td>\n",
       "      <td>...</td>\n",
       "      <td>...</td>\n",
       "      <td>...</td>\n",
       "      <td>...</td>\n",
       "      <td>...</td>\n",
       "    </tr>\n",
       "    <tr>\n",
       "      <th>545</th>\n",
       "      <td>Wrecking Ball (Diary of a Wimpy Kid Book 14)</td>\n",
       "      <td>Jeff Kinney</td>\n",
       "      <td>4.9</td>\n",
       "      <td>9413</td>\n",
       "      <td>8</td>\n",
       "      <td>2019</td>\n",
       "      <td>Fiction</td>\n",
       "    </tr>\n",
       "    <tr>\n",
       "      <th>546</th>\n",
       "      <td>You Are a Badass: How to Stop Doubting Your Gr...</td>\n",
       "      <td>Jen Sincero</td>\n",
       "      <td>4.7</td>\n",
       "      <td>14331</td>\n",
       "      <td>8</td>\n",
       "      <td>2016</td>\n",
       "      <td>Non Fiction</td>\n",
       "    </tr>\n",
       "    <tr>\n",
       "      <th>547</th>\n",
       "      <td>You Are a Badass: How to Stop Doubting Your Gr...</td>\n",
       "      <td>Jen Sincero</td>\n",
       "      <td>4.7</td>\n",
       "      <td>14331</td>\n",
       "      <td>8</td>\n",
       "      <td>2017</td>\n",
       "      <td>Non Fiction</td>\n",
       "    </tr>\n",
       "    <tr>\n",
       "      <th>548</th>\n",
       "      <td>You Are a Badass: How to Stop Doubting Your Gr...</td>\n",
       "      <td>Jen Sincero</td>\n",
       "      <td>4.7</td>\n",
       "      <td>14331</td>\n",
       "      <td>8</td>\n",
       "      <td>2018</td>\n",
       "      <td>Non Fiction</td>\n",
       "    </tr>\n",
       "    <tr>\n",
       "      <th>549</th>\n",
       "      <td>You Are a Badass: How to Stop Doubting Your Gr...</td>\n",
       "      <td>Jen Sincero</td>\n",
       "      <td>4.7</td>\n",
       "      <td>14331</td>\n",
       "      <td>8</td>\n",
       "      <td>2019</td>\n",
       "      <td>Non Fiction</td>\n",
       "    </tr>\n",
       "  </tbody>\n",
       "</table>\n",
       "<p>550 rows × 7 columns</p>\n",
       "</div>"
      ],
      "text/plain": [
       "                                                  Name  \\\n",
       "0                        10-Day Green Smoothie Cleanse   \n",
       "1                                    11/22/63: A Novel   \n",
       "2              12 Rules for Life: An Antidote to Chaos   \n",
       "3                               1984 (Signet Classics)   \n",
       "4    5,000 Awesome Facts (About Everything!) (Natio...   \n",
       "..                                                 ...   \n",
       "545       Wrecking Ball (Diary of a Wimpy Kid Book 14)   \n",
       "546  You Are a Badass: How to Stop Doubting Your Gr...   \n",
       "547  You Are a Badass: How to Stop Doubting Your Gr...   \n",
       "548  You Are a Badass: How to Stop Doubting Your Gr...   \n",
       "549  You Are a Badass: How to Stop Doubting Your Gr...   \n",
       "\n",
       "                       Author  User Rating  Reviews  Price  Year        Genre  \n",
       "0                    JJ Smith          4.7    17350      8  2016  Non Fiction  \n",
       "1                Stephen King          4.6     2052     22  2011      Fiction  \n",
       "2          Jordan B. Peterson          4.7    18979     15  2018  Non Fiction  \n",
       "3               George Orwell          4.7    21424      6  2017      Fiction  \n",
       "4    National Geographic Kids          4.8     7665     12  2019  Non Fiction  \n",
       "..                        ...          ...      ...    ...   ...          ...  \n",
       "545               Jeff Kinney          4.9     9413      8  2019      Fiction  \n",
       "546               Jen Sincero          4.7    14331      8  2016  Non Fiction  \n",
       "547               Jen Sincero          4.7    14331      8  2017  Non Fiction  \n",
       "548               Jen Sincero          4.7    14331      8  2018  Non Fiction  \n",
       "549               Jen Sincero          4.7    14331      8  2019  Non Fiction  \n",
       "\n",
       "[550 rows x 7 columns]"
      ]
     },
     "execution_count": 2,
     "metadata": {},
     "output_type": "execute_result"
    }
   ],
   "source": [
    "df_books = pd.read_csv(\"bestsellers with categories.csv\")\n",
    "df_books\n"
   ]
  },
  {
   "cell_type": "markdown",
   "metadata": {},
   "source": [
    "#### `Measures of Central Tendency`\n",
    "\n",
    "Ringkasan ini menggambarkan posisi sentral dari distribusi frekuensi untuk sekelompok data. Kita bisa mendeskripsikannya dengan menggunakan, misalnya `Mean` atau rata-rata, `Median` atau nilai tengah, `Mode` atau nilai yang sering muncul.\n"
   ]
  },
  {
   "cell_type": "code",
   "execution_count": 3,
   "metadata": {},
   "outputs": [
    {
     "data": {
      "image/png": "[encoded data removed]",
      "text/plain": [
       "<Figure size 432x288 with 1 Axes>"
      ]
     },
     "metadata": {
      "needs_background": "light"
     },
     "output_type": "display_data"
    }
   ],
   "source": [
    "sns.histplot(df_books['Price'], color='lightgray')\n",
    "plt.show()"
   ]
  },
  {
   "cell_type": "markdown",
   "metadata": {},
   "source": [
    "**Mean**\n",
    "\n",
    "Jumlah nilai observasi dalam sebuah data dibagi dengan banyaknya observasi. Rata-rata merupakan ukuran pusat yang paling umum digunakan untuk variabel kuantitatif. Rata-rata adalah ukuran pusat yang tepat pada variabel kuantitatif yang **terdistribusi normal**.\n",
    "\n",
    "\n",
    "$$ \\bar{x} = \\frac{\\sum_{i=1}^n x_i}{n} $$"
   ]
  },
  {
   "cell_type": "code",
   "execution_count": 4,
   "metadata": {},
   "outputs": [
    {
     "data": {
      "text/plain": [
       "13.1"
      ]
     },
     "execution_count": 4,
     "metadata": {},
     "output_type": "execute_result"
    }
   ],
   "source": [
    "mean_x = df_books['Price'].mean()\n",
    "mean_x"
   ]
  },
  {
   "cell_type": "code",
   "execution_count": 5,
   "metadata": {},
   "outputs": [
    {
     "data": {
      "image/png": "[encoded data removed]",
      "text/plain": [
       "<Figure size 432x288 with 1 Axes>"
      ]
     },
     "metadata": {
      "needs_background": "light"
     },
     "output_type": "display_data"
    }
   ],
   "source": [
    "sns.histplot(df_books['Price'], color='lightgray')\n",
    "plt.axvline(x=mean_x, color='red')\n",
    "plt.show()"
   ]
  },
  {
   "cell_type": "markdown",
   "metadata": {},
   "source": [
    "**Median**\n",
    "\n",
    "Median adalah nilai tengah dalam daftar yang sudah diurutkan. "
   ]
  },
  {
   "cell_type": "code",
   "execution_count": 6,
   "metadata": {},
   "outputs": [
    {
     "data": {
      "text/plain": [
       "11.0"
      ]
     },
     "execution_count": 6,
     "metadata": {},
     "output_type": "execute_result"
    }
   ],
   "source": [
    "median_x = df_books['Price'].median()\n",
    "median_x"
   ]
  },
  {
   "cell_type": "code",
   "execution_count": 7,
   "metadata": {},
   "outputs": [
    {
     "data": {
      "image/png": "[encoded data removed]",
      "text/plain": [
       "<Figure size 432x288 with 1 Axes>"
      ]
     },
     "metadata": {
      "needs_background": "light"
     },
     "output_type": "display_data"
    }
   ],
   "source": [
    "sns.histplot(df_books['Price'], color='lightgray')\n",
    "plt.axvline(x=mean_x, color='red')\n",
    "plt.axvline(x=median_x, color='green')\n",
    "plt.show()"
   ]
  },
  {
   "cell_type": "markdown",
   "metadata": {},
   "source": [
    "Median  adalah pilihan yang baik jika variabel kuantitatif memiliki distribusi miring atau tidak normal. Kita hindari penggunaan rata-rata dalam kasus distribusi miring, karena rata-rata bisa sangat dipengaruhi oleh data ekstrem atau data outlier."
   ]
  },
  {
   "cell_type": "markdown",
   "metadata": {},
   "source": [
    "`Case 1 - tanpa data oulier`"
   ]
  },
  {
   "cell_type": "code",
   "execution_count": 8,
   "metadata": {},
   "outputs": [
    {
     "name": "stdout",
     "output_type": "stream",
     "text": [
      "Rerata harga_cluster1: 500.0\n",
      "Median harga_cluster1: 500.0\n"
     ]
    }
   ],
   "source": [
    "harga_cluster1 = [300, 400, 400, 500, 500, 500, 600, 600, 700]\n",
    "\n",
    "print('Rerata harga_cluster1:', np.mean(harga_cluster1))\n",
    "print('Median harga_cluster1:', np.median(harga_cluster1))"
   ]
  },
  {
   "cell_type": "markdown",
   "metadata": {},
   "source": [
    "`Case 2 - dengan data outlier`"
   ]
  },
  {
   "cell_type": "code",
   "execution_count": 9,
   "metadata": {},
   "outputs": [
    {
     "name": "stdout",
     "output_type": "stream",
     "text": [
      "Rerata harga_cluster2: 78200.0\n",
      "Median harga_cluster2: 500.0\n"
     ]
    }
   ],
   "source": [
    "harga_cluster2 = [300, 400, 400, 500, 500, 500, 600, 600, 700000]\n",
    "\n",
    "print('Rerata harga_cluster2:', np.mean(harga_cluster2))\n",
    "print('Median harga_cluster2:', np.median(harga_cluster2))"
   ]
  },
  {
   "cell_type": "markdown",
   "metadata": {},
   "source": [
    "**Modus**\n",
    "\n",
    "Modus adalah nilai variabel kualitatif atau kuantitatif yang dihitung dari nilai yang paling sering muncul atau frekuensinya tertinggi. Modus harus digunakan saat menghitung ukuran pusat untuk variabel kualitatif seperti jenis kelamin, merek mobil, domisili, latar belakang pendidikan, dan sebagainya.\n"
   ]
  },
  {
   "cell_type": "code",
   "execution_count": 10,
   "metadata": {},
   "outputs": [
    {
     "data": {
      "text/plain": [
       "8"
      ]
     },
     "execution_count": 10,
     "metadata": {},
     "output_type": "execute_result"
    }
   ],
   "source": [
    "mode_x = df_books['Price'].mode()[0]\n",
    "mode_x"
   ]
  },
  {
   "cell_type": "code",
   "execution_count": 11,
   "metadata": {},
   "outputs": [
    {
     "data": {
      "text/plain": [
       "'Non Fiction'"
      ]
     },
     "execution_count": 11,
     "metadata": {},
     "output_type": "execute_result"
    }
   ],
   "source": [
    "modus_genre = df_books['Genre'].mode()[0]\n",
    "modus_genre"
   ]
  },
  {
   "cell_type": "markdown",
   "metadata": {},
   "source": [
    "#### `Measures of Spread`\n",
    "\n",
    "Pengukuran penyebaran atau variasi data adalah aspek penting lainnya dari studi deskriptif. Dua dataset dari variabel yang sama mungkin memiliki titik pusat data yang sama, tetapi bisa jadi berbeda variabilitas datanya. Ukuran variasi yang paling sering digunakan adalah range atau rentang nilai, interquartile range atau jarak antar kuartil 1 dan kuartil 3, dan standar deviasi.\n"
   ]
  },
  {
   "cell_type": "markdown",
   "metadata": {},
   "source": [
    "**Range**\n",
    "\n",
    "Range adalah selisih data terbesar dengan data terkecil, atau nilai maksimum dikurangi nilai minimum. Tetapi hati-hati, sebab range sangat sensitif atau nilainya mudah dipengaruhi dengan adanya nilai ekstrim.\n",
    "\n",
    "$$ Range = x_{max} - x_{min}$$\n"
   ]
  },
  {
   "cell_type": "code",
   "execution_count": 12,
   "metadata": {},
   "outputs": [
    {
     "data": {
      "text/plain": [
       "105"
      ]
     },
     "execution_count": 12,
     "metadata": {},
     "output_type": "execute_result"
    }
   ],
   "source": [
    "max_price = df_books['Price'].max()\n",
    "min_price = df_books['Price'].min()\n",
    "Range =  max_price - min_price\n",
    "Range"
   ]
  },
  {
   "cell_type": "markdown",
   "metadata": {},
   "source": [
    "**Standard Deviation**\n",
    "\n",
    "Standar deviasi adalah ukuran variabilitas yang paling sering digunakan. Secara sederhana, standar deviasi adalah rata-rata penyimpangan absolut dari nilai rata-rata. Penyimpangan itu sendiri artinya selisih setiap data dengan nilai rata-ratanya.\n",
    "\n",
    "Rumusnya dari standar deviasi dapat kita lihat di tampilan berikut ini.\n",
    "$$ s = \\sqrt{\\frac{\\sum_{i=1}^n (x_i-\\bar{x})^2}{n-1}} $$\n",
    "\n",
    "Jika Anda menggunakan rata-rata sebagai titik pusat data, maka standar deviasi pilihan terbaik untuk mengukur variabilitas data. Semakin banyak variasi pada data kita, maka nilai standar deviasi juga akan semakin besar. Standar deviasi sensitif atau mudah terpengaruh oleh adanya nilai ekstrem (outlier).\n"
   ]
  },
  {
   "cell_type": "code",
   "execution_count": 13,
   "metadata": {},
   "outputs": [
    {
     "data": {
      "text/plain": [
       "10.84226197842236"
      ]
     },
     "execution_count": 13,
     "metadata": {},
     "output_type": "execute_result"
    }
   ],
   "source": [
    "std_x = df_books['Price'].std()\n",
    "std_x"
   ]
  },
  {
   "cell_type": "markdown",
   "metadata": {},
   "source": [
    "**Percentile**\n",
    "\n",
    "Persentil adalah nilai yang membagi data yang sudah diurutkan dari yang terkecil ke yang terbesar menjadi 100 bagian yang sama. Misalnya persentil nilai seorang siswa adalah 75% dari 100 siswa, artinya nilainya lebih tinggi dari 74 siswa lainnya."
   ]
  },
  {
   "cell_type": "code",
   "execution_count": 14,
   "metadata": {},
   "outputs": [
    {
     "data": {
      "text/plain": [
       "16.0"
      ]
     },
     "execution_count": 14,
     "metadata": {},
     "output_type": "execute_result"
    }
   ],
   "source": [
    "pct_75 = df_books['Price'].quantile(0.75)\n",
    "pct_75\n",
    "# dari seluruh daftar buku yang kita punya, 75%-nya harganya dibawah atau sama dengan 16"
   ]
  },
  {
   "cell_type": "code",
   "execution_count": 15,
   "metadata": {},
   "outputs": [
    {
     "data": {
      "image/png": "[encoded data removed]",
      "text/plain": [
       "<Figure size 576x360 with 1 Axes>"
      ]
     },
     "metadata": {
      "needs_background": "light"
     },
     "output_type": "display_data"
    }
   ],
   "source": [
    "fig, ax = plt.subplots(figsize=(8,5))\n",
    "\n",
    "sns.histplot(\n",
    "    data=df_books['Price'],\n",
    "    kde=True,\n",
    "    color='lightgrey'\n",
    ")\n",
    "\n",
    "kde_x, kde_y = ax.lines[0].get_data()\n",
    "\n",
    "ax.axvline(\n",
    "    x=pct_75,\n",
    "    color=\"yellow\",\n",
    "    linestyle='--'\n",
    ")\n",
    "\n",
    "ax.fill_between(\n",
    "    kde_x,\n",
    "    kde_y,\n",
    "    where=(kde_x < pct_75),\n",
    "    color='red',\n",
    "    alpha=0.3\n",
    ")\n",
    "\n",
    "plt.show()"
   ]
  },
  {
   "cell_type": "markdown",
   "metadata": {},
   "source": [
    "**Quartile**\n",
    "\n",
    "Kuartil adalah bentuk khusus dari persentil. Kuartil pertama atau Q1 adalah persentil yang ke-25 atau 25 persen. Lalu, Kuartil kedua atau Q2 adalah persentil yang ke-50 atau 50 persen atau sama dengan nilai mediannya. Terakhir, Kuartil ketiga atau Q3 adalah persentil yang ke-75 atau 75 persen.\n"
   ]
  },
  {
   "cell_type": "code",
   "execution_count": 16,
   "metadata": {},
   "outputs": [
    {
     "name": "stdout",
     "output_type": "stream",
     "text": [
      "Kuartil 1: 7.0\n",
      "Kuartil 2/Median: 11.0\n",
      "Kuartil 3: 16.0\n"
     ]
    }
   ],
   "source": [
    "Q1 = df_books['Price'].quantile(0.25)\n",
    "Q2 = df_books['Price'].quantile(0.5)\n",
    "Q3 = df_books['Price'].quantile(0.75)\n",
    "\n",
    "print('Kuartil 1:', Q1)\n",
    "print('Kuartil 2/Median:', Q2)\n",
    "print('Kuartil 3:', Q3)"
   ]
  },
  {
   "cell_type": "code",
   "execution_count": 17,
   "metadata": {},
   "outputs": [
    {
     "data": {
      "image/png": "[encoded data removed]",
      "text/plain": [
       "<Figure size 576x360 with 1 Axes>"
      ]
     },
     "metadata": {
      "needs_background": "light"
     },
     "output_type": "display_data"
    }
   ],
   "source": [
    "fig, ax = plt.subplots(figsize=(8,5))\n",
    "\n",
    "sns.histplot(\n",
    "    data=df_books['Price'],\n",
    "    kde=True,\n",
    "    color='lightgrey'\n",
    ")\n",
    "\n",
    "kde_x, kde_y = ax.lines[0].get_data()\n",
    "\n",
    "ax.axvline(\n",
    "    x=Q1,\n",
    "    color=\"green\",\n",
    "    linestyle='--'\n",
    ")\n",
    "\n",
    "ax.axvline(\n",
    "    x=Q2,\n",
    "    color=\"orange\",\n",
    "    linestyle='--'\n",
    ")\n",
    "\n",
    "ax.axvline(\n",
    "    x=Q3,\n",
    "    color=\"red\",\n",
    "    linestyle='--'\n",
    ")\n",
    "\n",
    "ax.fill_between(\n",
    "    kde_x,\n",
    "    kde_y,\n",
    "    where=(kde_x < df_books['Price'].max()),\n",
    "    color='red',\n",
    "    alpha=0.6\n",
    ")\n",
    "\n",
    "ax.fill_between(\n",
    "    kde_x,\n",
    "    kde_y,\n",
    "    where=(kde_x < Q3),\n",
    "    color='orange',\n",
    "    alpha=0.6\n",
    ")\n",
    "\n",
    "ax.fill_between(\n",
    "    kde_x,\n",
    "    kde_y,\n",
    "    where=(kde_x < Q2),\n",
    "    color='yellow',\n",
    "    alpha=0.6\n",
    ")\n",
    "\n",
    "ax.fill_between(\n",
    "    kde_x,\n",
    "    kde_y,\n",
    "    where=(kde_x < Q1),\n",
    "    color='green',\n",
    "    alpha=0.6\n",
    ")\n",
    "\n",
    "\n",
    "plt.show()"
   ]
  },
  {
   "cell_type": "markdown",
   "metadata": {},
   "source": [
    "**IQR**\n",
    "\n",
    "Interquartile range atau Rentang inter kuartil adalah jarak antara Q1 dan Q3. Sehingga rumusnya \n",
    "\n",
    "$$ IQR = Q_3 - Q_1$$\n"
   ]
  },
  {
   "cell_type": "code",
   "execution_count": 18,
   "metadata": {},
   "outputs": [
    {
     "name": "stdout",
     "output_type": "stream",
     "text": [
      "Q1: 7.0\n",
      "Q3: 16.0\n",
      "IQR: 9.0\n"
     ]
    }
   ],
   "source": [
    "# lower quartile\n",
    "Q1 = df_books['Price'].quantile(0.25)\n",
    "\n",
    "# upper quartile\n",
    "Q3 = df_books['Price'].quantile(0.75)\n",
    "\n",
    "# inter quartile range\n",
    "IQR = Q3 - Q1\n",
    "\n",
    "print('Q1:', Q1)\n",
    "print('Q3:', Q3)\n",
    "print('IQR:', IQR)"
   ]
  },
  {
   "cell_type": "markdown",
   "metadata": {},
   "source": [
    "IQR dapat digunakan sebagai pengganti standar deviasi saat data tidak terdistribusi normal, karena standar deviasi sangat sensitif terhadap outlier. IQR sering digunakan untuk mendeteksi potensi adanya outlier. Suatu data dianggap outlier jika nilainya:\n",
    "- di bawah $Q_1 - 1,5 * IQR$, atau \n",
    "- di atas $Q_3 + 1,5 * IQR$"
   ]
  },
  {
   "cell_type": "code",
   "execution_count": 19,
   "metadata": {},
   "outputs": [
    {
     "name": "stdout",
     "output_type": "stream",
     "text": [
      "Outlier Lower Limit: -6.5\n",
      "Outlier Upper Limit: 29.5\n"
     ]
    }
   ],
   "source": [
    "outlier_lower_limit = Q1 - 1.5 * IQR\n",
    "outlier_upper_limit = Q3 + 1.5 * IQR\n",
    "\n",
    "print('Outlier Lower Limit:', outlier_lower_limit)\n",
    "print('Outlier Upper Limit:', outlier_upper_limit)\n",
    "\n",
    "# jadi harga buku yang diatas 29.5 dapat dianggap sebagai outlier"
   ]
  },
  {
   "cell_type": "markdown",
   "metadata": {},
   "source": [
    "Kita dapat menghitung banyaknya outlier sebagai berikut:"
   ]
  },
  {
   "cell_type": "code",
   "execution_count": 20,
   "metadata": {},
   "outputs": [
    {
     "name": "stdout",
     "output_type": "stream",
     "text": [
      "Banyaknya lower limit outlier: 0\n",
      "Banyaknya upper limit outlier: 31\n",
      "Banyaknya outlier: 31\n"
     ]
    }
   ],
   "source": [
    "lower_limit_outliers = df_books[df_books['Price'] < outlier_lower_limit]\n",
    "upper_limit_outliers = df_books[df_books['Price'] > outlier_upper_limit]\n",
    "\n",
    "print('Banyaknya lower limit outlier:', len(lower_limit_outliers))\n",
    "print('Banyaknya upper limit outlier:', len(upper_limit_outliers))\n",
    "\n",
    "print('Banyaknya outlier:', len(lower_limit_outliers) + len(upper_limit_outliers))"
   ]
  },
  {
   "cell_type": "markdown",
   "metadata": {},
   "source": [
    "### **b. Table Summary**\n",
    "\n",
    "Table summary bisa berupa tabel hasil:\n",
    "\n",
    "- value_counts\n",
    "- groupby\n",
    "- pivot_table\n",
    "- crosstab"
   ]
  },
  {
   "cell_type": "markdown",
   "metadata": {},
   "source": [
    "**value_counts()**\n",
    "\n",
    "- Jumlah buku berdasarkan genre"
   ]
  },
  {
   "cell_type": "code",
   "execution_count": 24,
   "metadata": {},
   "outputs": [
    {
     "data": {
      "text/html": [
       "<div>\n",
       "<style scoped>\n",
       "    .dataframe tbody tr th:only-of-type {\n",
       "        vertical-align: middle;\n",
       "    }\n",
       "\n",
       "    .dataframe tbody tr th {\n",
       "        vertical-align: top;\n",
       "    }\n",
       "\n",
       "    .dataframe thead th {\n",
       "        text-align: right;\n",
       "    }\n",
       "</style>\n",
       "<table border=\"1\" class=\"dataframe\">\n",
       "  <thead>\n",
       "    <tr style=\"text-align: right;\">\n",
       "      <th></th>\n",
       "      <th>Genre</th>\n",
       "    </tr>\n",
       "  </thead>\n",
       "  <tbody>\n",
       "    <tr>\n",
       "      <th>Non Fiction</th>\n",
       "      <td>310</td>\n",
       "    </tr>\n",
       "    <tr>\n",
       "      <th>Fiction</th>\n",
       "      <td>240</td>\n",
       "    </tr>\n",
       "  </tbody>\n",
       "</table>\n",
       "</div>"
      ],
      "text/plain": [
       "             Genre\n",
       "Non Fiction    310\n",
       "Fiction        240"
      ]
     },
     "execution_count": 24,
     "metadata": {},
     "output_type": "execute_result"
    }
   ],
   "source": [
    "df_books['Genre'].value_counts().to_frame()"
   ]
  },
  {
   "cell_type": "markdown",
   "metadata": {},
   "source": [
    "**group_by()**\n",
    "\n",
    "- Rata-rata dan median harga buku berdasarkan tahun terbit"
   ]
  },
  {
   "cell_type": "code",
   "execution_count": 32,
   "metadata": {},
   "outputs": [
    {
     "data": {
      "text/html": [
       "<div>\n",
       "<style scoped>\n",
       "    .dataframe tbody tr th:only-of-type {\n",
       "        vertical-align: middle;\n",
       "    }\n",
       "\n",
       "    .dataframe tbody tr th {\n",
       "        vertical-align: top;\n",
       "    }\n",
       "\n",
       "    .dataframe thead tr th {\n",
       "        text-align: left;\n",
       "    }\n",
       "</style>\n",
       "<table border=\"1\" class=\"dataframe\">\n",
       "  <thead>\n",
       "    <tr>\n",
       "      <th></th>\n",
       "      <th>Year</th>\n",
       "      <th colspan=\"2\" halign=\"left\">Price</th>\n",
       "    </tr>\n",
       "    <tr>\n",
       "      <th></th>\n",
       "      <th></th>\n",
       "      <th>mean</th>\n",
       "      <th>median</th>\n",
       "    </tr>\n",
       "  </thead>\n",
       "  <tbody>\n",
       "    <tr>\n",
       "      <th>0</th>\n",
       "      <td>2009</td>\n",
       "      <td>15.40</td>\n",
       "      <td>12.0</td>\n",
       "    </tr>\n",
       "    <tr>\n",
       "      <th>1</th>\n",
       "      <td>2010</td>\n",
       "      <td>13.48</td>\n",
       "      <td>12.5</td>\n",
       "    </tr>\n",
       "    <tr>\n",
       "      <th>2</th>\n",
       "      <td>2011</td>\n",
       "      <td>15.10</td>\n",
       "      <td>13.0</td>\n",
       "    </tr>\n",
       "    <tr>\n",
       "      <th>3</th>\n",
       "      <td>2012</td>\n",
       "      <td>15.30</td>\n",
       "      <td>13.0</td>\n",
       "    </tr>\n",
       "    <tr>\n",
       "      <th>4</th>\n",
       "      <td>2013</td>\n",
       "      <td>14.60</td>\n",
       "      <td>12.5</td>\n",
       "    </tr>\n",
       "    <tr>\n",
       "      <th>5</th>\n",
       "      <td>2014</td>\n",
       "      <td>14.64</td>\n",
       "      <td>10.0</td>\n",
       "    </tr>\n",
       "    <tr>\n",
       "      <th>6</th>\n",
       "      <td>2015</td>\n",
       "      <td>10.42</td>\n",
       "      <td>9.0</td>\n",
       "    </tr>\n",
       "    <tr>\n",
       "      <th>7</th>\n",
       "      <td>2016</td>\n",
       "      <td>13.18</td>\n",
       "      <td>9.0</td>\n",
       "    </tr>\n",
       "    <tr>\n",
       "      <th>8</th>\n",
       "      <td>2017</td>\n",
       "      <td>11.38</td>\n",
       "      <td>9.0</td>\n",
       "    </tr>\n",
       "    <tr>\n",
       "      <th>9</th>\n",
       "      <td>2018</td>\n",
       "      <td>10.52</td>\n",
       "      <td>8.0</td>\n",
       "    </tr>\n",
       "    <tr>\n",
       "      <th>10</th>\n",
       "      <td>2019</td>\n",
       "      <td>10.08</td>\n",
       "      <td>10.0</td>\n",
       "    </tr>\n",
       "  </tbody>\n",
       "</table>\n",
       "</div>"
      ],
      "text/plain": [
       "    Year  Price       \n",
       "           mean median\n",
       "0   2009  15.40   12.0\n",
       "1   2010  13.48   12.5\n",
       "2   2011  15.10   13.0\n",
       "3   2012  15.30   13.0\n",
       "4   2013  14.60   12.5\n",
       "5   2014  14.64   10.0\n",
       "6   2015  10.42    9.0\n",
       "7   2016  13.18    9.0\n",
       "8   2017  11.38    9.0\n",
       "9   2018  10.52    8.0\n",
       "10  2019  10.08   10.0"
      ]
     },
     "execution_count": 32,
     "metadata": {},
     "output_type": "execute_result"
    }
   ],
   "source": [
    "df_books.groupby('Year')[['Price']].agg(['mean', 'median']).reset_index()"
   ]
  },
  {
   "cell_type": "markdown",
   "metadata": {},
   "source": [
    "**pivot_table()**\n",
    "\n",
    "- Banyaknya buku pada setiap tahun berdasarkan genre"
   ]
  },
  {
   "cell_type": "code",
   "execution_count": 38,
   "metadata": {},
   "outputs": [
    {
     "data": {
      "text/html": [
       "<div>\n",
       "<style scoped>\n",
       "    .dataframe tbody tr th:only-of-type {\n",
       "        vertical-align: middle;\n",
       "    }\n",
       "\n",
       "    .dataframe tbody tr th {\n",
       "        vertical-align: top;\n",
       "    }\n",
       "\n",
       "    .dataframe thead th {\n",
       "        text-align: right;\n",
       "    }\n",
       "</style>\n",
       "<table border=\"1\" class=\"dataframe\">\n",
       "  <thead>\n",
       "    <tr style=\"text-align: right;\">\n",
       "      <th>Year</th>\n",
       "      <th>2009</th>\n",
       "      <th>2010</th>\n",
       "      <th>2011</th>\n",
       "      <th>2012</th>\n",
       "      <th>2013</th>\n",
       "      <th>2014</th>\n",
       "      <th>2015</th>\n",
       "      <th>2016</th>\n",
       "      <th>2017</th>\n",
       "      <th>2018</th>\n",
       "      <th>2019</th>\n",
       "      <th>Total</th>\n",
       "    </tr>\n",
       "    <tr>\n",
       "      <th>Genre</th>\n",
       "      <th></th>\n",
       "      <th></th>\n",
       "      <th></th>\n",
       "      <th></th>\n",
       "      <th></th>\n",
       "      <th></th>\n",
       "      <th></th>\n",
       "      <th></th>\n",
       "      <th></th>\n",
       "      <th></th>\n",
       "      <th></th>\n",
       "      <th></th>\n",
       "    </tr>\n",
       "  </thead>\n",
       "  <tbody>\n",
       "    <tr>\n",
       "      <th>Fiction</th>\n",
       "      <td>24</td>\n",
       "      <td>20</td>\n",
       "      <td>21</td>\n",
       "      <td>21</td>\n",
       "      <td>24</td>\n",
       "      <td>29</td>\n",
       "      <td>17</td>\n",
       "      <td>19</td>\n",
       "      <td>24</td>\n",
       "      <td>21</td>\n",
       "      <td>20</td>\n",
       "      <td>240</td>\n",
       "    </tr>\n",
       "    <tr>\n",
       "      <th>Non Fiction</th>\n",
       "      <td>26</td>\n",
       "      <td>30</td>\n",
       "      <td>29</td>\n",
       "      <td>29</td>\n",
       "      <td>26</td>\n",
       "      <td>21</td>\n",
       "      <td>33</td>\n",
       "      <td>31</td>\n",
       "      <td>26</td>\n",
       "      <td>29</td>\n",
       "      <td>30</td>\n",
       "      <td>310</td>\n",
       "    </tr>\n",
       "    <tr>\n",
       "      <th>Total</th>\n",
       "      <td>50</td>\n",
       "      <td>50</td>\n",
       "      <td>50</td>\n",
       "      <td>50</td>\n",
       "      <td>50</td>\n",
       "      <td>50</td>\n",
       "      <td>50</td>\n",
       "      <td>50</td>\n",
       "      <td>50</td>\n",
       "      <td>50</td>\n",
       "      <td>50</td>\n",
       "      <td>550</td>\n",
       "    </tr>\n",
       "  </tbody>\n",
       "</table>\n",
       "</div>"
      ],
      "text/plain": [
       "Year         2009  2010  2011  2012  2013  2014  2015  2016  2017  2018  2019  \\\n",
       "Genre                                                                           \n",
       "Fiction        24    20    21    21    24    29    17    19    24    21    20   \n",
       "Non Fiction    26    30    29    29    26    21    33    31    26    29    30   \n",
       "Total          50    50    50    50    50    50    50    50    50    50    50   \n",
       "\n",
       "Year         Total  \n",
       "Genre               \n",
       "Fiction        240  \n",
       "Non Fiction    310  \n",
       "Total          550  "
      ]
     },
     "execution_count": 38,
     "metadata": {},
     "output_type": "execute_result"
    }
   ],
   "source": [
    "df_books.pivot_table(\n",
    "    index='Genre',\n",
    "    columns='Year',\n",
    "    values='Name',\n",
    "    aggfunc = len,\n",
    "    margins=True,\n",
    "    margins_name='Total'\n",
    ")"
   ]
  },
  {
   "cell_type": "markdown",
   "metadata": {},
   "source": [
    "**pd.crosstab()**\n",
    "\n",
    "- Proporsi buku pada setiap tahun berdasarkan genre"
   ]
  },
  {
   "cell_type": "code",
   "execution_count": 44,
   "metadata": {},
   "outputs": [
    {
     "data": {
      "text/html": [
       "<div>\n",
       "<style scoped>\n",
       "    .dataframe tbody tr th:only-of-type {\n",
       "        vertical-align: middle;\n",
       "    }\n",
       "\n",
       "    .dataframe tbody tr th {\n",
       "        vertical-align: top;\n",
       "    }\n",
       "\n",
       "    .dataframe thead th {\n",
       "        text-align: right;\n",
       "    }\n",
       "</style>\n",
       "<table border=\"1\" class=\"dataframe\">\n",
       "  <thead>\n",
       "    <tr style=\"text-align: right;\">\n",
       "      <th>Year</th>\n",
       "      <th>2009</th>\n",
       "      <th>2010</th>\n",
       "      <th>2011</th>\n",
       "      <th>2012</th>\n",
       "      <th>2013</th>\n",
       "      <th>2014</th>\n",
       "      <th>2015</th>\n",
       "      <th>2016</th>\n",
       "      <th>2017</th>\n",
       "      <th>2018</th>\n",
       "      <th>2019</th>\n",
       "      <th>All</th>\n",
       "    </tr>\n",
       "    <tr>\n",
       "      <th>Genre</th>\n",
       "      <th></th>\n",
       "      <th></th>\n",
       "      <th></th>\n",
       "      <th></th>\n",
       "      <th></th>\n",
       "      <th></th>\n",
       "      <th></th>\n",
       "      <th></th>\n",
       "      <th></th>\n",
       "      <th></th>\n",
       "      <th></th>\n",
       "      <th></th>\n",
       "    </tr>\n",
       "  </thead>\n",
       "  <tbody>\n",
       "    <tr>\n",
       "      <th>Fiction</th>\n",
       "      <td>0.48</td>\n",
       "      <td>0.4</td>\n",
       "      <td>0.42</td>\n",
       "      <td>0.42</td>\n",
       "      <td>0.48</td>\n",
       "      <td>0.58</td>\n",
       "      <td>0.34</td>\n",
       "      <td>0.38</td>\n",
       "      <td>0.48</td>\n",
       "      <td>0.42</td>\n",
       "      <td>0.4</td>\n",
       "      <td>0.436364</td>\n",
       "    </tr>\n",
       "    <tr>\n",
       "      <th>Non Fiction</th>\n",
       "      <td>0.52</td>\n",
       "      <td>0.6</td>\n",
       "      <td>0.58</td>\n",
       "      <td>0.58</td>\n",
       "      <td>0.52</td>\n",
       "      <td>0.42</td>\n",
       "      <td>0.66</td>\n",
       "      <td>0.62</td>\n",
       "      <td>0.52</td>\n",
       "      <td>0.58</td>\n",
       "      <td>0.6</td>\n",
       "      <td>0.563636</td>\n",
       "    </tr>\n",
       "  </tbody>\n",
       "</table>\n",
       "</div>"
      ],
      "text/plain": [
       "Year         2009  2010  2011  2012  2013  2014  2015  2016  2017  2018  2019  \\\n",
       "Genre                                                                           \n",
       "Fiction      0.48   0.4  0.42  0.42  0.48  0.58  0.34  0.38  0.48  0.42   0.4   \n",
       "Non Fiction  0.52   0.6  0.58  0.58  0.52  0.42  0.66  0.62  0.52  0.58   0.6   \n",
       "\n",
       "Year              All  \n",
       "Genre                  \n",
       "Fiction      0.436364  \n",
       "Non Fiction  0.563636  "
      ]
     },
     "execution_count": 44,
     "metadata": {},
     "output_type": "execute_result"
    }
   ],
   "source": [
    "pd.crosstab(\n",
    "    index=df_books['Genre'],\n",
    "    columns=df_books['Year'],\n",
    "    values=df_books['Name'],\n",
    "    aggfunc='count',\n",
    "    normalize='columns',\n",
    "    margins=True\n",
    ")"
   ]
  },
  {
   "cell_type": "markdown",
   "metadata": {},
   "source": [
    "## **2. Normal Distribution**\n",
    "\n",
    "Distribusi Normal dikenal juga sebagai distribusi Gaussian. Distribusi normal akan banyak dibahas pada topik statistik inferensial. Distribusi normal juga menjadi asumsi dari beberapa algoritma Machine Learning.\n",
    "\n",
    "Distribusi normal memiliki kurva distribusi data berbentuk lonceng. Kurva berbentuk simetris dengan titik pusat berada di rata-ratanya (μ) dan penyebaran datanya secara standar deviasi (σ) lebih banyak di dekat nilai rata-rata.\n",
    "\n",
    "![Kurva Distribusi Normal](https://brilliantbimbel.com/wp-content/uploads/2022/12/1_IdGgdrY_n_9_YfkaCh-dag.png)\n",
    "\n",
    "Banyak variabel dependen umumnya harus diasumsikan terdistribusi normal dalam populasi. Jika suatu variabel telah diasumsikan terdistribusi normal, maka kita dapat menarik kesimpulan atau inferensi tentang nilai variabel itu. Beberapa teknik data cleaning dan algoritma machine learning membutuhkan asumsi apakah data terdistribusi normal.\n",
    "\n"
   ]
  },
  {
   "cell_type": "markdown",
   "metadata": {},
   "source": [
    "Secara visual distribusi normal dapat dianalisis dari nilai median dan rata-ratanya. Ketiga histogram ini mencerminkan kondisi distribusi data.\n",
    "\n",
    "![Mean vs Median](https://upload.wikimedia.org/wikipedia/commons/thumb/c/cc/Relationship_between_mean_and_median_under_different_skewness.png/434px-Relationship_between_mean_and_median_under_different_skewness.png)\n",
    "\n",
    "Histogram di tengah menunjukkan rata-rata sama dengan median, atau distribusi simetris/normal. Histogram kiri dan kanan menunjukkan distribusi tidak normal. Histogram kiri, distribusinya condong ke sebelah kanan. Nilai median lebih kecil dari nilai rata-rata. Mayoritas data condong ke nilai terkecil.Sedangkan, pada grafik di sebelah kanan menunjukkan distribusi yang condong ke kiri. Data mayoritas condong ke nilai terbesar. Nilai median lebih besar dari nilai rata-rata.\n"
   ]
  },
  {
   "cell_type": "markdown",
   "metadata": {},
   "source": [
    "Distribusi normal juga bisa dianalisis dari nilai standar deviasinya. Jika sebaran data berbentuk lonceng atau terdistribusi normal, maka kira-kira:\n",
    "- 68% data berada di dalam +/- 1 standar deviasi dari rata-rata\n",
    "- 95% data berada di dalam +/- 2 standar deviasi dari rata-rata,\n",
    "- 99,7% data berada di dalam +/- 3 standar deviasi dari rata-rata\n",
    "\n",
    "![Distribusi Normal](https://www.sentrakalibrasiindustri.com/wp-content/uploads/2024/01/Pentingnya-Distribusi-Normal-dalam-Analisis-Data.jpg)\n"
   ]
  },
  {
   "cell_type": "markdown",
   "metadata": {},
   "source": [
    "Ada banyak metode untuk menguji apakah suatu variabel terdistribusi normal. Kita dapat menggunakan berbagai cara untuk menguji normalitas data. \n",
    "- Pertama, dengan visualisasi grafis, kita dapat menggunakan Histogram, Box Plot, dan QQ Plot. \n",
    "- Kedua, dengan uji Frequentist, di antaranya Tes Kolmogorov Smirnov, Tes Lilliefors, Tes Shapiro Wilk, dan Tes D’Agostino & Pearson\n"
   ]
  },
  {
   "cell_type": "markdown",
   "metadata": {},
   "source": [
    "### **a. Graphical Method**"
   ]
  },
  {
   "cell_type": "markdown",
   "metadata": {},
   "source": [
    "#### `1. Histogram`"
   ]
  },
  {
   "cell_type": "code",
   "execution_count": 58,
   "metadata": {},
   "outputs": [
    {
     "data": {
      "image/png": "[encoded data removed]",
      "text/plain": [
       "<Figure size 432x288 with 1 Axes>"
      ]
     },
     "metadata": {
      "needs_background": "light"
     },
     "output_type": "display_data"
    }
   ],
   "source": [
    "ax = sns.histplot(df_books['Price'], color='lightgray', kde=True)\n",
    "ax.lines[0].set_color('black')\n",
    "plt.axvline(x=df_books['Price'].mean(), color='red')\n",
    "plt.axvline(x=df_books['Price'].median(), color='green')\n",
    "plt.show()"
   ]
  },
  {
   "cell_type": "markdown",
   "metadata": {},
   "source": [
    "Kolom `Price` tidak terdistribusi normal melainkan right skewed (positive skewed). Kita akan cek dari beberapa atribut yang lain."
   ]
  },
  {
   "cell_type": "markdown",
   "metadata": {},
   "source": [
    "**Mean vs Median**"
   ]
  },
  {
   "cell_type": "code",
   "execution_count": 64,
   "metadata": {},
   "outputs": [
    {
     "data": {
      "text/plain": [
       "True"
      ]
     },
     "execution_count": 64,
     "metadata": {},
     "output_type": "execute_result"
    }
   ],
   "source": [
    "df_books['Price'].mean() > df_books['Price'].median()"
   ]
  },
  {
   "cell_type": "markdown",
   "metadata": {},
   "source": [
    "Nilai mean lebih besar dari median menunjukkan ciri ciri data right skewed atau positive skewed (tidak terdistribusi normal)"
   ]
  },
  {
   "cell_type": "markdown",
   "metadata": {},
   "source": [
    "**Standard Deviation**"
   ]
  },
  {
   "cell_type": "code",
   "execution_count": 67,
   "metadata": {},
   "outputs": [],
   "source": [
    "mean_price = df_books['Price'].mean()\n",
    "std_price = df_books['Price'].std()"
   ]
  },
  {
   "cell_type": "markdown",
   "metadata": {},
   "source": [
    "Sekarang, mari kita hitung persentase aktual dari harga buku yang berada di dalam +/- 1 standar deviasi dari rata-rata."
   ]
  },
  {
   "cell_type": "code",
   "execution_count": 76,
   "metadata": {},
   "outputs": [
    {
     "data": {
      "text/plain": [
       "0.88"
      ]
     },
     "execution_count": 76,
     "metadata": {},
     "output_type": "execute_result"
    }
   ],
   "source": [
    "lower_limit  = mean_price - 1 * std_price\n",
    "upper_limit  = mean_price + 1 * std_price\n",
    "\n",
    "((df_books['Price']>=lower_limit) & (df_books['Price']<=upper_limit)).mean()"
   ]
  },
  {
   "cell_type": "markdown",
   "metadata": {},
   "source": [
    "Sekarang, mari kita hitung persentase aktual dari harga buku yang berada di dalam +/- 2 standar deviasi dari rata-rata."
   ]
  },
  {
   "cell_type": "code",
   "execution_count": 77,
   "metadata": {},
   "outputs": [
    {
     "data": {
      "text/plain": [
       "0.9563636363636364"
      ]
     },
     "execution_count": 77,
     "metadata": {},
     "output_type": "execute_result"
    }
   ],
   "source": [
    "lower_limit  = mean_price - 2 * std_price\n",
    "upper_limit  = mean_price + 2 * std_price\n",
    "\n",
    "((df_books['Price']>=lower_limit) & (df_books['Price']<=upper_limit)).mean()"
   ]
  },
  {
   "cell_type": "markdown",
   "metadata": {},
   "source": [
    "Sekarang, mari kita hitung persentase aktual dari harga buku yang berada di dalam +/- 3 standar deviasi dari rata-rata."
   ]
  },
  {
   "cell_type": "code",
   "execution_count": 78,
   "metadata": {},
   "outputs": [
    {
     "data": {
      "text/plain": [
       "0.9709090909090909"
      ]
     },
     "execution_count": 78,
     "metadata": {},
     "output_type": "execute_result"
    }
   ],
   "source": [
    "lower_limit  = mean_price - 3 * std_price\n",
    "upper_limit  = mean_price + 3 * std_price\n",
    "\n",
    "((df_books['Price']>=lower_limit) & (df_books['Price']<=upper_limit)).mean()"
   ]
  },
  {
   "cell_type": "markdown",
   "metadata": {},
   "source": [
    "Nilai yang kita peroleh sebesar 88%, 95.6%, dan 97% cukup terpaut jauh dari nilai empiris yaitu: sekitar 68%, 95%, dan 99.7%."
   ]
  },
  {
   "cell_type": "markdown",
   "metadata": {},
   "source": [
    "**Skewness**\n",
    "\n",
    "Dalam statistik, skewness adalah ukuran asimetri dari distribusi probabilitas suatu variabel acak terhadap rata-ratanya. Dengan kata lain, skewness menunjukkan besar dan arah kemiringan (penyimpangan dari simetri horizontal). Nilai skewness diperoleh dari rumus berikut:\n",
    "\n",
    "$$ skewness = \\frac{\\frac{1}{n}\\sum_{i=1}^n (x_i-\\bar{x})^3}{(\\frac{1}{n}\\sum_{i=1}^n (x_i-\\bar{x})^2)^{3/2}} $$\n",
    "\n",
    "Nilai skewness bisa positif atau negatif, atau bahkan tidak terdefinisi. Jika skewness adalah 0, maka datanya simetris sempurna, meskipun kemungkinannya kecil untuk data di dunia nyata. Sebagai pedoman umum:\n",
    "\n",
    "- Jika skewness kurang dari -1 atau lebih besar dari 1, distribusinya sangat skewed.\n",
    "- Jika skewness antara -1 dan -0,5 atau antara 0,5 dan 1, distribusinya agak skewed.\n",
    "- Jika kemiringannya antara -0,5 dan 0,5, distribusinya kira-kira simetris."
   ]
  },
  {
   "cell_type": "code",
   "execution_count": 79,
   "metadata": {},
   "outputs": [
    {
     "data": {
      "text/plain": [
       "3.685056537836339"
      ]
     },
     "execution_count": 79,
     "metadata": {},
     "output_type": "execute_result"
    }
   ],
   "source": [
    "df_books['Price'].skew()"
   ]
  },
  {
   "cell_type": "markdown",
   "metadata": {},
   "source": [
    "Skewness-nya bernilai positif menunjukkan ciri ciri data right skewed atau positive skewed (tidak terdistribusi normal)"
   ]
  },
  {
   "cell_type": "markdown",
   "metadata": {},
   "source": [
    "**Kurtosis**"
   ]
  },
  {
   "cell_type": "markdown",
   "metadata": {},
   "source": [
    "Kurtosis memberi tahu Anda tinggi dan ketajaman puncak pusat, relatif terhadap distribusi normal. Kurtosis dapat dihitung menggunakan rumus berikut:\n",
    "\n",
    "$$ kurtosis = \\frac{\\frac{1}{n}\\sum_{i=1}^n (x_i-\\bar{x})^3}{(\\frac{1}{n}\\sum_{i=1}^n (x_i-\\bar{x})^2)^2} - 3$$\n",
    "\n",
    "Sebagai pedoman umum:\n",
    "- jika kurtosis kurang dari 3, distribusinya platy kurtic (landai)\n",
    "- jika kurtosis sama dengan 3, distribusinya normal\n",
    "- jika kurtosis lebih dari 3, distribusinya lepto kurtic (menjulang)"
   ]
  },
  {
   "cell_type": "code",
   "execution_count": 80,
   "metadata": {},
   "outputs": [
    {
     "data": {
      "text/plain": [
       "22.43352032785043"
      ]
     },
     "execution_count": 80,
     "metadata": {},
     "output_type": "execute_result"
    }
   ],
   "source": [
    "df_books['Price'].kurtosis()"
   ]
  },
  {
   "cell_type": "markdown",
   "metadata": {},
   "source": [
    "Kurtosinya lebih dari 3 menunjukkan ciri ciri data lepto kurtic (tidak terdistribusi normal)"
   ]
  },
  {
   "cell_type": "markdown",
   "metadata": {},
   "source": [
    "#### `2. Boxplot`"
   ]
  },
  {
   "cell_type": "markdown",
   "metadata": {},
   "source": [
    "Boxplot merupakan ringkasan distribusi sampel yang disajikan secara grafis yang bisa menggambarkan bentuk distribusi data (skewness), ukuran tendensi sentral dan ukuran penyebaran (keragaman) data pengamatan.\n",
    "\n",
    "Terdapat 5 ukuran statistik yang bisa kita baca dari boxplot, yaitu:\n",
    "\n",
    "- `nilai minimum`: nilai observasi terkecil\n",
    "- `Q1`: kuartil terendah atau kuartil pertama\n",
    "- `Q2`: median atau nilai tengah\n",
    "- `Q3`: kuartil tertinggi atau kuartil ketiga\n",
    "- `nilai maksimum`: nilai observasi terbesar.\n",
    "\n",
    "Selain itu, boxplot juga dapat menunjukkan ada tidaknya nilai `outlier` dan nilai `ekstrim` dari data pengamatan.\n",
    "\n",
    "![Boxplot](https://help.ezbiocloud.net/wp-content/uploads/2020/04/%E1%84%89%E1%85%B3%E1%84%8F%E1%85%B3%E1%84%85%E1%85%B5%E1%86%AB%E1%84%89%E1%85%A3%E1%86%BA-2020-04-19-%E1%84%8B%E1%85%A9%E1%84%8C%E1%85%A5%E1%86%AB-9.41.35.png)"
   ]
  },
  {
   "cell_type": "code",
   "execution_count": 86,
   "metadata": {},
   "outputs": [
    {
     "data": {
      "image/png": "[encoded data removed]",
      "text/plain": [
       "<Figure size 432x144 with 1 Axes>"
      ]
     },
     "metadata": {
      "needs_background": "light"
     },
     "output_type": "display_data"
    }
   ],
   "source": [
    "plt.figure(figsize=(6,2))\n",
    "sns.boxplot(x=df_books['Price'])\n",
    "plt.show()"
   ]
  },
  {
   "cell_type": "markdown",
   "metadata": {},
   "source": [
    "Upper whisker lebih panjang mencirikan variable right skewed (tidak terdistribusi normal)"
   ]
  },
  {
   "cell_type": "code",
   "execution_count": 96,
   "metadata": {},
   "outputs": [],
   "source": [
    "inlier = df_books[(df_books['Price']>=outlier_lower_limit) & (df_books['Price']<=outlier_upper_limit)]\n",
    "inlier.head()\n",
    "\n",
    "min_inlier = inlier['Price'].min()\n",
    "max_inlier = inlier['Price'].max()"
   ]
  },
  {
   "cell_type": "code",
   "execution_count": 97,
   "metadata": {},
   "outputs": [
    {
     "name": "stdout",
     "output_type": "stream",
     "text": [
      "Q1: 7.0\n",
      "Q3: 16.0\n",
      "IQR: 9.0\n",
      "Outlier Lower Limit: -6.5\n",
      "Outlier Upper Limit: 29.5\n",
      "Inlier Minimum Value: 0\n",
      "Inlier Maximum Value: 28\n"
     ]
    }
   ],
   "source": [
    "print('Q1:', Q1)\n",
    "print('Q3:', Q3)\n",
    "print('IQR:', IQR)\n",
    "print('Outlier Lower Limit:', outlier_lower_limit)\n",
    "print('Outlier Upper Limit:', outlier_upper_limit)\n",
    "print(\"Inlier Minimum Value:\", min_inlier)\n",
    "print(\"Inlier Maximum Value:\", max_inlier)"
   ]
  },
  {
   "cell_type": "markdown",
   "metadata": {},
   "source": [
    "#### `3. Q-Q Plot`\n",
    "\n",
    "Q-Q Plot adalah sebuah grafik yang membandingkan kuantil empiris dari distribusi data dengan kuantil yang diharapkan dari distribusi normal. Kuantil adalah nilai yang membagi distribusi data menjadi fraksi tertentu. Dalam Q-Q Plot, sumbu x (horizontal) mewakili kuantil dari distribusi normal yang diharapkan, sementara sumbu y (vertikal) mewakili kuantil empiris dari data aktual.\n",
    "\n",
    "Berikut adalah beberapa hal yang berkaitan dengan cara membaca Q-Q Plot:\n",
    "\n",
    "- `Garis Diagonal`: **Jika titik-titik dalam Q-Q Plot mengikuti garis diagonal, ini menunjukkan bahwa data secara kasar mengikuti distribusi normal**. Semakin dekat titik-titik tersebut dengan garis diagonal, semakin baik distribusi normalitasnya.\n",
    "- `Deviasi dari Garis Diagonal`: **Jika titik-titik berdeviasi dari garis diagonal, hal ini menunjukkan adanya ketidaknormalan dalam distribusi data**. Jika titik-titik bergerak ke atas, distribusi data mungkin lebih berat di ekor (leptokurtik), sedangkan jika bergerak ke bawah, distribusi data mungkin lebih datar (platikurtik).\n",
    "- `Pola S-shaped atau J-shaped`: **Jika Q-Q Plot membentuk pola S-shaped atau J-shaped, ini menunjukkan bahwa distribusi data memiliki peningkatan atau penurunan tajam di ekor**, yang dapat menjadi indikasi ketidaknormalan."
   ]
  },
  {
   "cell_type": "code",
   "execution_count": 103,
   "metadata": {},
   "outputs": [
    {
     "data": {
      "image/png": "[encoded data removed]",
      "text/plain": [
       "<Figure size 432x288 with 1 Axes>"
      ]
     },
     "metadata": {
      "needs_background": "light"
     },
     "output_type": "display_data"
    }
   ],
   "source": [
    "sm.qqplot(data=df_books['Price'], line='s')\n",
    "plt.show()"
   ]
  },
  {
   "cell_type": "markdown",
   "metadata": {},
   "source": [
    "### **b. Frequentist Test/Normality Test**\n",
    "\n",
    "Dalam statistik , uji normalitas digunakan untuk menentukan apakah kumpulan data dimodelkan dengan baik oleh distribusi normal dan untuk menghitung seberapa mungkin variabel acak yang mendasari dataset akan didistribusikan secara normal. Berikut adalah hipotesis untuk uji normalitas.\n",
    "\n",
    "- $H_0$ : Data terdistribusi normal\n",
    "- $H_1$ : Data TIDAK terdistribusi normal\n",
    "\n",
    "Pengambilan keputusan terhadap hipotesis dapat dilakukan dengan membandingkan nilai probabilitas (p-value) dari uji yang dilakukan terhadap tingkat signifikansi 𝛼 (significance level). Berikut aturan pengambilan keputusan berdasarkan pendekatan nilai probabilitas.\n",
    "\n",
    "- jika nilai probabilitas > tingkat signifikansi, maka $H_0$ gagal ditolak artinya kita mengasumsikan bahwa data terdistribusi normal.\n",
    "- jika nilai probabilitas < tingkat signifikansi, maka $H_0$ ditolak artinya kita mengasumsikan bahwa data TIDAK terdistribusi normal\n",
    "\n",
    "Tingkat signifikansi ($\\alpha$) yang umum dipakai adalah sebesar 5% atau 0.05.\n"
   ]
  },
  {
   "cell_type": "markdown",
   "metadata": {},
   "source": [
    "#### `1. Kolmogorov Smirnov`\n",
    "\n",
    "Uji Kolmogorov Smirnov menghitung jarak antara distribusi empiris dan distribusi teoritis. Uji ini memang terkenal tetapi memiliki sejumlah kekurangan. Uji Kolmogorov Smirnov membutuhkan data yang besar dan sensitif dengan adanya data outlier.\n",
    "\n",
    "Pengambilan keputusan terhadap hipotesis dapat dilakukan dengan membandingkan nilai Dmax dari uji yang dilakukan terhadap Dkritis. Berikut aturan pengambilan keputusan berdasarkan pendekatan nilai probabilitas.\n",
    "\n",
    "- jika nilai Dmax < Dkritis, maka $H_0$ gagal ditolak artinya kita mengasumsikan bahwa data terdistribusi normal.\n",
    "- jika nilai Dmax > Dkritis, maka $H_0$ ditolak artinya kita mengasumsikan bahwa data TIDAK terdistribusi normal\n",
    "\n",
    "##### **Cara Hitung Manual Uji Normalitas dengan Uji Kolmogorov-Smirnov**\n",
    "\n",
    "Berikut data nilai dari kelas program Data Science.\n"
   ]
  },
  {
   "cell_type": "code",
   "execution_count": 104,
   "metadata": {},
   "outputs": [
    {
     "data": {
      "text/html": [
       "<div>\n",
       "<style scoped>\n",
       "    .dataframe tbody tr th:only-of-type {\n",
       "        vertical-align: middle;\n",
       "    }\n",
       "\n",
       "    .dataframe tbody tr th {\n",
       "        vertical-align: top;\n",
       "    }\n",
       "\n",
       "    .dataframe thead th {\n",
       "        text-align: right;\n",
       "    }\n",
       "</style>\n",
       "<table border=\"1\" class=\"dataframe\">\n",
       "  <thead>\n",
       "    <tr style=\"text-align: right;\">\n",
       "      <th></th>\n",
       "      <th>nama</th>\n",
       "      <th>nilai</th>\n",
       "    </tr>\n",
       "  </thead>\n",
       "  <tbody>\n",
       "    <tr>\n",
       "      <th>0</th>\n",
       "      <td>A</td>\n",
       "      <td>40</td>\n",
       "    </tr>\n",
       "    <tr>\n",
       "      <th>1</th>\n",
       "      <td>B</td>\n",
       "      <td>50</td>\n",
       "    </tr>\n",
       "    <tr>\n",
       "      <th>2</th>\n",
       "      <td>C</td>\n",
       "      <td>50</td>\n",
       "    </tr>\n",
       "    <tr>\n",
       "      <th>3</th>\n",
       "      <td>D</td>\n",
       "      <td>60</td>\n",
       "    </tr>\n",
       "    <tr>\n",
       "      <th>4</th>\n",
       "      <td>E</td>\n",
       "      <td>60</td>\n",
       "    </tr>\n",
       "  </tbody>\n",
       "</table>\n",
       "</div>"
      ],
      "text/plain": [
       "  nama  nilai\n",
       "0    A     40\n",
       "1    B     50\n",
       "2    C     50\n",
       "3    D     60\n",
       "4    E     60"
      ]
     },
     "execution_count": 104,
     "metadata": {},
     "output_type": "execute_result"
    }
   ],
   "source": [
    "data = pd.DataFrame({\n",
    "    'nama': ['A', 'B', 'C', 'D', 'E', 'F', 'G', 'H', 'I', 'J', 'K', 'L', 'M', 'N', 'O', 'P'],\n",
    "    'nilai': [40, 50, 50, 60, 60, 60, 70, 70, 70, 70, 80, 80, 80, 90, 90, 100]\n",
    "})\n",
    "\n",
    "data.head()"
   ]
  },
  {
   "cell_type": "markdown",
   "metadata": {},
   "source": [
    "Berikut akan digunakan pendekatan uji Kolmogorov-Smirnov untuk menguji hipotesis apakah data tersebut ditarik dari populasi yang berdistribusi normal atau tidak (misalkan tingkat signifikansi yang digunakan 𝛼 = 5%). Perhitungan akan dilakukan secara manual."
   ]
  },
  {
   "cell_type": "markdown",
   "metadata": {},
   "source": [
    "**Perhitungan Rerata dan Standar Deviasi**"
   ]
  },
  {
   "cell_type": "code",
   "execution_count": 106,
   "metadata": {},
   "outputs": [
    {
     "name": "stdout",
     "output_type": "stream",
     "text": [
      "Rerata: 70.0\n",
      "Standar Deviasi: 16.32993161855452\n"
     ]
    }
   ],
   "source": [
    "rerata = data['nilai'].mean()\n",
    "standar_deviasi = data['nilai'].std()\n",
    "\n",
    "print('Rerata:', rerata)\n",
    "print('Standar Deviasi:', standar_deviasi)"
   ]
  },
  {
   "cell_type": "markdown",
   "metadata": {},
   "source": [
    "**Menghitung probabilitas dari $X_i$ atau $f(X_i)$**\n",
    "\n",
    "Probabilitas untuk nilai $X=40$ atau $f(40)$ adalah $\\frac{1}{16}=0,0625$ dan seterusnya (lihat tabel di bawah)"
   ]
  },
  {
   "cell_type": "code",
   "execution_count": 114,
   "metadata": {},
   "outputs": [
    {
     "data": {
      "text/html": [
       "<div>\n",
       "<style scoped>\n",
       "    .dataframe tbody tr th:only-of-type {\n",
       "        vertical-align: middle;\n",
       "    }\n",
       "\n",
       "    .dataframe tbody tr th {\n",
       "        vertical-align: top;\n",
       "    }\n",
       "\n",
       "    .dataframe thead th {\n",
       "        text-align: right;\n",
       "    }\n",
       "</style>\n",
       "<table border=\"1\" class=\"dataframe\">\n",
       "  <thead>\n",
       "    <tr style=\"text-align: right;\">\n",
       "      <th></th>\n",
       "      <th>nilai</th>\n",
       "      <th>Frekuensi</th>\n",
       "      <th>f(X)</th>\n",
       "    </tr>\n",
       "  </thead>\n",
       "  <tbody>\n",
       "    <tr>\n",
       "      <th>0</th>\n",
       "      <td>40</td>\n",
       "      <td>1</td>\n",
       "      <td>0.0625</td>\n",
       "    </tr>\n",
       "    <tr>\n",
       "      <th>1</th>\n",
       "      <td>50</td>\n",
       "      <td>2</td>\n",
       "      <td>0.1250</td>\n",
       "    </tr>\n",
       "    <tr>\n",
       "      <th>2</th>\n",
       "      <td>60</td>\n",
       "      <td>3</td>\n",
       "      <td>0.1875</td>\n",
       "    </tr>\n",
       "    <tr>\n",
       "      <th>3</th>\n",
       "      <td>70</td>\n",
       "      <td>4</td>\n",
       "      <td>0.2500</td>\n",
       "    </tr>\n",
       "    <tr>\n",
       "      <th>4</th>\n",
       "      <td>80</td>\n",
       "      <td>3</td>\n",
       "      <td>0.1875</td>\n",
       "    </tr>\n",
       "    <tr>\n",
       "      <th>5</th>\n",
       "      <td>90</td>\n",
       "      <td>2</td>\n",
       "      <td>0.1250</td>\n",
       "    </tr>\n",
       "    <tr>\n",
       "      <th>6</th>\n",
       "      <td>100</td>\n",
       "      <td>1</td>\n",
       "      <td>0.0625</td>\n",
       "    </tr>\n",
       "  </tbody>\n",
       "</table>\n",
       "</div>"
      ],
      "text/plain": [
       "   nilai  Frekuensi    f(X)\n",
       "0     40          1  0.0625\n",
       "1     50          2  0.1250\n",
       "2     60          3  0.1875\n",
       "3     70          4  0.2500\n",
       "4     80          3  0.1875\n",
       "5     90          2  0.1250\n",
       "6    100          1  0.0625"
      ]
     },
     "execution_count": 114,
     "metadata": {},
     "output_type": "execute_result"
    }
   ],
   "source": [
    "# membuat tabel berisi nilai dan frekuensi\n",
    "tabulasi = data['nilai'].value_counts(sort=False).to_frame().reset_index().rename(columns={'index':'nilai', 'nilai':'Frekuensi'})\n",
    "\n",
    "# menghitung probabilitas untuk nilai x\n",
    "tabulasi['f(X)'] = tabulasi['Frekuensi'] / tabulasi['Frekuensi'].sum()\n",
    "tabulasi"
   ]
  },
  {
   "cell_type": "markdown",
   "metadata": {},
   "source": [
    "**Menghitung probabilitas kumulatif dari $X_i$ atau $F(X_i)=f(X\\leq X_i)$**\n",
    "\n",
    "- Nilai dari $F(40) = 0,0625$. \n",
    "- Nilai dari $F(50) = f(x \\leq 50) = f(40) + f(50) = 0,0625 +0,125 = 0,1875$ dan seterusnya."
   ]
  },
  {
   "cell_type": "code",
   "execution_count": 118,
   "metadata": {},
   "outputs": [
    {
     "data": {
      "text/html": [
       "<div>\n",
       "<style scoped>\n",
       "    .dataframe tbody tr th:only-of-type {\n",
       "        vertical-align: middle;\n",
       "    }\n",
       "\n",
       "    .dataframe tbody tr th {\n",
       "        vertical-align: top;\n",
       "    }\n",
       "\n",
       "    .dataframe thead th {\n",
       "        text-align: right;\n",
       "    }\n",
       "</style>\n",
       "<table border=\"1\" class=\"dataframe\">\n",
       "  <thead>\n",
       "    <tr style=\"text-align: right;\">\n",
       "      <th></th>\n",
       "      <th>nilai</th>\n",
       "      <th>Frekuensi</th>\n",
       "      <th>f(X)</th>\n",
       "      <th>F(X)</th>\n",
       "    </tr>\n",
       "  </thead>\n",
       "  <tbody>\n",
       "    <tr>\n",
       "      <th>0</th>\n",
       "      <td>40</td>\n",
       "      <td>1</td>\n",
       "      <td>0.0625</td>\n",
       "      <td>0.0625</td>\n",
       "    </tr>\n",
       "    <tr>\n",
       "      <th>1</th>\n",
       "      <td>50</td>\n",
       "      <td>2</td>\n",
       "      <td>0.1250</td>\n",
       "      <td>0.1875</td>\n",
       "    </tr>\n",
       "    <tr>\n",
       "      <th>2</th>\n",
       "      <td>60</td>\n",
       "      <td>3</td>\n",
       "      <td>0.1875</td>\n",
       "      <td>0.3750</td>\n",
       "    </tr>\n",
       "    <tr>\n",
       "      <th>3</th>\n",
       "      <td>70</td>\n",
       "      <td>4</td>\n",
       "      <td>0.2500</td>\n",
       "      <td>0.6250</td>\n",
       "    </tr>\n",
       "    <tr>\n",
       "      <th>4</th>\n",
       "      <td>80</td>\n",
       "      <td>3</td>\n",
       "      <td>0.1875</td>\n",
       "      <td>0.8125</td>\n",
       "    </tr>\n",
       "    <tr>\n",
       "      <th>5</th>\n",
       "      <td>90</td>\n",
       "      <td>2</td>\n",
       "      <td>0.1250</td>\n",
       "      <td>0.9375</td>\n",
       "    </tr>\n",
       "    <tr>\n",
       "      <th>6</th>\n",
       "      <td>100</td>\n",
       "      <td>1</td>\n",
       "      <td>0.0625</td>\n",
       "      <td>1.0000</td>\n",
       "    </tr>\n",
       "  </tbody>\n",
       "</table>\n",
       "</div>"
      ],
      "text/plain": [
       "   nilai  Frekuensi    f(X)    F(X)\n",
       "0     40          1  0.0625  0.0625\n",
       "1     50          2  0.1250  0.1875\n",
       "2     60          3  0.1875  0.3750\n",
       "3     70          4  0.2500  0.6250\n",
       "4     80          3  0.1875  0.8125\n",
       "5     90          2  0.1250  0.9375\n",
       "6    100          1  0.0625  1.0000"
      ]
     },
     "execution_count": 118,
     "metadata": {},
     "output_type": "execute_result"
    }
   ],
   "source": [
    "tabulasi['F(X)'] = tabulasi['f(X)'].cumsum()\n",
    "tabulasi"
   ]
  },
  {
   "cell_type": "markdown",
   "metadata": {},
   "source": [
    "**Mentransformasi nilai $X_i$ menjadi nilai normal $Z_i$ terstandarisasi**\n",
    "\n",
    "Selanjutnya mentransformasi nilai $X_i$ ke dalam nilai normal $Z_i$ terstandarisasi yang dihitung dengan rumus\n",
    "\n",
    "  $$Z_i=\\frac{X_i-\\bar{X}}{s}$$\n",
    "\n",
    "untuk $X=40$ maka\n",
    "  $$Z(X=40)=\\frac{40-70}{16.330}=-1.837$$\n",
    "\n",
    "untuk $X=50$ maka\n",
    "  $$Z(X=50)=\\frac{50-70}{16.330}=-1.2247$$"
   ]
  },
  {
   "cell_type": "code",
   "execution_count": 122,
   "metadata": {},
   "outputs": [
    {
     "data": {
      "text/html": [
       "<div>\n",
       "<style scoped>\n",
       "    .dataframe tbody tr th:only-of-type {\n",
       "        vertical-align: middle;\n",
       "    }\n",
       "\n",
       "    .dataframe tbody tr th {\n",
       "        vertical-align: top;\n",
       "    }\n",
       "\n",
       "    .dataframe thead th {\n",
       "        text-align: right;\n",
       "    }\n",
       "</style>\n",
       "<table border=\"1\" class=\"dataframe\">\n",
       "  <thead>\n",
       "    <tr style=\"text-align: right;\">\n",
       "      <th></th>\n",
       "      <th>nilai</th>\n",
       "      <th>Frekuensi</th>\n",
       "      <th>f(X)</th>\n",
       "      <th>F(X)</th>\n",
       "      <th>Z</th>\n",
       "    </tr>\n",
       "  </thead>\n",
       "  <tbody>\n",
       "    <tr>\n",
       "      <th>0</th>\n",
       "      <td>40</td>\n",
       "      <td>1</td>\n",
       "      <td>0.0625</td>\n",
       "      <td>0.0625</td>\n",
       "      <td>-1.837117</td>\n",
       "    </tr>\n",
       "    <tr>\n",
       "      <th>1</th>\n",
       "      <td>50</td>\n",
       "      <td>2</td>\n",
       "      <td>0.1250</td>\n",
       "      <td>0.1875</td>\n",
       "      <td>-1.224745</td>\n",
       "    </tr>\n",
       "    <tr>\n",
       "      <th>2</th>\n",
       "      <td>60</td>\n",
       "      <td>3</td>\n",
       "      <td>0.1875</td>\n",
       "      <td>0.3750</td>\n",
       "      <td>-0.612372</td>\n",
       "    </tr>\n",
       "    <tr>\n",
       "      <th>3</th>\n",
       "      <td>70</td>\n",
       "      <td>4</td>\n",
       "      <td>0.2500</td>\n",
       "      <td>0.6250</td>\n",
       "      <td>0.000000</td>\n",
       "    </tr>\n",
       "    <tr>\n",
       "      <th>4</th>\n",
       "      <td>80</td>\n",
       "      <td>3</td>\n",
       "      <td>0.1875</td>\n",
       "      <td>0.8125</td>\n",
       "      <td>0.612372</td>\n",
       "    </tr>\n",
       "    <tr>\n",
       "      <th>5</th>\n",
       "      <td>90</td>\n",
       "      <td>2</td>\n",
       "      <td>0.1250</td>\n",
       "      <td>0.9375</td>\n",
       "      <td>1.224745</td>\n",
       "    </tr>\n",
       "    <tr>\n",
       "      <th>6</th>\n",
       "      <td>100</td>\n",
       "      <td>1</td>\n",
       "      <td>0.0625</td>\n",
       "      <td>1.0000</td>\n",
       "      <td>1.837117</td>\n",
       "    </tr>\n",
       "  </tbody>\n",
       "</table>\n",
       "</div>"
      ],
      "text/plain": [
       "   nilai  Frekuensi    f(X)    F(X)         Z\n",
       "0     40          1  0.0625  0.0625 -1.837117\n",
       "1     50          2  0.1250  0.1875 -1.224745\n",
       "2     60          3  0.1875  0.3750 -0.612372\n",
       "3     70          4  0.2500  0.6250  0.000000\n",
       "4     80          3  0.1875  0.8125  0.612372\n",
       "5     90          2  0.1250  0.9375  1.224745\n",
       "6    100          1  0.0625  1.0000  1.837117"
      ]
     },
     "execution_count": 122,
     "metadata": {},
     "output_type": "execute_result"
    }
   ],
   "source": [
    "tabulasi['Z'] = tabulasi['nilai'].apply(lambda x: (x-rerata)/standar_deviasi)\n",
    "tabulasi"
   ]
  },
  {
   "cell_type": "markdown",
   "metadata": {},
   "source": [
    "**Menghitung probabilitas kumulatif dari $Z_i$ atau $F(Z_i) = f(Z\\leq Z_i)$.**\n",
    "\n",
    "Setelah diperoleh nilai-nilai normal terstandarisasi, maka akan dihitung probabilitas kumulatif dari nilai-nilai normal terstandarisasi tersebut.\n",
    "\n",
    "- Probabilitas kumulatif dari $Z = −1,837$ atau $f(Z \\leq −1,837)$ berdasarkan tabel distribusi normal kumulatif adalah 0,033,\n",
    "- Probabilitas kumulatif dari $Z = 0,61$ atau $f(Z \\leq 0,61)$ berdasarkan tabel distribusi normal kumulatif adalah 0,729, dan seterusnya."
   ]
  },
  {
   "cell_type": "code",
   "execution_count": 126,
   "metadata": {},
   "outputs": [
    {
     "data": {
      "text/html": [
       "<div>\n",
       "<style scoped>\n",
       "    .dataframe tbody tr th:only-of-type {\n",
       "        vertical-align: middle;\n",
       "    }\n",
       "\n",
       "    .dataframe tbody tr th {\n",
       "        vertical-align: top;\n",
       "    }\n",
       "\n",
       "    .dataframe thead th {\n",
       "        text-align: right;\n",
       "    }\n",
       "</style>\n",
       "<table border=\"1\" class=\"dataframe\">\n",
       "  <thead>\n",
       "    <tr style=\"text-align: right;\">\n",
       "      <th></th>\n",
       "      <th>nilai</th>\n",
       "      <th>Frekuensi</th>\n",
       "      <th>f(X)</th>\n",
       "      <th>F(X)</th>\n",
       "      <th>Z</th>\n",
       "      <th>F(Z)</th>\n",
       "    </tr>\n",
       "  </thead>\n",
       "  <tbody>\n",
       "    <tr>\n",
       "      <th>0</th>\n",
       "      <td>40</td>\n",
       "      <td>1</td>\n",
       "      <td>0.0625</td>\n",
       "      <td>0.0625</td>\n",
       "      <td>-1.837117</td>\n",
       "      <td>0.033096</td>\n",
       "    </tr>\n",
       "    <tr>\n",
       "      <th>1</th>\n",
       "      <td>50</td>\n",
       "      <td>2</td>\n",
       "      <td>0.1250</td>\n",
       "      <td>0.1875</td>\n",
       "      <td>-1.224745</td>\n",
       "      <td>0.110336</td>\n",
       "    </tr>\n",
       "    <tr>\n",
       "      <th>2</th>\n",
       "      <td>60</td>\n",
       "      <td>3</td>\n",
       "      <td>0.1875</td>\n",
       "      <td>0.3750</td>\n",
       "      <td>-0.612372</td>\n",
       "      <td>0.270146</td>\n",
       "    </tr>\n",
       "    <tr>\n",
       "      <th>3</th>\n",
       "      <td>70</td>\n",
       "      <td>4</td>\n",
       "      <td>0.2500</td>\n",
       "      <td>0.6250</td>\n",
       "      <td>0.000000</td>\n",
       "      <td>0.500000</td>\n",
       "    </tr>\n",
       "    <tr>\n",
       "      <th>4</th>\n",
       "      <td>80</td>\n",
       "      <td>3</td>\n",
       "      <td>0.1875</td>\n",
       "      <td>0.8125</td>\n",
       "      <td>0.612372</td>\n",
       "      <td>0.729854</td>\n",
       "    </tr>\n",
       "    <tr>\n",
       "      <th>5</th>\n",
       "      <td>90</td>\n",
       "      <td>2</td>\n",
       "      <td>0.1250</td>\n",
       "      <td>0.9375</td>\n",
       "      <td>1.224745</td>\n",
       "      <td>0.889664</td>\n",
       "    </tr>\n",
       "    <tr>\n",
       "      <th>6</th>\n",
       "      <td>100</td>\n",
       "      <td>1</td>\n",
       "      <td>0.0625</td>\n",
       "      <td>1.0000</td>\n",
       "      <td>1.837117</td>\n",
       "      <td>0.966904</td>\n",
       "    </tr>\n",
       "  </tbody>\n",
       "</table>\n",
       "</div>"
      ],
      "text/plain": [
       "   nilai  Frekuensi    f(X)    F(X)         Z      F(Z)\n",
       "0     40          1  0.0625  0.0625 -1.837117  0.033096\n",
       "1     50          2  0.1250  0.1875 -1.224745  0.110336\n",
       "2     60          3  0.1875  0.3750 -0.612372  0.270146\n",
       "3     70          4  0.2500  0.6250  0.000000  0.500000\n",
       "4     80          3  0.1875  0.8125  0.612372  0.729854\n",
       "5     90          2  0.1250  0.9375  1.224745  0.889664\n",
       "6    100          1  0.0625  1.0000  1.837117  0.966904"
      ]
     },
     "execution_count": 126,
     "metadata": {},
     "output_type": "execute_result"
    }
   ],
   "source": [
    "import scipy.stats\n",
    "\n",
    "tabulasi['F(Z)'] = tabulasi['Z'].apply(lambda x: scipy.stats.norm.cdf(x))\n",
    "tabulasi"
   ]
  },
  {
   "cell_type": "markdown",
   "metadata": {},
   "source": [
    "**Menghitung nilai mutlak dari selisih antara $F(Z_i)$ dan $F(X_i)$**\n",
    "\n",
    "Selanjutnya menghitung nilai mutlak dari selisih antara $F(Z_i)$ dan $F(X_i)$.\n",
    "\n",
    "  $$D_i = |F(Z_i) − F(X_i)|$$\n",
    "\n",
    "- Nilai $D$ untuk $X = 40$ adalah $|0,033 − 0,0625| = 0,0295$\n",
    "- Nilai $D$ untuk $X = 50$ adalah $|0,110 − 0,1875| = 0,077$,\n",
    "- dan seterusnya."
   ]
  },
  {
   "cell_type": "code",
   "execution_count": 130,
   "metadata": {},
   "outputs": [
    {
     "data": {
      "text/html": [
       "<div>\n",
       "<style scoped>\n",
       "    .dataframe tbody tr th:only-of-type {\n",
       "        vertical-align: middle;\n",
       "    }\n",
       "\n",
       "    .dataframe tbody tr th {\n",
       "        vertical-align: top;\n",
       "    }\n",
       "\n",
       "    .dataframe thead th {\n",
       "        text-align: right;\n",
       "    }\n",
       "</style>\n",
       "<table border=\"1\" class=\"dataframe\">\n",
       "  <thead>\n",
       "    <tr style=\"text-align: right;\">\n",
       "      <th></th>\n",
       "      <th>nilai</th>\n",
       "      <th>Frekuensi</th>\n",
       "      <th>f(X)</th>\n",
       "      <th>F(X)</th>\n",
       "      <th>Z</th>\n",
       "      <th>F(Z)</th>\n",
       "      <th>D</th>\n",
       "    </tr>\n",
       "  </thead>\n",
       "  <tbody>\n",
       "    <tr>\n",
       "      <th>0</th>\n",
       "      <td>40</td>\n",
       "      <td>1</td>\n",
       "      <td>0.0625</td>\n",
       "      <td>0.0625</td>\n",
       "      <td>-1.837117</td>\n",
       "      <td>0.033096</td>\n",
       "      <td>0.029404</td>\n",
       "    </tr>\n",
       "    <tr>\n",
       "      <th>1</th>\n",
       "      <td>50</td>\n",
       "      <td>2</td>\n",
       "      <td>0.1250</td>\n",
       "      <td>0.1875</td>\n",
       "      <td>-1.224745</td>\n",
       "      <td>0.110336</td>\n",
       "      <td>0.077164</td>\n",
       "    </tr>\n",
       "    <tr>\n",
       "      <th>2</th>\n",
       "      <td>60</td>\n",
       "      <td>3</td>\n",
       "      <td>0.1875</td>\n",
       "      <td>0.3750</td>\n",
       "      <td>-0.612372</td>\n",
       "      <td>0.270146</td>\n",
       "      <td>0.104854</td>\n",
       "    </tr>\n",
       "    <tr>\n",
       "      <th>3</th>\n",
       "      <td>70</td>\n",
       "      <td>4</td>\n",
       "      <td>0.2500</td>\n",
       "      <td>0.6250</td>\n",
       "      <td>0.000000</td>\n",
       "      <td>0.500000</td>\n",
       "      <td>0.125000</td>\n",
       "    </tr>\n",
       "    <tr>\n",
       "      <th>4</th>\n",
       "      <td>80</td>\n",
       "      <td>3</td>\n",
       "      <td>0.1875</td>\n",
       "      <td>0.8125</td>\n",
       "      <td>0.612372</td>\n",
       "      <td>0.729854</td>\n",
       "      <td>0.082646</td>\n",
       "    </tr>\n",
       "    <tr>\n",
       "      <th>5</th>\n",
       "      <td>90</td>\n",
       "      <td>2</td>\n",
       "      <td>0.1250</td>\n",
       "      <td>0.9375</td>\n",
       "      <td>1.224745</td>\n",
       "      <td>0.889664</td>\n",
       "      <td>0.047836</td>\n",
       "    </tr>\n",
       "    <tr>\n",
       "      <th>6</th>\n",
       "      <td>100</td>\n",
       "      <td>1</td>\n",
       "      <td>0.0625</td>\n",
       "      <td>1.0000</td>\n",
       "      <td>1.837117</td>\n",
       "      <td>0.966904</td>\n",
       "      <td>0.033096</td>\n",
       "    </tr>\n",
       "  </tbody>\n",
       "</table>\n",
       "</div>"
      ],
      "text/plain": [
       "   nilai  Frekuensi    f(X)    F(X)         Z      F(Z)         D\n",
       "0     40          1  0.0625  0.0625 -1.837117  0.033096  0.029404\n",
       "1     50          2  0.1250  0.1875 -1.224745  0.110336  0.077164\n",
       "2     60          3  0.1875  0.3750 -0.612372  0.270146  0.104854\n",
       "3     70          4  0.2500  0.6250  0.000000  0.500000  0.125000\n",
       "4     80          3  0.1875  0.8125  0.612372  0.729854  0.082646\n",
       "5     90          2  0.1250  0.9375  1.224745  0.889664  0.047836\n",
       "6    100          1  0.0625  1.0000  1.837117  0.966904  0.033096"
      ]
     },
     "execution_count": 130,
     "metadata": {},
     "output_type": "execute_result"
    }
   ],
   "source": [
    "tabulasi['D'] = np.abs(tabulasi['F(X)'] - tabulasi['F(Z)'])\n",
    "tabulasi"
   ]
  },
  {
   "cell_type": "markdown",
   "metadata": {},
   "source": [
    "**Menghitung nilai statistik dari uji Kolmogorov-Smirnov $D_{max}$**\n",
    "\n",
    "Nilai statistik dari uji Kolmogorov-Smirnov merupakan nilai D yang paling besar atau maksimum. Berdasarkan diatas nilai D terbesar adalah 0.125, sehingga nilai statistik dari uji Kolmogorov-Smirnov adalah 0.125 atau $D_{max}$ = 0.125"
   ]
  },
  {
   "cell_type": "code",
   "execution_count": 133,
   "metadata": {},
   "outputs": [
    {
     "data": {
      "text/plain": [
       "0.125"
      ]
     },
     "execution_count": 133,
     "metadata": {},
     "output_type": "execute_result"
    }
   ],
   "source": [
    "Dmax = tabulasi['D'].max()\n",
    "Dmax"
   ]
  },
  {
   "cell_type": "markdown",
   "metadata": {},
   "source": [
    "**Menghitung nilai kritis Kolmogorov-Smirnov**\n",
    "\n",
    "Nilai kritis Kolmogorov-Smirnov pada tingkat signifikansi 5% dan jumlah elemen sampel 16 berdasarkan tabel distribusi Kolmogorov-Smirnov adalah 0,328.\n",
    "\n",
    "![Tabel Kolmogorov Smirnov](https://miro.medium.com/v2/resize:fit:828/format:webp/1*FobhWb-Dm9IZruroK6-3uQ.png)"
   ]
  },
  {
   "cell_type": "markdown",
   "metadata": {},
   "source": [
    "**Pengambilan keputusan terhadap hipotesis.**\n",
    "\n",
    "Perhatikan bahwa karena nilai statistik dari uji Kolmogorov-Smirnov (0,125) lebih kecil dibandingkan nilai kritis Kolmogorov-Smirnov (0,328), maka hipotesis nol gagal ditolak, sehingga asumsi mengenai data nilai data science diatas ditarik dari populasi yang berdistribusi normal dapat diterima pada tingkat signifikansi 5%"
   ]
  },
  {
   "cell_type": "markdown",
   "metadata": {},
   "source": [
    "##### **Cara Hitung Kolmogorov-Smirnov di Python**\n",
    "\n",
    "Cara Hitung Manual Uji Normalitas dengan Uji Kolmogorov-Smirnov akan sangat mudah di Python. Kita gunakan kembali data df_books."
   ]
  },
  {
   "cell_type": "code",
   "execution_count": 141,
   "metadata": {},
   "outputs": [
    {
     "name": "stdout",
     "output_type": "stream",
     "text": [
      "pvalue = 0.0. pvalue < 0.05. Reject Ho. Kita dapat mengasumsikan bahwa data TIDAK terdistribusi normal\n"
     ]
    }
   ],
   "source": [
    "from scipy.stats import kstest\n",
    "\n",
    "stat, pvalue = kstest(df_books['Price'], 'norm')\n",
    "alpha = 0.05\n",
    "\n",
    "if pvalue > alpha:\n",
    "    print(f'pvalue = {pvalue}. pvalue > {alpha}. Fail to Reject Ho. Kita dapat mengasumsikan bahwa data terdistribusi normal')\n",
    "else:\n",
    "    print(f'pvalue = {pvalue}. pvalue < {alpha}. Reject Ho. Kita dapat mengasumsikan bahwa data TIDAK terdistribusi normal')"
   ]
  },
  {
   "cell_type": "markdown",
   "metadata": {},
   "source": [
    "#### `2. Lilliefors Test`\n",
    "\n",
    "Uji Lilliefors didasari dari uji KS. Perbedaannya pada uji Lilliefors, dapat diterima bahwa mean dan varians dari distribusi populasi dapat ditaksir daripada ditentukan terlebih dahulu oleh user.\n",
    "\n",
    "Oleh karena itu, uji Lilliefors menggunakan distribusi Lilliefors daripada distribusi Kolmogorov. Meskipun Lilliefors merupakan penyempurnaan dari uji KS, kekuatannya masih lebih rendah daripada uji Shapiro Wilk.\n"
   ]
  },
  {
   "cell_type": "code",
   "execution_count": 143,
   "metadata": {},
   "outputs": [
    {
     "name": "stdout",
     "output_type": "stream",
     "text": [
      "pvalue = 0.00100. pvalue < 0.05. Reject Ho. Kita dapat mengasumsikan bahwa data TIDAK terdistribusi normal\n"
     ]
    }
   ],
   "source": [
    "from statsmodels.stats.diagnostic import lilliefors\n",
    "\n",
    "stat, pvalue = lilliefors(df_books['Price'])\n",
    "alpha = 0.05\n",
    "\n",
    "if pvalue > alpha:\n",
    "    print(f'pvalue = {pvalue:.5f}. pvalue > {alpha}. Fail to Reject Ho. Kita dapat mengasumsikan bahwa data terdistribusi normal')\n",
    "else:\n",
    "    print(f'pvalue = {pvalue:.5f}. pvalue < {alpha}. Reject Ho. Kita dapat mengasumsikan bahwa data TIDAK terdistribusi normal')"
   ]
  },
  {
   "cell_type": "markdown",
   "metadata": {},
   "source": [
    "#### `3. Shapiro-Wilk Test`\n",
    "\n",
    "Uji Shapiro Wilk banyak dinilai sebagai uji paling kuat untuk menguji distribusi normal. Uji ini dikembangkan secara khusus untuk distribusi normal dan tidak dapat digunakan untuk pengujian terhadap distribusi lain.\n",
    "\n"
   ]
  },
  {
   "cell_type": "code",
   "execution_count": 144,
   "metadata": {},
   "outputs": [
    {
     "name": "stdout",
     "output_type": "stream",
     "text": [
      "pvalue = 0.00000. pvalue < 0.05. Reject Ho. Kita dapat mengasumsikan bahwa data TIDAK terdistribusi normal\n"
     ]
    }
   ],
   "source": [
    "from scipy.stats import shapiro\n",
    "\n",
    "stat, pvalue = shapiro(df_books['Price'])\n",
    "alpha = 0.05\n",
    "\n",
    "if pvalue > alpha:\n",
    "    print(f'pvalue = {pvalue:.5f}. pvalue > {alpha}. Fail to Reject Ho. Kita dapat mengasumsikan bahwa data terdistribusi normal')\n",
    "else:\n",
    "    print(f'pvalue = {pvalue:.5f}. pvalue < {alpha}. Reject Ho. Kita dapat mengasumsikan bahwa data TIDAK terdistribusi normal')"
   ]
  },
  {
   "cell_type": "markdown",
   "metadata": {},
   "source": [
    "#### `4. D'Agostino & Pearson Test`\n",
    "\n",
    "Uji D'Agostino-Pearson didasarkan asumsi bahwa ketika data terdistribusi normal, statistik uji memiliki distribusi chi-kuadrat dengan 2 degree of freedom atau derajat kebebasan. Uji D’Agostino dan Pearson menggabungkan uji skewness dan kurtosis untuk menghasilkan uji normalitas data."
   ]
  },
  {
   "cell_type": "code",
   "execution_count": 145,
   "metadata": {},
   "outputs": [
    {
     "name": "stdout",
     "output_type": "stream",
     "text": [
      "pvalue = 0.00000. pvalue < 0.05. Reject Ho. Kita dapat mengasumsikan bahwa data TIDAK terdistribusi normal\n"
     ]
    }
   ],
   "source": [
    "from scipy.stats import normaltest\n",
    "\n",
    "stat, pvalue = normaltest(df_books['Price'])\n",
    "alpha = 0.05\n",
    "\n",
    "if pvalue > alpha:\n",
    "    print(f'pvalue = {pvalue:.5f}. pvalue > {alpha}. Fail to Reject Ho. Kita dapat mengasumsikan bahwa data terdistribusi normal')\n",
    "else:\n",
    "    print(f'pvalue = {pvalue:.5f}. pvalue < {alpha}. Reject Ho. Kita dapat mengasumsikan bahwa data TIDAK terdistribusi normal')"
   ]
  }
 ],
 "metadata": {
  "kernelspec": {
   "display_name": "Python 3",
   "language": "python",
   "name": "python3"
  },
  "language_info": {
   "codemirror_mode": {
    "name": "ipython",
    "version": 3
   },
   "file_extension": ".py",
   "mimetype": "text/x-python",
   "name": "python",
   "nbconvert_exporter": "python",
   "pygments_lexer": "ipython3",
   "version": "3.10.5"
  }
 },
 "nbformat": 4,
 "nbformat_minor": 2
}

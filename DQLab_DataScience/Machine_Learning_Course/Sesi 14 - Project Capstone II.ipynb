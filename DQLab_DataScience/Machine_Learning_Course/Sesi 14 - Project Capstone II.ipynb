{
 "cells": [
  {
   "cell_type": "markdown",
   "id": "4745e9b4-a2c8-4efc-b604-4d0f8247808a",
   "metadata": {},
   "source": [
    "# Pendahuluan\n",
    "\n",
    "Di dalam material ini, kamu akan mempelajari Data Heart Disease dan belajar bagaimana melakukan pemodelan. Lakukan kode dan jalankan setiap sel. Selama proses pembelajaran, kamu akan menemui beberapa blok **TODO** -- ikuti petunjuk untuk mengisinya sebelum menjalankan sel-sel tersebut dan melanjutkan."
   ]
  },
  {
   "cell_type": "code",
   "execution_count": null,
   "id": "6be0c8c8-6fc4-4c08-9be9-635dad5a4f8d",
   "metadata": {},
   "outputs": [],
   "source": [
    "# Tahapan sebelumnya\n",
    "import numpy as np\n",
    "import pandas as pd\n",
    "import math\n",
    "import random\n",
    "import seaborn as sns\n",
    "from scipy.stats import pearsonr, jarque_bera\n",
    "import matplotlib.pyplot as plt\n",
    "from sklearn.preprocessing import StandardScaler\n",
    "from sklearn.model_selection import train_test_split\n",
    "from sklearn import tree\n",
    "from sklearn.ensemble import RandomForestClassifier\n",
    "from sklearn.tree import DecisionTreeClassifier\n",
    "from sklearn.decomposition import PCA\n",
    "from sklearn.metrics import accuracy_score, confusion_matrix, precision_score, recall_score, classification_report, confusion_matrix, f1_score\n",
    "from sklearn.model_selection import cross_val_score\n",
    "import warnings\n",
    "warnings.filterwarnings(\"ignore\")\n",
    "\n",
    "%matplotlib inline\n",
    "\n",
    "# Memuat dataset yang sudah rapi ditahapan sebelumnya\n",
    "data = \"data.csv\"\n",
    "df = pd.read_csv(data, index_col=0)\n",
    "df['sex'] = df['sex'].replace({'Male' : 1,'Female': 0})\n",
    "df['cp'] = df['cp'].replace({'typical angina' : 0, 'atypical angina' : 1, 'non-anginal pain' : 2, 'asymtomatic' : 3})\n",
    "df['fbs'] = df['fbs'].replace({'No' : 0, 'Yes' : 1})\n",
    "df['restecg'] = df['restecg'].replace({'probable or definite left ventricular hypertrophy':0,'normal':1,'ST-T Wave abnormal':2})\n",
    "df['exang'] = df['exang'].replace({'No':0,'Yes':1})\n",
    "df['slope'] = df['slope'].replace({'downsloping':0, 'flat':1,'upsloping':2})\n",
    "df['thal'] = df['thal'].replace({'normal':1, 'fixed defect':2,'reversable defect':3})\n",
    "df['ca'] = df['ca'].replace({'Number of major vessels: 0':0, 'Number of major vessels: 1':1,'Number of major vessels: 2':2, 'Number of major vessels: 3':3})\n",
    "df['target'] = df['target'].replace({'No disease':0,'Disease':1})\n",
    "\n",
    "'''TODO: Ambil variabel terpilih'''\n",
    "# Variabel terpilih\n",
    "df = df[[#TODO]]"
   ]
  },
  {
   "cell_type": "code",
   "execution_count": null,
   "id": "b4adabc5-60a8-415d-a5a0-b553e7d8a87d",
   "metadata": {},
   "outputs": [],
   "source": [
    "'''TODO: Buatlah pengalian informasi dari data teratas dan liat kolomsnya'''\n",
    "# Liat informasi dari dataset yang kita miliki\n",
    "print(df.#TODO)\n",
    "print(df.#TODO)"
   ]
  },
  {
   "cell_type": "markdown",
   "id": "5edfdf87-fcc6-4d31-a2fa-553d637f9520",
   "metadata": {},
   "source": [
    "**Memisahkan variabel dependen dan independen**\n",
    "\n",
    "Variabel dependen yang digunakan adalah data pada kolom 'target', kolom feature merupakan variabel independen. Disini kamu akan membuat variabel X menggunakan .isin() untuk semua kolom kecuali kolom target, kemudian variabel y yang hanya kolom target saja."
   ]
  },
  {
   "cell_type": "code",
   "execution_count": null,
   "id": "26a4d08e-afb2-4db0-b3da-895cb82abd68",
   "metadata": {},
   "outputs": [],
   "source": [
    "'''TODO: Pisahkan variabel X dan y'''\n",
    "# Define X and y\n",
    "X = #TODO\n",
    "y = #TODO"
   ]
  },
  {
   "cell_type": "code",
   "execution_count": null,
   "id": "26abfd13-2e3d-420c-8d54-24062994a6ef",
   "metadata": {},
   "outputs": [],
   "source": [
    "# Melihat kolom yang termasuk variable indepnden\n",
    "X.head()"
   ]
  },
  {
   "cell_type": "code",
   "execution_count": null,
   "id": "0313e11c-7eca-4877-a3aa-003080ed469e",
   "metadata": {},
   "outputs": [],
   "source": [
    "# Melihat variabel dependen\n",
    "y.head()"
   ]
  },
  {
   "cell_type": "code",
   "execution_count": null,
   "id": "a6fadbca-9977-4b82-8126-f14bff6b6c0e",
   "metadata": {},
   "outputs": [],
   "source": [
    "'''TODO: Buatlah scaling data'''\n",
    "# Mendefinisikan standard scaler\n",
    "scaler = #TODO\n",
    "X_scaled = scaler.fit_transform(#TODO)"
   ]
  },
  {
   "cell_type": "markdown",
   "id": "3a5aaf16-9e3f-4f85-a6a7-d0478198940f",
   "metadata": {},
   "source": [
    "**Spliting data**\n",
    "\n",
    "Pisahkan dataset menjadi training dan testing dataset dengan perbandingan 80:20 dan random state 42!"
   ]
  },
  {
   "cell_type": "code",
   "execution_count": null,
   "id": "82fa6f4a-e143-4edf-ac4c-268144dc5750",
   "metadata": {},
   "outputs": [],
   "source": [
    "'''TODO: Pisahkan data menjadi beberapa klasifikasi train dan testing'''\n",
    "# Mendefinisikan pemisahan data\n",
    "X_train, X_test, y_train, y_test = train_test_split(#TODO , #TODO, test_size=0.2, random_state=100)\n",
    "\n",
    "# Menampilkan hasil pemisahan berdasarkan kolom dan baris\n",
    "print(X_train.shape)\n",
    "print(X_test.shape)\n",
    "print(y_train.shape)\n",
    "print(y_test.shape)"
   ]
  },
  {
   "cell_type": "markdown",
   "id": "309491a0-8b75-45af-916b-46e690ffc710",
   "metadata": {},
   "source": [
    "**Pemodelan dengan Heart Disease Dataset**\n",
    "\n",
    "Kita akan melakukan pemodelan untuk 4 model berbeda diantaranya logistic regression, decision tree, random forest dan neural networks."
   ]
  },
  {
   "cell_type": "code",
   "execution_count": null,
   "id": "1830864d-94b8-496e-846e-4afa5817627f",
   "metadata": {},
   "outputs": [],
   "source": [
    "# Menyiapkan libraries\n",
    "from sklearn.linear_model import LogisticRegression\n",
    "from sklearn.tree import DecisionTreeClassifier\n",
    "from sklearn.ensemble import RandomForestClassifier\n",
    "from sklearn.metrics import accuracy_score, precision_score, recall_score, roc_curve, roc_auc_score\n",
    "from sklearn.neural_network import MLPClassifier\n",
    "from sklearn.model_selection import GridSearchCV"
   ]
  },
  {
   "cell_type": "code",
   "execution_count": null,
   "id": "9b3fdcf0-5735-4efa-adc8-66e465e098d7",
   "metadata": {},
   "outputs": [],
   "source": [
    "'''TODO: Buatlah pengalian informasi Logistik Regresi dan hitung akurasinya'''\n",
    "clf = #TODO\n",
    "# train the classifier\n",
    "clf.fit(#TODO)\n",
    "y_pred = clf.predict(#TODO)\n",
    "# printing the test accuracy\n",
    "print(\"The test accuracy score of Logistric Regression Classifier is \", accuracy_score(#TODO))"
   ]
  },
  {
   "cell_type": "code",
   "execution_count": null,
   "id": "3e257d5d-5311-47d5-927e-45121c81af16",
   "metadata": {},
   "outputs": [],
   "source": [
    "print(classification_report(y_test, y_pred))"
   ]
  },
  {
   "cell_type": "code",
   "execution_count": null,
   "id": "76baf47c-40af-4bad-8c79-4dcb9f470e31",
   "metadata": {},
   "outputs": [],
   "source": [
    "'''TODO: Buatlah pengalian informasi Decision Tree dan hitung akurasinya'''\n",
    "clf = #TODO\n",
    "# train the classifier\n",
    "clf.fit(#TODO)\n",
    "y_pred = clf.predict(#TODO)\n",
    "# printing the test accuracy\n",
    "print(\"The test accuracy score of Decision Tree Classifier is \", accuracy_score(#TODO))"
   ]
  },
  {
   "cell_type": "code",
   "execution_count": null,
   "id": "3e3c41eb-1025-4e1b-bf5a-7c3fc6641197",
   "metadata": {},
   "outputs": [],
   "source": [
    "print(classification_report(y_test, y_pred))"
   ]
  },
  {
   "cell_type": "code",
   "execution_count": null,
   "id": "7a230471-2cee-400a-8662-e03c2b867213",
   "metadata": {},
   "outputs": [],
   "source": [
    "'''TODO: Buatlah pengalian informasi Random Forest dan hitung akurasinya'''\n",
    "clf = #TODO\n",
    "# train the classifier\n",
    "clf.fit(#TODO)\n",
    "y_pred = clf.predict(#TODO)\n",
    "# printing the test accuracy\n",
    "print(\"The test accuracy score of Random Forest Classifier is \", accuracy_score(#TODO))"
   ]
  },
  {
   "cell_type": "code",
   "execution_count": null,
   "id": "67cdbac4-4b33-41db-96cb-3ad7bcb2c0b7",
   "metadata": {},
   "outputs": [],
   "source": [
    "print(classification_report(y_test, y_pred))"
   ]
  },
  {
   "cell_type": "code",
   "execution_count": null,
   "id": "6b3267a6-42e4-474e-9ad4-294c2effa4bb",
   "metadata": {},
   "outputs": [],
   "source": [
    "'''TODO: Buatlah pengalian informasi MLP dan hitung akurasinya'''\n",
    "clf = #TODO\n",
    "# train the classifier\n",
    "clf.fit(#TODO)\n",
    "y_pred = clf.predict(#TODO)\n",
    "# printing the test accuracy\n",
    "print(\"The test accuracy score of MLP Classifier is \", accuracy_score(#TODO))"
   ]
  },
  {
   "cell_type": "code",
   "execution_count": null,
   "id": "a2658633-e3af-4371-857e-d4352b9fb9b0",
   "metadata": {},
   "outputs": [],
   "source": [
    "print(classification_report(y_test, y_pred))"
   ]
  },
  {
   "cell_type": "markdown",
   "id": "9dc7273e-250a-470d-bac2-7c74ec6a02d4",
   "metadata": {},
   "source": [
    "**Membandingkan hasil diatas**\n",
    "\n",
    "Berdasarkan hasil ke-4 model (Random Forest, Logistic Regression, Decision Tree dan Multi-layer Perceptron). Berikut didapatkan akurasi pada proses kali ini:\n",
    "- Pada model Decision Tree memiliki nilai akurasi terkecil sebesar 70% dengan recall sebesar 81%.\n",
    "- Random Forest memiliki nilai akurasi terbesar sebesar 84% dengan recall 84%."
   ]
  },
  {
   "attachments": {
    "aecaa7ec-83c9-4a8e-a38a-d5326fad3d21.png": {
     "image/png": "[encoded data removed]"
    }
   },
   "cell_type": "markdown",
   "id": "401fb794-27ce-4da2-ba8d-6c8dc46d0493",
   "metadata": {},
   "source": [
    "![image.png](attachment:aecaa7ec-83c9-4a8e-a38a-d5326fad3d21.png)"
   ]
  },
  {
   "cell_type": "markdown",
   "id": "a2c329fc-9d40-44f8-8886-f45101357c1e",
   "metadata": {},
   "source": [
    "**Pojok Catatan**\n",
    "\n",
    "Recall: Kemampuan model untuk menemukan semua kasus relevan dimana kebanyakan penting untuk deteksi risiko tinggi (seperti deteksi kanker), recall adalah metrik evaluasi yang lebih penting daripada presisi.\n",
    "\n",
    "Dalam kasus prediksi gagal jantung, kita ingin menghindari false negatives sebanyak mungkin. Kasus false negative berarti masalah gagal jantung tidak terdeteksi, yang bisa sangat berbahaya. Dalam kasus penggunaan ini, false positives (seseorang yang sehat dengan diagnosis masalah jantung tidak sehat) tidak sepenting mencegah situasi ketika kita tidak mendeteksi masalah serius.\n",
    "\n",
    "**Proses Hyperparameter Tuning**"
   ]
  },
  {
   "cell_type": "code",
   "execution_count": null,
   "id": "86d7d153-3394-4ab4-99e2-10d818b514d6",
   "metadata": {},
   "outputs": [],
   "source": [
    "'''TODO: Buatlah hyperparameter Logistik Regresi dan hitung akurasinya'''\n",
    "# Logistic regression classifier with hyperparameter\n",
    "clf = #TODO\n",
    "\n",
    "param_grid = {\n",
    "    'max_iter': [#TODO],\n",
    "    'multi_class': [#TODO],\n",
    "    'solver' : [#TODO]\n",
    "}\n",
    "\n",
    "gs1 = #TODO(\n",
    "        estimator= #TODO,\n",
    "        param_grid = #TODO, \n",
    "        cv=5, \n",
    "        n_jobs=-1, \n",
    "        scoring='roc_auc'\n",
    "    )\n",
    "\n",
    "fit_clf_lg = gs1.fit(#TODOn)\n",
    "\n",
    "print(fit_clf_lg.#TODO)\n",
    "print(fit_clf_lg.#TODO)"
   ]
  },
  {
   "cell_type": "code",
   "execution_count": null,
   "id": "f5b28c19-c044-41ee-b94b-23fb317f738d",
   "metadata": {},
   "outputs": [],
   "source": [
    "y_pred = fit_clf_lg.predict(#TODO)\n",
    "print(classification_report(y_test, y_pred))"
   ]
  },
  {
   "cell_type": "markdown",
   "id": "a161affb-d7a7-4843-8d95-a287e38d685d",
   "metadata": {},
   "source": [
    "Setelah dilakukan hyperparameter tuning model logistic regression terjadi peningkatan pada nilai akurasi walaupun tidak begitu signifikan. Nilai akurasi naik dari yang awalnya 81% menjadi 84%."
   ]
  },
  {
   "cell_type": "code",
   "execution_count": null,
   "id": "2ff989f1-9c22-42fb-b894-533efae59a23",
   "metadata": {},
   "outputs": [],
   "source": [
    "'''TODO: Buatlah hyperparameter Random Forest dan hitung akurasinya'''\n",
    "# Random Forest classifier with hyperparameter\n",
    "clf = RandomForestClassifier()\n",
    "\n",
    "param_grid = {'n_estimators': #TODO, \n",
    "               'max_depth': #TODO, \n",
    "               'criterion': #TODO}\n",
    "\n",
    "gs1 = #TODO(\n",
    "        estimator=#TODO,\n",
    "        param_grid = #TODO, \n",
    "        cv=5, \n",
    "        n_jobs=-1, \n",
    "        scoring='roc_auc'\n",
    "    )\n",
    "\n",
    "fit_clf_rf = gs1.fit(#TODO)\n",
    "\n",
    "print(fit_clf_rf.#TODO)\n",
    "print(fit_clf_rf.#TODO)"
   ]
  },
  {
   "cell_type": "code",
   "execution_count": null,
   "id": "c4fb0bfe-1186-406a-a30c-892440bfd2bd",
   "metadata": {},
   "outputs": [],
   "source": [
    "y_pred = fit_clf_rf.predict(#TODO)\n",
    "print(classification_report(#TODO))"
   ]
  },
  {
   "cell_type": "markdown",
   "id": "73f89beb-6466-49c2-860e-f2e8a5d44a2c",
   "metadata": {},
   "source": [
    "Setelah dilakukan model random forest dilakukan hyperparameter tuning akurasi model menurun menjadi 82% dari yang awalnya 84%. Turunnya akurasi tersebut bukan menunjukkan hyperparameter tuning yang kita lakukan gagal, melainkan hyperparameter tuning yang kita lakukan berhasil karena dengan begitu model menjadi sedikit lebih general atau tidak overfitting."
   ]
  },
  {
   "cell_type": "code",
   "execution_count": null,
   "id": "87198d46-5ec0-4e55-b35e-d19fd7b4ebfb",
   "metadata": {},
   "outputs": [],
   "source": [
    "'''TODO: Buatlah hyperparameter Decision Tree dan hitung akurasinya'''\n",
    "# Decision Tree classifier with hyperparameter\n",
    "clf = DecisionTreeClassifier()\n",
    "\n",
    "param_grid = {'min_samples_leaf': #TODO, \n",
    "               'max_depth': #TODO, \n",
    "               'criterion': #TODO}\n",
    "\n",
    "gs1 = #TODO(\n",
    "        estimator=#TODO,\n",
    "        param_grid = #TODO, \n",
    "        cv=5, \n",
    "        n_jobs=-1, \n",
    "        scoring='roc_auc'\n",
    "    )\n",
    "\n",
    "fit_clf_dt = gs1.fit(#TODO)\n",
    "\n",
    "print(fit_clf_dt.#TODO)\n",
    "print(fit_clf_dt.#TODO)"
   ]
  },
  {
   "cell_type": "code",
   "execution_count": null,
   "id": "8b6c48d9-2504-47ad-b483-db973ff3ed32",
   "metadata": {},
   "outputs": [],
   "source": [
    "y_pred = fit_clf_dt.predict(#TODO)\n",
    "print(classification_report(#TODO))"
   ]
  },
  {
   "cell_type": "markdown",
   "id": "8aa9315c-b907-490b-96e8-8992506aa87e",
   "metadata": {},
   "source": [
    "Setelah dilakukan hyperparameter tuning model decision tree terjadi peningkatan pada nilai akurasi walaupun tidak begitu signifikan. Nilai akurasi naik dari yang awalnya 70% menjadi 77%."
   ]
  },
  {
   "cell_type": "code",
   "execution_count": null,
   "id": "4da7236d-3946-4d86-9704-2b43ca530dc8",
   "metadata": {},
   "outputs": [],
   "source": [
    "'''TODO: Buatlah hyperparameter MLP dan hitung akurasinya'''\n",
    "# MLP Classifier with hyperparameter\n",
    "clf = MLPClassifier()\n",
    "\n",
    "param_grid1 = {'hidden_layer_sizes': #TODO, \n",
    "               'activation': #TODO, \n",
    "               'solver': #TODO}\n",
    "\n",
    "gs1 = #TODO(\n",
    "        estimator=#TODO,\n",
    "        param_grid = #TODO, \n",
    "        cv=5, \n",
    "        n_jobs=-1, \n",
    "        scoring='roc_auc'\n",
    "    )\n",
    "\n",
    "fit_clf_mlp = gs1.fit(#TODO)\n",
    "\n",
    "print(fit_clf_mlp.#TODO)\n",
    "print(fit_clf_mlp.#TODO)"
   ]
  },
  {
   "cell_type": "code",
   "execution_count": null,
   "id": "2f046fd2-a912-4335-bd6a-c0bab0b6682d",
   "metadata": {},
   "outputs": [],
   "source": [
    "y_pred = fit_clf_mlp.predict(#TODO)\n",
    "print(classification_report(#TODO))"
   ]
  },
  {
   "cell_type": "markdown",
   "id": "d2224e4c-a21b-45c7-b4c1-41bcceb32c3d",
   "metadata": {},
   "source": [
    "Setelah dilakukan model random forest dilakukan hyperparameter tuning akurasi model menurun menjadi 81% dari yang awalnya 82%. Turunnya akurasi tersebut bukan menunjukkan hyperparameter tuning yang kita lakukan gagal, melainkan hyperparameter tuning yang kita lakukan berhasil karena dengan begitu model menjadi sedikit lebih general atau tidak overfitting."
   ]
  },
  {
   "cell_type": "markdown",
   "id": "4a9d7478-3ef7-44c6-b4db-d2d0e08520b4",
   "metadata": {},
   "source": [
    "**ROC Analysis**\n",
    "\n",
    "Kurva yang menyajikan ilustrasi performansi dari binary classifier system dalam menghasilkan sebuah prediksi"
   ]
  },
  {
   "cell_type": "code",
   "execution_count": null,
   "id": "5a911780-06c1-4dde-bbdd-ee9c118daa46",
   "metadata": {},
   "outputs": [],
   "source": [
    "'''TODO: Silahkan buat ROC Analysis dari masing-masing model'''\n",
    "# Predict the probabilities for the positive class\n",
    "y_pred_logreg = #TODO\n",
    "y_pred_rf = #TODO\n",
    "y_pred_dt= #TODO\n",
    "y_pred_mlp= #TODO\n",
    "\n",
    "# Calculate the AUC-ROC scores\n",
    "auc_logreg = roc_auc_score(#TODO)\n",
    "auc_rf = roc_auc_score(#TODO)\n",
    "auc_dt = roc_auc_score(#TODO)\n",
    "auc_mlp = roc_auc_score(#TODO)\n",
    "\n",
    "print(f\"AUC-ROC for Logistic Regression: {auc_logreg}\")\n",
    "print(f\"AUC-ROC for Random Forest: {auc_rf}\")\n",
    "print(f\"AUC-ROC for Decision Tree: {auc_dt}\")\n",
    "print(f\"AUC-ROC for MLP: {auc_mlp}\")"
   ]
  },
  {
   "cell_type": "markdown",
   "id": "48d8ab14-b0c8-4965-8ad3-218893ee24de",
   "metadata": {},
   "source": [
    "Jika dilihat dari nilai AUC-ROC, model Random Forest memiliki nilai yang paling tinggi. Akan tetapi perbedaan nilai AUC-ROC Random Forest dengan 1 model lainnya tidak terpaut jauh dengan logistic regression.\n",
    "\n",
    "ROC adalah kurva probabilitas dan AUC mewakili tingkat atau ukuran pemisahan. Ini menunjukkan seberapa baik model mampu membedakan antara kelas. Semakin tinggi AUC, semakin baik modelnya dalam memprediksi kelas 0 sebagai 0 dan kelas 1 sebagai 1.\n",
    "\n",
    "Kurva ROC digambarkan dengan TPR (True Positive Rate) melawan FPR (False Positive Rate) di mana TPR berada di sumbu y dan FPR berada di sumbu x.\n",
    "\n",
    "Model yang sangat baik memiliki AUC mendekati 1, yang berarti memiliki ukuran pemisahan yang baik. Model yang buruk memiliki AUC mendekati 0, yang berarti memiliki ukuran pemisahan yang terburuk.\n",
    "\n",
    "Ketika AUC adalah 0.7, artinya ada peluang sebesar 70% bahwa model akan mampu membedakan antara kelas positif dan kelas negatif. Ketika AUC mendekati 0.5, model tidak memiliki kemampuan diskriminasi untuk membedakan antara kelas positif dan kelas negatif. Ketika AUC mendekati 0, model memprediksi kelas negatif sebagai kelas positif dan sebaliknya."
   ]
  },
  {
   "cell_type": "code",
   "execution_count": null,
   "id": "ead7f931-b0f9-4687-897a-6ed7d9966740",
   "metadata": {},
   "outputs": [],
   "source": [
    "'''TODO: Silahkan buat ROC Analysis Graph'''\n",
    "#Membuat ROC Analisis\n",
    "def plot_roc_curves(#TODO):\n",
    "    plt.figure(figsize=(8, 6))\n",
    "\n",
    "    # Calculate ROC curves for each model\n",
    "    fpr_logreg, tpr_logreg, _ = #TODO\n",
    "    fpr_rf, tpr_rf, _ = #TODO\n",
    "    fpr_dt, tpr_dt, _ = #TODO\n",
    "    fpr_mlp, tpr_mlp, _ = #TODO\n",
    "\n",
    "    # Plot ROC curves\n",
    "    plt.plot(fpr_logreg, tpr_logreg, label=f'Logistic Regression (AUC = {auc_logreg:.2f})')\n",
    "    plt.plot(fpr_rf, tpr_rf, label=f'Random Forest (AUC = {auc_rf:.2f})')\n",
    "    plt.plot(fpr_dt, tpr_dt, label=f'Decision Tree (AUC = {auc_dt:.2f})')\n",
    "    plt.plot(fpr_mlp, tpr_mlp, label=f'MLP (AUC = {auc_mlp:.2f})')\n",
    "\n",
    "    # Plot random classifier\n",
    "    plt.plot(#TODO)\n",
    "\n",
    "    # Format the plot\n",
    "    plt.xlabel('False Positive Rate')\n",
    "    plt.ylabel('True Positive Rate')\n",
    "    plt.title('ROC Curves for Heart Disease Prediction Models')\n",
    "    plt.legend()\n",
    "    plt.show()\n",
    "\n",
    "plot_roc_curves(y_test, y_pred_logreg, y_pred_rf, y_pred_dt, y_pred_mlp)"
   ]
  },
  {
   "cell_type": "code",
   "execution_count": null,
   "id": "b50c4f10-ccfd-425d-bed6-f204eb9a8950",
   "metadata": {},
   "outputs": [],
   "source": [
    "'''TODO: Silahkan buat ROC Analysis Graph untuk menentukan treshold'''\n",
    "def find_rates_for_thresholds(#TODO):\n",
    "    fpr_list = []\n",
    "    tpr_list = []\n",
    "    for threshold in thresholds:\n",
    "        y_pred_binary = (y_pred > threshold).astype(int)\n",
    "        tn, fp, fn, tp = confusion_matrix(y_test, y_pred_binary).ravel()\n",
    "        fpr = fp / (fp + tn)\n",
    "        tpr = tp / (tp + fn)\n",
    "        fpr_list.append(fpr)\n",
    "        tpr_list.append(tpr)\n",
    "    return #TODO\n",
    "\n",
    "thresholds = np.arange(0, 1.1, 0.1)\n",
    "\n",
    "fpr_logreg, tpr_logreg = #TODO\n",
    "fpr_rf, tpr_rf = #TODO\n",
    "fpr_dt, tpr_dt = #TODO\n",
    "fpr_mlp, tpr_mlp = #TODO\n",
    "\n",
    "'''TODO: Silahkan buat Summary DataFrame'''\n",
    "summary_df = pd.DataFrame({#TODO})\n",
    "\n",
    "print(summary_df)"
   ]
  },
  {
   "cell_type": "code",
   "execution_count": null,
   "id": "8382f1d9-72c3-4100-b1b5-5f1ad79c5b8b",
   "metadata": {},
   "outputs": [],
   "source": [
    "'''TODO: Silahkan buat ROC Analysis Graph untuk menentukan best treshold'''\n",
    "def find_best_threshold(y_test, y_pred):\n",
    "    # based on Youden's Index\n",
    "    fpr, tpr, thresholds = #TODO\n",
    "    optimal_idx = #TODO\n",
    "    return #TODO\n",
    "\n",
    "best_threshold_logreg = #TODO\n",
    "best_threshold_rf = #TODO\n",
    "best_threshold_dt = #TODO\n",
    "best_threshold_mlp = #TODO\n",
    "\n",
    "print(f\"Best threshold for Logistic Regression: {best_threshold_logreg}\")\n",
    "print(f\"Best threshold for Random Forest: {best_threshold_rf}\")\n",
    "print(f\"Best threshold for Decision Tree: {best_threshold_dt}\")\n",
    "print(f\"Best threshold for MLP: {best_threshold_mlp}\")"
   ]
  },
  {
   "cell_type": "markdown",
   "id": "ba5cc07e-e9bd-45d8-80b6-3ce8bda6e46a",
   "metadata": {},
   "source": [
    "**Ingat**\n",
    "\n",
    "1. Jika kita menginginkan model yang memiliki sensitivitas yang tinggi, yaitu kemampuan untuk mendeteksi sebanyak mungkin kasus positif (True Positive), maka lebih baik menggunakan treshold yang lebih rendah. Namun, ini mungkin juga akan menyebabkan peningkatan False Positive Rate (kasus negatif yang salah diprediksi positif).\n",
    "2. Sebaliknya, jika kita ingin mengurangi kesalahan dalam memprediksi kasus negatif sebagai positif (False Positive), maka kita akan memilih treshold yang lebih tinggi. Namun, ini dapat mengurangi sensitivitas model (menyebabkan lebih banyak True Negative yang salah diprediksi negatif).\n",
    "\n",
    "Jadi dapat disimpulkan, bahwa model yang peformanya lebih bagus ialah model Random Forest dengan ditandai dengan model Random Forest yang memiliki nilai akurasi pada classification report tertinggi, yaitu sebesar 82% dan Model Random Forest memiliki score AUC-ROC Terbesar dibandingkan 3 model lainnya, yaitu sebesar 90%, namun model ini memiliki treshold yang tinggi dimana akan meningkatkan FPR (Kasus negatif yang salah diprediksi positif)."
   ]
  },
  {
   "cell_type": "code",
   "execution_count": null,
   "id": "fb6a3d83-13c6-48ce-9ae7-0490981436c1",
   "metadata": {},
   "outputs": [],
   "source": [
    "'''TODO: Silahkan simpan model yang kamu miliki'''\n",
    "import pickle\n",
    "# Menyimpan model terbaik dengan pickle\n",
    "pklname = #TODO\n",
    "\n",
    "with open(pklname, 'wb') as file:  \n",
    "    pickle.dump(#TODO)"
   ]
  },
  {
   "cell_type": "markdown",
   "id": "866707c5-4161-4a52-8449-66be7c6654d5",
   "metadata": {},
   "source": [
    "Copyright © DQlab Academy x Abel Kristanto"
   ]
  }
 ],
 "metadata": {
  "kernelspec": {
   "display_name": "Python 3 (ipykernel)",
   "language": "python",
   "name": "python3"
  },
  "language_info": {
   "codemirror_mode": {
    "name": "ipython",
    "version": 3
   },
   "file_extension": ".py",
   "mimetype": "text/x-python",
   "name": "python",
   "nbconvert_exporter": "python",
   "pygments_lexer": "ipython3",
   "version": "3.11.4"
  }
 },
 "nbformat": 4,
 "nbformat_minor": 5
}

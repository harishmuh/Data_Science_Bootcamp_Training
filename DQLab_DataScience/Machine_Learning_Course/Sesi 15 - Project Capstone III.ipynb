{
 "cells": [
  {
   "cell_type": "markdown",
   "id": "4745e9b4-a2c8-4efc-b604-4d0f8247808a",
   "metadata": {},
   "source": [
    "# Pendahuluan\n",
    "\n",
    "Di dalam material ini, kamu akan mempelajari Data Heart Disease dan belajar bagaimana melakukan deployment. Lakukan kode dan jalankan setiap sel. Selama proses pembelajaran, kamu akan menemui beberapa blok **TODO** -- ikuti petunjuk untuk mengisinya sebelum menjalankan sel-sel tersebut dan melanjutkan."
   ]
  },
  {
   "cell_type": "markdown",
   "id": "00b1ac75-ed66-4b09-9928-6244f5fdcb60",
   "metadata": {},
   "source": [
    "Pada tutorial ini, kita akan membuat dashboard prediksi menggunakan Streamlit untuk dua kasus: prediksi Iris Species dan prediksi Heart Disease. Dashboard ini memungkinkan pengguna untuk memasukkan nilai fitur dan mendapatkan prediksi hasil berdasarkan model yang sudah dilatih sebelumnya."
   ]
  },
  {
   "cell_type": "markdown",
   "id": "8e56c3d7-b82a-4f65-b6d0-5a890546c320",
   "metadata": {},
   "source": [
    "**Langkah 1: Instalasi dan Persiapan**\n",
    "\n",
    "Pastikan Anda telah menginstal modul streamlit, pandas, dan PIL. Pastikan juga Anda memiliki gambar iris.JPG dan heart-disease.jpg yang diperlukan dalam folder yang sama dengan skrip."
   ]
  },
  {
   "cell_type": "markdown",
   "id": "e21de85a-425c-4101-b3e8-bcabdd9f9d67",
   "metadata": {},
   "source": [
    "**Langkah 2: Import Modul**\n",
    "\n",
    "Import semua modul yang dibutuhkan:"
   ]
  },
  {
   "cell_type": "code",
   "execution_count": 4,
   "id": "b9299099-accc-4ff2-a6b3-452c3310887d",
   "metadata": {},
   "outputs": [],
   "source": [
    "import streamlit as st\n",
    "import pandas as pd\n",
    "import pickle\n",
    "import time\n",
    "from PIL import Image"
   ]
  },
  {
   "cell_type": "markdown",
   "id": "f41de682-9874-4607-9cfd-1b65c9a33fe5",
   "metadata": {},
   "source": [
    "**Langkah 3: Konfigurasi Halaman dan Judul**\n",
    "\n",
    "Konfigurasi halaman Streamlit dan tulis judul dashboard:"
   ]
  },
  {
   "cell_type": "code",
   "execution_count": null,
   "id": "4c003e53-a286-4c1d-975a-b4495eb3d4a3",
   "metadata": {},
   "outputs": [],
   "source": [
    "st.set_page_config(page_title=\"Halaman Modelling\", layout=\"wide\")\n",
    "st.write(\"\"\"\n",
    "# Welcome to my machine learning dashboard\n",
    "\n",
    "This dashboard created by : [@abelkristanto](https://www.linkedin.com/in/abelkristanto/)\n",
    "\"\"\")"
   ]
  },
  {
   "cell_type": "markdown",
   "id": "c6c4e5d6-64e5-46d3-aa01-d64f67a03cb0",
   "metadata": {},
   "source": [
    "**Langkah 4: Pilihan Kategori**\n",
    "\n",
    "Tambahkan pilihan kategori untuk membuka dashboard prediksi:"
   ]
  },
  {
   "cell_type": "code",
   "execution_count": null,
   "id": "a37538de-5abe-44e6-8b2e-a23cef7fd9a4",
   "metadata": {},
   "outputs": [],
   "source": [
    "add_selectitem = st.sidebar.selectbox(\"Want to open about?\", (\"Iris species!\", \"Heart Disease!\"))"
   ]
  },
  {
   "cell_type": "markdown",
   "id": "4a6c05c2-ce4e-46df-a33f-6e5c35495966",
   "metadata": {},
   "source": [
    "Ketentuan.\n",
    "\n",
    "1. Jika pengguna memilih \"Iris species!\", dashboard akan memprediksi spesies bunga Iris berdasarkan input yang diberikan. Terdapat pilihan untuk mengunggah file CSV dengan data input atau mengisi manual. Pengguna dapat mengatur nilai fitur seperti Sepal Length, Sepal Width, Petal Length, dan Petal Width melalui slider. Setelah input selesai, dashboard akan memprediksi spesies bunga Iris dan menampilkan hasil prediksi.\n",
    "2. Jika pengguna memilih \"Heart Disease!\", dashboard akan memprediksi risiko penyakit jantung berdasarkan input yang diberikan. Seperti sebelumnya, ada pilihan untuk mengunggah file CSV dengan data input atau mengisi manual. Fitur seperti Chest Pain Type, Maximum Heart Rate, Kemiringan Segmen ST pada EKG, dan lainnya dapat diatur melalui slider atau dropdown. Dashboard akan memprediksi risiko penyakit jantung berdasarkan input dan menampilkan hasil prediksi."
   ]
  },
  {
   "cell_type": "markdown",
   "id": "5c162f24-6625-484a-9f46-9aef840a9c71",
   "metadata": {},
   "source": [
    "**Langkah 5: Fungsi untuk Prediksi Heart Disease**\n",
    "\n",
    "Buat fungsi heart() yang akan menampilkan prediksi untuk Heart Disease. Dalam bagian ini, kita membuat fungsi heart() yang akan menampilkan informasi tentang aplikasi prediksi Heart Disease. Data yang digunakan diambil dari Heart Disease dataset oleh UCIML. Sama seperti sebelumnya, pengguna dapat memberikan input melalui slider atau mengunggah file CSV. Setelah input diberikan, kita memuat model yang sudah disimpan menggunakan pickle, melakukan prediksi, dan menampilkan hasilnya."
   ]
  },
  {
   "cell_type": "code",
   "execution_count": null,
   "id": "f77bbfc0-d66c-4ab1-8f04-6720003cd9bb",
   "metadata": {},
   "outputs": [],
   "source": [
    "def heart():\n",
    "    st.write(\"\"\"\n",
    "    This app predicts the **Heart Disease**\n",
    "    \n",
    "    Data obtained from the [Heart Disease dataset](https://archive.ics.uci.edu/dataset/45/heart+disease) by UCIML. \n",
    "    \"\"\")\n",
    "    st.sidebar.header('User Input Features:')\n",
    "    # Collects user input features into dataframe\n",
    "    uploaded_file = st.sidebar.file_uploader(\"Upload your input CSV file\", type=[\"csv\"])\n",
    "    if uploaded_file is not None:\n",
    "        input_df = pd.read_csv(uploaded_file)\n",
    "    else:\n",
    "        def user_input_features():\n",
    "            st.sidebar.header('Manual Input')\n",
    "            cp = st.sidebar.slider('Chest pain type', 1,4,2)\n",
    "            if cp == 1.0:\n",
    "                wcp = \"Nyeri dada tipe angina\"\n",
    "            elif cp == 2.0:\n",
    "                wcp = \"Nyeri dada tipe nyeri tidak stabil\"\n",
    "            elif cp == 3.0:\n",
    "                wcp = \"Nyeri dada tipe nyeri tidak stabil yang parah\"\n",
    "            else:\n",
    "                wcp = \"Nyeri dada yang tidak terkait dengan masalah jantung\"\n",
    "            st.sidebar.write(\"Jenis nyeri dada yang dirasakan oleh pasien\", wcp)\n",
    "            thalach = st.sidebar.slider(\"Maximum heart rate achieved\", 71, 202, 80)\n",
    "            slope = st.sidebar.slider(\"Kemiringan segmen ST pada elektrokardiogram (EKG)\", 0, 2, 1)\n",
    "            oldpeak = st.sidebar.slider(\"Seberapa banyak ST segmen menurun atau depresi\", 0.0, 6.2, 1.0)\n",
    "            exang = st.sidebar.slider(\"Exercise induced angina\", 0, 1, 1)\n",
    "            ca = st.sidebar.slider(\"Number of major vessels\", 0, 3, 1)\n",
    "            thal = st.sidebar.slider(\"Hasil tes thalium\", 1, 3, 1)\n",
    "            sex = st.sidebar.selectbox(\"Jenis Kelamin\", ('Perempuan', 'Pria'))\n",
    "            if sex == \"Perempuan\":\n",
    "                sex = 0\n",
    "            else:\n",
    "                sex = 1 \n",
    "            age = st.sidebar.slider(\"Usia\", 29, 77, 30)\n",
    "            data = {'cp': cp,\n",
    "                    'thalach': thalach,\n",
    "                    'slope': slope,\n",
    "                    'oldpeak': oldpeak,\n",
    "                    'exang': exang,\n",
    "                    'ca':ca,\n",
    "                    'thal':thal,\n",
    "                    'sex': sex,\n",
    "                    'age':age}\n",
    "            features = pd.DataFrame(data, index=[0])\n",
    "            return features\n",
    "    \n",
    "    input_df = user_input_features()\n",
    "    img = Image.open(\"heart-disease.jpg\")\n",
    "    st.image(img, width=500)\n",
    "    if st.sidebar.button('Predict!'):\n",
    "        df = input_df\n",
    "        st.write(df)\n",
    "        with open(\"generate_heart_disease.pkl\", 'rb') as file:  \n",
    "            loaded_model = pickle.load(file)\n",
    "        prediction = loaded_model.predict(df)        \n",
    "        result = ['No Heart Disease' if prediction == 0 else 'Yes Heart Disease']\n",
    "        st.subheader('Prediction: ')\n",
    "        output = str(result[0])\n",
    "        with st.spinner('Wait for it...'):\n",
    "            time.sleep(4)\n",
    "            st.success(f\"Prediction of this app is {output}\")"
   ]
  },
  {
   "cell_type": "markdown",
   "id": "3b24316d-e40c-4f9c-ba9e-261d50254b81",
   "metadata": {},
   "source": [
    "Kita mendefinisikan fungsi heart() untuk membangun aplikasi prediksi penyakit jantung. Model yang telah di-training sebelumnya disimpan dalam file generate_heart_disease.pkl. Model tersebut akan dimuat dan input pengguna akan digunakan untuk melakukan prediksi. Hasil prediksi akan ditampilkan di dalam aplikasi menggunakan st.success."
   ]
  },
  {
   "cell_type": "markdown",
   "id": "52e63082-ec08-4672-82cc-df19a4b66e81",
   "metadata": {},
   "source": [
    "**Langkah 6: Menjalankan Fungsi Berdasarkan Pilihan**\n",
    "\n",
    "Gunakan pernyataan if-elif untuk menjalankan fungsi yang sesuai berdasarkan pilihan pengguna:"
   ]
  },
  {
   "cell_type": "code",
   "execution_count": null,
   "id": "9baf56df-656e-4ae1-9cac-2ae239335a85",
   "metadata": {},
   "outputs": [],
   "source": [
    "if add_selectitem == \"Iris species!\":\n",
    "    iris()\n",
    "elif add_selectitem == \"Heart Disease!\":\n",
    "    heart()"
   ]
  },
  {
   "cell_type": "markdown",
   "id": "f39374d5-cf09-40d7-99af-3005e00648b9",
   "metadata": {},
   "source": [
    "**Langkah 7: Menjalankan Aplikasi**\n",
    "\n",
    "Terakhir, panggil perintah untuk menjalankan aplikasi Streamlit:"
   ]
  },
  {
   "cell_type": "code",
   "execution_count": null,
   "id": "55dadf57-dcab-48ad-aa8c-a21edc32fb53",
   "metadata": {},
   "outputs": [],
   "source": [
    "if __name__ == \"__main__\":\n",
    "    main()"
   ]
  }
 ],
 "metadata": {
  "kernelspec": {
   "display_name": "Python 3 (ipykernel)",
   "language": "python",
   "name": "python3"
  },
  "language_info": {
   "codemirror_mode": {
    "name": "ipython",
    "version": 3
   },
   "file_extension": ".py",
   "mimetype": "text/x-python",
   "name": "python",
   "nbconvert_exporter": "python",
   "pygments_lexer": "ipython3",
   "version": "3.11.4"
  }
 },
 "nbformat": 4,
 "nbformat_minor": 5
}

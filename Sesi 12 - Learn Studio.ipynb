{
 "cells": [
  {
   "cell_type": "markdown",
   "id": "2c29fb62-2ef2-40dc-a2d3-fdbbd2f38aff",
   "metadata": {},
   "source": [
    "# Pendahuluan\n",
    "\n",
    "Di dalam material ini, kamu akan mempelajari Streamlit dan belajar bagaimana ia dapat digunakan untuk deployment model. Lakukan kode dan jalankan setiap sel. Selama proses pembelajaran, kamu akan menemui beberapa blok **TODO** -- ikuti petunjuk untuk mengisinya sebelum menjalankan sel-sel tersebut dan melanjutkan."
   ]
  },
  {
   "cell_type": "markdown",
   "id": "1b99d3ca-bddc-4f11-97ad-dfc7d60022ef",
   "metadata": {},
   "source": [
    "## Pengenalan Streamlit\n",
    "\n",
    "Streamlit adalah library gratis dan open-source untuk dengan cepat membangun dan berbagi aplikasi web machine learning dan data science. Kita tahu bahwa Data Scientist bukanlah pengembang web dan mereka tidak tertarik untuk menghabiskan minggu-minggu belajar menggunakan kerangka kerja tersebut untuk membangun aplikasi web. Sebaliknya, mereka ingin alat yang lebih mudah dipelajari dan digunakan, selama dapat menampilkan data dan mengumpulkan parameter yang diperlukan untuk pemodelan. Streamlit memungkinkan Anda membuat aplikasi yang menakjubkan dengan hanya beberapa baris kode. "
   ]
  },
  {
   "cell_type": "code",
   "execution_count": null,
   "id": "921d6818-57f1-40ad-8d9e-d1ddb3f5b17b",
   "metadata": {},
   "outputs": [],
   "source": [
    "'''TODO: Mengetik 'streamlit hello' di terminal'''"
   ]
  },
  {
   "attachments": {
    "8638487a-8498-4e05-a1e0-8f60b415b368.png": {
     "image/png": "[encoded data removed]"
    }
   },
   "cell_type": "markdown",
   "id": "9a784945-af00-47ee-88a8-547fd2815f0d",
   "metadata": {},
   "source": [
    "![image.png](attachment:8638487a-8498-4e05-a1e0-8f60b415b368.png)"
   ]
  },
  {
   "cell_type": "markdown",
   "id": "2d924bbe-f8f8-4ad4-bfa0-09b4e49e2f07",
   "metadata": {},
   "source": [
    "## Cara menjalankan streamlit\n",
    "\n",
    "Dalam streamlit, kita dapat menjalankan dengan menggunakan:\n",
    "\n",
    "```bash\n",
    "streamlit run file_name.py\n",
    "```"
   ]
  },
  {
   "cell_type": "code",
   "execution_count": null,
   "id": "d9887452-499b-4dbd-af93-e2ea07cdc100",
   "metadata": {},
   "outputs": [],
   "source": [
    "''' TODO: Silahkan jalankan \"main.app\" yang berisikan:\n",
    "import streamlit as st\n",
    "st.write(\"Hello World!\")'''"
   ]
  },
  {
   "cell_type": "markdown",
   "id": "bc1dd595-7b0e-4ca2-b082-f8b06facbd29",
   "metadata": {},
   "source": [
    "Streamlit commands mudah dipahami dan dituliskan, dimana dari ini kita dapat menampilkan tulisan, media, widgets dan sebagainya."
   ]
  },
  {
   "cell_type": "markdown",
   "id": "c5103310-5f75-4ecc-b455-16e733175cb1",
   "metadata": {},
   "source": [
    "## Widgets di streamlit\n",
    "\n",
    "**st.write()**: Ini sangat bermanfaat untuk menambahkan apapun ke dalam streamlit, mulai dari string yang diformat hingga grafik dalam bentuk matplotlib figure, grafik Altair, gambar plotly, data frame, model Keras, dan lain-lain."
   ]
  },
  {
   "cell_type": "code",
   "execution_count": 3,
   "id": "95e793c0-b1ed-46f8-85c8-22786760d365",
   "metadata": {},
   "outputs": [],
   "source": [
    "'''TODO: Tampilkan \"Hello ,let's learn how to build a streamlit app together'''"
   ]
  },
  {
   "cell_type": "markdown",
   "id": "c1bfdb30-22d1-4d2c-9153-79697e300826",
   "metadata": {},
   "source": [
    "Kita juga dapat menambahkan berupa: **st.title()**: Ini digunakan untuk menambahkan judul halaman. **st.header()**: Ini digunakan untuk mengatur header dari sebuah bagian.\n",
    "**st.markdown()**: Ini digunakan untuk mengatur teks dengan format markdown. **st.subheader()**: Ini digunakan untuk mengatur sub-header dari sebuah bagian. **st.caption()**: Ini digunakan untuk menulis keterangan atau caption. **st.code()**: Ini digunakan untuk menampilkan kode. **st.latex()**: Ini digunakan untuk menampilkan ekspresi matematika dengan format LaTeX."
   ]
  },
  {
   "cell_type": "code",
   "execution_count": null,
   "id": "b0eb6f42-40fc-4a97-8a98-0ad7276f682a",
   "metadata": {},
   "outputs": [],
   "source": [
    "'''TODO: Silahkan melakukan percobaan dari berbagai jenis diatas'''"
   ]
  },
  {
   "cell_type": "markdown",
   "id": "302c22c7-7e81-48f7-bdd1-323fc98e2e02",
   "metadata": {},
   "source": [
    "Hal lainnya berupa: **st.image()**: Ini digunakan untuk menampilkan gambar. **st.audio()**: Fungsi ini digunakan untuk menampilkan audio. **st.video()**: Fungsi ini digunakan untuk menampilkan video."
   ]
  },
  {
   "cell_type": "code",
   "execution_count": null,
   "id": "f014ba3f-c49e-4d9c-8d30-e7b78899e610",
   "metadata": {},
   "outputs": [],
   "source": [
    "'''TODO: Silahkan melakukan percobaan dari berbagai jenis diatas'''"
   ]
  },
  {
   "cell_type": "markdown",
   "id": "cbc03ee7-9422-4314-92b4-8e56f077e84b",
   "metadata": {},
   "source": [
    "Selanjutnya kita akan mempelajari bagaimana menambahkan input widgets, yang mana diantaranya: **st.checkbox()**: Ini mengembalikan nilai Boolean. Ketika kotak diberi tanda centang, nilainya menjadi True, jika tidak, nilainya menjadi False. **st.button()**: Ini digunakan untuk menampilkan widget tombol. **st.radio()**: Ini digunakan untuk menampilkan widget tombol radio. **st.selectbox()**: Ini digunakan untuk menampilkan widget pilihan.\n",
    "**st.multiselect()**: Ini digunakan untuk menampilkan widget pilihan ganda. **st.select_slider()**: Ini digunakan untuk menampilkan widget slider pilihan.\n",
    "**st.slider()**: Ini digunakan untuk menampilkan widget slider."
   ]
  },
  {
   "cell_type": "code",
   "execution_count": null,
   "id": "f051bd8a-73d7-41b1-8f36-d79274c40472",
   "metadata": {},
   "outputs": [],
   "source": [
    "'''TODO: Silahkan melakukan percobaan dari berbagai jenis diatas'''"
   ]
  },
  {
   "cell_type": "markdown",
   "id": "46cab707-3771-4ba1-a1c5-79b2d34226d1",
   "metadata": {},
   "source": [
    "Hal lainnya, kamu bisa menggunakan berikut ini. **st.number_input()**: Ini digunakan untuk menampilkan widget masukan numerik. **st.text_input()**: Ini digunakan untuk menampilkan widget masukan teks. **st.date_input()**: Ini digunakan untuk menampilkan widget masukan tanggal untuk memilih tanggal. **st.time_input()**: Ini digunakan untuk menampilkan widget masukan waktu untuk memilih waktu. **st.text_area()**: Ini digunakan untuk menampilkan widget masukan teks dengan lebih dari satu baris teks. **st.file_uploader()**: Ini digunakan untuk menampilkan widget pengunggah berkas. **st.color_picker()**: Ini digunakan untuk menampilkan widget pemilih warna untuk memilih warna."
   ]
  },
  {
   "cell_type": "code",
   "execution_count": null,
   "id": "bc5b45d4-c652-485d-8367-7599b8434084",
   "metadata": {},
   "outputs": [],
   "source": [
    "'''TODO: Silahkan melakukan percobaan dari berbagai jenis diatas'''"
   ]
  },
  {
   "cell_type": "markdown",
   "id": "580668af-2bbd-4872-8e4b-ce36ae3cfecf",
   "metadata": {},
   "source": [
    "Satu fitur yang sering digunakan dari Streamlit adalah Waiting Time. Ini kamu dapat gunakan dengan **st.balloons()**: Ini digunakan untuk menampilkan balon. **st.progress()**: Ini digunakan untuk menampilkan bilah kemajuan. **st.spinner()**: Ini digunakan untuk menampilkan pesan tunggu sementara selama eksekusi."
   ]
  },
  {
   "cell_type": "code",
   "execution_count": null,
   "id": "9d833ef1-7528-46b4-8caf-933db5298f77",
   "metadata": {},
   "outputs": [],
   "source": [
    "'''TODO: Silahkan melakukan percobaan dari berbagai jenis diatas'''"
   ]
  },
  {
   "cell_type": "markdown",
   "id": "0c05f010-d856-43a1-b230-edb78f3498ea",
   "metadata": {},
   "source": [
    "Kita juga dapat menambahkan tambahan informasi dengan **st.success()**: Ini digunakan untuk menampilkan pesan keberhasilan. **st.error()**: Ini digunakan untuk menampilkan pesan kesalahan. **st.warning()**: Ini digunakan untuk menampilkan pesan peringatan. **st.info()**: Ini digunakan untuk menampilkan pesan informasi. **st.exception()**: Ini digunakan untuk menampilkan pesan kesalahan khusus (exception)."
   ]
  },
  {
   "cell_type": "code",
   "execution_count": null,
   "id": "8c1cb806-ce81-4d3f-95e1-6a6ca07cbbb8",
   "metadata": {},
   "outputs": [],
   "source": [
    "'''TODO: Silahkan melakukan percobaan dari berbagai jenis diatas'''"
   ]
  },
  {
   "cell_type": "markdown",
   "id": "59923f41-73b7-4036-91fd-77d3cdbbe6e1",
   "metadata": {},
   "source": [
    "## Menyiapkan Deployment Iris\n",
    "\n",
    "Disini kita akan mencoba melakukan deployement Modelling Iris."
   ]
  },
  {
   "cell_type": "markdown",
   "id": "ebc4dbc6-a0be-43ca-9545-fdf7b57cfb25",
   "metadata": {},
   "source": [
    "**Langkah 1: Impor Library**\n",
    "\n",
    "Pertama, kita perlu mengimpor beberapa library yang akan digunakan dalam pembuatan dashboard. Library yang diimpor adalah:\n",
    "1. streamlit: Library untuk membuat aplikasi web interaktif dengan mudah menggunakan Python.\n",
    "2. pandas: Library untuk memanipulasi dan menganalisis data.\n",
    "3. pickle: Library untuk mengimpor model yang sudah dilatih sebelumnya.\n",
    "4. time: Library untuk mengatur waktu dalam aplikasi.\n",
    "5. PIL: Library untuk membuka gambar."
   ]
  },
  {
   "cell_type": "code",
   "execution_count": 6,
   "id": "9a1a6641-a4f8-47fd-9d0c-6991d62f45be",
   "metadata": {},
   "outputs": [],
   "source": [
    "import streamlit as st\n",
    "import pandas as pd\n",
    "import pickle\n",
    "import time\n",
    "from PIL import Image"
   ]
  },
  {
   "cell_type": "markdown",
   "id": "c25282bb-f784-429a-a27d-3885fd1b7365",
   "metadata": {},
   "source": [
    "**Langkah 2: Konfigurasi Halaman**\n",
    "\n",
    "Fungsi set_page_config() digunakan untuk mengatur konfigurasi halaman aplikasi. Dalam kode ini, kita mengatur judul halaman menjadi \"Halaman Modelling\" dan layout menjadi \"wide\", sehingga tampilan halaman menjadi lebih luas."
   ]
  },
  {
   "cell_type": "code",
   "execution_count": 7,
   "id": "46d76446-f969-4c66-80ba-20129e87e2c4",
   "metadata": {},
   "outputs": [],
   "source": [
    "st.set_page_config(page_title=\"Halaman Modelling\", layout=\"wide\")"
   ]
  },
  {
   "cell_type": "markdown",
   "id": "ac65ceab-fc0d-4e08-889f-12392fbbdfa2",
   "metadata": {},
   "source": [
    "**Langkah 3: Menambahkan Konten Utama**\n",
    "\n",
    "Fungsi write() digunakan untuk menambahkan teks ke halaman aplikasi. Di sini, kita menambahkan teks berupa judul utama dan informasi tentang pembuat dashboard."
   ]
  },
  {
   "cell_type": "code",
   "execution_count": null,
   "id": "8e28f1df-cb55-4166-a344-d6103365db51",
   "metadata": {},
   "outputs": [],
   "source": [
    "st.write(\"\"\"\n",
    "# Welcome to my machine learning dashboard\n",
    "\n",
    "This dashboard created by : [@yourname](https://www.linkedin.com/in/yourname/)\n",
    "\"\"\")"
   ]
  },
  {
   "cell_type": "markdown",
   "id": "92a6b5fa-7395-4aec-a2da-675cc5f019cc",
   "metadata": {},
   "source": [
    "**Langkah 4: Membuat Sidebar dan Selectbox**\n",
    "\n",
    "Kita menggunakan fungsi sidebar.selectbox() untuk membuat sidebar di aplikasi dan selectbox untuk memilih konten yang ingin ditampilkan pada halaman."
   ]
  },
  {
   "cell_type": "code",
   "execution_count": null,
   "id": "1d71c881-01b7-47b0-a922-3a1614375b02",
   "metadata": {},
   "outputs": [],
   "source": [
    "add_selectitem = st.sidebar.selectbox(\"Want to open about?\", (\" \", \"Iris species!\"))"
   ]
  },
  {
   "cell_type": "markdown",
   "id": "8df53b1e-36dc-4609-a325-9bf660c98822",
   "metadata": {},
   "source": [
    "**Langkah 5: Membuat Fungsi untuk Prediksi Iris Species**\n",
    "\n",
    "Fungsi iris() berfungsi untuk menampilkan deskripsi aplikasi dan header untuk fitur input pengguna pada sidebar."
   ]
  },
  {
   "cell_type": "code",
   "execution_count": null,
   "id": "6956e0c5-0efd-407e-8417-54507cb134fa",
   "metadata": {},
   "outputs": [],
   "source": [
    "def iris():\n",
    "    st.write(\"\"\"\n",
    "    This app predicts the **Iris Species**\n",
    "    \n",
    "    Data obtained from the [iris dataset](https://www.kaggle.com/uciml/iris) by UCIML. \n",
    "    \"\"\")\n",
    "    st.sidebar.header('User Input Features:')"
   ]
  },
  {
   "cell_type": "markdown",
   "id": "6545f52b-4a20-44ba-8078-f8763f55a875",
   "metadata": {},
   "source": [
    "**Langkah 6: Membaca Input CSV atau Input Manual dari Pengguna**\n",
    "\n",
    "Kita memberikan opsi kepada pengguna untuk mengunggah file CSV atau memasukkan atribut secara manual melalui slider pada sidebar. Jika pengguna mengunggah file CSV, maka data akan dibaca dan dimasukkan ke dalam DataFrame input_df. Jika tidak, maka fungsi user_input_features() akan dipanggil untuk meminta input manual dari pengguna dan data akan dimasukkan ke dalam DataFrame input_df. **(Ini didalam function IRIS Langkah 5)**"
   ]
  },
  {
   "cell_type": "code",
   "execution_count": null,
   "id": "4fba6810-4407-4760-b664-3037df0c01fa",
   "metadata": {},
   "outputs": [],
   "source": [
    "    uploaded_file = st.sidebar.file_uploader(\"Upload your input CSV file\", type=[\"csv\"])\n",
    "    if uploaded_file is not None:\n",
    "        input_df = pd.read_csv(uploaded_file)\n",
    "    else:\n",
    "        def user_input_features():\n",
    "            st.sidebar.header('Input Manual')\n",
    "            SepalLengthCm = st.sidebar.slider('Sepal Length (cm)', 4.3,6.5,10.0)\n",
    "            SepalWidthCm = st.sidebar.slider('Sepal Width (cm)', 2.0,3.3,5.0)\n",
    "            PetalLengthCm = st.sidebar.slider('Petal Length (cm)', 1.0,4.5,9.0)\n",
    "            PetalWidthCm = st.sidebar.slider('Petal Width (cm)', 0.1,1.4,5.0)\n",
    "            data = {'SepalLengthCm': SepalLengthCm,\n",
    "                    'SepalWidthCm': SepalWidthCm,\n",
    "                    'PetalLengthCm': PetalLengthCm,\n",
    "                    'PetalWidthCm': PetalWidthCm}\n",
    "            features = pd.DataFrame(data, index=[0])\n",
    "            return features"
   ]
  },
  {
   "cell_type": "markdown",
   "id": "e5c3db22-0269-4c2e-8783-920f9a48fdb3",
   "metadata": {},
   "source": [
    "**Langkah 7: Menampilkan Gambar dan Input dari Pengguna**\n",
    "\n",
    "Kita menggunakan library PIL untuk membuka gambar \"iris.JPG\" dan menampilkannya di halaman aplikasi. Gambar ini digunakan untuk memberikan visualisasi tentang spesies Iris. Selanjutnya, DataFrame input_df yang berisi input dari pengguna akan ditampilkan di halaman. **(Ini didalam function IRIS Langkah 5)**"
   ]
  },
  {
   "cell_type": "code",
   "execution_count": null,
   "id": "36a60ee4-071f-4fb5-b052-7cc570c4a2b3",
   "metadata": {},
   "outputs": [],
   "source": [
    "    input_df = user_input_features()\n",
    "    img = Image.open(\"iris.JPG\")\n",
    "    st.image(img, width=500)"
   ]
  },
  {
   "cell_type": "markdown",
   "id": "817d0857-e822-4b9e-922d-aa92307f5fab",
   "metadata": {},
   "source": [
    "**Langkah 8: Membuat Prediksi Spesies Iris**\n",
    "\n",
    "Kita menggunakan fungsi st.button() untuk membuat tombol \"Predict!\" pada sidebar. Jika tombol ini diklik, maka aplikasi akan melakukan prediksi spesies Iris berdasarkan model yang telah dilatih sebelumnya. Hasil prediksi akan ditampilkan di bawah header \"Prediction\"."
   ]
  },
  {
   "cell_type": "code",
   "execution_count": null,
   "id": "2ac52d1e-2cf4-422b-8ff2-40643d126379",
   "metadata": {},
   "outputs": [],
   "source": [
    "    if st.sidebar.button('Predict!'):\n",
    "        df = input_df\n",
    "        st.write(df)\n",
    "        with open(\"model_iris.pkl\", 'rb') as file:  \n",
    "            loaded_model = pickle.load(file)\n",
    "        prediction = loaded_model.predict(df)\n",
    "        result = ['Iris-setosa' if prediction == 0 else ('Iris-versicolor' if prediction == 1 else 'Iris-virginica')]\n",
    "        st.subheader('Prediction: ')\n",
    "        output = str(result[0])\n",
    "        with st.spinner('Wait for it...'):\n",
    "            time.sleep(4)\n",
    "            st.success(f\"Prediction of this app is {output}\")"
   ]
  },
  {
   "cell_type": "markdown",
   "id": "addab364-e990-4d72-bff1-3579a9e17cbe",
   "metadata": {},
   "source": [
    "Sebelumnya, kita perlu menyimpan dahulu hasil model yang kita miliki dalam pickle dan disimpan dalam environment yang sama. Perhatikan berikut ini."
   ]
  },
  {
   "cell_type": "markdown",
   "id": "1f536e7c-8489-4274-aa83-f87e12eb749a",
   "metadata": {},
   "source": [
    "**Langkah 8.1: Impor Library**\n",
    "\n",
    "Pertama, kita perlu mengimpor beberapa library yang akan digunakan dalam proses hyperparameter tuning dan prediksi. Library yang diimpor adalah:\n",
    "\n",
    "1. load_iris: Library untuk memuat dataset Iris.\n",
    "2. StandardScaler: Library untuk pra-pemrosesan data dengan melakukan penskalaan data.\n",
    "3. train_test_split: Library untuk memisahkan data menjadi data training dan data testing.\n",
    "4. SVC: Library untuk membangun model Support Vector Machine (SVM).\n",
    "5. GridSearchCV: Library untuk melakukan hyperparameter tuning menggunakan Grid Search.\n",
    "6. Pipeline: Library untuk membuat pipeline yang menggabungkan pra-pemrosesan dan model dalam satu langkah."
   ]
  },
  {
   "cell_type": "code",
   "execution_count": null,
   "id": "2cc46141-bfcc-4a19-87b4-5ef1faa73ef3",
   "metadata": {},
   "outputs": [],
   "source": [
    "from sklearn.datasets import load_iris\n",
    "from sklearn.preprocessing import StandardScaler\n",
    "from sklearn.model_selection import train_test_split\n",
    "from sklearn.svm import SVC\n",
    "from sklearn.model_selection import GridSearchCV\n",
    "from sklearn.pipeline import Pipeline\n",
    "import pickle"
   ]
  },
  {
   "cell_type": "markdown",
   "id": "e19a4856-87bb-44a1-afcb-d62466339c5c",
   "metadata": {},
   "source": [
    "**Langkah 8.2: Memuat dan Memisahkan Data**\n",
    "\n",
    "Kita memuat dataset Iris menggunakan library load_iris(). Data atribut dimuat ke variabel X, sedangkan data target (kelas spesies) dimuat ke variabel y."
   ]
  },
  {
   "cell_type": "code",
   "execution_count": null,
   "id": "2c636379-2125-4dd8-9fe2-e370a34a4638",
   "metadata": {},
   "outputs": [],
   "source": [
    "# Memuat dataset Iris\n",
    "iris = load_iris()\n",
    "X = iris.data\n",
    "y = iris.target"
   ]
  },
  {
   "cell_type": "markdown",
   "id": "7e801673-d8d3-4e77-be24-c8c12ca00272",
   "metadata": {},
   "source": [
    "**Langkah 8.3: Pra-pemrosesan Data dengan Standard Scaler**\n",
    "\n",
    "Pra-pemrosesan data adalah langkah penting dalam machine learning. Kita menggunakan StandardScaler untuk melakukan penskalaan data sehingga fitur-fitur."
   ]
  },
  {
   "cell_type": "code",
   "execution_count": null,
   "id": "ea5a046f-8a8d-4152-94a5-128cd15116ee",
   "metadata": {},
   "outputs": [],
   "source": [
    "# Pra-pemrosesan data\n",
    "scaler = StandardScaler()\n",
    "X_scaled = scaler.fit_transform(X)"
   ]
  },
  {
   "cell_type": "markdown",
   "id": "529ed258-8f1a-4b57-8bc8-af57787ecb3a",
   "metadata": {},
   "source": [
    "**Langkah 8.4: Memisahkan Data menjadi Data Training dan Data Testing**\n",
    "\n",
    "Kita menggunakan train_test_split() untuk memisahkan data menjadi data training dan data testing. Data testing sebesar 20% dari total data, dan kita menggunakan random_state untuk memastikan hasil pemisahan data yang konsisten."
   ]
  },
  {
   "cell_type": "code",
   "execution_count": null,
   "id": "ea51751d-5da0-470c-88d7-5e4c9f44f5ab",
   "metadata": {},
   "outputs": [],
   "source": [
    "# Memisahkan data menjadi data training dan data testing\n",
    "X_train, X_test, y_train, y_test = train_test_split(X_scaled, y, test_size=0.2, random_state=42)"
   ]
  },
  {
   "cell_type": "markdown",
   "id": "b1a9792c-f820-415a-b798-672b3eb645b9",
   "metadata": {},
   "source": [
    "**Langkah 8.5: Membangun Model SVM**\n",
    "\n",
    "Kita menggunakan SVC() untuk membangun model Support Vector Machine (SVM). Pada langkah ini, model masih menggunakan hyperparameter defaultnya."
   ]
  },
  {
   "cell_type": "code",
   "execution_count": null,
   "id": "73bfeeb6-a9e2-4aa6-a1d9-b592bafa73a6",
   "metadata": {},
   "outputs": [],
   "source": [
    "# Membangun model SVM\n",
    "model = SVC()"
   ]
  },
  {
   "cell_type": "markdown",
   "id": "3e6e8755-4a9b-45a3-a989-2805ca51b2f3",
   "metadata": {},
   "source": [
    "**Langkah 8.6: Definisi Grid Parameter untuk Hyperparameter Tuning**\n",
    "\n",
    "Kita mendefinisikan param_grid sebagai dictionary yang berisi kombinasi nilai hyperparameter yang ingin diuji dalam proses hyperparameter tuning. Dalam contoh ini, kita menguji beberapa nilai untuk hyperparameter C, gamma, dan kernel."
   ]
  },
  {
   "cell_type": "code",
   "execution_count": null,
   "id": "fde3e346-1f94-4783-b621-40320a984f51",
   "metadata": {},
   "outputs": [],
   "source": [
    "# Definisi grid parameter untuk hyperparameter tuning\n",
    "param_grid = {'C': [0.1, 1, 10], 'gamma': [0.1, 0.01, 0.001], 'kernel': ['linear', 'rbf']}"
   ]
  },
  {
   "cell_type": "markdown",
   "id": "d0bf5417-dc13-449b-8f83-ec801c29ebef",
   "metadata": {},
   "source": [
    "**Langkah 8.7: Melakukan Hyperparameter Tuning**\n",
    "\n",
    "Kita menggunakan GridSearchCV untuk melakukan hyperparameter tuning. GridSearchCV akan mencoba semua kombinasi nilai hyperparameter yang didefinisikan dalam param_grid dan menemukan kombinasi nilai terbaik yang memberikan performa model terbaik dengan menggunakan cross-validation."
   ]
  },
  {
   "cell_type": "code",
   "execution_count": null,
   "id": "21ed4fa2-24cd-476e-9c68-8924af870c77",
   "metadata": {},
   "outputs": [],
   "source": [
    "# Melakukan hyperparameter tuning menggunakan GridSearchCV\n",
    "grid_search = GridSearchCV(model, param_grid, cv=5)\n",
    "grid_search.fit(X_train, y_train)"
   ]
  },
  {
   "cell_type": "markdown",
   "id": "a515a72a-ac06-40da-a132-482d7a616a73",
   "metadata": {},
   "source": [
    "**Langkah 8.8: Mendapatkan Model Terbaik dari Hyperparameter Tuning**\n",
    "\n",
    "Setelah hyperparameter tuning selesai, kita mendapatkan model terbaik dari proses hyperparameter tuning. Model terbaik ini memiliki hyperparameter dengan kombinasi nilai terbaik yang ditemukan oleh GridSearchCV."
   ]
  },
  {
   "cell_type": "code",
   "execution_count": null,
   "id": "bd38ac06-7ba1-47ac-a2cb-6f60354da64b",
   "metadata": {},
   "outputs": [],
   "source": [
    "# Mendapatkan model terbaik dan parameter terbaik\n",
    "best_model = grid_search.best_estimator_"
   ]
  },
  {
   "cell_type": "markdown",
   "id": "949df2d4-bbc5-4fec-bfbc-91d2ed6fb96f",
   "metadata": {},
   "source": [
    "**Langkah 8.9: Membuat Pipeline dengan Pra-pemrosesan dan Model**\n",
    "\n",
    "Kita menggunakan Pipeline untuk membuat pipeline yang menggabungkan pra-pemrosesan data (Scaler) dan model (SVM) dalam satu langkah. Dengan menggunakan pipeline, kita dapat mengolah data training dan testing dengan pra-pemrosesan yang konsisten dan otomatis, serta menggunakan model terbaik untuk melakukan prediksi."
   ]
  },
  {
   "cell_type": "code",
   "execution_count": null,
   "id": "406056bc-3ac9-49c9-a181-6196adfdc5c9",
   "metadata": {},
   "outputs": [],
   "source": [
    "pipe = Pipeline(steps=[(\"preprocessor\", scaler), (\"model\", best_model)])"
   ]
  },
  {
   "cell_type": "markdown",
   "id": "8d095274-d4f0-4f50-9470-7639a36140c6",
   "metadata": {},
   "source": [
    "**Langkah 8.10: Menyimpan Model Terbaik dengan Pickle**\n",
    "\n",
    "Kita menggunakan pickle untuk menyimpan model terbaik yang sudah melalui proses hyperparameter tuning dan pra-pemrosesan. Model disimpan sebagai file .pkl."
   ]
  },
  {
   "cell_type": "code",
   "execution_count": null,
   "id": "16fdd9b1-1433-46d0-b96b-59ecf31a09fd",
   "metadata": {},
   "outputs": [],
   "source": [
    "# Menyimpan model terbaik dengan pickle\n",
    "pklname = \"generate_iris.pkl\"\n",
    "with open(pklname, 'wb') as file:\n",
    "    pickle.dump(pipe, file)"
   ]
  },
  {
   "cell_type": "markdown",
   "id": "2cb01b41-d074-4d39-9d6e-fe1ca32f7d19",
   "metadata": {},
   "source": [
    "**Langkah 8.11: Pengujian dan Prediksi dengan Model Terbaik**\n",
    "\n",
    "Kita menggunakan model terbaik yang telah disimpan sebelumnya untuk melakukan prediksi pada data baru. Pada contoh ini, kita menggunakan data uji dengan nilai SepalLengthCm, SepalWidthCm, PetalLengthCm, dan PetalWidthCm yang telah ditentukan sebelumnya. Hasil prediksi akan menampilkan spesies Iris yang diprediksi oleh model."
   ]
  },
  {
   "cell_type": "code",
   "execution_count": null,
   "id": "aa5f5f91-3e2a-4855-9113-7621e733de48",
   "metadata": {},
   "outputs": [],
   "source": [
    "# Melakukan pengujian\n",
    "data = {'SepalLengthCm': 4, 'SepalWidthCm': 3, 'PetalLengthCm': 1, 'PetalWidthCm': 3}\n",
    "features = pd.DataFrame(data, index=[0])\n",
    "\n",
    "with open(pklname, 'rb') as file:\n",
    "    pick = pickle.load(file)\n",
    "\n",
    "prediction = pick.predict(features)\n",
    "\n",
    "result = ['Iris-setosa' if prediction == 0 else ('Iris-versicolor' if prediction == 1 else 'Iris-virginica')]\n",
    "result[0]"
   ]
  },
  {
   "cell_type": "markdown",
   "id": "45be01f4-21fb-49c1-b336-2b19f78848c1",
   "metadata": {},
   "source": [
    "**Kesimpulan tahapan**"
   ]
  },
  {
   "cell_type": "code",
   "execution_count": null,
   "id": "1262e27c-bb31-44d5-814a-3c7d3d04de97",
   "metadata": {},
   "outputs": [],
   "source": [
    "from sklearn.datasets import load_iris\n",
    "from sklearn.preprocessing import StandardScaler\n",
    "from sklearn.model_selection import train_test_split\n",
    "from sklearn.svm import SVC\n",
    "from sklearn.model_selection import GridSearchCV\n",
    "from sklearn.pipeline import Pipeline\n",
    "import pandas as pd\n",
    "import pickle\n",
    "import warnings\n",
    "warnings.filterwarnings(\"ignore\")\n",
    "\n",
    "# Memuat dataset Iris\n",
    "iris = load_iris()\n",
    "X = iris.data\n",
    "y = iris.target\n",
    "\n",
    "# Pra-pemrosesan data\n",
    "scaler = StandardScaler()\n",
    "X_scaled = scaler.fit_transform(X)\n",
    "\n",
    "# Memisahkan data menjadi data training dan data testing\n",
    "X_train, X_test, y_train, y_test = train_test_split(X_scaled, y, test_size=0.2, random_state=42)\n",
    "\n",
    "# Membangun model SVM\n",
    "model = SVC()\n",
    "\n",
    "# Definisi grid parameter untuk hyperparameter tuning\n",
    "param_grid = {'C': [0.1, 1, 10], 'gamma': [0.1, 0.01, 0.001], 'kernel': ['linear', 'rbf']}\n",
    "\n",
    "# Melakukan hyperparameter tuning menggunakan GridSearchCV\n",
    "grid_search = GridSearchCV(model, param_grid, cv=5)\n",
    "grid_search.fit(X_train, y_train)\n",
    "\n",
    "# Mendapatkan model terbaik dan parameter terbaik\n",
    "best_model = grid_search.best_estimator_\n",
    "\n",
    "pipe = Pipeline(\n",
    "    steps=[(\"preprocessor\", scaler), \n",
    "           (\"model\", best_model)]\n",
    ")\n",
    "\n",
    "# Menyimpan model terbaik dengan pickle\n",
    "pklname = \"generate_iris.pkl\"  \n",
    "\n",
    "with open(pklname, 'wb') as file:  \n",
    "    pickle.dump(pipe, file)\n",
    "\n",
    "# Melakukan pengujian\n",
    "data = {'SepalLengthCm': 4,\n",
    "        'SepalWidthCm': 3,\n",
    "        'PetalLengthCm': 1,\n",
    "        'PetalWidthCm': 3}\n",
    "features = pd.DataFrame(data, index=[0])\n",
    "\n",
    "with open(pklname, 'rb') as file:  \n",
    "    pick = pickle.load(file)\n",
    "\n",
    "prediction = pick.predict(features)\n",
    "\n",
    "result = ['Iris-setosa' if prediction == 0 else ('Iris-versicolor' if prediction == 1 else 'Iris-virginica')]\n",
    "result[0]"
   ]
  },
  {
   "cell_type": "markdown",
   "id": "efbdc319-166f-4983-a066-ef0f4cdb1f65",
   "metadata": {},
   "source": [
    "**Langkah 9: Menampilkan Aplikasi Berdasarkan Pilihan Pengguna**\n",
    "\n",
    "Akhirnya, kita menggunakan kontrol if-else untuk menampilkan aplikasi berdasarkan pilihan pengguna pada selectbox. Jika pengguna memilih \"Iris species!\", maka fungsi iris() akan dipanggil untuk menampilkan dashboard prediksi spesies Iris."
   ]
  },
  {
   "cell_type": "code",
   "execution_count": null,
   "id": "4eed5238-a8a7-4c4f-bd7a-8c0258a36011",
   "metadata": {},
   "outputs": [],
   "source": [
    "if add_selectitem == \"Iris species!\":\n",
    "    iris()"
   ]
  },
  {
   "cell_type": "markdown",
   "id": "ed0f401c-a9d6-4c75-9bf1-210990e29074",
   "metadata": {},
   "source": [
    "Copyright © DQlab Academy x Abel Kristanto"
   ]
  }
 ],
 "metadata": {
  "kernelspec": {
   "display_name": "Python 3 (ipykernel)",
   "language": "python",
   "name": "python3"
  },
  "language_info": {
   "codemirror_mode": {
    "name": "ipython",
    "version": 3
   },
   "file_extension": ".py",
   "mimetype": "text/x-python",
   "name": "python",
   "nbconvert_exporter": "python",
   "pygments_lexer": "ipython3",
   "version": "3.11.4"
  }
 },
 "nbformat": 4,
 "nbformat_minor": 5
}
